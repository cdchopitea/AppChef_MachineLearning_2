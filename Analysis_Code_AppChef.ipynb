{
 "cells": [
  {
   "cell_type": "markdown",
   "metadata": {},
   "source": [
    "***\n",
    "***\n",
    "\n",
    "<b><font size=\"5\">Apprentice Chef: Identifying Halfway There Cross-Sell Success</font> </b>\n",
    "    \n",
    "<em>Machine Learning - Classification Model</em><br>\n",
    "\n",
    "Carolina Duque Chopitea <br>\n",
    "April 6, 2020 <br>\n",
    "<br>\n",
    "<br>\n",
    "    \n",
    "***\n",
    "***"
   ]
  },
  {
   "cell_type": "markdown",
   "metadata": {},
   "source": [
    "<b><font size=\"4\">Company Background & Analysis Objective</font> </b>\n",
    "<br>\n",
    "<br>\n",
    "Apprentice Chef, Inc. is a home-prep food delivery company, developed for the busy professional that has little to no skills in the kitchen, they offer a wide selection of daily-prepared gourmet meals delivered directly to your door. In an effort to diversify their revenue stream, Apprentice Chef, Inc. has launched Halfway There, a cross-selling promotion where subscribers receive a half bottle of wine from a local California vineyard every Wednesday (halfway through the work week). \n",
    "As such <b> the purpose of this study is to predict which customers will subscribe to <i>\"Halfway There\"</i></b>. \n",
    "<br>\n",
    "Halfway There has been offer to all the customers in the dataset (Variable CROSS_SELL_SUCCESS). <br>\n",
    "<b>The goal</b> is therefore <b>(1)</b> to analyze the sample data, <b>(2)</b> develop insights and <b> (3)</b> build and compare machine learning models to predict if a person will subscribe.<br>\n",
    "\n",
    " Some of the questions this study aims to answer include:\n",
    " - Is there a relationship between customers who sign up for Halfway There and the total meals they purchase or revenue?\n",
    " - Are those customers enrolled in weekly plans more likely to cross-sell? \n",
    " - What are the common characteristics among subscribers? What features drive cross-sell success?\n",
    "\n"
   ]
  },
  {
   "cell_type": "code",
   "execution_count": 15,
   "metadata": {},
   "outputs": [],
   "source": [
    "# Import Packages\n",
    "\n",
    "import pandas as pd                                   # data science essentials\n",
    "import numpy as np                                    # Numeric Python\n",
    "import matplotlib.pyplot as plt                       # data viz\n",
    "import seaborn as sns                                 # Enhance data viz   \n",
    "\n",
    "\n",
    "import statsmodels.formula.api as smf                 # stats model for regression\n",
    "from sklearn.model_selection import train_test_split  # Train Tests Split data \n",
    "from sklearn.neighbors import KNeighborsClassifier    # KNN for Classification\n",
    "from sklearn.preprocessing import StandardScaler      # Standard scaler\n",
    "from sklearn.linear_model import LogisticRegression   # Logistic Regression\n",
    "from sklearn.metrics import roc_auc_score             # AUC curve\n",
    "from sklearn.metrics import confusion_matrix          # Confusion Matrix\n",
    "from sklearn.metrics import mean_squared_error        # MSE\n",
    "\n",
    "# libraries for classification trees\n",
    "from sklearn.tree import DecisionTreeClassifier      # classification trees\n",
    "from sklearn.tree import export_graphviz             # exports graphics\n",
    "from sklearn.externals.six import StringIO           # saves objects in memory\n",
    "from IPython.display import Image                    # displays on frontend\n",
    "import pydotplus                                     # interprets dot objects"
   ]
  },
  {
   "cell_type": "markdown",
   "metadata": {},
   "source": [
    "# Analysis "
   ]
  },
  {
   "cell_type": "markdown",
   "metadata": {},
   "source": [
    "##  <i> Exploratory Analysis </i>"
   ]
  },
  {
   "cell_type": "markdown",
   "metadata": {},
   "source": [
    " - About 68% of the customers in the sample dataset have taken advantage of Halfway There (cross sell-success)"
   ]
  },
  {
   "cell_type": "code",
   "execution_count": 16,
   "metadata": {},
   "outputs": [
    {
     "name": "stdout",
     "output_type": "stream",
     "text": [
      "Index(['REVENUE', 'CROSS_SELL_SUCCESS', 'NAME', 'EMAIL', 'FIRST_NAME',\n",
      "       'FAMILY_NAME', 'TOTAL_MEALS_ORDERED', 'UNIQUE_MEALS_PURCH',\n",
      "       'CONTACTS_W_CUSTOMER_SERVICE', 'PRODUCT_CATEGORIES_VIEWED',\n",
      "       'AVG_TIME_PER_SITE_VISIT', 'MOBILE_NUMBER', 'CANCELLATIONS_BEFORE_NOON',\n",
      "       'CANCELLATIONS_AFTER_NOON', 'TASTES_AND_PREFERENCES', 'MOBILE_LOGINS',\n",
      "       'PC_LOGINS', 'WEEKLY_PLAN', 'EARLY_DELIVERIES', 'LATE_DELIVERIES',\n",
      "       'PACKAGE_LOCKER', 'REFRIGERATED_LOCKER', 'FOLLOWED_RECOMMENDATIONS_PCT',\n",
      "       'AVG_PREP_VID_TIME', 'LARGEST_ORDER_SIZE', 'MASTER_CLASSES_ATTENDED',\n",
      "       'MEDIAN_MEAL_RATING', 'AVG_CLICKS_PER_VISIT', 'TOTAL_PHOTOS_VIEWED'],\n",
      "      dtype='object')\n"
     ]
    }
   ],
   "source": [
    "# Load Data and general exploration of columns\n",
    "\n",
    "file = 'Apprentice_Chef_Dataset.xlsx'\n",
    "original_df = pd.read_excel(file)\n",
    "\n",
    "print(original_df.columns)\n",
    "\n",
    "# original_df.head(100)\n",
    "\n",
    "#original_df.describe().round(2)\n",
    "\n",
    "# original_df.isnull().sum()\n"
   ]
  },
  {
   "cell_type": "code",
   "execution_count": 17,
   "metadata": {},
   "outputs": [],
   "source": [
    "#original_df['CROSS_SELL_SUCCESS'].sum()\n",
    "#1946-1321=625\n",
    "#round(1321/1946,4)"
   ]
  },
  {
   "cell_type": "markdown",
   "metadata": {},
   "source": [
    "## <i> Feature Treatment & Engineering </i>"
   ]
  },
  {
   "cell_type": "code",
   "execution_count": 18,
   "metadata": {},
   "outputs": [],
   "source": [
    "# Calculating average price per meal\n",
    "\n",
    "chef_data = original_df.copy()\n",
    "\n",
    "# creating a column for avg price meal\n",
    "\n",
    "chef_data['AVG_PRICE_MEAL'] = chef_data['REVENUE']/chef_data['TOTAL_MEALS_ORDERED'].round(2)\n",
    "\n",
    "# chef_data['AVG_PRICE_MEAL'].quantile([0.10,\n",
    "                                      #0.25,\n",
    "                                      #0.50,\n",
    "                                      #0.75,\n",
    "                                      #0.90])\n",
    "chef_data = pd.DataFrame(chef_data)\n",
    "\n",
    "#chef_data.isnull().sum()"
   ]
  },
  {
   "cell_type": "markdown",
   "metadata": {},
   "source": [
    "<b>Based on average price per meal creating a variable to that indicates if a person order beverages: </b>\n",
    "\n",
    "From the average price per meal variable recently engineered, a variable to determined whether a customer has ordered beverages or not was created. The basic underpinning is that a customer who exceeds the average price per meal (maximum of $23) most likely had ordered some type of beverage. <br>\n",
    "<br>\n",
    "Those customers that normally ordered the lowest priced meals and add on only water wont make the cut, but those who have been ordering the most expensive wine make the cut and are therefore considered as customers that ordered beverages (from all the beverages ordered we are particularly interested in seeing if they ordered wine). <br>\n",
    "<br>\n",
    "The idea is to test if a person that is already ordering beverages is more likely to subscribe to Halfway There than those that do not. \n",
    "<br>\n",
    "<br>\n",
    "Please see the tables for meals and beverage prices: \n",
    "<br>\n",
    "<br>\n",
    "\n",
    "<img src=\"https://github.com/cdchopitea/AppChef_MachineLearning_2/blob/master/pic_bev.PNG\" style=\"float: left; width: 60%; margin-right: 1%; margin-bottom: 0.5em; padding-left:0.5em;\">\n",
    "<img src=\"pic_bev.png\" style=\"float: left; width: 60%; margin-right: 1%; margin-bottom: 0.5em; padding-left:0.5em;\">\n",
    " "
   ]
  },
  {
   "cell_type": "code",
   "execution_count": 19,
   "metadata": {},
   "outputs": [],
   "source": [
    "#chef_data['ORDERED_BEVERAGES'] = np.where(chef_data['AVG_PRICE_MEAL'] > 23, 1, 0)"
   ]
  },
  {
   "cell_type": "code",
   "execution_count": 20,
   "metadata": {},
   "outputs": [],
   "source": [
    "# creating ordered beverage column\n",
    "chef_data['ORDERED_BEVERAGES'] = 0\n",
    "\n",
    "# looping to find Miss.\n",
    "for index, val in chef_data.iterrows():\n",
    "    \n",
    "    if chef_data.loc[index, 'AVG_PRICE_MEAL'] > 23:\n",
    "        chef_data.loc[index, 'ORDERED_BEVERAGES'] = 1\n",
    "        \n",
    "    elif chef_data.loc[index,'AVG_PRICE_MEAL'] <= 23:\n",
    "        chef_data.loc[index, 'ORDERED_BEVERAGES'] = 0\n",
    "    \n",
    "    else:\n",
    "        print('error')\n",
    "        \n",
    "chef_data.to_excel('Apprentice_Chef_featured.xlsx',\n",
    "                 index = False)\n",
    "\n",
    "# check if right:\n",
    "\n",
    "# chef_data.loc[: , 'AVG_PRICE_MEAL':'ORDERED_BEVERAGES']\n",
    "\n",
    "# chef_data['ORDERED_BEVERAGES'].sum() ----> we have aproximetly 1428 customers that ordered beverages"
   ]
  },
  {
   "cell_type": "markdown",
   "metadata": {},
   "source": [
    "#### Missing Value Strategy\n",
    "There are a total of 47 missing values in this dataset, all of which belong to 'family name' variable. Given the sample size of the dataset only 2.42%  of observations with missing values appears insignificant for any valuable imputation. As well the relationship between whether a customer provided their family name or not appears to be insignificant in determining if a person will subscrbe to Halfway there (correlation of only -0.015).\n",
    "<br>\n"
   ]
  },
  {
   "cell_type": "code",
   "execution_count": 21,
   "metadata": {},
   "outputs": [],
   "source": [
    "#chef_data =  pd.read_excel('Apprentice_Chef_featured.xlsx',index = False)\n",
    "\n",
    "# Missing value strategy: weather they provided last name or not\n",
    "\n",
    "#chef_data['PROVIDED_FAMILY_NAME'] = 1\n",
    "#chef_data['PROVIDED_FAMILY_NAME'][chef_data['FAMILY_NAME'].isnull()] = 0\n",
    "\n",
    "# check if rigth\n",
    "        \n",
    "# chef_data.loc[: , ['FAMILY_NAME','PROVIDED_FAMILY_NAME']]\n",
    "\n",
    "# chef_data['PROVIDED_FAMILY_NAME'].sum() \n",
    "\n",
    "# 1946 - 1899\n"
   ]
  },
  {
   "cell_type": "code",
   "execution_count": 22,
   "metadata": {},
   "outputs": [],
   "source": [
    "# the correlation between whether a person provided family name appears to have NO corralation with Cross Sell Suceess\n",
    "# correlation of -0.015\n",
    "\n",
    "\n",
    "\n",
    "#Subset for the condition of isnull() is true for the Family Name \n",
    "#Run descriptive stats for this group (mean, std, media, etc)\n",
    "\n",
    "#c_corr = chef_data.corr()\n",
    "\n",
    "#c_corr['CROSS_SELL_SUCCESS'].sort_values(ascending = True)"
   ]
  },
  {
   "cell_type": "markdown",
   "metadata": {},
   "source": [
    "<b> Continuing with feature treatment and engineering </b>\n",
    "<br>\n",
    "<br>\n",
    "Creating a column that determines the percentage of unique meals"
   ]
  },
  {
   "cell_type": "code",
   "execution_count": 23,
   "metadata": {},
   "outputs": [],
   "source": [
    "#Creating a column for % of unique meals purchased\n",
    "chef_data['PER_UNIQUE_MEALS']= round(chef_data['UNIQUE_MEALS_PURCH']/ chef_data['TOTAL_MEALS_ORDERED']*100, 2)"
   ]
  },
  {
   "cell_type": "markdown",
   "metadata": {},
   "source": [
    "Based on percentages of unique meals, a 'willingness to try new products' was engineered.<br>\n",
    "The logic for this featured is that if a customers' percentage of unique meals ordered exceeds 20% they are the more\n",
    "likely to try new products. <br>\n",
    "<b>The intention is to measure whether if a customer's willingness to try new products will contribute towards predicting their cross selling success.</b>"
   ]
  },
  {
   "cell_type": "code",
   "execution_count": 24,
   "metadata": {},
   "outputs": [
    {
     "name": "stderr",
     "output_type": "stream",
     "text": [
      "C:\\Users\\Carolina Duque\\Anaconda3\\lib\\site-packages\\ipykernel_launcher.py:4: SettingWithCopyWarning: \n",
      "A value is trying to be set on a copy of a slice from a DataFrame\n",
      "\n",
      "See the caveats in the documentation: http://pandas.pydata.org/pandas-docs/stable/user_guide/indexing.html#returning-a-view-versus-a-copy\n",
      "  after removing the cwd from sys.path.\n"
     ]
    }
   ],
   "source": [
    "#Based on the previous column creating a \"williness to try new things\"\n",
    "\n",
    "chef_data['WILLIGNESS_NEW_PRODUCTS'] = 0\n",
    "chef_data['WILLIGNESS_NEW_PRODUCTS'][chef_data['PER_UNIQUE_MEALS'] >= 20]= 1\n",
    "\n",
    "\n",
    "# 14 % of customers show willingness to try new products ----> round(267/1946, 2)\n",
    "# print(chef_data['WILLIGNESS_NEW_PRODUCTS'].sum()) ------> 267 customers the most willing to try new things\n",
    "\n",
    "\n",
    "chef_data.to_excel('Apprentice_Chef_featured.xlsx',\n",
    "                 index = False)\n",
    "#check if right\n",
    "\n",
    "# chef_data.loc[: ,['PER_UNIQUE_MEALS', 'WILLIGNESS_NEW_PRODUCTS']]\n"
   ]
  },
  {
   "cell_type": "markdown",
   "metadata": {},
   "source": [
    "Creating a column based on whether a customer follows recommendations or not.<b> The idea is to understand the impact of following recommendations on a persons likeliness to be subscribe to Halfway There.<b>"
   ]
  },
  {
   "cell_type": "code",
   "execution_count": 25,
   "metadata": {},
   "outputs": [
    {
     "name": "stderr",
     "output_type": "stream",
     "text": [
      "C:\\Users\\Carolina Duque\\Anaconda3\\lib\\site-packages\\ipykernel_launcher.py:6: SettingWithCopyWarning: \n",
      "A value is trying to be set on a copy of a slice from a DataFrame\n",
      "\n",
      "See the caveats in the documentation: http://pandas.pydata.org/pandas-docs/stable/user_guide/indexing.html#returning-a-view-versus-a-copy\n",
      "  \n"
     ]
    }
   ],
   "source": [
    "# Follow recomendations appears to be significant. Create a column based on this \n",
    "\n",
    "chef_data = pd.read_excel('Apprentice_Chef_featured.xlsx')\n",
    "\n",
    "chef_data['FOLLOWED_RECOMMENDATIONS'] = 0\n",
    "chef_data['FOLLOWED_RECOMMENDATIONS'][chef_data['FOLLOWED_RECOMMENDATIONS_PCT'] > 30] = 1\n",
    "\n",
    "chef_data.to_excel('Apprentice_Chef_featured.xlsx',index = False)\n",
    "#chef if right\n",
    "\n",
    "#chef_data['FOLLOWED_RECOMMENDATIONS'].sum()\n",
    "\n",
    "# followed recommendations have been added"
   ]
  },
  {
   "cell_type": "markdown",
   "metadata": {},
   "source": [
    "### Classifying emails\n",
    "Three types of email domains have been identified: Professional, Personal, and Junk. <br>\n",
    "Note that there are different email response rates based on a customer’s email domain group."
   ]
  },
  {
   "cell_type": "code",
   "execution_count": 26,
   "metadata": {},
   "outputs": [],
   "source": [
    "# read excel \n",
    "chef_data= pd.read_excel('Apprentice_Chef_featured.xlsx')\n",
    "\n",
    "# Splitting personal emails (creating 5 new features)\n",
    "\n",
    "# placeholder list\n",
    "placeholder_lst = []\n",
    "\n",
    "# looping over each email address\n",
    "for index, col in chef_data.iterrows():\n",
    "    \n",
    "    # splitting email domain at '@'\n",
    "    class_email = chef_data.loc[index,'EMAIL'].split(sep = '@')\n",
    "    \n",
    "    # appending placeholder_lst with the results\n",
    "    placeholder_lst.append(class_email)\n",
    "    \n",
    "\n",
    "# converting placeholder_lst into a DataFrame \n",
    "email_df = pd.DataFrame(placeholder_lst)\n",
    "\n",
    "\n",
    "# displaying the results\n",
    "#email_df"
   ]
  },
  {
   "cell_type": "code",
   "execution_count": 27,
   "metadata": {},
   "outputs": [],
   "source": [
    "#concatenating with original DataFrame\n",
    "# renaming column to concatenate\n",
    "email_df.columns = ['0' , 'EMAIL_DOMAIN']\n",
    "\n",
    "# creating domain email column\n",
    "chef_data = pd.concat([chef_data, email_df['EMAIL_DOMAIN']],\n",
    "                     axis = 1)\n"
   ]
  },
  {
   "cell_type": "code",
   "execution_count": 28,
   "metadata": {},
   "outputs": [],
   "source": [
    "# 3 email domain class\n",
    "PERSONAL_EMAIL= ['@gmail.com', '@yahoo.com', '@protonmail.com']\n",
    "JUNK_EMAIL = ['@me.com', '@aol.com', '@hotmail.com', '@ive.com', '@msn.com', '@passport.com']\n",
    "\n",
    "# created domain class\n",
    "\n",
    "# placeholder list\n",
    "placeholder_lst = []\n",
    "\n",
    "\n",
    "# looping to group observations by domain type\n",
    "for domain in chef_data['EMAIL_DOMAIN']:\n",
    "    \n",
    "    if '@' + domain in PERSONAL_EMAIL:\n",
    "        placeholder_lst.append('PERSONAL_@')\n",
    "        \n",
    "\n",
    "    elif '@' + domain in JUNK_EMAIL:\n",
    "        placeholder_lst.append('JUNK_@')\n",
    "\n",
    "\n",
    "    else:\n",
    "        placeholder_lst.append('PROFESSIONAL_@')\n",
    "\n",
    "\n",
    "# concatenating with original_2\n",
    "chef_data['DOMAIN_CLASS'] = pd.Series(placeholder_lst)\n",
    "\n",
    "\n",
    "# checking results\n",
    "#chef_data['DOMAIN_CLASS'].value_counts()\n",
    "\n"
   ]
  },
  {
   "cell_type": "code",
   "execution_count": 29,
   "metadata": {
    "scrolled": true
   },
   "outputs": [],
   "source": [
    "# Creating variable 1/0 for emails\n",
    "EMAIL_CLASS = pd.get_dummies(chef_data['DOMAIN_CLASS'])\n",
    "\n",
    "# joining codings together\n",
    "chef_data= chef_data.join([EMAIL_CLASS])\n",
    "\n",
    "\n",
    "# saving new columns\n",
    "email_dummies_columns = chef_data.columns\n",
    "\n"
   ]
  },
  {
   "cell_type": "code",
   "execution_count": 30,
   "metadata": {},
   "outputs": [],
   "source": [
    "#email_sentiment = chef_data.loc[ : , ['MEDIAN_MEAL_RATING', 'DOMAIN_CLASS']].sort_values(by = 'MEDIAN_MEAL_RATING')"
   ]
  },
  {
   "cell_type": "markdown",
   "metadata": {},
   "source": [
    "### Age : Over 21 aproximation\n",
    "Based on email domain, the idea is create a featured that determines whether a person is over 21 or not.<br>\n",
    "Even though not perfect, one can approximate the age of a person based on this. <br>\n",
    "Based on the data we can observed that all the professional emails are from Forbs 500 companies. This can indicates that these customer already have a university degree and are probably over 21. <br>\n",
    "Moreover, some other email domains like <i>protonmail</i> are secure and encrypted email services and have a monthly/annual fee <a href=\"https://protonmail.com/support/knowledge-base/business/\">(source here)</a>. This probably means that this email belongs to older people who are tech savvy. People with domains like aol.com, yahoo.com, hotmail.com, and live.com, msn.com as well then to be older than 21 <a href=\"https://www.cnn.com/2010/TECH/web/11/16/email.users/index.html\">(source here)</a>, <a href=\"https://www.statista.com/statistics/948016/blue-apron-customer-share-by-age-worldwide/\">(source here)</a>\n",
    "In addition, a consumer survey, shows that 83.5 percent of respondents aged 14 to 18 years stated that they used Gmail as their primary e-mail provider. while for Yahoo for example was only 6.9 percent. For this reason it was decided to include all gmail accounts as customers who are under 21. "
   ]
  },
  {
   "cell_type": "code",
   "execution_count": 31,
   "metadata": {},
   "outputs": [
    {
     "name": "stderr",
     "output_type": "stream",
     "text": [
      "C:\\Users\\Carolina Duque\\Anaconda3\\lib\\site-packages\\ipykernel_launcher.py:14: SettingWithCopyWarning: \n",
      "A value is trying to be set on a copy of a slice from a DataFrame\n",
      "\n",
      "See the caveats in the documentation: http://pandas.pydata.org/pandas-docs/stable/user_guide/indexing.html#returning-a-view-versus-a-copy\n",
      "  \n"
     ]
    }
   ],
   "source": [
    "# Developing a strategy for getting age aprox from email\n",
    "# chef_data['EMAIL_DOMAIN'].value_counts()\n",
    "\n",
    "\n",
    "\n",
    "# the professional email registrated are rom forbe 500 companies, it is unlikly that these companies \n",
    "#hired people with no degrees, this means that these group of people are probably over 21\n",
    "\n",
    "\n",
    "\n",
    "# Based on the previous column creating a \"williness to try new things\"\n",
    "\n",
    "chef_data['OVER_21'] = 1\n",
    "chef_data['OVER_21'][chef_data['EMAIL_DOMAIN'] == 'gmail.com' ] = 0\n",
    "\n"
   ]
  },
  {
   "cell_type": "code",
   "execution_count": 32,
   "metadata": {},
   "outputs": [],
   "source": [
    "chef_data.to_excel('Apprentice_Chef_featured.xlsx',index=False)"
   ]
  },
  {
   "cell_type": "markdown",
   "metadata": {},
   "source": [
    "## Outlier Analysis"
   ]
  },
  {
   "cell_type": "code",
   "execution_count": 33,
   "metadata": {},
   "outputs": [],
   "source": [
    "# Calling excel file\n",
    "\n",
    "chef_data = pd.read_excel('Apprentice_Chef_featured.xlsx')"
   ]
  },
  {
   "cell_type": "code",
   "execution_count": 34,
   "metadata": {},
   "outputs": [
    {
     "data": {
      "image/png": "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\n",
      "text/plain": [
       "<Figure size 720x576 with 4 Axes>"
      ]
     },
     "metadata": {
      "needs_background": "light"
     },
     "output_type": "display_data"
    },
    {
     "data": {
      "image/png": "iVBORw0KGgoAAAANSUhEUgAAAsgAAAI4CAYAAAB3OR9vAAAABHNCSVQICAgIfAhkiAAAAAlwSFlzAAALEgAACxIB0t1+/AAAADh0RVh0U29mdHdhcmUAbWF0cGxvdGxpYiB2ZXJzaW9uMy4xLjEsIGh0dHA6Ly9tYXRwbG90bGliLm9yZy8QZhcZAAAgAElEQVR4nOzdeXiU5b3/8fd3JnsIAUJkR8Iim7hgRFyrKCi2SrXowdpzrLXFti61/fVq7XJsa4+11rZ2cWmt4rG2x6VqW0QUbYFaFxAEFNnDJpEtkBDInpm5f3/MBGJMyJDMzDOTfF7Xlaszz9zPM9+Bdvrhzve5b3POISIiIiIiYT6vCxARERERSSYKyCIiIiIizSggi4iIiIg0o4AsIiIiItKMArKIiIiISDMKyCIiIiIizSggi4h4zMwuMbMNZlZiZre38nqmmT0deX2pmQ2LHC8ws0VmVmVm97dx7blm9n58P4GISNeigCwi4iEz8wMPANOBccA1ZjauxbAbgArn3EjgPuCeyPE64L+Bb7Zx7SuBqnjULSLSlaV5XUBLffv2dcOGDfO6DBGRDnvnnXf2OecKoxw+CShxzm0BMLOngBnA2mZjZgA/jDx+FrjfzMw5Vw28bmYjW17UzHoA3wBmA89EU4i+f0UklR3jd+9RJV1AHjZsGMuXL/e6DBGRDjOz7ccwfBCwo9nzUuCMtsY45wJmVgkUAPuOct0fA78AaqItRN+/IpLKjvG796jUYiEi4i1r5ZjrwJgjg81OAUY65/7a7pubzTaz5Wa2vKysrL3hIiLdggKyiIi3SoEhzZ4PBna2NcbM0oB8oPwo1zwTOM3MtgGvAyeY2eLWBjrnHnbOFTvnigsLY/KbSRGRlKeALCLirWXAKDMrMrMMYBYwt8WYucB1kcczgYXOuTZnkJ1zDznnBjrnhgHnABudc+fHvHIRkS4q6XqQRUS6k0hP8c3AAsAPzHHOrTGzO4Hlzrm5wKPAE2ZWQnjmeFbT+ZFZ4p5Ahpl9GpjmnFvb8n1ERCR6CsgiIh5zzs0H5rc4dkezx3XAVW2cO6yda28DTux0kSIi3YhaLEREREREmlFAFhERERFpRgFZRERERKQZBWQRERERkWZ0k14Ke/idhzt87uzTZsewEhGRztm582EGDtT3kogkB80gi4iIiIg0o4AsIiIiItKMArKIiIiISDMKyCIiIiIizSggi4iIiIg0o4AsIiIiItKMArKIiIiISDMKyCIiIiIizSggi4iIp3bu7PimRyIi8aCALCIiIiLSjAKyiIiIiEgzUQVkM7vEzDaYWYmZ3d7K698ws7Vm9p6Z/dPMjm/22nVmtinyc10sixcRERERibV2A7KZ+YEHgOnAOOAaMxvXYthKoNg5dxLwLPCzyLl9gB8AZwCTgB+YWe/YlS8iIiIiElvRzCBPAkqcc1uccw3AU8CM5gOcc4ucczWRp0uAwZHHFwOvOufKnXMVwKvAJbEpXUREREQk9qIJyIOAHc2el0aOteUG4KUOnisiIiIi4qm0KMZYK8dcqwPNPgcUA584lnPNbDYwG2Do0KFRlCQiIiIiEh/RzCCXAkOaPR8M7Gw5yMwuAr4HXO6cqz+Wc51zDzvnip1zxYWFhdHWLiIiIiISc9EE5GXAKDMrMrMMYBYwt/kAMzsV+D3hcLy32UsLgGlm1jtyc960yDERERERkaTUbouFcy5gZjcTDrZ+YI5zbo2Z3Qksd87NBe4FegB/MTOAD5xzlzvnys3sx4RDNsCdzrnyuHwSEYm7h9/p+I5ns0+bHcNKpCsJBquoqFjEgAE3EF44SUTEW9H0IOOcmw/Mb3HsjmaPLzrKuXOAOR0tUEREurbq6tWUl8+jqupd8vImel2OiIh20hMR8VoUmzFlmtnTkdeXmtmwyPECM1tkZlVmdn+z8Tlm9qKZrTezNWb208R9mmMXDNYC0NhY5nElIiJhCsgiIh6KcjOmG4AK59xI4D7gnsjxOuC/gW+2cumfO+fGAKcCZ5vZ9HjUHwuhUHgZ/YYGBWQRSQ4KyCIi3mp3M6bI88cjj58FLjQzc85VO+deJxyUD3PO1TjnFkUeNwArOLKBU9IJBsMBubFxbzsjRUQSQwFZRMRb0WyodHiMcy4AVAIF0VzczHoBlwH/7HSlcRIKhfO9WixEJFkoIIuIeCuaDZWi3rDpIyeZpQFPAr9xzm1pY8xsM1tuZsvLyrwJqGqxEJFko4AsIuKtaDZUOjwmEnrzgWiWzHwY2OSc+1VbA5Jhoya1WIhIslFAFhHxVrubMUWeXxd5PBNY6Jw76gyymf0P4SB9W4zrjblQSKtYiEhyiWodZBERiY8oN2N6FHjCzEoIzxzPajrfzLYBPYEMM/s04R1LDwLfA9YDKyIbON3vnHskcZ8sek0BuaFBM8gikhwUkEVEPBbFZkx1wFVtnDusjcu21reclI60WJSxc2d4t8aBA7Xzooh4Ry0WIiLiGedcZAbZRzB4iFCo0euSREQUkEVExDvBYDUQIj29b+T5IW8LEhFBAVlERDwUDFYCkJ5+XOR5lZfliIgACsgiIuKhQOAAABkZTQH5oJfliIgACsgiIuKhjwdkzSCLiPcUkEVExDNNATk9vR+gHmQRSQ4KyCIi4plAoKkHuQ9m6QQCCsgi4j0FZBER8UzTDLLPl0N6eqFaLEQkKSggi4iIZ44E5OxIQNZNeiLiPQVkERHxTCBwALM0fL50MjKO0wyyiCQFBWQREfFMIFCJz5cDEJlBVg+yiHhPAVlERDwTCBzA58sGwgFZN+mJSDJQQBYREc8EAgfw+8MzyBkZx+FcPaFQg8dViUh3p4AsIiKeaTmDDNosRES8l+Z1AeKNh995uFPnzz5tdowqEZHuLBCoxO/vATTfTU9tFiLiLc0gi4iIZ5q3WFRWvgkoIIuI9xSQRUTEM81bLPz+XACCwWovSxIRUUAWERFvBIN1OFd/OCCbZQIQCtV7WZaIiAKyiIh4IxisBDjcYuHzZQDgnFaxEBFvKSCLiIgnjmwz3RSQNYMsIslBAVlERDxxJCA3tVikAT6tgywinlNAFhERTzQFZL8/+/Axny8T5zSDLCLeUkAWERFPBALhHuSmFgsI36inGWQR8ZoCsoiIeKJli0X4cYZmkEXEcwrIIiLiiSMtFkdmkH2+TN2kJyKeU0AWEfGYmV1iZhvMrMTMbm/l9Uwzezry+lIzGxY5XmBmi8ysyszub3HOaWa2OnLOb8zMEvNpohdusfBhlnH4mFmGWixExHMKyCIiHjIzP/AAMB0YB1xjZuNaDLsBqHDOjQTuA+6JHK8D/hv4ZiuXfgiYDYyK/FwS++o7JxSqxefLoHl21016IpIMFJBFRLw1CShxzm1x4R0yngJmtBgzA3g88vhZ4EIzM+dctXPudcJB+TAzGwD0dM695ZxzwB+BT8f1U3RAKFSHWfpHjvl8mkEWEe8pIIuIeGsQsKPZ89LIsVbHOOcCQCVQ0M41S9u5pufCATntI8fCq1hoBllEvKWALCLirdZ6g10HxnRovJnNNrPlZra8rKzsKJeMvdZnkDO11bSIeE4BWUTEW6XAkGbPBwM72xpj4SnXfKC8nWsObueaADjnHnbOFTvnigsLC4+x9M5pu8VCM8gi4i0FZBERby0DRplZkYWXc5gFzG0xZi5wXeTxTGBhpLe4Vc65XcAhM5scWb3iv4C/x770zmktIJuFZ5CdC3lUlYgIpLU/RERE4sU5FzCzm4EFgB+Y45xbY2Z3Asudc3OBR4EnzKyE8MzxrKbzzWwb0BPIMLNPA9Occ2uBrwD/C2QDL0V+kkooVIfP99H/G/L5MiKv1eL353pRloiIArKIiNecc/OB+S2O3dHscR1wVRvnDmvj+HLgxNhVGXttzSADBIPVCsgi4hm1WIiIiCfa6kGGcEAWEfGKArKIiHiirVUsQAFZRLwVVUCOYhvU88xshZkFzGxmi9eCZrYq8tPyxhMREemmjtZiEQopIIuId9rtQW62DepUwksHLTOzuZGbQJp8AHye1rc7rXXOnRKDWkVEpAs52k16mkEWES9Fc5Pe4W1QAcysaRvUwwHZObct8prW5RERkai0tpOeWixEJBlE02IRzTaoR5MV2aVpSWQJoo/xcicnERHxRustFppBFhHvRROQj3WL05aGOueKgc8CvzKzER+7mIc7OYmISOI55456k556kEXES9EE5Gi2QW2Tc25n5D+3AIuBU4+hPhER6YKcawScVrEQkaQUTUCOZhvUVplZb4vckmxmfYGzada7LCIi3VMoVAegFgsRSUrtBmTnXABo2gZ1HfBM0zaoZnY5gJmdbmalhHd6+r2ZrYmcPhZYbmbvAouAn7ZY/UJERLqhpoDcchWLcGA2BWQR8VRUW01HsQ3qMsKtFy3PexOY0MkaRUSki2l7Btkwy1APsoh4SjvpiYhIwrUVkCHch6wZZBHxkgKyiIgk3NEDcoYCsoh4SgFZREQS7mgB2UwzyCLiLQVkERFJuFCoHvj4TXrhY+pBFhFvKSCLiEjCqQdZRJJZVKtYSGoqPVjKe3veo7qxmkAowOiC0YwvHE9mWqbXpYlIN6cWCxFJZgrIXdCHBz/kr+v/yuq9qwHI8GdgGIu3LSbdl860EdO4dNSlpLXyq00RkURo7ya9xsbyRJckInKYElIXs7ZsLb9b/jvSfGlcfsLlnD/sfHIzcgmGgpSUl/DvD/7Ni5teZOXulXzx1C8yqOcgr0sWkW6ovRYL9SCLiJcUkLuQZTuX8djKxxjQYwC3nnEr+Vn5h1/z+/yM7jua0X1HM2nQJP703p/4+Vs/59ZJt1LUu8jDqkWkOzoSkD/+f0NqsRARr+kmvS5i24FtPLbyMYp6F/HNs775kXDc0kn9TuLbZ3+bnPQcfrX0V5SUlySwUhGR5ltNt70OsnMu0WWJiAAKyF1CTWMNf1jxB/Kz8vlq8VfJTs9u95yCnAK+eeY3yc/M54FlD7C3em8CKhURCWuvxQJCh5eCExFJNAXkFOec44l3n6C8tpwvTfwSuRm5UZ/bO7s3t55xK4bx4LIHqW2sjWOlIiJHtNdiER6jNgsR8YYCcop7b897rNi9ghmjZzC89/BjPr9vTl9mnzabPdV7eGzVY/qVpogkRChUh1kaZv6PvebzZQCoD1lEPKOAnMICoQDPrnuW/j36M3X41A5fZ0zfMXxm7Gd4d8+7vP7B6zGsUESkdaFQHT5fVquvNc0gKyCLiFcUkFPY4m2L2Vu9l5ljZ+L3fXwW5lhMKZrCmL5j+Mvav1BWXRajCkUkGmZ2iZltMLMSM7u9ldczzezpyOtLzWxYs9e+Ezm+wcwubnb862a2xszeN7Mnzaz1NOqRowXkphnkUKgmkSWJiBymgJyiymvLeXHTi4wrHMeJx53Y6ev5zMd1J1+HmfG/7/4vIReKQZUi0h4L9xg8AEwHxgHXmNm4FsNuACqccyOB+4B7IueOA2YB44FLgAfNzG9mg4BbgWLn3ImAPzIuaRw9IGsGWUS8pYCcon679LfUNNYwc+xMzCwm1+yT3YdZ42dRUl6iVguRxJkElDjntjjnGoCngBktxswAHo88fha40ML/w58BPOWcq3fObQVKIteD8Dr32Ra+Cy4H2Bnnz3FM1GIhIslMATkFVTdU89u3f8tJ/U6K+U54kwdP5oSCE/jr+r9ysP5gTK8tIq0aBOxo9rw0cqzVMc65AFAJFLR1rnPuQ+DnwAfALqDSOfdKXKrvoGhaLBSQRcQrCsgpaM7KOeyv3c/FIy5uf/AxMjM+e+JnqQvU8fy652N+fRH5mNZ+BdRyOZm2xrR63Mx6E55dLgIGArlm9rlW39xstpktN7PlZWWJu/8gmhYLLfMmIl5RQE4xgVCAX7z1C84achYj+4yMy3sMyBvA1OFTeav0Le2yJxJ/pcCQZs8H8/F2iMNjIi0T+UD5Uc69CNjqnCtzzjUCzwNntfbmzrmHnXPFzrniwsLCGHyc6By9xUIzyCLiLQXkFPPs2mfZXrmdb5/97bi+zydHfZJemb14du2zWhtZJL6WAaPMrMjCyXAWMLfFmLnAdZHHM4GFLvw/zLnArMgqF0XAKOBtwq0Vk80sJ9KrfCGwLgGfJWq6SU9EkpkCcor53fLfMbz3cD51wqfi+j6ZaZlcPuZyth7YyvKdy+P6XiLdWaSn+GZgAeEQ+4xzbo2Z3Wlml0eGPQoUmFkJ8A3g9si5a4BngLXAy8BNzrmgc24p4Zv5VgCrCX/XP5zAj9Wu8EYhma2+1rT9tAKyiHjl43t8StLasG8D/9r+L+6+8G58Fv9/25w5+EwWbl3IX9f/lVP6n0K6Pz3u7ynSHTnn5gPzWxy7o9njOuCqNs69C7irleM/AH4Q20pj5+gtFj7MMggGqxJclYhImGaQU8gfVvyBNF8anz/l8wl5P5/5mDluJvtr97N42+KEvKeIdA9HC8gQbrPQTXoi4hUF5BRRH6jn8XcfZ8boGfTv0T9h7zu271jGFY7jpZKXqAvUJex9RaRriyYgawZZRLyigJwi/rb+b+yr2cfs02Yn/L1njJ5BdWM1/9zyz4S/t4h0TaFQ/VEDslmWArKIeEYBOUU8tuoxjs8/nouGX5Tw9x7Waxgn9zuZV7a8QnWDfuUpIp3X/gyyepBFxDsKyClgT9UeXt3yKtdOuDYhN+e1ZsboGdQH6nllS1JtxiUiKSq6Fgv9g1xEvKGAnAKeWfMMIRfi2pOu9ayGQT0HUTywmIVbF2oLahHplFAoAATVgywiSUsBOQX8efWfObnfyYwrHOdpHZ864VM0Bht5ueRlT+sQkdQWCoVv+FUPsogkK62DnORKyktY+uFSfnbRz7wuhf49+nPmkDP51/Z/UXqwlME9B3tdUkp6+J2O79fgxU2aIrEWTUDWDLKIeEkzyEnuydVPYhizTpzldSlAeAtq5xz/89r/eF2KiKSo6AKybtITEe8oICe5J99/knOPP5ch+UO8LgWAvjl9OWfoOTy68lG2Vmz1uhwRSUHRziCHQrU4F0xUWSIih6nFIomtK1vHun3r+OrpX/W6lI+YPnI6S0qX8OPXfsycGXO8Lqdb6Ux7BqhFQ5JD84AcCtW0OsYsHJ6DwRrS0vISVpuICGgGOak9t+45AK4Yc4XHlXxU7+zefLn4y/zx3T+yaf8mr8sRkRQT7QwyoDYLEfGEAnISe37d85w5+EwG9RzkdSkfc/s5t5Phz+DO1+70uhQRSTEKyCKS7NRi4aGj/bq8rLqMlbtXMnPszE7/Wj0e+vfoz02n38Qv3voF3z3nu4wtHOt1SSKSIhSQRSTZaQY5Sa3cvRKAUwec6nElbfvW2d8iJz2HH/3rR16XIiIpJLp1kBWQRcQ7CshJasWuFQzpOYS+OX29LqVNhbmFfO2Mr/H0mqdZvWe11+WISIo4thlkbTctIomngJyEKusq2Xpga1LPHjf5f2f9P3pm9uQHi3/gdSkikiLUYiEiyU49yEno/b3vA3BSv5M8rqR9fbL78PXJX+dH//oRK3atYOKAiXF/Ty11JpLaFJBFJNlpBjkJrd67mt5ZvRmclxpbOX998tfpndVbs8gi0q6dOx9WD7KIJD3NICeZxmAja8vWcsagMzAzr8uJSn5WPt8865t8b+H3ePvDt5k0aJLXJR2VZqBFvKUZZBFJdppBTjKbyjdRH6xnQr8JXpdyTG6ZdAsF2QXcsegOr0sRD1TUVvDCxhd4ZMUj3Pvmvfx9w9/ZV7PP67IkSUU3g5wOGKGQbtITkcSLKiCb2SVmtsHMSszs9lZeP8/MVphZwMxmtnjtOjPbFPm5LlaFd1Wr96wm3ZfOmL5jvC7lmORl5vHts7/Ngs0LeP2D170uRxKkMdjIi5te5I7Fd/DixhfZemArgWCAlza9xPcWfo9n1z6Lc87rMiXJhAOyj927296q3szw+TI1gywinmi3xcLM/MADwFSgFFhmZnOdc2ubDfsA+DzwzRbn9gF+ABQDDngncm5FbMrvWpxzvLf3Pcb0HUOGP8Prco7ZTZNu4r4l9/GtV7/FG194I2VaRKRjqhuqeWDZA2yu2MzE/hP5zLjPHF6WsLy2nBc3vcirW16lMdTIrPGzPK5WkkkoVBeZIT46sywFZBHxRDQzyJOAEufcFudcA/AUMKP5AOfcNufce0CoxbkXA68658ojofhV4JIY1N0l7anew76afUw4LrXaK5rkpOdw5wV38lbpWzy/7nmvy5E4qqit4Odv/ZztlduZPXE2Nxbf+JE1u/tk9+FzEz7H1OFTWbxtsf77IB8RDsjt3wLj82UoIIuIJ6K5SW8QsKPZ81LgjCiv39q5g1oOMrPZwGyAoUOHRnnprue9Pe8BpFz/cXPXn3I9v1ryK27/5+1cNvqyNmfCk3H7bIlOVUMVv1zySw7WH+TWSbcyuu/oVseZGZ8Z+xnqAnW8uuXVlLiBUxIjFKrD52t/BlktFiLilWhmkFv7PXm0TYVRneuce9g5V+ycKy4sLIzy0l3P6r2rGZw3mD7ZfbwupcP8Pj8/m/ozSspLeGjZQ16XIzHWEGzg/rfvp6K2glsm3dJmOG7SFJLzM/O5cd6NBEKBBFWaWqK4zyPTzJ6OvL7UzIY1e+07keMbzOziZsd7mdmzZrbezNaZ2ZmJ+TTtc64+qhYLBWQR8Uo0AbkUGNLs+WBgZ5TX78y53UpNYw0l5SWc2O9Er0vptOkjpzN1+FR++K8fsrd6r9flSIwEQ0EeWfEI2w5s44ZTb2Bkn5FRnZedns3V469m1e5V3P/2/XGuMvU0u89jOjAOuMbMxrUYdgNQ4ZwbCdwH3BM5dxwwCxhPuH3twcj1AH4NvOycGwOcDKyL92eJ1rH1IGsVCxFJvGgC8jJglJkVmVkG4S/juVFefwEwzcx6m1lvYFrkmLSwpmwNIRfipOOSf/e89pgZv5n+G6oaqvjOP77jdTkSI3csuoN397zL1eOvPuZt0CcOmMiloy7lB4t/wMH6g3GqMGW1e59H5PnjkcfPAhda+C7YGcBTzrl659xWoASYZGY9gfOARwGccw3OuQMJ+CxRCQZr1YMsIkmt3YDsnAsANxMOtuuAZ5xza8zsTjO7HMDMTjezUuAq4PdmtiZybjnwY8IhexlwZ+SYtLB6z2py03Mp6l3kdSkxMabvGL4++evMWTWHJaVLvC5HOunp95/mJ6//hHOGnsMFwy445vPNjB+d/yMO1h/k0RWPxqHClBbNvRqHx0S+kyuBgqOcOxwoAx4zs5Vm9oiZ5can/GNXV7eFtLT8dsepxUJEvBLVTnrOufnA/BbH7mj2eBnh9onWzp0DtL3YpRById7f+z4TjpuAz7rO3i3/fd5/8+fVf+YrL36Ft7/4Nun+9n+lKvHVkZsjtx/Yzr1v3suI3iO45sRrOrx8X/HAYs47/jx+vfTX3HLGLaT5tJFnRDT3arQ1pq3jacBE4Bbn3FIz+zVwO/DfH3vzBN8kHQrVUVOznoKCT7Y7VgFZRLzSddJYCttasZXqxuou0X/cXF5mHvdPv59Vu1fxszd+5nU50gEH6g7w4LIHycvM48vFX+50qP3G5G+wvXK7ln37qGju1Tg8xsK9CflA+VHOLQVKnXNLI8efJRyYPybRN0nX1e0AHJmZx7c7Vusgi4hXFJCTwPtl72MY4/q2vC8n9V0x9gquHn81d752J2v2rvG6HDkGDcEGHlj2ALWBWm46/SZ6Zvbs9DU/dcKnGNlnJL946xfaYe+IaO7zmAs07UQ6E1jown+Ac4FZkVUuioBRwNvOud3ADjNrWmbkQmAtSaC+fjsAWVntB2SfLxPnGgmFGuJdlojIRyggJ4G1e9dS1LuI3IykaRGMqfun30/PzJ5c//fraQw2el2ORCHkQjy26jF2VO7ghok3MLhnqx1Ux8zv8/O1M77G2x++zcrdK2NyzVQXzX0ehG+2KzCzEuAbhNslcM6tAZ4hHH5fBm5yzgUj59wC/NnM3gNOAX6SqM90NHV1H5CRMTDKHuTwOupayUJEEk0B2WNVDVVsr9zOuMKuN3vcpDC3kIc++RDLdi7jewu/53U5EoV5G+exYtcKrhx7JSf3Ozmm1/7shM+S7kvnz+/9OabXTWXOufnOuROccyOcc3dFjt3hnJsbeVznnLvKOTfSOTfJObel2bl3Rc4b7Zx7qdnxVZHWiZOcc5+O7Gbqufr67eTlFUc11ufLAlCbhYgknAKyx9btW4fDMb5wvNelxNXMcTP5SvFXuPfNe5m3cZ7X5chRvLnjTV7c9CJnDTmLqcOnxvz6fbL7MH3UdJ58/0mCoWD7J0iXEQgcoqFhD3l5p0U13iwTUEAWkcRTQPbY2rK15KTnMKzXMK9LibtfXvxLTul/Ctf97TrKqsu8Lkda8faHb/PHd//I2L5juXbCtR1esaI91064ll1Vu1i8bXFcri/JqapqFeCOYQZZAVlEvKGA7CHnHGv3rmVs37Fdanm3tmSlZfGXq/4CwG/f/i1VDfo/vWSytHQpc1bOYVTBKL56+lfjugzbZSdcRl5GHn9erTaL7uTQoeUAUc8gKyCLiFe6fipLYjsP7eRA/YEu3X/c0sg+I/n7rL+zv3Y/Dy1/SDftJQHnHPM2zmPOqjmM6jOKm06/iQx/RlzfMzs9myvHXslz656jLlAX1/eS5HHo0DukpfUiI6NfVOOPBGTdpCciiaWA7KG1ZeFVl7p6/3FL5ww9h+tPuZ6S8hIeWPYA9YF6r0vqtqoaqvjDij/wwsYXmDxoMreecStZaVkJee9rJ1zLwfqDvLTppfYHS5dw6NDyqNY/bqIeZBHxiray8tCasjUM6DGA3tm9vS4l4YoHFtMYbOTxdx8P76w26Ray07O9Lisuahtr2VS+ifX71rN+33oWbl1ITWMN1Y3VVDdU0xhqxG9+0nxp+H1+0n3p9MzsSa+sXod/CnML6Z/bP2a7EYZciHd2vcPT7z9NdWM1V4y5gotHXBy3nuPWnD/sfHpl9eKFjS9wxdgrEva+4o2Ghj3U1m6gb9/o/67VYiEiXlFA9khNYw2byjfxieM/4XUpnjlzyJlk+DN4ZOUj3P363Xy5+MsMzBvodVmd0hBs4N3d7/LmjuxWMDUAACAASURBVDd5q/Qtlu1cxtaKrbjIzsGGkZOeQ25GLjnpOfTI6EGGP4OgCxIIBQiGgtQF6thbvZcDdQcIuiOrPBjGcbnHMSBvAIPyBjEgbwADewzkuNzjog7ONY01rNy9klc3v8quql0MzR/K1yZ/jSE9h7R/coyl+9OZPnI68zbOIxgK4vf5E16DJM6BA4sByMkZE/U5Csgi4hUFZI+8tv01AqFAt2uvaOm0gaeRl5nHH1b8gbtfv5v/GP8fnDXkrJS5abGsuow3d7wZ/il9k+U7lx/uqR2aP5QzBp3Bf530X4zpO4axhWMZ1WcUT7z3RFTXDrkQVQ1VHKg7wJ7qPew6tIsPD33IrkO7eHf3ux8J3QU5BfTL7Ue/3H70yu5Fj/QepPvTCYaC1DTWUFZTRunBUjZXbCbkQgzKG8QXTvkCxQOLPQ2ml4++nCfff5KlHy7lrCFneVaHxF9FxUL8/p5kZkb/jzEFZBHxigKyRxaULCDNl8aoglFel+K5EwpO4Pvnfp9HVz7KE+89wesfvM6sE2cl3dJ3zjn2VO9hzso5vP7B67yx4w027t8IQIY/g4kDJvKV4q9w1pCzOHPwmQzqOahT7+czHz0ze9IzsydD84d+5LXGYCO7q3ez69Au9lTtYU/1HnZX7aakvIT64Md7urPSsuiX249pI6Yx4bgJjOg9IqHtFG25ZOQlpPnSeGHDCwrIXdy+fX+jV6/zMIv+H2RmaYCfUEg36YlIYikge2TB5gWM6jMq7qsFpIr8rHxum3wbS0uX8ty657j79bsZXTCaC4suZPxx4+O65FhrQi5EWXUZHxz8gNLKUnYc3MH2yu2Hl6YryC7grCFnccOpN3D2kLM5beBpCbu5DcLtCUN6DvlYa4Rzjvpg/Ud6m7PSsuiR0SMpAnFLvbJ68YnjP8HcjXO5+6K7vS5H4qS+/kMaG/fSq9cFx3yuz5epGWQRSTgFZA/sqNzBun3rmDl2ptelJBWf+ThzyJmc0v8UXvvgNRZtXcSDyx8kKy2LCcdNYGSfkRT1KqJ/j/5kpmV26r0ag40cajhEZV0llfWVVNZVUlZTxt7qveyt3ktZTRmBUOBwXQPzBh6u4bvnfpfRBaOTMnCaGVlpWQkN65112QmXcduC2ygpL2Fkn5FelyNxUFGxCIBevaZw6NDbx3SuArKIeEEB2QOvbH4FoFutf3wsstOzuXjExVxUdBFrytawavcqVu9dzbKdyw6PycvIIy8z73AYzErLIsOXgcPhnMPhCLkQ9cF66gJ11AfqqQ/UUxesoy5QR0Ow4WPvm+5LpzC3kH65/TjxuBMZ0GMAQ/KHMKDHgI/cBDemb/Q3GUn7Lh99ObctuI15G+dx2+TbvC5H4uDAgUX4fLn06HFSBwJylgKyiCScArIHFmxewMC8gSm/YkO8+X1+Tup3Eif1OwnnHOW15Ww7sI29NXvZV72PqoYq6oJ11DTUUF5bTmOwETPDMHzmw8zI8GeQlZZFr6xeHwnT2WnZ5Gfl0zOzJ/mZ+Ycfp8rNgV1JUe8iRheM5pXNryggd1EHDiwiJ2cU1oH/fZllEggcikNVIiJtU0BOsGAoyD+2/INPj/l0Uv6KPlmZhVdqKMgp8LoUiYNpI6bxyIpHqA/Ud7p9RpJLQ8M+6uq2UljYsZYyvz+bYLAyxlWJiBydpssSbPnO5VTUVXDxiIu9LkUkaUwbMY3aQC1v7HjD61IkxnbufBAAvz+fnTsfPubzfb4cGhsrYl2WiMhRKSAn2ILNCzCMi4Zf5HUpIknj/GHnk+5LP9yfL11HMFgLgM/XsZ0y/f5sAoEDsSxJRKRdCsgJ9srmVygeWKxWAZFmemT04KwhZykgd0GhUDgg+/0dC8g+X44CsogknAJyAlXWVbKkdAnTRkzzuhSRpDN1+FRW7l5JWXWZ16VIDDUF5I7PIOfgXP3hmWgRkURQQE6ghVsXEnRB9R+LtKLpH47/2PIPjyuRWOpsQPb5cgA0iywiCaWAnEALNi8gLyOPyYMne12KSNKZOGAifbL78MoWtVl0JZ3tQT4SkHWjnogkjgJygjjnWLB5AVOKpnxk0wkRCfP7/Fww7AIWbl2Ic87rciRGwjPIhs/XseX7mnqXNYMsIomkgJwgJeUlbDuwTf3HIkcxpWgKH1R+wJaKLV6XIjESCtXg82V1aJMQAJ8vF1BAFpHEUkBOkAWbFwCo/1jkKKYUTQFg0bZFHlcisRIK1R5uk+iIIzPIarEQkcRRQE6QVza/wojeIxjRZ4TXpYgkrdEFoxnQYwALty70uhSJkWCw9mP9x8eyYYhu0hMRLyggJ0BDsIFF2xapvUKkHWbGlKIp6kPuQkKhWvz+rA6f3xSutZueiCSSAnICvLXjLaoaqtReIRKFC4ZdwJ7qPazbt87rUhLGzC4xsw1mVmJmt7fyeqaZPR15famZDWv22ncixzeY2cUtzvOb2Uozmxf/T9G6zrZY+Hzp+HzaTU9EEksBOQEWbF5Ami+NC4ou8LoUkaTX1IfcXdoszMwPPABMB8YB15jZuBbDbgAqnHMjgfuAeyLnjgNmAeOBS4AHI9dr8jXA039phANyx5Z4a5KW1lsBWUQSSgE5AV7Z/ApnDj6Tnpk9vS5FJOkV9S5iWK9h3SYgA5OAEufcFudcA/AUMKPFmBnA45HHzwIXmplFjj/lnKt3zm0FSiLXw8wGA58EHknAZ2hTaz3IxyotrZdu0hORhFJAjrOy6jJW7Fqh/mORYzBl2BQWb1tMyIW8LiURBgE7mj0vjRxrdYxzLgBUAgXtnPsr4FuAZ3+IzrlID3IsArJmkEUkcRSQ4+wfW/6Bw6n/WOQYTCmaQkVdBe/uftfrUhLBWjnW8g7Ftsa0etzMPgXsdc690+6bm802s+VmtrysrKz9ao9BMFgNhNRiISIpRwE5zhZsXkCf7D5MHDDR61JEUkZTv343abMoBYY0ez4Y2NnWGDNLA/KB8qOcezZwuZltI9yyMcXM/tTamzvnHnbOFTvnigsLCzv/aZoJBiuBjm8z3UQtFiKSaArIceSc45XNrzB1+FT8Pn/7J4gIAAPzBjK6YDQLt3WLgLwMGGVmRWaWQfimu7ktxswFros8ngksdOF18OYCsyKrXBQBo4C3nXPfcc4Nds4Ni1xvoXPuc4n4MM0FAuGA3NkWi/R0zSCLSGIpIMfR+3vfZ1fVLrVXiHTAlKIpvLb9NRqDjV6XEleRnuKbgQWEV5x4xjm3xszuNLPLI8MeBQrMrAT4BnB75Nw1wDPAWuBl4CbnXDDRn6EtTaG2M8u8wZEeZNc9etJFJAmkeV1AV9a0vfTUEVM9rkQk9UwpmsJDyx/inV3vMHnwZK/LiSvn3HxgfotjdzR7XAdc1ca5dwF3HeXai4HFsajzWDXNIMeixQIcweAh0tLyY1CZiMjRaQY5jl7Z/ArjC8czuOdgr0sRSTnnDzsf6DZ9yF1SrAJyVdV7keupzUJEEkMBOU5qGmt4bftrWt5NpIP65vTlpH4nKSCnsKZA29keZG03LSKJpoAcJ69tf436YL0CskgnTBk2hTd2vEFdoM7rUqQDjqxi0bkeZL8/F9AMsogkjgJynLy48UVy0nMO/5pYRI7dlKIp1AXqWFK6xOtSpAPCLRY+zNI7dZ2mGWQt9SYiiaKAHAfOOeZtmsdFwy8iKy3L63JEUtZ5x5+Hz3xqs0hRgUAlPl824V2xO87vz4lcTzPIIpIYCshxsLZsLdsObOOToz7pdSkiKS0/K5/igcUs2rbI61KkAwKBA4fDbWc0tWgoIItIokQVkM3sEjPbYGYlZnZ7K69nmtnTkdeXmtmwyPFhZlZrZqsiP7+LbfnJ6cVNLwIoIIvEwAXDLmBJ6RKqG6q9LkWOUdMMcmf5fFmAqcVCRBKm3YBsZn7gAWA6MA64xszGtRh2A1DhnBsJ3Afc0+y1zc65UyI/X45R3Ult3sZ5nNr/VAb1HOR1KSIpb0rRFAKhAK9/8LrXpcgxqq3dEJOAbObD58vWDLKIJEw0M8iTgBLn3BbnXAPwFDCjxZgZwOORx88CF1pnm85SVHltOW/seEOzxyIxcvaQs0n3pasPOQUFg7UxCciAArKIJFQ0AXkQsKPZ89LIsVbHRLZNrQQKIq8VmdlKM/uXmZ3b2huY2WwzW25my8vKyo7pAySbBSULCLkQnzrhU16XItIl5GbkMnnwZBZuU0BONaFQTafXQG7i9+eoxUJEEiaagNzaTLCLcswuYKhz7lTgG8D/mVnPjw107mHnXLFzrriwsDCKkpLXvE3zKMwp5PRBp3tdikiXMaVoCit2reBAnWYQU0koFMsZ5BzNIItIwkQTkEuBIc2eDwZ2tjXGzNKAfKDcOVfvnNsP4Jx7B9gMnNDZopNVIBTgpU0vcemoS/GZFggRiZULhl1AyIV4bftrXpciUXIuRChUH7OA7Pdnayc9EUmYaFLcMmCUmRWZWQYwC5jbYsxc4LrI45nAQuecM7PCyE1+mNlwYBSwJTalJ58lpUuoqKtQe4VIjE0ePJmstCz1IaeQQOAg4GLWYuHz5arFQkQSJq29Ac65gJndDCwA/MAc59waM7sTWO6cmws8CjxhZiVAOeEQDXAecKeZBYAg8GXnXHk8PkgymLdxHmm+NKYOn+p1KSJdSmZaJucMPUcBOYXEapvpJmlpeTQ27sW5EKbf0IlInLUbkAGcc/OB+S2O3dHscR1wVSvnPQc818kaU8a8jfM47/jzyM/K97oUkS5nyrApfHfhd9lbvZfjco/zuhxpR3ibaWLYYtEL5wI0Nu4jI0N//yISX/pneIxsO7CNNWVrtLybSJxcUHQBAIu3Lfa2EIlKrANyWlp44qG+vuUtMCIisaeAHCMvbgzvnqf+Y5H4KB5YTF5GHou2atvpVNC04kSsepCbAnJDw66YXE9E5GgUkGNk7sa5jOozihMKuuwiHSKeSvOlcd7x52k95BTRdEOdz5cbk+spIItIIikgx0BFbQULty7kijFXeF2KSJc2pWgKG/dvpPRgqdelSDtiPYPs96vFQkQSRwE5Bl7Y+AKBUIDPjPuM16WIdGlTiqYAaDWLFHBkBjlWy7ylk5bWRzPIIpIQCsgx8Ny65xjcczDFA4u9LkWkSzup30kcl3scL5e87HUp0o5A4AA+XxaRpfBjIjNzIA0NmkEWkfhTQO6kqoYqFpQs4MoxV2r3PJE485mP6SOn83LJywRDQa/LkaNobKyI2RrITTIyBlBfrxlkEYk/JbpOemnTS9QH67ly7JVelyLSLUwfOZ2KugqWfrjU61LkKAKBCvz+WAdkzSCLSGIoIHfSc+ueozCnkHOGnuN1KSLdwrQR0/CZj5c2veR1KXIU4RaL2AbkzMwBNDTsxrlQTK8rItKSAnInVDdUM2/jPK4YcwV+X+z67ESkbb2ze3PWkLOYXzK//cHimUAgHi0WA3GukcbG/TG9rohISwrInfDCxheobqzmmgnXeF2KSLcyfeR0Vuxawa5DXaMf1cwuMbMNZlZiZre38nqmmT0deX2pmQ1r9tp3Isc3mNnFkWNDzGyRma0zszVm9rXEfZqwQOBAzJZ4a5KRMQDQWsgiEn8KyJ3w5PtPMihvEOcOPdfrUkS6lUtHXQrQJVazsPAyDw8A04FxwDVmNq7FsBuACufcSOA+4J7IueOAWcB44BLgwcj1AsD/c86NBSYDN7VyzbiKxwzyoUPLAK2FLCLxp4DcQeW15by06SX+Y/x/qL1CJMFO7ncyA/MG8sLGF7wuJRYmASXOuS3OuQbgKWBGizEzgMcjj58FLjQzixx/yjlX75zbCpQAk5xzu5xzKwCcc4eAdcCgBHwWAEKhAMFgVcxv0tNueiKSKArIHfT8uudpDDWqvULEA2bGFWOu4OWSl6lprPG6nM4aBOxo9ryUj4fZw2OccwGgEiiI5txIO8apQMKW/WjaRS/WM8hNu+lpJQsRiTcF5A568v0nGdVnFKcNOM3rUkS6pSvHXkltoJYFJQu8LqWzrJVjLsoxRz3XzHoAzwG3OecOtvrmZrPNbLmZLS8rK4uy5KM7ss10bAOyz5eOz5ejtZBFJO4UkDtgR+UOFm1dxDUnXkP4t5wikmjnHX8efbL78Pz6570upbNKgSHNng8GWk6RHh5jZmlAPlB+tHPNLJ1wOP6zc67NPyTn3MPOuWLnXHFhYWEnP0rYkW2mYxuQAdLSeqnFQkTiTgG5Ax5/93EcjutOuc7rUkS6rTRfGjNGz+CFDS/QEGzwupzOWAaMMrMiM8sgfNPd3BZj5gJNXzgzgYXOORc5PiuyykURMAp4O9Kf/Ciwzjn3y4R8imbiNYMM4T5ktViISLwpIB+jkAsxZ+UcphRNYXjv4V6XI9KtXTn2SirrK1m0dZHXpXRYpKf4ZmAB4ZvpnnHOrTGzO83s8siwR4ECMysBvgHcHjl3DfAMsBZ4GbjJORcEzgb+E5hiZqsiP5cm6jPFdwY5Xy0WIhJ3aV4XkGoWb1vM1gNb+fEFP/a6FJFu76LhF9EjowfPrXuOi0de7HU5Heacmw/Mb3HsjmaP64Cr2jj3LuCuFsdep/X+5IRoCsjxmEH2+/NpaFiBc04tbiISN5pBPkZzVs4hPzOfK8de6XUpIt1eVloWl51wGc+tey7V2yy6lHitYgHhHmTnGmho2B3za4uINFFAPgYH6g7w3LrnuHbCtWSnx3aHKBHpmP886T8pry1n/iZtPZ0sGhsrMEsjfJ9gbGVlFQFQWfnvmF9bRKSJAvIxmLNyDnWBOr448YtelyIiEVNHTKVfbj/++O4fvS5FIgKBA/h82XFpgcjKGorPl8WBA6nbdy4iyU8BOUrBUJDfvv1bzh16LqcOONXrckQkIs2XxmcnfJZ5G+dRXlvudTlCfLaZbmLmJzt7FBUVC9m58+G4vIeIiAJylOZumMu2A9v42hlf87oUEWnhv07+LxpDjTz9/tNelyKEZ5DjcYNek5yc0dTWbqSxsSJu7yEi3ZsCcpR+vfTXHJ9/PDPGzPC6FBFp4eR+JzPhuAk8/u7jXpcixHcGGSA7ezQAtbUb4vYeItK9KSBHYdXuVfxr+7+4edLNpPm0Mp5IsjEzrj/lepZ+uJRVu1d5XU63F+8Z5MzMwaSl9aamRgFZROJDATkKd79+N3kZedxw6g1elyIibbj+1OvJSc/hN0t/43Up3V68Z5DNfPTqdb4CsojEjQJyO97f+z5/WfMXbj3jVnpn9/a6HBFpQ6+sXlx38nX83+r/o6y6zOtyui3nXNxnkAF69ZpCILCf2totcX0fEemeFJDb8ePXfkyPjB58ffLXvS5FRNpxy6RbqA/W8/A7Wt3AK8FgNc4F8Pniu1Z8QcF0AHbv1vJ+IhJ7CshH0Xz2uCCnwOtyRKQdYwvHMm3ENB5c/qB21vPIkW2mc+P6PtnZI8jNPYmdOx8gGKyN63uJSPejgHwU3/3ndzV7LJJivjH5G+w8tJPHVj7mdSnd0pFtpuO/22jv3hfR2LiPPXueiPt7iUj3ooDchpc2vcQLG1/g++d9X7PHIilk2ohpnDXkLH782o+pC9R5XU63c2QGOb49yADZ2SfQo8dESkvvw7lQ3N9PRLoPBeRWNAQbuG3BbYzqM0obg4ikGDPjril38eGhD3lo2UNel9PtHJlBjn9ANjN69DiVmpr1lJU9F/f3E5HuQwG5Fb9e8ms27t/Iry/5NZlpmV6XIyLH6Pxh53PR8Iv4yes/4VD9Ia/L6VaaZpATEZAB8vJOo0ePU1i//noOHlyu7adFJCYUkFtYV7aOOxbfwWUnXMb0UdO9LkdEOuiuKXexr2YfP/rXj7wupVtp2v453i0WTUHYzM+ECfPJyChk9epLqa/fFdf3FZHuQQG5mYZgA9c+fy09Mnrw8GWahRBJZZMGTWL2xNnct+Q+ln24zOtyuo3a2g34fDkJm0EG2L//Bfr3/wKhUC3bt9/J+vVfpLZ26+HXNassIsdKAbmZOxbdwcrdK3nkskfo36O/1+WISCf9bOrP6N+jPzfMvUHLviVIVdUqMjMHY2YJfd+MjH4MHfp9evX6BHv2/Illyyawe/efElqDiHQdCsgRT65+knveuIfZE2czY8wMr8sRkRjIz8rnoU8+xOq9q/nBoh94XU6X51yQqqr3yMwc4sn7p6f35rjjZjFs2A/Jy5vI+vX/ycaNN+Gc86QeEUldCsjAv7f/m8///fOcO/RcfjP9N16XIyIxdPnoy/nSxC/x0zd+ypOrn/S6nC6tpmYToVCNZwG5SXp6H04+eSGDBt3Mzp0PUltb4mk9IpJ6un1AfmfnO3z66U9T1KuIv836m1atEOmC7r/0fs4dei5fmPsF9SPHUVXVKgCysgZ7XAns3j2H7OzR+P09qKh41etyRCTFdOuA/M8t/+T8x88nLyOP+dfOp092H69LEpE4yPBn8NzVz9Evtx8X/+lilpQu8bqkLqmqahVm6WRkDPC6FAB8vgzy88+nuvpdqqvXe12OiKSQbhmQnXM8uOxBLv2/SxnWaxhv3vAmw3sP97osEYmjwtxCFl23iD7ZfbjwjxeyoGSB1yV1OVVVK8nNPRGzNK9LOaxXr09glk5p6S+9LkVEUki3C8gfHvyQy568jJvm38SUoim89vnXGJg30OuyRCQBinoX8foXXmdUn1FM//N0vvXqt7QddYw456iqWkmPHqd4XcpHpKX1pGfPM9m9+48fWfpNRORouk1A3lezj2+/+m1G/nYk/9jyD35zyW+Y/9n59M7u7XVpIpJA/Xv059/X/5svTfwS9755LxN/P5G/rPkLIRfyurSU1tCwm8bGsqQLyAB9+lyM35/N6tWfpLHxgNfliEgKiCogm9klZrbBzErM7PZWXs80s6cjry81s2HNXvtO5PgGM7s4dqW3b3/Nfp5f9zxX/eUqBv1yEPe+eS9XjbuKdTet45Yzbkn4Op0ikhzyMvP4/WW/Z/5n5xNyIa5+9mrGPzien/z7J6zftz7hy4LF4zu2vWvGWtMNeskYkNPT+zJ+/F+prS1hzZorD+/2JyLSlnYbxczMDzwATAVKgWVmNtc5t7bZsBuACufcSDObBdwD/IeZjQNmAeOBgcA/zOwE51wwlh9i2YfLeLnkZeoCdVQ1VLG9cjsb929k3b51APTN6ctXi7/Kl077EuMKx8XyrUUkhU0fNZ1pI6bx3Lrn+NWSX/G9hd/jewu/R9+cvpza/1RmjpvJ7NNmx7WGeHzHRs5p75oxVVW1EoAePU6mpib5boirrd1Iv36fY/fux3jjjQKysobTt++nyc0dT15ecaR3OrGTJoFAJTU1G9i58w8cf/ztZGePaKP2rXzwwT0MH/5T0tN7JbRGke4qmjspJgElzrktAGb2FDADaP5FOwP4YeTxs8D9Fv6mmQE85ZyrB7aaWUnkem/Fpvywtz98mzsW34HPfOSm53J8r+MZVTCKaydcy/nDzuf0QaeT4c+I5VuKSBfh9/m5evzVXD3+akoPlvLChhdYvnM5q/asYkvFlkSUEI/vWKK4ZkzU1e3ggw9+yq5dj5CbO4G0tPxYv0XM9Ow5mYyM/lRVvUdNzRo+/PDXOBcAICOjPzk542ho2ENDw27S0wvo1esCcnJGk5MzGr8/L3KVIyHazHDO4Vw9DQ1llJe/zP79c/H5sunZc/LhczMyBuLzZRIIHKSqahVVVSuprHyNxsZ9h6+1e/dj9Ov3OQoLrwB8NDTs5uDBJezfP4/Gxr0A7N37fwwceCM5OeNxLkAgsJ/y8pfJzT2RnJxxZGUV4fOlA37Mwj/gcC5Abe1m9uz5E84FKSj4JJmZg/D5sg//+P3ZJKbrUpu2dB3hv8sjv3FzHPn7dW0eDwv/97O2djO7dz9KKFRH376fJitrOD5fJmZp9Ox5Junp3rXBRhOQBwE7mj0vBc5oa4xzLmBmlUBB5PiSFucO6nC1bbix+EZuLL6RNF/y3DktIqlncM/BfOX0ryT6beP1HdveNTvNuRArV55LQ8NO+vf/PMcf//1Yv0XMZWUNIytrGHA5zoVobCyjtrYE5xqpq9tKTs4o/P5cGhvLKCt7hkAg+naMtLTeZGUNx7kA1dVr2L9/7uEA3lx29kgyM4+nZ8+z6d//8xw6tIxQqJadO3/Hnj2PN7teAZmZA+nV6wIyMwfQ0LCHHTt+CRzpl/f5cjh06B2CwUPt1mcWDh6Vla9F/ZlE4s0sE58vm4MHP9oJduqpb5GfP9mjqqILyK39zqnlPwHbGhPNuZjZbKDp95hVZrYhiroSrS+wr91R3ktInTdyY2cvkbJ/njH47LGWEn+WN3JjStRJbP48jz+GsfH4jm1tKrDVqbvYff/+AfhDKvwdx7HGCuCdKMY17ez3DvD3tgb1hf37YD+w+ijXqom+POojPzHTzf++YyYVaoS41dnWfy/P7MjFRneuliOiCcilQPN9QwcDO9sYU2rhBTDzgfIoz8U59zDwcPRlJ56ZLXfOFXtdR3tUZ2ylQp2pUCOozqOI13dsu9+9ENvv31T4O06FGiE16lSNsZEKNUJq1Glmy2N1rWgajpYBo8ysyMwyCN8QMrfFmLnAdZHHM4GFLtx8MheYFbkDuwgYBbwdm9JFRLqEeHzHRnNNERFpQ7szyJF+t5uBBYAfmOOcW2NmdwLLnXNzgUeBJyI3iJQT/jImMu4ZwjeGBICbYr2ChYhIKovXd2xr10z0ZxMRSVVR3dXmnJsPzG9x7I5mj+uAq9o49y7grk7UmCySugWkGdUZW6lQZyrUCKqzTfH4jm3tmgmQCn/HqVAjpEadqjE2UqFGSI06Y1ajJXpBfBERERGRZNZttpoWEREREYmGAnI7Er1da0eY2RAzW2Rm68xsjZl9zeuajsbM/Ga20szmeV1LW8ysl5k9a2brI3+uHVpvJt7M7OuRv/P3zexJM8vyuiYAM5tjZnvN7P1mx/qYK3LhhQAAIABJREFU2atmtinyn96tAH+kptbqvDfy9/6emf3VzLR1WRSS5buyre9DM/uhmX1oZqsiP5c2O6fV7brjXOc2M1sdqWV55Fir/xuxsN9EanzPzCYmoL7Rzf6sVpnZQTO7LRn+HI/l++Vof3Zm9v/Zu/M4ueoq//+vk+7sKyRhSwIdCATCDjFEEEVADAwDOjICI0ocNc6MKOKKP1z5juO+DMLoREUE2TfNIAhhiSBCIIEkEEIgJCFpspNA9qW7z++Pz6307UpVd3VX1721vJ+PRz2q6tate0/d6vr0qVOf+/lcGq3/qpldmmtf3RxjzrbFzBrMbFvsmP4q9pwTo7+TRdHr6LbpHvPE2On3t5Sf/Twx3h6Lb6mZzYmWd+9xDLMA6ZLrQji55TXgYKAXMBcYl3ZcOeLcHzghuj0QeKUc44zF+wXgFuC+tGNpJ8bfA5+MbvcChqQdU44YRwBLgL7R/TuAyWnHFcXybuAE4MXYsh8CV0a3rwR+UKZxngXUR7d/UA5xlvulnNrKfO0hYSbCL+VYf1wUb29gdPQ66hKIcykwLGtZzs8IcA7wAGHc64nAzBTe31WE8b1TP46daV/yHTtgb2BxdL1XdHuvEseYs20BGuLrZW3nGcKAwBa9jrNLHGOn3t9Sf/ZzxZj1+E+Ab5biOKqC3L7dU8C6+04gM11rWXH3le7+XHR7E7CAEsxY2B3MbCTwD8Bv0o4lHzMbRPhQ/hbA3Xe6+1vpRpVXPdDXwti4/cgz1m3S3P1xwmgLcecTvngQXX8g0aByyBWnuz/krdOfPU0YQ1jaVzZtZRfaw93Tdbv7EsIsHhPaWb+U8n1Gzgdu9OBpYIiZ7Z9gXGcAr7n76+2sk9hx7GT7ku/YvR+Y7u7r3X0DMB2YVMoYO9u2RHEOcvenPGR5N9KN7Wae45hPvve3pJ/99mKMqsAfBm5tbxtdPY5KkNuXawrYskw8M8ysATgemJluJHn9HPgK8blSy8/BwFrgdxa6gvzGzPqnHVQ2d38D+DGwDFgJvO3uD6UbVbv2dfeVEJIYYJ+U4ynEvxKqDdK+smwrc7SHl0U/b19vrV180ordgYfMbLaF2Qwh/2ck7eN7EW2TkHI6jhmdPXZpx5vdtoyO/t/81cxOjZaNiOLKSCrGzry/aR7HU4HV7v5qbFm3HUclyO0raKrscmFmA4C7gc+7+8a048lmZucCa9y9kLlY01RP+Ennl+5+PLCF8JNdWYkarvMJP3cdAPQ3s0vSjap6mNlVhLGFb047lgpQdm1ljvbwl8AhwHGEL5Q/yaya4+lJxH6Ku58AnA18xsze3c66qR1fCxPNnAfcGS0qt+PYkc5O015yOdqWlcCB0f+bLwC3RL9kphFjZ9/fNN/3i2n7xa1bj6MS5PYVNFV2OTCznoR/Bje7+z1px5PHKcB5ZraU8DPM6Wb2h3RDyqkRaHT3TNXpLkLCXG7OBJa4+1p33wXcA5ycckztWZ35WTi6XpNyPHlFJ+ycC3wk+klO2ldWbWWu9tDdV7t7s7u3AL+m9ef/VGJ39xXR9Rrg3iiefJ+RNI/v2cBz7r46iresjmNMZ49dKvHmaluibgtvRrdnE/r0HhbFGO+GUfIYu/D+pnUc64F/Am7PLOvu46gEuX0VMV1r1A/nt8ACd/9p2vHk4+5fc/eR7t5AOJaPunvZVTzdfRWw3MzGRovOIMxUVm6WARPNrF/0N3AGob9luYpPl3wp8KcUY8nLzCYBXwXOc/etacdTIcqmrczXHmb12f0gkDkrPt903aWMsb+ZDczcJpy89SL5PyPTgI9ZMJHQnWplKWOMaVOlK6fjmKWzx+5B4Cwz2yv6Ne6saFnJ5GtbzGy4mdVFtw8mHLvFUZybzGxi9Hf9MUrcbnbh/U3rs38m8LK77+460e3HsaOz+Gr9QjgD9hXCN5Gr0o4nT4zvIvxcMA+YE13OSTuuDmI+jfIexeI4YFZ0TP9IN57d3M1xfgd4mdCI3QT0TjumKK5bCT937SJ8e/8EMBR4BHg1ut67TONcROhTl/ks/SrtOCvhUi5tZb72MPp8vBAtnwbsH3vOVVHcC+nGUQLaifFgwtn+c4H5meOV7zNC+In4uijGF4DxCR3LfsCbwODYstSPY2fal/aOHaEf8KLo8vEEYszZtgAfiv4O5gLPAf8Y2874qH1/DbiWaIK3EsbY6fe3lJ/9XDFGy28A/i1r3W49jppJT0REREQkRl0sRERERERilCCLiIiIiMQoQRYRERERiVGCLCIiIiISowRZRERERCRGCXIFM7NmM5tjZi+a2Z1m1i/H8v8zsyGx5xxpZo+a2Stm9qqZfSMaFxAzm2xma6NpGl81swfN7OTYc2eY2fjY/QYzezF2f4KZPW5mC83sZQtTNH8mimWOme00sxei29/P8XpyPb9f7PE/mdlTsftXxbbdHLv9OTP7tpm9EVs2J3Mcov3MiF7jc2b2ZzM7OrbdKdH+XzazZ8zsXVnHYKGZzTWzZ83suNhjS81sWNZ7kLlcGS0/Nzq+c83sJTP7dNYxaDCzRjPrkbV8ThT3t83sS9GyG8xsSWwff4/G+lwXjeuJme1vZp71Gtaa2dB8x8jMTjOzt6M4F0bvybm5/wpFJMPMPhh93g6PLVtirWOqZ5b93My+EvusxT+DZ0br5G3Ho8evMLPtZjY4a3ne9q29djF6/OjY8vWx9uVhi7X3UdxuZp+IPff4aFne9inH8Yq3NQvM7FtZyzt9XGLbvsrM5luYMnmOmZ0ULZ9hZuPNbGa0fFnUJmb202ChLX8htuyaHHE/lbWs3sxWR23uDWZ2QbQ8Z5sfvRdfMrPron28ZGbbYvu8INfrkgSVapxCXUp/ATbHbt8MfCHH8t/TOsZmX8IYgGdF9/sR5oL/THR/MnBt7LnvBVYBR0T3Z9B2DMkG4MXo9r7A68A7o/sGXADsG1t/KTAsz2tp9/nAEML4kQuA0e0di+j+t4Ev5dnPUuDk2LJ3AR+Ibp8LzM7ESZhBbxmwX/YxAD4OTM/1+rLjiZb1JMzeMzK63xsYm2O9p4D3xO4fDryW/boI40BekOP5fyYaB5swLuRzwFei+2MJEyi0d4xOIzZGNWFM6KXAGWn/zeuiSzlfgDuAJ4Bvx5Z9D/hW7H4PwniuB2V/1rK2lbMdjy17JtrX5Niyjtq3nJ/5PPtv077Qtr0/jTBO7kOxx39AGNu33fYpax+7Xz/QnzCG8YnFHJdo+TujdrR3dH8YcEB0ewZt/49NJvZ/L1q2lDz/q2Lv4XKgIbZsEvBI/LXTTpuf/V7Ej68u5XFRBbl6PAGMybH8KWBEdPtfgCfd/SEADzP5XAZcmWuD7v4YMBWYUsD+PwP83t2fip7r7n6XR9OTdsPzPwT8H2GK6osK3GYul0X72V3NcPe/ufsfo7tfBb7s7uuix54jNMKfybGt+LEtxECgnjDwPh6mxVyYY71bafsaL6LtfPMdeZLWKadPBn5K+IeRub9HJac97j4HuJpw7EQkBzMbAJxCmGwh/vnN/jy/G1jq7q93YvNt2hozOwQYAHydMNNdRkftW3daBvQxs33NzAgJ4gNd3Zi7byEUJw7pxNPytcH7A+vcfUe07XUeTe3dHTxMw3wncGFsca52utA2X8qQEuQqYGFO8rMJs9/El9cRph/OTPt4JKEB2s3dXwMGmNmgPJt/jlDB7MhR2dvupI6en5nu9Fba/kNozxWxn6sei5YdSXhN+exxjAgz6h2ZY91JhFn2cumb9fPghe6+nvBevG5mt5rZRyyrK0XkDuAD0fsKoRG+Lc9+fhTbx83Rsr/TmiBPiGIcFd0/mZBAZ+Q6RrkU+ncgUqs+APzF3V8B1pvZCQDuPg9oMbNjo/WyE6lTs9qKNglijnYcWtvDJ4CxZrZPtLyj9g0K/8wX4i7gnwntynPAjqzHc7VPOZnZUGAiYSY06NpxyXgIGGWhK+H/mNl7Ov/SeCy27ytyPL77i4+Z9SbMJnd3fIVOtPlShuo7XkXKWF8zmxPdfgL4bdbyBkKyNz1aboQpWHPJt9w6WKfkUzGa2b6E6vjf3N3NrMnMjnL3Fzt46s/c/ccdbHsmMIjwU+Hl+Vaj7eu82cz6A3WELhi5bHP347IXuvsnLfQHPBP4EvA+wk988XVWmdl84AwzWw3saue1ftnd78pa9gxwfBRjT3ffbGaLzWwM4R/ZT2LrdniMItbxKiI17WLg59Ht26L7mWT1VuCi6HN9PvDN2POecPdcffzzteMQErMPunuLmd1DSFKvy95Anvat0M98Ie4Abid8eb6V1i/mGbnap2ynmtnzQAvwfXefb2an0bXjAkDU5p0InEroKni7mV3p7jcU/MrgvZlfEnNx92fNbICF/uVHAE+7+4Yc63XY5kt50jeZyrbN3Y+LLp91953x5YQ+br1o7R4wnzAf+W5mdjChT9emPPs4ntDvF8LPRHvFHtsbyDQg8wl9x7qqvedfGO13iZktJTSMXe1mMZ9YUuvuJwHfADInuryUI44TouUZHwFGA7eQ459SR9z9BXf/GaGh/FCe1TLVic52r8h0nVkE/Cut/6CfJlQ49gG68hNf/O9ARGKi6ufpwG+iNurLwIVR1wMIn+EPE5Kkee6+poDN5mzHzewY4FBgerSvi2j9Va2j9q1bufsqYBehLXuki5t5wt2Pd/cT3f1XBayf7/9bdmzN7j7D3b9F6HqSr60tRqbLX7vtdIFtvpQZJchVzN3fBj4HfMnMehJO5HuXtZ4N3Be4BvhhrudHP0tNAX4dLZoBXBJr9C8FMj/RXQtcatGZwtHzLzGz/QoMt73nXwxMcvcGd28gJLBdTZCvAyZbbHQOwsmKGT8EfhD9w8PCKBWTgf+Jb8TddxH6/000syMK2XFUbTgttug4womJudxNSGjb617RnieBzxP66BFdX06ocnSq6h/9Q/4GXfgyIFIjLgBudPeDonZqFLCEcIJcpivbm8D36fwX3ux2/GLCSYAN0eUAYISZHUTH7VspfBP4qrs3l3g/beQ4LruZ2VgzOzS2qL22thi3ApcQvhzt0dWjk22+lBl1sahy7v68mc0FLnL3m8zsfOAXZnYdoYvATYTkNONCC0OC9SM08B9y90zlcCrhp7S5ZuaEvrlfi/az2swuAn4c9YdrAR4H7ikwznzPfw44kFABzay7xMw2mtlJ7j6znc1eYWaXxO5/wN2XmtmFhCR4BLCGUAW/Otr2tGj536PXuAm4xN1X5oh5m5n9hPCz2SeyHo53fwH4C/Bd4Ctm9r/ANmALeX5qc/e3zOxpwigeS9p5jT8ys6/H7k+Ifkl4kpAQZxLk54CRwG+ynr/HMYquMz979iMco8+5e1crRCLV7mJC8ht3N+HE6Cei+7cSRrS4N2u9U7Paiv/M7pYQb8ejy9lZ27iX0Mb/oL32LZKzXSzgNeYUPyEwh3ztUyE6e1xuij00gPB/bgjQRPhFrZCTzeMeM7NM0j/P3T+WvYK7v2RmW4HZ0UmG2YwC23wpP9bJYpKIiIiISFVTFwsRERERkRglyCIiIiIiMUqQRURERERilCCLiIiIiMQoQRYRERERiVGCLCIiIiISowRZRERERCRGCbKIiIiISIwSZBERERGRGCXIIiIiIiIxSpBFRERERGLq0w4g27Bhw7yhoSHtMEREumz27Nnr3H142nF0ltpfEalk3dn2ll2C3NDQwKxZs9IOQ0Sky8zs9bRj6Aq1vyJSybqz7S27BFlERLqHmS0FNgHNQJO7j083IhGRyqAEWUSkur3X3delHYSISCXRSXoiIiIiIjFKkEVEqpcDD5nZbDObkmsFM5tiZrPMbNbatWsTDk9EpDwpQRYRqV6nuPsJwNnAZ8zs3dkruPtUdx/v7uOHD6+4gTdEREpCCbKISJVy9xXR9RrgXmBCuhGJiFQGJcgiIlXIzPqb2cDMbeAs4MV0oxIRqQwaxUJEpDrtC9xrZhDa+lvc/S/phiQiUhmUIIuIVCF3Xwwcm3YcIiKVSF0sREREKkFTExx3HNx3X9qRiFQ9VZBzWTQ19/IxOUdJEhERKb1t22DuXHjxRTj33LSjEalqqiCLiIhUgpaWcN3UlG4cIjVACbKIiEglaG5uey0iJaMEWUREpBJkKshKkEVKTgmyiIhIJVCCLJIYJcgiIiKVQF0sRBKjBFlERKQSqIIskhglyCIiIpUgkxhrFAuRklOCLCIiUglUQRZJjBJkERGRSqA+yCKJUYIsIiJSCVRBFkmMEmQREZFKoAqySGKUIIuIiFQCVZBFElNUgmxm15vZGjN7Mc/jZmbXmNkiM5tnZicUsz8REZGapVEsRBJTbAX5BmBSO4+fDRwaXaYAvyxyfyIiIrVJFWSRxBSVILv748D6dlY5H7jRg6eBIWa2fzH7FBERqUlKkEUSU+o+yCOA5bH7jdEyERER6QydpCeSmFInyJZjme+xktkUM5tlZrPWrl1b4pBEREQqkCrIIokpdYLcCIyK3R8JrMheyd2nuvt4dx8/fPjwEockIiJSgXSSnkhiSp0gTwM+Fo1mMRF4291XlnifIiIi1UcVZJHE1BfzZDO7FTgNGGZmjcC3gJ4A7v4r4H7gHGARsBX4eDH7ExERqVnqgyySmKISZHe/uIPHHfhMMfsQERERVEEWSZBm0hMREakEqiCLJEYJsoiISCVQBVkkMUqQRUREKoFGsRBJjBJkERGRSqAKskhilCCLiIhUAiXIIolRgiwiIlIJdJKeSGKUIIuIiFQCVZBFEqMEWUREpBKogiySGCXIIiIilSBTQdYoFiIlpwRZRESkEqiCLJIYJcgiIiKVQH2QRRKjBFlERKQSqIIskpj6tAOoaoum5l4+ZkqycYiISOVTBVkkMaogi4iIVAJNNS2SGCXIIiIilUAVZJHEKEEWEaliZlZnZs+b2X1pxyJFUoIskhglyCIi1e1yYEHaQUg30El6IolRgiwiUqXMbCTwD8Bv0o5FuoEqyCKJUYIsIlK9fg58BWjJt4KZTTGzWWY2a+3atclFJp2nCrJIYpQgi4hUITM7F1jj7rPbW8/dp7r7eHcfP3z48ISiky7RVNMiiVGCLCJSnU4BzjOzpcBtwOlm9od0Q5KiqIIskhglyCIiVcjdv+buI929AbgIeNTdL0k5LClGpoLsHi4iUjJKkEVERCpBvHKsKrJISWmqaRGRKufuM4AZKYchxWqJnWvZ3Az1+hcuUiqqIIuIiFQCVZBFEqMEWUREpBLEK8gayUKkpJQgi4iIVILsLhYiUjJKkEVERCqBuliIJEYJsoiISCVQBVkkMUqQRUREKoEqyCKJUYIsIiJSCXSSnkhilCCLiIhUAlWQRRKjBFlERKQSqA+ySGKUIIuIiFQCVZBFElNUgmxmk8xsoZktMrMrczx+oJk9ZmbPm9k8MzunmP2JiIjULFWQRRLT5QTZzOqA64CzgXHAxWY2Lmu1rwN3uPvxwEXA/3R1fyIiIjVNFWSRxBRTQZ4ALHL3xe6+E7gNOD9rHQcGRbcHAyuK2J+IiEjt0igWIokpJkEeASyP3W+MlsV9G7jEzBqB+4HP5tqQmU0xs1lmNmvt2rVFhCQiIlKl1MVCJDHFJMiWY5ln3b8YuMHdRwLnADeZ2R77dPep7j7e3ccPHz68iJBERESqlLpYiCSmmAS5ERgVuz+SPbtQfAK4A8DdnwL6AMOK2KeIiEhtUgVZJDHFJMjPAoea2Wgz60U4CW9a1jrLgDMAzOwIQoKsPhQiIiKdpQqySGK6nCC7exNwGfAgsIAwWsV8M7vazM6LVvsi8CkzmwvcCkx29+xuGCIiItIRVZBFElNfzJPd/X7CyXfxZd+M3X4JOKWYfYiIiAhtk2KNYiFSUppJT0REpBKogiySGCXIIiIilUB9kEUSowRZRESkEqiCLJIYJcgiIiKVoLkZevRovS0iJaMEWUREpBK0tECvXuG2TtITKSklyCIiIpWgpQV69gy3VUEWKSklyCIiIpWguVkJskhClCCLiIhUgngXCyXIIiWlBFlERKQSNDcrQRZJiBJkERGRSqAKskhilCCLiIhUgngfZI1iIVJSSpBFREQqgSrIIolRgiwiIlIJ1AdZJDFKkEVERCqBKsgiiVGCLCIiUgk0DrJIYpQgi4iIVAJVkEUSowRZRESkEsSnmtYoFiIlpQRZRESkEqiLhUhilCCLiIhUAnWxEEmMEmQRkSplZn3M7Bkzm2tm883sO2nHJEVoboa6OujRQwmySInVpx2AiIiUzA7gdHffbGY9gb+Z2QPu/nTagUkXtLSE5LiuTgmySIkpQRYRqVLu7sDm6G7P6OLpRSRFyVSQlSCLlJy6WIiIVDEzqzOzOcAaYLq7z8x6fIqZzTKzWWvXrk0nSClMvIKsUSxESkoJsohIFXP3Znc/DhgJTDCzo7Ien+ru4919/PDhw9MJUgqTqSDX16uCLFJiSpBFRGqAu78FzAAmpRyKdJX6IIskRgmyiEiVMrPhZjYkut0XOBN4Od2opMvUB1kkMTpJT0Skeu0P/N7M6ggFkTvc/b6UY5KuUgVZJDFKkEVEqpS7zwOOTzsO6SYtLa0VZJ2kJ1JS6mIhIiJSCZqbVUEWSYgSZBERkUqQ6WKhUSxESk4JsoiISCXQSXoiiVGCLCIiUgl0kp5IYpQgi4iIVAJVkEUSU1SCbGaTzGyhmS0ysyvzrPNhM3vJzOab2S3F7E9ERKRmaappkcR0eZi3aFzN64D3AY3As2Y2zd1fiq1zKPA14BR332Bm+xQbsIiISM1xbzvMmyrIIiVVTAV5ArDI3Re7+07gNuD8rHU+BVzn7hsA3H1NEfsTERGpTe7hWqNYiCSimAR5BLA8dr8xWhZ3GHCYmT1pZk+b2aRcGzKzKWY2y8xmrV27toiQREREqlAmIVYFWSQRxSTIlmOZZ92vBw4FTgMuBn5jZkP2eJL7VHcf7+7jhw8fXkRIIiIiVailJVxrFAuRRBSTIDcCo2L3RwIrcqzzJ3ff5e5LgIWEhFlEREQKpQRZJFHFJMjPAoea2Wgz6wVcBEzLWuePwHsBzGwYocvF4iL2KSIiUnuyu1hoFAuRkupyguzuTcBlwIPAAuAOd59vZleb2XnRag8Cb5rZS8BjwJfd/c1igxYREakp8QqyTtITKbkuD/MG4O73A/dnLftm7LYDX4guIiIi0hU6SU8kUZpJT0REpNypD7JIopQgi4iIlDtVkEUSpQRZRESk3GVXkHWSnkhJKUEWEREpd6ogiyRKCbKIiEi50ygWIolSgiwiIlLuVEEWSZQSZBERkXKnUSxEEqUEWUREpNwpQRZJVFEThUgCFk3NvXzMlGTjEBGR9GiqaZFEqYIsIiJS7nSSnkiilCCLiIiUO52kJ5IoJcgiIiLlTn2QRRKlBFlERKTcqYIskiglyCIiIuVOFWSRRClBFhERKXcaxUIkUUqQRUREyp1GsRBJlBJkERGRcqc+yCKJUoIsIiJS7rL7IMeXiUi3U4IsIiJS7nIlyKoii5SMEmQREZFyl93FAnSinkgJKUEWEREpd9kn6YEqyCIlpARZRESk3OWqICtBFikZJcgiIiLlTn2QRRKlBFlERKTcqYIskiglyCIiVcjMRpnZY2a2wMzmm9nlacckRVAFWSRR9WkHICIiJdEEfNHdnzOzgcBsM5vu7i+lHZh0gUaxEEmUKsgiIlXI3Ve6+3PR7U3AAmBEulFJl2kUC5FEKUEWEalyZtYAHA/MzPHYFDObZWaz1q5dm3RoUqhMMqwuFiKJUIIsIlLFzGwAcDfweXffmP24u0919/HuPn748OHJByiFyVSQdZKeSCKUIIuIVCkz60lIjm9293vSjkeKoJP0RBKlBFlEpAqZmQG/BRa4+0/TjkeKpGHeRBKlBFlEpDqdAnwUON3M5kSXc9IOSroo10l6GsVCpGQ0zJuISBVy978BlnYc0k1UQRZJVFEVZDObZGYLzWyRmV3ZznoXmJmb2fhi9iciIlKT1AdZJFFdTpDNrA64DjgbGAdcbGbjcqw3EPgcOYYXEhERkQKogiySqGIqyBOARe6+2N13ArcB5+dY7/8BPwS2F7EvERGR2qUKskiiikmQRwDLY/cbyZqlycyOB0a5+33tbajsBqp/48+wcnraUYiIiASaalokUcUkyLlO/vDdD5r1AH4GfLGjDZXVQPXL7oY3pkHjH2Hn2+nGIiIiAppqWiRhxSTIjcCo2P2RwIrY/YHAUcAMM1sKTASmlfWJeltXwDNToM/+4M2w5q9pRyQiIqKppkUSVkyC/CxwqJmNNrNewEXAtMyD7v62uw9z9wZ3bwCeBs5z91lFRVxKz3wKmrfDof8OQ44JCXLLzrSjEhGRWqeppkUS1eUE2d2bgMuAB4EFwB3uPt/Mrjaz87orwMTs2ggr7ofDr4C++8J+Z0LTZlinwTdERCRlOklPJFFFTRTi7vcD92ct+2aedU8rZl8lt/75cD38FNi6HAYeCv1GwepHYZ9T041NRERqm4Z5E0mUpprOWD87XO91Qrg2g6EnwbYVOllPRETSpammRRKlBDlj/WzoOyJ0r8gYcHC43vxaOjGJiIiAKsgiCVOCnLHhOdj7xLbL+h8IVg+bF6cTk4iICKgPskjClCAD7NoEGxfumSD36BmSZCXIIiKSJg3zJpIoJcgAG+YAvmeCDDDgENjyOrTsSjwsERERIFSQe0T/spUgi5ScEmRoPUFv7xP2fGzAweBNYWSLzti2GpbfC7s2Fx+fiIjUtubm1sRYCbJIySlBhugEvf3DJdvuE/U60c3CHWZ+Elb+BRb/Dryle+IUEZHaFK8gaxQLkZJTggzhBL29cnSvAOg1BHoN7VyCvORGWHEfDBwLb78Iq6Z3T5wiIlKbmpvVxUIkQUqQm7bAxpdz9z/OGHAwbCpwqLetb8Dsy2H4qXD458O4ysv/GPoxi4iIdEUxuSB2AAAgAElEQVRLi7pYiCRICfLGV0IXiCFH519nwMGw6y3YUkA/5IX/Dc1bYeL1YD1g9EfB6mDd090Xs4iI1BadpCeSKCXImUlABh6Sf53MY+v+3v623MOJefueDgPHhGX1/cLtjQuLj1VERGqTTtITSZQS5Ezf4v6j86/Td2QYE3ndU+1va+MC2LwIRn6g7fJBh8O2N2DXxuJiFRGR2qST9EQSpQR582LoPRR6Dc6/To+6kECv7aCC3PjHcD3ivLbLB40N16oii4hIV6iCLJIoJcibF0P/gzteb8DBsOF5aNqWf53lf4ShE6DfAW2X9z8Q6vqGkwFFREQ6S32QRRJVn3YAqdu8GIa+o+P1MhOGrJ8F+5y65+Nb34D1z8Kx/7XnY1YHAw9LN0FeNDX38jFTko1DREQ6TxVkkUTVdgW5pSkMvzagkApy5kS9PP2Q35gWrrP7H2cMOhx2rAsXERGRzohXkDPXSpBFSqa2E+StjaEqXEiC3HMADDw0/0gWy+4OVeJBh+d+PLNc/ZBFRKSz4hOFQKgiK0EWKZnaTpAzQ7wVkiADDDs5VJDd2y7ftgrWPAYHXQhmuZ/bd3+oHxjGXRYREemM+EQhEEay0CgWIiVT4wlyNMRbwQnyO2H7mj2nnV52V5hs5KCL8j/XDAY0aEY9ERHpPFWQRRKlBNnqwzjHhdj3tHC9/J62y5fdFmbiGzyu/ef3b4Dtq2DXps5GKiIitSy7gqwEWaSklCD3bwjjHBdi0FjY973wyi/CCX4AW5bB2ifbrx5n9G8AHNbP7mLAIiJSk+In6YESZJESU4Lc3hTTuYz9PGxdDsvvDveX3RGuD7yw4+f2bwjXbz7buX2KiEhtiw/zBkqQRUqstsdBLnQM5LgR58KAMfDyz6D/QfDyz2Hv8YUl2j0HQK+hYbxkERGRQqmCLJKo2q0g73wLdq4v/AS9DOsBYy+HN2fC9FOgRz28438Kf/6ABlWQRUSkc7IryBrFQqSkajdB7uwIFnEHTw7jGjdcAmfP7VwVuv9BsGUpbNeEISIiUiBVkEUSVbtdLIpJkHsOgHMXdG2/mX7I62fBAZO6tg0REakt6oMskihVkLuSIBej/0GAqZuFiIgULruCrC4WIiVV2wly72HQc1Cy+63rE7pnvPlMsvsVEZHKlT1RSN++sG1bevGIVLnaTpCTrh5nDJsI6/4eZt8TESkRM7vezNaY2YtpxyJFyp4oZMAA2Lw5vXhEqpwS5DTs854wgsbb89PZv4jUihsAnexQDbIryAMHKkEWKaHaTJBbmmDL6+kmyACrZ6SzfxGpCe7+OLA+7TikG6iCLJKo2kyQty4Hb0ovQR7QEE7WW/PXdPYvIiKVJfskvQEDYNOm9OIRqXK1mSCnNYJF3D7vgTWPg3t6MYhIzTOzKWY2y8xmrV27Nu1wJJ/sYd5UQRYpqaISZDObZGYLzWyRmV2Z4/EvmNlLZjbPzB4xs4OK2V+3KZcEecda2NjF8ZRFRLqBu0919/HuPn748OFphyP55KogK0EWKZkuJ8hmVgdcB5wNjAMuNrNxWas9D4x392OAu4AfdnV/3WrzYujRE/qOTC+GfU8L1+qHLCIiHclVQd6+XWMhi5RIMRXkCcAid1/s7juB24Dz4yu4+2PuvjW6+zSQYkYas3lxmNGuR12Hq5ZM/9HQb2TH/ZB3bYZtqzQknIh0mpndCjwFjDWzRjP7RNoxSRflqiADbNmSTjwiVa6YqaZHAMtj9xuBk9pZ/xPAA0Xsr/ukOcRbhlnoZrHyIWjZFSra2TbMhXnfhOYtUNcPhp0EB14Ynisi0gF3vzjtGKSbZFeQBw4M15s3w+DB6cQkUsWKqSDnytJynnFmZpcA44Ef5Xk82ZNEyiFBBjjo4tAPeenNez62YR48egbU9YKGf4FBY2H1Y/DW3OTjFBGRdOWrIGskC5GSKCZBbgRGxe6PBFZkr2RmZwJXAee5+45cG0r0JJGdb4VJOsohQT7gHNjrOJj/X9DS3Lp88xJ49Ezo0QcO/2KoNI/5FPTdH5bdGSrOIiJSO7InCskkyDpRT6QkikmQnwUONbPRZtYLuAiYFl/BzI4H/peQHK8pYl/dpxxGsMgwgyO/DptehWV3hGU734a/nhuS4NMfhj7RFwargwM/DDvWwapH0otZRESSl2uiEFCCLFIiXe6D7O5NZnYZ8CBQB1zv7vPN7GpglrtPI3SpGADcaaHf7DJ3P68b4u66ckqQAUZ9EAaPgxe+DdtXQ+OfYOMr8N4HYfDhsPbx1nUHj4Mhx8CK+0MlvNeQ1MIWEZEEqYIskqhiTtLD3e8H7s9a9s3Y7TOL2X5JlFuCbD3g6O/A3/4ZnrsinKw34Vew3+m51z/gH+CtefD67XDop5ONVURE0qEKskiiam8mvU2vQJ99oOegtCNpdeAFcMGGcPnnjXBIOyMx9T8I+h4AS36fXHwiIpKu7JP04qNYSGlt2wYjR8K0aR2vK1WjqApyRdq4EAaOTTuKPRXaXcIMhk2E5feErhiDDittXHGLpuZePmZKcjGIiNSiXBOFgEaxSMKKFfDGG/DCC3Beur1EJTm1V0HeuDAMmVbJhk4MXTOW3Jh2JCIikoTsCnL//uFaFeTSyww/+/bb6cYhiaqtBHnH+jDucKUnyL0Gw35nwZKbNMOeiEgtyK4g19dDnz5KkJOwbl24fuutdOOQRNVWgrxxYbguxy4WnTX6Uti6DFbPSDsSEREphXXr4Prrw+3sCjKEbhZKkEsvkyCrglxTaitB3hQlyJVeQQYYeT70HAyLb0g7EhERKYVbb4VPfAIaG/esIIMS5KRkulioglxTaitB3rgQrB4GjE47kuLV94WDLoTld8MunaQhIlJ1MpXL9etVQU6TKsg1qfYS5IFjwljD1WD0pdC8NSTJIiJSXTZsCNfr1+85UQiEod40ikXpqQ9yTaqtBHlTFYxgETfsnTDwUFisMZFFRKrO+vWt19kThYAqyEnRKBY1qXYS5JZm2LSoOk7QyzCD0R+DNTNg89K0oxERke6USZA3bMhdQVaCnAxVkGtS7STIW5ZCy87qqiADjP4oYLDwmrQjERGR7hTvYqEKcnoyFeTt22HHjnRjkcTUToK8sYpGsIjrfxAc8q/w6rWw8dX86+3cAG/OgsZpsHVFcvGJiEjXZHexUAU5HevWhXGnQd0sakjtJMibqmgM5GzH/Cf06APPf2nPx5p3wOwrYM6V8NqvYcWfYf53YcVfwJuTj1VERAqT3cVCFeTk7doVulaMjka/UoJcM2onQd64EHrtDX2GpR1J9+u7Hxx1FbwxLVSIMzbMg4dOhoU/h33eA+O+Bsf9AIYcA433wpI/pBeziIjk597axeLNN8N1rgrytm3Q1JRsbLUkc+zHjAnX6odcM+rTDiAxG+bC4CPTjqJ0xn4eFv8OHj8f9n8/1A8Iw7/12gve/UfYvrp13TFToPFPsPIBWHY3HPih9OIWEZE9bdoUqsbQepJYdgV54MBwvWULDB6cXGy1JHPsMwmyKsg1ozYqyM07YcPzMHRC2pGUTl1vOGsmHPu98FpXTYejvgH/uCjMuhdnBiP+MfRffvbTsG1lOjGLiEhume4V0Jqk5aogg7pZlFLm2B9ySLhWBblm1EaC/NY8aNkBw05KO5LS6jUYjrwSPtAI/7QGjrkaeu+de90edXDwv0LTVnjm08nGKSIi7cskyIMGtY6ioAQ5eZljrwpyzamNBPnNZ8J1NVeQ43r0DBXljvTdLyTRb/wfvHFf6eMSEZHCZPofjxnT2g8210l6oAS5lLK7WKiCXDNqJ0Husw/0OzDtSMrP2Mth0BEw+3Jo3p52NCIiAq0V5EMOaT0JTxXk5GUS5IaGcPxVQa4ZNZIgz4ShJ4W+t9JWj54w/hrYvBgW/DjtaEREBNomyBn5KsibNiUTUy1auzacANm7d+juogpyzaj+BHnn27Dx5drpXtEV+50Joy6AF/8zjPYhIiLpypUgZ1eQM6NYqIJcOuvWwbBoeNjBg1VBriHVP8zb+mfD9dAqP0GvWO+4DtY9CX/7MEyaBT0Hph2RiFSKqVPTjqA6uIdrM5gxA3r2hLmxosXTT0Pfvq33M/2U778fNm5MLMyaMmdOmMVw6tQw7N7cufp7T8KUKWlHUAMJ8u4T9N6Rbhzlrs8+cPKt8Ojp8My/wck3geX4gaFlJ2x6DZo2Q5/9wol+nbUoT+MyJv0PhIhIan71q5AAT54cxjbu3z9cMrK7CfaOTsbervNHSmbzZhgyJNzu2zdMzCI1ofoT5HUzYdBY6DUk7UjK377vgaO/A/O+AVtfhwm/gcGHh6HgGv8EC38Ruqt4bNamHn0Ag0P/LXdCLSIihXn11daEeMsW6NevbYKc3cUikyDv2JFMfLVo82YYOTLc7tevdUQRqXrVnSC37IK1fwuTYkhhjrwqjPbx3BXw53Fgda0Jca+9w5TVg48IM/RtWxWO76zPwOu3wbtuh777pxu/iEgl2rw5JMVbt8KuXeG6owpyXR3U1ytBLhX38L5kToZUBbmmVHeCvOoR2LkeRv1T2pFUDjM4+GNhuupFvwpdKnr0gX3eBRsXtq0S9xsJe58YxlyedRlMfxec/jAMGJ1e/CIilWjVqnDtHkZO2LoVhg5t2+c4u4IMoYqsLhalsWNH+LKSORlSCXJNqe4E+fXboOfgkOxJ5/TdF47+Vttlm17dcz0zOHhyGEt5xtlRkjwdBo9LJEwRkaqQSZAzt7dsgQMPDFXiPn1CEpxrqNI+fVRBLpXM6CDZFeSWltxfVqSqVO873LwdGu8N1eNCZpWT4gw7Cc58HHB4+N3w5qy0IxIRqRyrVrWOc5xJkDPdKzLXuRLk3r2VIJdKdoLcr1+o8Ot414TqTZBXPAC7NsJBF6cdSe0YchSc+QTUD4JHTocVf0k7IhGR8vT22/DVr8Irr4T7q1fDvvuGERPeeAN27gwJGbRe5+tioYStNFauDNeZcZAz3V3UzaImVG+C/Ppt0Hs47PvetCOpLQMPgfc9Af0PCl0uZn4qTNZSCoum7nkREakEL7wQZmWbFf3atmoV7LdfuCxeHJYVUkHO7mKxciV873ua8a07vPRSmD1v/+jkcyXINaU6+yBvWwVv/B8c/HHoUZ0vsaz1GwHvfwZe+Da8/GNYejPsewbscyrU9YG1T4ah45q3RE/oAb2HweCjYO8TwjoiItWkpSVUhftE7dtLL4XrBQugqSnM2HbiieHkvJdfDo9lKseZBDlfBTkz6x7A3/8OS5eGxPvMM0vyUmpCS0t4b8aNaz3uSpCT4577C2GCqjN7nH05eAuM/VzakdSu+r5w/A/goAth8Q3wxn2w4r6269T1BQx8VxiSb9ntUD8ARpwHB304nFypZFlEqsG0afDEE/Dd70KvXiEJ7tkT1qwJt1taQvV469bW5xRSQR4zJsz2tmpV6KIxZ05Y/vzzIUF2hxtvhCOOgAkTSvsaq0ljI2zaFBLkjMwXlq1bYebM0E/89NPTia+arV4Nxx8P118PJ5yQWhjVlyA3ToNld8Cx3w0ThEi69j4hXE78b2jaBC1NIWGu7xvGWIbQgO96CwYdDm/8GRrvgddvgZ6DYMT5IVne7yyo65XqSxERKdisWSFhHTUqVI7/+teQWD39NDQ0hOTq7LPhgQfgscfCc7IT5EL6IE+YAHffHRK2d7wjJNzDhsFrr4Xpp1esCFXlBQtChbquLvR/XrMGDj20pIegomUq/Ecc0bosU0HesAHuvTd0bTnuONh77+Tjq2YPPxz+XkeMSDWMohJkM5sE/DdQB/zG3b+f9Xhv4EbgROBN4EJ3X1rMPtu1bSU8+x8w5Gg44ssl2410gVlIeAF6DtjzsV57wcjzw+Ud18GqR8MXneX3wNKboH5gSKAHjIYevcPkJW/Ph+Zt4dK0LVSiX/pRmDVx4BgYOBb2OjaM1dxvVOd+rtF02FIFOmqjpZts3hwS4NNOC9XexYvh17+GvfaC73wHnn02JL4DB8KMGa2V3NNPh6eegvnzw/199237832mcpxJkHO1YYMHhyRu5swwaQjAxRfDL34B8+aFSnJdXUjqZs8OSfK118Ly5XDllSFZ37kzJNHjx7eO2FDrXnopzKA3eHDrskyC/Mgj4X0yg0cfhQsuSCfGarRpU/hMXHpp+DykqMsJspnVAdcB7wMagWfNbJq7vxRb7RPABncfY2YXAT8ALiwm4LxW/AWe+hg0bYZ33ws9epZkN5KAHj3hgPeHyzt+CaseDt0zNi2CDXNCdwyrg5btUNcPekWD6feoD4nwjjfDFOOv3w542GbvobDXCTD4SOh/IPTZD+r7Rcl2c3RpCtctTbDu6RBHff+wj/r+4dKZflFKsiVFBbbRkq25OVRYM1XBpiZ4/PHQleHAA8PEETfdFCqw//7vIYn95S9h0aIwIsVll8Ett4TlGzbA/feHBHjEiNDl4fe/D0nVyJHhBLAjjggJwZAhoR3r3Tt0wdi5c88uFvnG3j3pJPjd70LlbfRoOPLIMMnII4+ECvK554Ykffr0UFVetizs4w9/gK99LcQ0a1ZY5/OfD/u+/vqQ0H/kI6EryOrV4fW9852tifiWLVHbW2Xn++/YEd7PM85ouzyTIK9eDYcdFt6zxx+Hc86BuXPhL3+Bf/kXGKtfr7tsxozwGfviF9OOpKgK8gRgkbsvBjCz24DzgXjjez7w7ej2XcC1Zmbu7kXsd0+v/E+Y7njwUfCuGZqkoprU9YIR54RLtlwJaDz5bNoGb82DDc/B+tnhsmgqNG/d83mFev5LYcrt3kND1dvqAQ+JM0QJ9s6QxO9YE/rC9+jV9rLmb9B77/D8XvHrwdE6PcF6huvMJdMdBQsXs9bb0Ho/3/LdjxWwjTaPUfgXgu7gTuvxLOT27ifmuQ2tr6lH63X8dub1uof3rXlrONF3W2N4X/ZOrw9ckQppo7vH2rXhJ9EdO0JyMHJkWL5rV0ie6upak6jm5pBYubdWKzdsCFXYIUNC0vjWW6FPbd++YQSBpqZw4tn27SFJHTwYliwJ/UQPOAAOPjiM3vDSSyHBPPro8J7OmhVOfjv66JA4zpoV+ug2NMApp4RtTp8eYjnrrLDdO+8MSeUxx4QK7z33hISyrg7OPz+8zgULQtL4wx+GbS1aBBMnhu4T3/9+iGvKlDBSxYMPhu1/5COhC8Rdd4Uq2cSJ4bWPGxcS5Ey1rEePcLuxsfWEvvYqyBB+5u/VK1Spjz8+rHfccSFB7tkzVLYHD4abbw5DyB11VHj9//u/4TUsXRrWnzMnJNorV4YksLkZ3nwz9AO9556QOD/+eKiYPvlkqFofcEC4v2NHSNCbmsJxO+SQkHAvXhwS9hNPDPuePz+8z8ceGxLtV14JcY8ZE7qYZPY9fHj4UrFjR7jfsyfss094nZs2heWDBoVj5B72axbep8xxamkJld6mpvAlw6x1+0OHhtgXLw6V9fr68P7svXd4jc3NbfsfQ4ihvj5s76yzwut45plQkX/ttfDYNdfARz8aYnz88bCfSZPC63n55fC3f9hh4TOyfn247LVX6BbT0hI+Bz16hM9GXV2Io7k57Ls72uKWlta/s8z95uYQe6YdbGra8zPr3nps3cOy+LHOtMcdxbhzZ3iNvXqFv+s1a8LnZOfO0HbMmBE+e4cfXvxrLVIxCfIIYHnsfiNwUr513L3JzN4GhgLritjvnvZ/P4y9HI79XujbKgLhb2HYSeGS4Q47N8D2VVH3jB0h+exRH5JdqwvXy+8MleSmLeHSvDX8OjHwsFCh3rk+XLyZ1qTLgF5h9sZMUmsWkq6WndCyA3ZtgrWPhxh2bUzryHRRVuKcnWTnSsALTnS79ztzt2n4KJx8Y9pRdFUhbXTx3vGO1qHKMjL/2OMyiXJTU9svNz16tP7ThtjfTRHuvLP1dp8+IZnL2H//kDhOnx7ujxwZ9nnDDeH+0KHwvveF5GbevPBP/OMfD10V7rknxDt5ctjONdeE1z5pEnzwgyGpefjhUBU+4YTQx3fu3PD6JkwISc6pp4ZKYyb5yiQC++3XGuN++4XEKZOgZL5IZCYSydanT0hwn3kmXENrgvzOd4ZK8MSJ4UTB7dtDF4yhQ0MiMm9eSJY/+tFQ7Z42LWzvc58LlfQbbghJ7NixYRt33QU//WlIqN7znpDwXnNN2OewYSHx+d3vWmPbe++QAN12W+traG5u+x7lk+tvIXtZJmGNy/ytNTcX9rfVu3dY99FHW5cdeGBI2rP16xfej6OOCts74ojW/t0XXhi+dGRe/5gx4UvBz37W8WvN/hxkvzaz8PcDbV/D7uJMjuOUaZMzt5uaWj+XmV8B4tvP7C+zrfr61mQ4E2NdXfjiG39OJsmO76tHj7b7z8SYeW5meTyxnjYt3H7f+9o/VgmxrhZzzeyfgfe7+yej+x8FJrj7Z2PrzI/WaYzuvxat82bWtqYAmdLfWGBhl4LqPsPo7iS+eIqpMIqpMOUWU7nFA8XFdJC7D+/OYDqrkDY6Wt4d7W85vn+FUNzJq9TYFXeyuhp3t7W9xVSQG4FRsfsjgRV51mk0s3pgMLA+ax3cfSpQNrM8mNksdx+fdhxxiqkwiqkw5RZTucUD5RlTJxXSRndL+1upx0pxJ69SY1fcySqHuIvpWf8scKiZjTazXsBFwLSsdaYBl0a3LwAe7fb+xyIikkshbbSIiOTQ5Qpy1Kf4MuBBwhBC17v7fDO7Gpjl7tOA3wI3mdkiQuX4ou4IWkRE2pevjU45LBGRilDUOMjufj9wf9ayb8Zubwf+uZh9pKRsunvEKKbCKKbClFtM5RYPlGdMnZKrjS6RSj1Wijt5lRq74k5W6nF3+SQ9EREREZFqVGWje4uIiIiIFEcJchYzm2RmC81skZldWQbxjDKzx8xsgZnNN7PL044JwixdZva8md2XdiwAZjbEzO4ys5ejY/XOMojpiug9e9HMbjWzPinEcL2ZrTGzF2PL9jaz6Wb2anS9VxnE9KPovZtnZvea2ZC0Y4o99iUzczMblmRM5aij9tHMepvZ7dHjM82sIfko91RA3JPNbK2ZzYkun0wjzmzt/V1Gj5uZXRO9rnlmVhaz2hQQ92lm9nbseH8z13pJK+T/bTke8wLjLrtjbmZ9zOwZM5sbxf2dHOuk16a4uy7RhXAiy2vAwUAvYC4wLuWY9gdOiG4PBF5JO6Yoli8AtwD3pR1LFM/vgU9Gt3sBQ1KOZwSwBOgb3b8DmJxCHO8GTgBejC37IXBldPtK4AdlENNZQH10+wflEFO0fBThJLfXgWFp/k2lfSmkfQT+A/hVdPsi4PYKiXsycG3aseaIPeffZezxc4AHCLPzTARmph1zgXGfVi7/O7Li6vD/bTke8wLjLrtjHh3DAdHtnsBMYGLWOqm1Kaogt7V7alZ33wlkpmZNjbuvdPfnotubgAWE5Cs1ZjYS+AfgN2nGkWFmgwgN8m8B3H2nu7+VblRAOAm2r4UxwPuRYwzaUnP3x9lz7PHzCV8oiK4/kHZM7v6Qu2emw3qaMGZvqjFFfgZ8hbKd6i9RhbSP8b+tu4AzzJKcqzynsmvXC9XO32XG+cCNHjwNDDGz/ZOJLr8C4i5LBf6/LbtjXo55QiGiY7g5utszumS3tam1KUqQ28o1NWvZ/JFFPy0cT/iWlaafE5KGlo5WTMjBwFrgd1G3j9+YWf80A3L3N4AfA8uAlcDb7v5QmjHF7OvuKyE0rMA+KceT7V8JFZpUmdl5wBvuPjftWMpEIe3j7nWiLzxvA0MTiS6/Qtv1D0U/md9lZqNyPF6Oyvp/VgfeGf20/oCZHZl2MNna+X9b1se8gzyh7I65he6ac4A1wHR3z3u8k25TlCC3letbSVlUjsxsAHA38Hl335hiHOcCa9x9dlox5FBP+Dnvl+5+PLCF0HUgNVG/3vOB0cABQH8zuyTNmCqBmV0FNAE3pxxHP+AqIPV+emWkkPaxHNvQQmL6P6DB3Y8BHqa1YlXuyvF4F+I5wpTAxwK/AP6YcjxtdPD/tmyPeQdxl+Uxd/dmdz+O8KvhBDM7KmuV1I63EuS2CpqaNWlm1pPwR3+zu9+TcjinAOeZ2VLCT5Wnm9kf0g2JRqAx9s3zLkLCnKYzgSXuvtbddwH3ACenHFPG6sxPgtH1mpTjAcDMLgXOBT7iUYezFB1C+HIzN/pbHwk8Z2b7pRpVugppH3evE3UtGkz6P7V3GLe7v+nuO6K7vwZOTCi2YpXl/6yOuPvGzE/rHsbq7lkuJ8EW8P+2LI95R3GX8zEHiLpFzgAmZT2UWpuiBLmtspuaNepr81tggbv/NM1YANz9a+4+0t0bCMfnUXdPtTLq7quA5WY2Nlp0BvBSiiFB6Fox0cz6Re/hGYR+YeUgPgX8pcCfUowFCKMMAF8FznP3rWnH4+4vuPs+7t4Q/a03Ek6CWZVyaGkqpH2M/21dQGgf0v6y02HcWX1Iz6N8PqsdmQZ8LBpZYSKhK9fKtIPqiJntl+lHamYTCLnIm+lGVfD/27I75oXEXY7H3MyGWzRikZn1JRSWXs5aLbU2paiZ9KqNl+fUrKcAHwVeiPrpAPx/0TdAafVZ4OboH+Bi4ONpBuPuM83sLsLPWk3A86QwM5CZ3Uo4e3mYmTUC3wK+D9xhZp8gJPKJznaZJ6avAb2B6VEb/rS7/1uaMbn7b5PafyXI1z6a2dXALHefRvgnfZOZLSJUeS5KL+KgwLg/F/U5byLEPTm1gGPyfFZ6Arj7rwizJJ4DLAK2knK7l1FA3BcA/25mTcA24KIy+CIFef7fAgdCWR/zQuIux2O+P/B7M6sjJOx3uPt95dKmaCY9EREREZEYdbEQEREREYlRgiwiIiIiEqMEWUREREQkRgmyiIiIiEiMEmQRERERkRglyBUsGtfwNjN7zcxeMrP7zeyw2ONXmNl2MxscW3aambmZ/WNs2Ycw71AAAAiPSURBVH1mdlp0u6eZfd/MXjWzF83sGTM7O3psqZm9YGZzoss10fIbzOyCrNgazOzFPHHXm9k6M/tebNm90TYXmdnbsX2cbGYzzGx8tN5gM7sxes2vRbcHx/bpZvbZ2HavNbPJ0e2JZjYz2u4CM/t2jthOi+1/npk9bGb7RI9NNrO1sdjmmNm4aL/bspb3ip7zgWg7L0fH7gOxfd1gZkui9eea2Rmxx2aY2cLY9u7KEetkM2sxs2Niy160MNVou8cqevxIM3vUzF6J3u9vmO0eJ7PdbYtIbuXcLueLwczeH3v+5ljbc2MU232x53bUpr1hZr2j+8MsTLSDmfUws2ui+F8ws2fNbHSe+Iab2S4z+3TW8uzX+p7Y7fWx9vThPO3yx7K2M8/M/mpmB+WJY6mZ3R27f4GZ3VDgsTAz+3r0nr1iZo9ZbHrnjrYtZcDddanAC2H6xaeAf4stOw44NXb/GeAJYHJs2WmEec2fji27Dzgtuv19wjSrvaP7+wIfjm4vBYbliOUG4IKsZQ3Ai3liPwd4EniNaKjBrPjuy1o2Axgf3b4L+Hbsse8Ad8b2uZowPmWvaNm1mdcPLASOjW7XAeNyxNZm/8D3gO9EtycD1+Z4Ts7XChwbxTI6uj86un9M9nED3gu8mus1t/M3MJkwjvHtsWUvEqbM7ehY9Y2O/1nR/X7AA8BnCtm2LrrosueFMm+X24sh9libtifeJhbYpi0D/j26PwxYGt2+OGqTekT3RwJ75YnvP6L4ZmQtz/lac71e2v8ftHs7Ubv463bWex04Mrp/AXBDgcfiMsKYyf2i+2dFbW6fjratS3lcVEGuXO8FdnkYABwAd5/j7k8AmNkhwADg64SGKW4u8LaZvS++0Mz6AZ8CPuvRtKvuvtrd7+jm2C8G/ptotrlCn2RmYwhTwP6/2OKrgfHR6wVYCzxC68w7cfsAK2H3/O/tzrYXVVMHAhsKjTHLl4D/cvcl0T6XEBLuL+dY9ylgRBf2cR9wpLXOIggUdKz+BXjS3R+KYttKaNCv7GjbIpJX2bfLHcTQkULatJ8DV1iYFjhuf2Clu7dEz21093xt68XAF4GRZtaVdrEzOmp7f0yYdCNbR8fiq4T3bGv0+EPA34GPFLBtKQNKkCvXUcDsdh6/GLiV8C18rEXdBGL+k9BAxo0Blrn7xna2+1js56orOhu0hekkzyAkX7fSuQZ6HDDH3ZszC6Lbc4AjY+t9H/iihdl54n4GLLTQnePTZtYnz35OtTAb0TLC1JfXxx67MOsnu77R8kNiy66Llh3Jnu/RrKxYMyYBf8xadnNsmz/KE2sL8EP2bGQ7OlZ7xOburwEDzGxQB9sWkdwqoV3uKIb2FNKmLQP+RpjZLe4O4B+jGH9iZsfn2oGZjQL2c/dnoudcmLVK5rXOLCDeQ7La61NzrJOr7c2O+4So6BCX91hEbWj/qE3d4/ECti1lQAly9boIuC36tn4PWdMJxyoauRqM9rzX3Y+LLj/rQlznAo9F36rvBj6YI5HNx4BcUz+2WR59k3+GUCUltvxqYDzwUPTYX/Ls54no9Y0CfkdIEjNuj73+49x9W7T8tdiyz7QTb/ayH5nZYuAPwH9lrfuR2DZzVZ0zbgEmZvXn6+hY5XucrOW5ti0iXVMO7XK7MXSgkDYNQlv2ZWI5hrs3AmMJ08q3AI9Y7LyLrPgy1fHb2LOIknmtJxUQ72tZ7fUTscceM7M1hCLILe1soxn4URR3XKHHor3H821byoAS5Mo1n/AT+h4snFh1KDA9OkHiInJXar8LXBW7vwg40MwGdm+obVwMnBnFNRsYSvhZshDzgePNbPffbXT7WGBB1rr/RfiJq83fuLu/5u6/JFSxjzWzoR3scxrw7gLjyxXv+KxlJwDxrh1fJlSIvk7oY9hp7t4E/ITweuP7bu9Y7RGbmR0MbPb/v537B40iiOI4/n1pJKWCggnENCadhWAjEREiForRRgj+QRCxCEhACAgRghAt1CZWFgFRLCVqChtJayHEaIxE0C5oK4iFf8fivTNze3e5vZDiAr8PHCSzu7OzG/J2bvbNpPStSd0iUl9bx+UW2tBImZhGSukj/rbqVKH8R0rpeXzhvwGcoNYwcD7a9wyP07tbaGNZh4Bd+DVdb7LvQ/w50JOVNbwXMdr/PWJqzfYSdUsbUAd585oDtpjZxUqBme0zs4N4gJlIKfXGpwvoLs7UjZyorXinqZKHOg1M2eoqDDvN7MxGNDheOw0APZW2ASOUDNARdF9T/QpyHJiPbfm+y3ggOpad/2jkFYM/JP4AX5ucdgCfWLEet4GrtrqqRC+ernCn0Na/eE52h5kdWee57uMjIdujzmb36hEwYGaD0bZOYIrq0fK6dYtIQ+0el0u1YQ2lYlqYxPN0iX33mllX/NwB7MEnqZHt04+nJnRnz4ibeEd+w8UbwFHgnJltW2O/X3iK3mhW3Oxe3ML/Zp2xfRB/nlSNVjeoW9qAOsibVEopASeBw+bLCS0BE8BnPJjMFA6ZoX6QmcRnE1eM4xPd3psv0/Ykfq/Ic90eZOX3zGwlPi+jrD8rWwEuAXOViSbhKXDcYlmgEi4AfebLwX0C+qKsnuK1ncVzkBfwb+2n8xzdzIG4vjdxzJVsWzEHeX+jhqaUFvCR11kzWwZmgbEoL+6b8PzDsaw4z0F+0eg8cfxPvIOb5xM2vFfxYBgCxs3sA7AIvMJX/ShTt4gUbIK43Eob6l1fKzFtCZjPinbEce+At8BvauPNcJ32Pab1yYQVxRzky3Xa+QXPyR6pPbzKNPB/4mGJe3EXj6mLEWOvAUNZWl7DuqU9mP8/i4iIiIgIaARZRERERKSKOsgiIiIiIhl1kEVEREREMuogi4iIiIhk1EEWEREREcmogywiIiIiklEHWUREREQkow6yiIiIiEjmH8x0vGLTgPFDAAAAAElFTkSuQmCC\n",
      "text/plain": [
       "<Figure size 720x576 with 4 Axes>"
      ]
     },
     "metadata": {
      "needs_background": "light"
     },
     "output_type": "display_data"
    },
    {
     "data": {
      "image/png": "iVBORw0KGgoAAAANSUhEUgAAAswAAAI4CAYAAAB+0r8VAAAABHNCSVQICAgIfAhkiAAAAAlwSFlzAAALEgAACxIB0t1+/AAAADh0RVh0U29mdHdhcmUAbWF0cGxvdGxpYiB2ZXJzaW9uMy4xLjEsIGh0dHA6Ly9tYXRwbG90bGliLm9yZy8QZhcZAAAgAElEQVR4nOzdeXxcd33v/9dHs0ia0WbL8u7YsR0nceLESZyd0kCgTYBC+wMuoZclvdCUtlC45dJC+7u05f4ope2F0tJCw1KWUpZSlpQGWpaEhEASHGfxHi9xHMebvEiaTdvM9/fHmWPLsjQaaZYzy/v5eMxjRjNnzvejY83xZ77n+/18zTmHiIiIiIhMrSXoAEREREREapkSZhERERGRApQwi4iIiIgUoIRZRERERKQAJcwiIiIiIgWEgw5gsgULFrhVq1YFHYaISNU89thjJ5xzfUHHAToHi0hzKfb8W3MJ86pVq9i8eXPQYYiIVI2ZPRt0DD6dg0WkmRR7/tWQDBERERGRApQwi4iIiIgUoIRZRERERKQAJcwiIiIiIgUoYRYRERERKUAJs4iIiIhIAUqYRUREREQKUMIsIiIiIlKAEmYRERERkQKUMIuIiIiIFFBzS2OLNJvDh++e1fZLl95VoUhEpKHsnd25BYC1Or+ITEU9zCIiIiIiBShhFhEREREpQAmziIiIiEgBSphFRERERAqYc8JsZm1m9qiZPWlm283sz6bYptXMvmpme83sETNbVUqwIiIiIiLVVkoP8wjwYufclcBG4DYzu2HSNm8BTjvn1gIfBT5cQnsiIiIiIlU354TZeZL5HyP5m5u02auAz+cffx241cxsrm2KiIiIiFRbSWOYzSxkZk8Ax4HvO+cembTJMuA5AOfcODAI9E6xn7vMbLOZbe7v7y8lJBERERGRsiopYXbOZZ1zG4HlwHVmdvmkTabqTZ7cC41z7m7n3Cbn3Ka+vr5SQhIRERERKauyVMlwzg0A9wO3TXrpELACwMzCQDdwqhxtioiIiIhUQylVMvrMrCf/uB14CbBr0mb3AG/OP34N8CPn3Hk9zCIiIiIitSpcwnuXAJ83sxBe4v0159x3zOwDwGbn3D3AZ4AvmtlevJ7lO0qOWERERESkiuacMDvnngKumuL59094PAy8dq5tSGM4fPjuWW2/dOldFYpEREREZPa00p+ISJ3RwlEiItWlhFlEpP5o4SgRkSpSwiwiUme0cJSISHUpYRYRqUPlWjhKRERmVkqVDBERCYhzLgtszJf3/KaZXe6c2zZhk6IWjgJvtVXgLoALLrig7LGK1LS9s5uYzlpNTG9G6mEWEalj5Vg4SqutiogUpoRZRKTOaOEoEZHq0pAMEZH6o4WjRESqSAmziEid0cJRIiLVpSEZIiIiIiIFKGEWERERESlACbOIiIiISAFKmEVEREREClDCLCIiIiJSgBJmEREREZEClDCLiIiIiBSghFlEREREpAAlzCIiIiIiBShhFhEREREpQAmziIiIiEgBSphFRERERApQwiwiIiIiUoASZhERERGRApQwi4iIiIgUoIRZRERERKQAJcwiIiIiIgUoYRYRERERKUAJs4iIiIhIAXNOmM1shZndZ2Y7zWy7mb1zim1uMbNBM3sif3t/aeGKiIiIiFRXuIT3jgPvds5tMbNO4DEz+75zbsek7R50zr2ihHZERERERAIz5x5m59wR59yW/OMEsBNYVq7ARERERERqQVnGMJvZKuAq4JEpXr7RzJ40s++a2WXTvP8uM9tsZpv7+/vLEZKIiIiISFmUnDCbWQfwb8C7nHNDk17eAqx0zl0J/B3wran24Zy72zm3yTm3qa+vr9SQRERERETKpqSE2cwieMnyl5xz35j8unNuyDmXzD++F4iY2YJS2hQRERERqaZSqmQY8Blgp3PuI9Nsszi/HWZ2Xb69k3NtU0RERESk2kqpknEz8EZgq5k9kX/uj4ALAJxznwReA/y2mY0DGeAO55wroU0RERERkaqac8LsnPsJYDNs83Hg43NtQ0REzmdmK4AvAIuBHHC3c+5jk7a5Bfg28Ez+qW845z5QzThFRBpFKT3MIiISDNXBFxGpIi2NLSJSZ1QHX0SkupQwi4jUsVLr4Of3oVr4IiIFKGEWEalT5aiDD6qFLyIyEyXMIiJ1SHXwRUSqRwmziEidUR18EZHqUpUMEZH6ozr4IiJVpIRZRKTOqA6+iEh1aUiGiIiIiEgBSphFRERERApQwiwiIiIiUoASZhERERGRApQwi4iIiIgUoIRZRERERKQAJcwiIiIiIgUoYRYRERERKUAJs4iIiIhIAUqYRUREREQKUMIsIiIiIlKAEmYRERERkQKUMIuIiIiIFKCEWURERESkACXMIiIiIiIFKGEWERERESlACbOIiIiISAFKmEVEREREClDCLCIiIiJSgBJmEREREZEC5pwwm9kKM7vPzHaa2XYze+cU25iZ/a2Z7TWzp8zs6tLCFRERERGprnAJ7x0H3u2c22JmncBjZvZ959yOCdvcDlyUv10PfCJ/LyIiIiJSF+bcw+ycO+Kc25J/nAB2AssmbfYq4AvO8zDQY2ZL5hytiIiIiEiVlWUMs5mtAq4CHpn00jLguQk/H+L8pBozu8vMNpvZ5v7+/nKEJCIiIiJSFiUnzGbWAfwb8C7n3NDkl6d4izvvCefuds5tcs5t6uvrKzUkEREREZGyKSlhNrMIXrL8JefcN6bY5BCwYsLPy4HDpbQpIiIiIlJNpVTJMOAzwE7n3Eem2ewe4E35ahk3AIPOuSNzbVNERFSlSESk2kqpknEz8EZgq5k9kX/uj4ALAJxznwTuBV4G7AXSwG+U0J6IiHhUpUhEpIrmnDA7537C1GOUJ27jgN+daxsiInK+/JW6I/nHCTPzqxRNTJjPVCkCHjazHjNboqt8IiKzp5X+RETqWKlVivL7UKUiEZEClDCLiNSpclQpAlUqEhGZiRJmEZE6pCpFIiLVo4RZRKTOqEqRiEh1lVIlQ0REgqEqRSIiVaSEWUSkzqhKkYhIdWlIhoiIiIhIAUqYRUREREQKUMIsIiIiIlKAEmYRERERkQKUMIuIiIiIFKCEWURERESkACXMIiIiIiIFKGEWERERESlACbOIiIiISAFKmEVEREREClDCLCIiIiJSgBJmEREREZEClDCLiIiIiBSghFlEREREpAAlzCIiIiIiBShhFhEREREpQAmziIiIiEgBSphFRERERAoIBx2AiIiIVNjoIORGvcetC8As2HhE6owSZhERkUbW/xA884WzP695K/ReG1w8InVIQzJEREQaWf9D0LoQVt8J0V7vZxGZFSXMIiIijWrkBCT3Qd/NsOBGWHADDO2C0dNBRyZSV0pKmM3ss2Z23My2TfP6LWY2aGZP5G/vL6U9ERERmYWTj3r3/hCMBdcD7uzzIlKUUnuYPwfcNsM2DzrnNuZvHyixPRERESmGc3DiEehcC6293nNtiyB+IZxQwiwyGyUlzM65B4BTZYpFREREyiX9HAwfhd7rz31+wfWQOQTpQ8HEJVKHqjGG+UYze9LMvmtml021gZndZWabzWxzf39/FUISERFpcCcfBQvB/GvOfX7+tWAtcPKRYOISqUOVTpi3ACudc1cCfwd8a6qNnHN3O+c2Oec29fX1VTgkEZH6pzkkMqOh3dCxFsLxc5+PdHjDMhL7g4lLpA5VNGF2zg0555L5x/cCETNbUMk2RUSaxOfQHBKZTnYUMochvnLq1+MXeEM2XK66cYnUqYouXGJmi4FjzjlnZtfhJegnK9mmSKPIZlMMDj5Id/cLCIU6gg5Haoxz7gEzWxV0HFKjhnaAG/cS46nELoDcfTB8HNoXVze2ejB8HHb/HbgxsAis+NXzh7ZIUym1rNyXgZ8BF5vZITN7i5m9zczelt/kNcA2M3sS+FvgDuecKy1kkcbnnOPYsS9y4sQ3efbZD5LJPBN0SFKfZpxDAppH0pBObfHuY9MkzH4inTpYnXjqzbH7YfQkdF3iJc3P3+tVHZGmVVIPs3Pu9TO8/nHg46W0IdKMEolHSCYfp7v7haRS23nuub9i2bJ3EI9fGnRoUj/8OSRJM3sZ3hySi6ba0Dl3N3A3wKZNm5QVNILTj0NLK7RNMy+obQlYGNIHgeuqGlrNy43BiYdh3kZvdcRjP4Zn/wVSz0LHqqCjk4BopT+RGjM2dprjx79CW9saFi58PStX/jHhcBcDAz8MOjSpI5pD0uRObYHYCq8axlRaQhBbrh7mqZx+HLIp6HuB93Pvtd6wjBNaUryZKWEWqTGnTt2Lc+MsXnwnZi2EQnE6O68lldpBNpsKOjypE2a22Mws/1hzSJpJLgunn5h+/LIvfoHXw6yhBufq/wm0LvCGYwCEYzD/aq9MX3Y02NgkMEqYRWqIc45Uaivx+OVEowvPPN/ZeS2QJZl8PLjgpKZoDolMK/E0ZNPTj1/2xS6AbAZGTlQnrnow3O+V4+u7+dze+b6bITsMp7cEF5sEqqJVMkQmGxk5wsDAD5k//2VEIvODDqfmjI4eZnz8NPH4K855vrV1BZHIIoaGtJyteDSHRKblT/grpocZvF7m6cY6N5uTjwAGC2469/nOddDaByd+FkhYEjz1MEtVOOcYHPwJBw9+kMHBBzly5FM4lw06rJqTSnlrUMRi5xY0MDM6OzeRyTzNyMiRIEITkXpxeguE2mYuF9e+1FsJUOOYz0rug9gyiPac+7wZ9GyA5H7IjQcTmwRKCbNUxeDgjzl27Iu0t6+hr+91DA/v5+TJ/wg6rJqTSm0jGl1GJDLvvNe8YRmO/v6vVz8wEakfp7ZAzxVeMlxIS8RLmpUwe5yD5AGIr5r69fgqyI3C4I4qBiW1QgmzVJxzjoGBH9Pauoply97JvHkvpqvrRk6dupdMZm/Q4dWMbDZDJrOXeHzqcrmtrUuIRpdz4sQ3qhyZiNQN57wJf/OuKm77WH7FP/EWK8mmoePCqV/3S8qdfKRqIUntUMIsFTcycojR0cN0d9+I5SdRLFx4B6FQJ6dOfT/g6GpHOr0LyBGPXz7tNrHYRQwNPUpOlwRFZCojJ2BsALqKrNnevgjGEzCermxc9SCVXyAqPk3C3LoQQjGvWoY0HSXMUnGJxMNAiM7OTWeea2lpo6PjKtLpHeRyY8EFV0PS6W20tLTR3r522m3a2i4kl0uTTm+vYmQiUjcSe7z7zunPI+doW+TdDx+rTDz1JPmMt9hL+5KpXzfzepmVMDclJcxSUbncOENDjxKPbyAU6jjntY6OK3BuNN+zKun0LtrbL8YKjDtsa1sNwNCQLgmKyBQS+WFunVMu6ni+tvzEQCXMkDoA8ZXTL/YCXu/z4DYYV038ZqOEWSrq9OkfkM0O0dV1w3mveclhK6nUUwFEVluy2RRjYydob19dcLtIZAGRyAKGhh6uUmQiUlcSe7yEb7qJa5O1LgBalDDnxiB9aObjFl8FLne2dJ80DSXMUlHHjv0zLS2xKcfltrREiMfXk0o9RbOvpzAy4s1Sb20tXDfVKy93vXqYRWRqyb1eUheKFrd9S9hLmps9YU4fAjc+/YQ/nyb+NS0lzFIxXnWMHxKPX05LS2TKbeLxKxgfH2BkpLlnaQ8PewlzW9sMCw0AXV3Xk07vZHx8sNJhiUi9SeyFjiLHL/vaFnoVIppZ0p/wt6rwdpEubxuNY246SpilYoaHn2F09GjBSWzx+AbASKWerF5gNWh4+FnC4d7zxnlPpavresAxNPTzygcmIvXDOW9IRrET/nxti7weZperTFz1IHUAIt0QPb8G/nl6r1PC3ISUMEvFDA7+FID29jXTbhMOd9LWtppkclu1wqpJIyPPFdW7DNDZeR0AiYQuCYrIBCMnYWyw+Al/vvZF3oIcY0181Sr9nLdUuNnM2/ZeC6lnYfhE5eOSmqGEWSpmaOghQqEuotGlBbeLxS5iZORg05aXy2YzjI0dn3H8si8S6SEWu0TjmEXkXEm/QsYcepgBMkfLG0+9cDlvSMp05eQm687PyRnSin/NRAmzVMzg4EN0dd1wZrGS6bS1XQjkmnYcsz/hr9geZiA/8e/hpp8sKSIT+DWYZz2G2a/F3KTjmEdOehP+/BJ7M+le791rieymooRZKmJ8fJBUahvd3TfPuG1r60oAhocPVDiq2uRP+Cu2hxmgs3MTY2P9jI4eqVRYIlJvEnu9knIzVXqYLNIDLdHmrZQxnO9ZLzZhjq2AcAcM7qxcTFJzlDBLRXh1gh1dXTfNuG0kMo9QqIfh4WcqH1gNGhl5lnB4HuFwV9Hv8cv0pVLNPfZbRCZI7IXYBRBqnd37zM5O/GtG/lAUv6d9JmbQdYmGZDQZJcxSEYODDwEt+YoOM2trW8nw8LOVDapGDQ8fnFXvMkxMmLdWIiQRqUeJPbOf8Odr5oR5+KjXYxyZuUrRGd3rNSSjyShhlooYHPwpHR1XEA53FrV9W9sqxsaOkc0213Kj4+MJxsaO09a2clbvi0YXEI0uVg+ziJyV3Dv7CX++tkUwcgKyI+WNqR4MHy2+d9nXvR4yh2G0iSuLNBklzFJ2zmUZGnq4qOEYvra2VQBN18ucTu8AHK2ty2b93nh8A8mkephFBG/i2ujp2U/487UtBBwk95c1rLqQOQbtRY5f9nVd6t0PaRxzs1DCLGWXyewll0vR2bmp6Pf4PazNNvEvlfIu6c1Uem8q8fjlpNM7cC5b7rBEpN4k/JJycx2SsdC7T+4rTzz1YvQ0jCeKn/DnO1MpQwlzs1DCLGXn93p2dFxR9HtCoTiRyKKmS5jT6R2YhYlEFsz6vfH4BnK5DJlME/YIici5EnOswexrXXjufprF0G7vfrZDMuIXQkurJv41ESXMUnbeRLQWYrH1s3pfM078S6V2EI0unrFW9VRUKUNEzkjsAQw6Vs/t/eE4hNqar4d5aJd3P9shGS0h6LpYE/+aiBJmKbtUaivt7WsJhdpn9b62tlVkswOMjByuUGS1J53eQTRa5OpSk8Tj6wFTpQwR8Sb8xedQUs5n5vUyN10P8y6wELTO/iqfVylDQzKahRJmKbtUaivx+IZZv6+1dTkAyeRT5Q6pJmWzKYaHD8w5YQ6F4rS1rVYPs4h4ie5cJ/z52vqasId5t/dFwUKzf2/XekgdgPHmqu7UrEpKmM3ss2Z23Mym/B/bPH9rZnvN7Ckzu7qU9qT2ZbMpMpl9dHTMJWH2KkU0S49pOu1dCpxrwgzQ0bFBCbOIlFaD2dfaB8lnIDdenpjqwdAuaJ/l+GVf96WAOzsOWhpaqT3MnwNuK/D67cBF+dtdwCdKbE9qXCq1HXBz6mEOhToIhbqbJmH2K2S0ts6+QobPq5TxNLlcE9ZOFRHPyCkYPTX3CX++tj5w45B+rjxx1brcmNejPtsKGT5VymgqJSXMzrkHgFMFNnkV8AXneRjoMbO5d6dJzfOT3Xi8+AoZE7W2LmuahNmrkBEhEumb8z68LyZZUimdsEWalj+MotSEudkqZSSf8ZLmuSbMHWvAWiDxdHnjkppU6THMy4CJX1UP5Z+TBpVMbqWlJUZ7+9xmansJ805yTXBJMJXaQXv7OmwuY+fy4vHLAH8BFGkmGhInZyT2ePelDsloy395b5ZxzP5QirkOyQi1QnyVhmQ0iUonzDbFc+68jczuMrPNZra5v7+/wiFJJXkT/i6bU5k0gGh0Gc6NkMk0fg9HOr0jX+li7trbLwJCZ4Z3SFP5HBoSJ5DvES6hpJwv0u3VFm6WHma/pNxsazBP1HmxepibRKUT5kPAigk/LwfOqxnmnLvbObfJObepr2/ul6cleHOtkOFrlol/2ay34Mhsa1VP1tISJRa7SD3MTUhD4uSMxB6IrfDqKJfCWqBzTfP0MCd2eyschuNz30fXOi9hduf1BUqDqXTCfA/wpvylwRuAQefckQq3KQEZHT3G2Fh/SQlzNLoYaGn4hDmTeRrIldzDDBCLrVcPs0xFQ+KaRWJv6eOXfR1rmquHueuS0vbRdbFXVi7zfHlikppValm5LwM/Ay42s0Nm9hYze5uZvS2/yb3AfmAv8Cngd0qKVmqaXz95LiXlfC0tUdrbL2r4hNlPcEvtYQZvAZNMZi+53GjJ+5KGUtSQONCwuLqXLGfCvBaS+5ujx3RolzekohT++4c0LKPRhUt5s3Pu9TO87oDfLaUNqR+lVsjwdXRsIJF4vBwh1SxvCEWIWOwihoZ+WtK+YrFLgSyZzJ4zkwBFKHJIHHjD4oC7ATZt2tQEmVIDGR2AkROlT/jzda6BbBqGj0J7A4/gGT4BIyfL0MO8zrtP7IbFLy49LqlZWulPyiaV2koksohotLRx6PH4BoaH95PNNu7qSV6FjLW0tMxxGdsJ/F5qDcuQSTQkrhn4wydKXeXP5++n0YdlJPKVLUpNmNuXQSimHuYmoIRZyiaZ3FrScAyfNwba5RdBaUzlqJDhi8UuBkwT/5qMhsQJcDaxLWcPMzT+xD+/FFxXiUMyzLxeZpWWa3glDckQ8TmXJZ3eztKlv13yvvxJg6nUVrq6rit5f7Umlxslnd7DggWvLsv+QqF22tpWq4e5yWhInABnazCXWlLOF18JFmr8HuahXdAS9eool6rzYji1ufT9SE1TD7OURSazj1xuuKQKGb729tW0tMRIJhtz4l8mswfIlq2HGbyJf+m0VvsTaTrJvRBbDuH28uyvJeIlzc3Qw9x5EbTMfeGoM7rWQeoZyI6Uvi+pWUqYpSz8CX8dHaVN+AMwayEev6xhK2WUs0KGLxa7lHR6d1OskCgiEyT2lm84hq9jbXP0MJc6ftnXeTG4XON/yWhySpilLLySci1lSwLj8Q0NmzB7Y40tP/a4POLx9Tg3yvDw/rLtU0TqQGJP+Sb8+Rp98ZLsqPf7lSth9itlaOJfQ1PCLGWRSm2lvX0toVB5LgvG4xsYG+tndPRYWfZXS1KpHbS1rS7bsQJVyhBpSqODMNJfvhrMvo61MHoaRgotJFnHkvvBZUuf8Ofz95PQxL9GpoRZyqLUJbEn86ttNOI45nJWyPDFYpec2beINIlkmStk+Bq9UsbQLu++XD3MkS5oW6we5ganhFlKls2myGT2laWknG9ipYxGksuNk07vLuv4ZYBwuJPW1gs08U+kmZwpKVeBHuaJ+280iTKVlJuoa516mBucEmYpmTcMwJW1hzkaXUgksrDhEubh4X04N1b2HmbwJv5pSIZIEzmzaMma8u7XL1HXyD3M7Uu8nuFy6bxYtZgbnBJmKVm5lsSerBEn/lWiQobPLy3nXK7s+xaRGpTY4600F46Vd7/hdmhf2rg9zEO7vQS3nLrWeUuUN+q4b1HCLKVLpbbS0hKjvb1MhfPzOjo2kEptx7lsWfcbJH+MsT/muJxisfXkchmGh58t+75FpAYl95Z/OIavc21j9jA7V96Scj4/AU9oHHOjUsIsJUsmnyIevwyz8v45xeMbyOUyZDKNUyotldpOa+sFhMMdZd+3P8xDE/9EmkQlajD7OtY0Zg/zSL9XAaTcCbNKyzU8JcxSsnJXyPA14sS/VGo78fjlFdl3LHZpvg1N/BNpeGNDMHyssj3Mw0dhPFWZ/QdlqAIT/sAb921hTfxrYEqYpSSjo8cYG+uvUMJ8GWANkzB7FTJ2VSxhjkTmEY0uVg+zSDNI5IdLVLKHeWI7jaLcJeV8LREvaVYPc8NSwiwl8eskl7OknC8UitHevqZhajFnMntxbjT/RaAyYrH1qpQh0gz8GszlXuXP5/dcN9o45qHdEGqD+AXl33enSss1MiXMUpJKVcjwNVKljFRqG0DFepi9fa8nnd6Bc65ibYhIDUjs8e47y1xSznemh7nBxjEP7fIS2zLPuQG8YR6JPaBKRQ1JCbOUJJXaSiSyiGi0ryL7j8c3kMnsJZvNVGT/1ZRObwesIhUyfLHYerLZBCMjz1esDRGpAYm9Xum3cLwy+4/2QGtvY/Ywl3v8sq9rHWSHIf1cZfYvgVLCLCVJpbZWZDiGzxsbnWuIcbmp1Hba29cQCpW5ZuoE/sQ/rfgn0uASeyo34c/XsfZsT3YjyI5Aan/5xy/7/NJyWsCkISlhljlzLksqta0iE/58fjLeCOOYU6ltxGKVG78MKi0n0jSGdlYu8fN1XeK10ygSe73hEpU6biot19CUMMucZTL7yOWGK5owt7evpaWlre7HMedyI2Qyeyo6fhkgEukjHO7VxD+RRjbcDyMnoevSyrbTfSlkjsDoYGXbqZZEhUrK+doWQ7hTE/8alBJmmTM/ie3oqMyEPwCzUL7yQ30nzOn00zg3XtEKGQBmRjy+nlRqe0XbEZEA+b2+Fe9hzifkfim2euf/HuVeFttn5iXj6mFuSEqYZc68YRItxGLrK9pOI1TK8BPYSvcw+22kUttUKUOkUQ3mE+buCvcw+wl5owzLGNwJseUQKf9Kq2d0rmucLxhyDiXMMmep1Fba29cSCrVXtJ2Ojg2Mjh5ldPRERdupJK+kXIhYbF3F2+ro2Eg2O8jw8LMVb0tEAjC0E0IxiK2obDsdq6ElejZBr3eD26C7wp0WPZdD+qC3EqM0FCXMMmep1FMVHb/sa4QlstPp7cRi62hpaa14Wx0dVwKQTD5R8bZEJABDu7ze30rUEp6oJeytJNgIPaa5cS/x76lwwuwn5AMaFtdolDDLnIyPD5LJ7KWz8+qKt3U2Yd5W8bYqxasmUtnxyz5v2IeRSj1ZlfZEpMoGd1Z+OIav69LGGJKR3Ae5ker0MAMM1m8Hj0xNCbPMid972dFR+YQ5Gl2cr/xQnyeg8fEEmcy+iq2GOFkoFKe9fR3JpBJmkYYzlvQu+Vd6wp+v6xIv2cyOVKe9ShnI///RU+GrovGVEO6Agfrt4JGpKWGWOUkktgBUpYfZzOjoqN+Jf17i6qpyrHwdHVdqSIZIIzpTGq1KPczdl3q1i+t9AZOBbYBV/rhZC3Rf5o2XloZSUsJsZreZ2W4z22tm753i9TvNrN/Mnsjf3lpKe1I7kskttLYuJxpdWJX24vErSCafwrlsVdorp2TS+3JRjd54X0fHlQwPP8P4uCaeiDSUalXI8DVKabnBbd7KiOHKTlIHvPP8qfAAACAASURBVF7sga2gSkUNZc4Js5mFgL8HbgfWA683s6nqi33VObcxf/v0XNuT2pJIbKlqAtjZuYlcLk06XX8n7WTycaLRxbS2Lqlamx0dG/NtP1W1NkWkCoZ2goW8ZaurwV/ko94rZQxsrfxwDF/35TByAoaPV6c9qYpSepivA/Y65/Y750aBrwCvKk9YUsuy2RTp9K6qDjHo7LwWgKGhn1etzXLxvlxcVdU2VSmj8ekKX5Ma3On1lIai1WkvHPPG5dbzxL/xDCT3Vn7Cn89PzDXxr6GUkjAvA56b8POh/HOTvdrMnjKzr5vZlEUjzewuM9tsZpv7+/tLCEmqwRuTm6tqD3Msto5QqJNEor4S5mx2mFRqe1WPFUA0ujQ/UVIT/xqRrvA1saGd1Zvw56v3ShlDu7xx2JUuKefz29HEv4ZSSsJsUzw3ecDOvwOrnHNXAD8APj/VjpxzdzvnNjnnNvX19ZUQklRDNSf8+cxa6Oy8hkRic9XaLAdvomK2qscK/ImSV6pSRuPSFb5mlB2FxN7qTfjzdV0KQ7shV39zSICzE/C6qzQko20htPZp4l+DKSVhPgRM7DFeDhyeuIFz7qRzzq9F8yngmhLakxqRTG4hEllINLq0qu12dm4imXyCXG60qu2WIogJf76Ojo2kUlvJ5car3rZUXNmu8IGu8tWNoR3gxqGnOiUqz5i3EbKZsxU66s3AVm/Fws4qjfuGsxP/pGGUkjD/HLjIzC40syhwB3DPxA3MbOIsp1cCdXxNR3yJxBY6O6/GbKqLDJXT2Xktzo3W1QImicTjhMPzaGtbWfW2OzuvJpcbJp3eUfW2peLKdoUPdJWvbpx6zLufX+W+p/n5L/yntlS33XIZ2Ob1kreEq9dm9+UwuN0bCiINYc4Js3NuHHg78J94ifDXnHPbzewDZvbK/Ga/Z2bbzexJ4PeAO0sNWIKVzQ6TTld/TC6cnfhXT+OYk0lvwl+1v1wAdHXdAMDQ0M+q3rZUnK7wNaNTWyDcWd2eUvDGTIfa6zhhfrJ6FTJ8PRtgPAXJZ6rbrlRMSXWYnXP3OufWOefWOOc+mH/u/c65e/KP3+ecu8w5d6Vz7kXOufqrCSbnSCYfw7nxM8lrNbW1rSIc7q2bShm53BjJ5FNVH7/sa2tbTSTSx+CgEuYGpCt8zejUFph/lbc4RjW1hKHnSjj9WHXbLYf085A5DL1V/j/Lvwpw8tHqtisVo5X+ZFYGB38CQHf3zVVv28zo7NxUNxP/0ukdODdS9ZJyPjOjq+tG9TA3IF3ha0K5ca+ndF4wX8CZfzWcerz+hhicfMS7772uuu32bPB65f32pe4pYZZZGRz8CbHYJUSjwYxz7Oq6llRqG9lsOpD2Z8P/ctHVdVNgMXR13Ugm8zRjYycDi0EqQ1f4mszQLm/iXbXHL/vmXw3jCUjsC6b9uTr5KLREvImL1dQS9v6t1MPcMJQwS9GcyzE4+BDd3S8ILIbOzuuAbF30Mg8MPEBr6/JAJvz5urtvBGBo6OHAYhCRMjgz4S+oHuZ8on66zsYxn3gEejZCqK36bfde7w2jydZPZSeZnhJmKVoqtYPx8dOBJsxe28bAwH2BxVAM5xyDgw/S3f0LgUz483V2bgJCGscsUu9ObYFQDDovDqb9rvVeabZTdTSOOZeFU5urPxzD13sd5EZg4Klg2peyUsIsRTs7fvkXAoshEplHR8dVnD5d2wnz8PB+RkeP0N39wkDjCIXidHRcoXHMIvXu9BZvWEFLKJj2Q1FvXG49VcoY2gnjSVhwfTDt++1qHHNDUMIsRRsc/AnR6BLa2i4MNI6enhcxNPQw2exwoHEUMjDwIAA9PcF9ufB1dd1IIvEoztXpKl0izS6XhdOPBzccwzfvai9xd5NLfteooCb8+WIXQNsib1iI1D0lzFI0b4jBCwIdYgDQ03MLzo3UdK/p4OADhMPzicWqvITtFLq6biSbTdbVgi8iMkFij1fTN6gJf775V8PoaUgdCDaOYp18FCI90HlRMO2b5ccxa+JfI1DCLEUZHj7IyMjBQMcv+7xe25aaHsd89stF8B8xvwTgwMCPA45ERObkRL5zYP6mYOPwe2r7fxpsHMU68YhXfznI8/CC62Fot/dFQ+pa8P+bS10YGHgAoCYS5nC4m87Oa2o2YR4ZOUomszfQsd4TtbdfSHv7RZw69d2gQxGRuTj2Q2jtg+71wcbRcyVE53nx1LrxFAxu83p4g+R/yThZHwtuyfSUMEtRTp36DyKRhXR0VLmW5TS8ccyP1GQ95sHB2hm/7Js//3YGBu4nm80EHYqIzIZzcPSHsOjFwfaUgjfhcNGLvHhqfRzz8QfBZaGv+otsnaP3OrAQHNcVvnqnhFlmlMuNcfLkd+ntfUVNDDEAL2F2bozBwYeCDuU8p059j1Coi46OgCfoTNDb+zJyuWEGBu4POhQRmY2hnTB8FBa/JOhIPItuhfRBSNb4AiZHvufVXl74i8HGEemCBTfCYV3hq3e1kf1ITRscfJBsdpAFC14588ZV4o0PjtbcMAPnspw8eQ+9vS+npSUSdDhndHf/Ii0t7TV3vERkBkfzwx8W3xpsHD4/jmM/CjaOmRz+Liy8BcLtQUcCS2/3qpxkjgYdiZRACbPM6MSJezBrZd68GunhAMLhDubP/yX6+7+Oc7mgwzljcPAhxsZOsGDBrwYdyjlCoTZ6el6khFmk3hz7IcQvhI5gy3me0bkO2peeTeRrUXI/JJ72EtVasCQfx5HvBRuHlEQJsxTknOPkyXuYN+8lhELxoMM5R1/faxkZeY6hodop2XPixLcwizJ/fo2cqCeYP/92Mpm9pNN7gw5FRIqRG4dj99dO7zJ4pdIW3er1MNdQZ8U5DucT0yW3BRuHb95GaFusYRl1TgmzFJRO72B4+BkWLPiVoEM5T2/vKzGL0N//r0GHAnhfLk6c+Bbz5r2EcLgz6HDO09vrJfHqZRapE6e2wNigl6DWksW3wsgJGNgadCRTO/I96FgdXP3lycy83u4j/+V9CZK6pIRZCjpx4h4AentfEXAk54tEepg3zx+WEfyM7VTqqfyXi18LOpQptbevIRa7lP7+rwUdiogU49gPvPvFLw42jsn8Hu+j3w82jqlkR7ze7yW3e4lqrVh6O4wNaJnsOqaEWablnOPYsS/Q1XUDra3Lgg5nSgsXvpaRkYMkEsEPyzhx4luA1WRvvG/x4t9gcPAnpNO7gw5FRApxDg582asj3LYw6GjOFVvuLZN94MtBR3K+/ge9GsxLa2Q4hm/xS73ychqWUbeUMMu0BgbuJ53exdKlbws6lGn19r4KswjHjwc7LMO5HMeOfYnu7hcQjS4KNJZCFi9+E2Zhjhz5dNChiEghpx/3Ft5YfWfQkUxt9Zvh9JbaG5bxzD9DuNOrF11Loj2w8IXw7Fdqd+y3FKSEWaZ1+PA/EA7Pp6/vvwUdyrQikR56e1/O0aOfI5tNBRbHyZP3ksnsYenS3wkshmJEo4vo7X0lR49+nlxuNOhwRGQ6+z8HLa2w8nVBRzK1lb8OLRHY//mgIzlr5BQc/Cpc+AYI19YkdQDW/KZXv/roD4KOROZACbNMaWTkMP3932TJkv9BKFQDdSwLWLHifzE+fpIjRz4bWAyHDv0Nra3L6et7dWAxFGvJkrcyNtbPyZP/HnQoIjKV7Agc+BIs/1VvKepa1LYAlr4cDvxz7Uxke+YLkB2Gtb8VdCRTW/H/eEuc7/lk0JHIHChhlikdOfIpIFvTwzF83d0309V1E88993/J5caq3n4yuZWBgR+ybNnba2qxkunMn/9LtLau4PDhu4MORUSmcvg/YPRU7Q7H8K2+E4aPwZH/DDoSb8z33k96q+rNuzLoaKYWaoU1/wOevwfSzwcdjcxSOOgAGsVsko+lS++qYCSlGx8f4vnnP8G8eb9Me/uaoMMpygUX/CHbtr2K/v6vsWjRf69q24cOfYyWlnaWLPnNqrY7V2Yhli79HZ555n0MDDxAT88Lgw5pWrNN6mv9syVSlH2f8RYHWfzSoCMpbMnt0LrAi3fZy4ON5fgDMLQbbqihISJTWXsX7PhL2Pdp2PAnQUcjs6AeZjnPgQN/xtjYcS688M+CDqVovb2vIBZbz8GDH8a5bNXaTaef5tixL7J48ZuJROZXrd1SLV/+TlpbV7B377uqerxEZAbHfwKH7/WGFbSEgo6msFAU1r4NDn0TTgRcLm3nX3vDVy54bbBxzKRjNSz5Zdj7jzCWDDoamQUlzHKOZHIbhw59jCVL3kpX1/VBh1M0sxZWrfoTUqmtHDz4V1Vp07kcu3e/lVAoxsqV769Km+USCrWzevWHSSYf5+jRLwQdjoiAVz3hsXd6ZdsufXfQ0RRn/R94q9g99i5vWEQQDn0bDn8H1r8XwrU95waAy/83ZI7A1j8NOhKZBSXMcoZzjj17fpdwuJsLL/zzoMOZtb6+19LX9xoOHHg/yeSTFW/v8OF/ZHDwQdas+SitrUsq3l65LVx4B11dN/DMM3/E2NipoMMRkf2f80q1bfxwbVZ5mEqkEzZ+CE4+DM8GUJd5LAmb3wE9G+CS/1n99uei7yZvaMbuv4FTjwcdjRRJCXMJnHOMjycYHx8im83g6ry24v7972Nw8AFWr/4Q0eiCoMOZNTPjoos+QTg8n50730g2O1yxttLpp9m//w+YN++lLF785oq1U0lmxtq1f8fY2Cm2bfs1crmRoEOatWw2QybzDMnkEwwOPsSRI5/hyJF/4sSJ75BIbGF8fCjoEEWKkzkKT/6RN2lt5euDjmZ2LnyTt5DJ438Aw8er2/ZT74f0c3DtJ70yd/Vi4194478f/S3IaVhcPdCkvyI45xgePsDAwI9JJreQSm0lk9nH6OhRnJtYlaGFUKiLaHQB0ehSWltXEIutIxJZhNXSEp1TOHjwL3nuuQ+zdOnb6mby2lSi0QVccsln2Lr1FWzd+jIuv/zbhMOdZW0jldrFk0++mJaWdtatu7vm/20L6eraxCWXfJ6dO1/Pzp1vZv36f8Gsdr9HewnyXjKZ3aTTTzMychA4exn42LHzh5e0ta2ms/Na5s27lXnzXkJ7+4VVjFikCCOn4EcvhfEkXPsPtbWkczGsBa77R/jBC+G+X4Zb7/MW6qi03R+H3R/1xnv33VT59sopOg+u+Rg8dAf87E1w4+ehRSlZLdO/zjSGh5/l9On7GBi4n4GB+/L/MUNLS5yOjg309LyIaHQJkUgvZiEGB39KNpsimx1kbKyfROLnDA4+AEAo1EV7+0XEYhfR3n4xzrmaSbJyuVEOHPgABw9+kL6+13HRRR+vmdjmqrf35VxyyRfZtetOnnzyxWzY8J2yrb43NLSZrVtfAcDGjffT3r6qLPsN0qJFdzAycpD9+/+Q7dtHWLfuUzVzheFsgvx0PkF+FnCYhWlru5D5819GW9tKwuEeQqEOFi16A86NMzbWz8jI86TTO0kmH2dw8Cf0938VgLa2C5k37yX5261EIr3B/pLS3EZPw/23Q+JpuOVemLcx6IjmpncT/MI34IFXwo9/BX7xOxDtrlx7uz4GW94Fy18F1/xt5dqppJWvg+R+78qCG4eb/rm+esmbTEkJs5ndBnwMCAGfds79xaTXW4EvANcAJ4HXOecOlNJmJTiXJZXazuDgTxka+hmDgw8wPHwAgHC4l56eW1ix4j309NxCPL5+yh64UKhj0j4dY2PHyWT2kE4/TSbzNMnkY4C3gl5Pzy309LyInp4X0t5+MS1V/mbpnGNg4Mfs3fsOUqltLFr0Zi6++G7ManxWdpEWL34D4XAPO3a8lkceWcfKlX/MsmW/RyjUNqf9jY6e4MCB/83hw/9INLqEK6/8IfH4JWWOOjgrVrwHsxD797+PzZs3sGbNR+jre03V60qPjh4jkdjMwMADDAzcTyKxGcgBIdrbvQQ5FltHW9tqWlqi572/rW0FwIRe5F8DvL/3dHo3p0//gNOnf8Dx41/N1xo3OjuvYd68lzJv3q10dFxDJFKFnrEyaJTz74zGhryatZnDMJaA3Kh3O/p9b5JcqA1CMQjHINTujakNxabupV1bQ2UHnfMWJ3n83TByEn7h32DxrUFHVZqlt8FNX/J6Tf/jUrj6o3DBfytvj/nQ0/D4e7xaxiteDTd/ub6TzMve563o+Pi7YWgXXPXXsKQGywnunWXd/lr6rJXJnLM08zKrvwdeChwCfm5m9zjndkzY7C3AaefcWjO7A/gwENg6n9nsMCMjB8lk9pDJ7CWd3kM6vZNE4udkswkAIpE+urtvZvny/0lPz4uIxy+b0yVqMyMaXUQ0uoju7hfkxzufJJ3eDTgGBu6jv/9fAWhpaSMe30BHx5V0dGykrW0Nra3LaG1dRjg8r2w9vmNjAyQSmxkaeohjx75EJrOHaHQpGzZ8h97egGtoVsCCBa/gmmseZ//+97B//x9y8OBf0Nv7K/T2voKOjitoa1sz7ReVbHaYdHoXyeQWTpz4JqdO/RfOZVm27B2sWvVndZNUFcvMWLHi3fT03MquXW9k585fZ9++32fRojfQ3f0LdHVdTySysCx/i85lGRk5wsjIc4yMPEc6vZtE4jGSyccYGTmUjydCV9f1zJ9/Wz5BXjNlgjyb3y8ev4R4/BKWL387udw4icTPOX36+5w69V8cPPiXHDz4IcAfwnENHR1XE4uto7V1Oa2tK4hGF9XMcJV6PP+eZyzpLXrh3zKHvcQ4fQgyz3u39PPeMIXZsojXuxntgUjP2ftIt1ffOLbMu5/jF+g5G0/D4HZ4/j/guX+FwR3Qe53Xszz/murGUikXvBbiq+Dnv+0lztv+j/fc0pdB92XeF5vZyGUhfRCO3Q/Pf9s7dqF2uPJDXiWRek6WfZf+PnRcCFveDff9Eiy4yVvlcckvQ9fF3oInQciNeVdARk5BYh+MpyCb8u7H095nczx9/vMAT/1vsLD37xNq88ZrR3u9+9YF0Np79j7am/+5F6Lza3Zoirk5loExsxuBP3XO/XL+5/cBOOc+NGGb/8xv8zMzCwNHgT5XoNFNmza5zZs3zzqePXveydjYcXK5UZwbJZcbJZfLMD5+mrGxU4yPnyaXy5zznlCoi1hsHZ2d19HVdSPd3TfS1rZ6TknBbBcu8cZF72dw8CGSySfztycYHz95zrYtLW1Eo4sJhboIhTrO3Mwi+f+8WybcG2DkciPkchmy2XT+GAwwMvIc4+Onz+y3u/sFLF78FhYufC2hUGVnY9fC4hOnT9/P0aOf5eTJ75w5DmZhwuFeIpF5eJ1xkMtlGBs7yfj4Kfyxsa2tK+jrew1LlryVeHx92WOrheMzkXNZTp36Tw4f/gSnTn0P57xlb0OhDlpbVxAOzyMUitPSEiMUitHS0or3kc7lJ77mAIdzOXK5EbLZxJnb+PgQo6PHgHMnubS3r6Oz8xo6OzeduQ+F4lU7NuPjQwwNPZxP3LeQSDzG8PAz52xjFs5/FjvP+Sy2tLSeeW3t2o/OqX0ze8w5t2kW21fk/AtzPAdv+6A38cqNe8sk58a8xy7/eDzl9RSPJ7xe4tEByKan+MXCXiJ7Jqlddu59tAdaot7t4Ne99+SGYTzj7W887bUxOuDdxgbz96e9OCaL9ECky+uVjnRBuNP7z70lcvY/e/9mYcDwzgtuQgm1/M/eP8DZn7MjXvtjQ979yCnvGOG8/Sx8IVz4Zm/CXKXqLc+2VxDK1zOYy8L+f/KWq+7/CWd+79gKb/xupOvssbcwuGz+Nj4hUTsJqWe85a7Be++KV3vl49rLM8wOqJ3e0+wIPP333jEbyFd6shaIrfSSyXP+TtvzPff5mxnQcu5zcPa4kjv7OJedcLzHvC+v45NuY8mpP6NnWP7KTtz7EhSOe7dQu/da18UTPv9pGD3p/XuOnPBuudHpdx3p9n7fcIe3v1Bb/jbhsYXyv2/+Fo7DVXMrKVvs+beUhPk1wG3Oubfmf34jcL1z7u0TttmW3+ZQ/ud9+W1OTNrXXYD/F3gxsLtA0wuAEwVeD0otxlWLMYHimi3FVbxajAlmjmulc66v2J2V8/ybf63QObhej2mQajW2Wo0LFNtc1GpcULuxTRVXUeffUvq9p+qGnZx9F7MNzrm7gaK+4pnZ5tn0xFRLLcZVizGB4potxVW8WowJKhJX2c6/UPgc3ETHtGxqNbZajQsU21zUalxQu7GVElcpA/IOASsm/LwcODzdNvlLgt2AVkgQESmNzr8iIlVUSsL8c+AiM7vQzKLAHcA9k7a5B/BXdXgN8KOZxs+JiMiMdP4VEamiOQ/JcM6Nm9nbgf/EK2v0WefcdjP7ALDZOXcP8Bngi2a2F69n444yxDyHWQxVUYtx1WJMoLhmS3EVrxZjgjLHVeXzb1Mc0zKr1dhqNS5QbHNRq3FB7cY257jmPOlPRERERKQZ1EZRURERERGRGqWEWURERESkgJpMmM2szcweNbMnzWy7mf3ZFNvcaWb9ZvZE/vbWKsUWMrPHzew7U7zWamZfNbO9ZvaIma2qRkxFxBXUsTpgZlvzbZ63EoJ5/jZ/vJ4ys6trJK5bzGxwwvF6f5Xi6jGzr5vZLjPbmV+cYuLrVT9eRcRU9WNlZhdPaO8JMxsys3dN2iaIY1VMXIH8bc2Gmc03s++b2Z78/bxptstO+D0mTzgsZzy3mdnu/L/le6d4Pcjz7kyxBXXu/ayZHTevFvdUrwd17p0prqDOvSvM7L78OW67mb1zim2COmbFxBbUcSsmV6v657PIuGb/2XTO1dwNr35oR/5xBHgEuGHSNncCHw8gtt8H/gX4zhSv/Q7wyfzjO4Cv1khcQR2rA8CCAq+/DPhu/t/7BuCRGonrlqmOYxXi+jzw1vzjKNAT9PEqIqZAjtWE9kN4K9itDPpYFRlXoMeryNj/Enhv/vF7gQ9Ps12ySsdxH7A6//f3JLB+0jaBnHeLjC2oc+8LgauBbdO8HtS5d6a4gjr3LgGuzj/uBJ6e4t8yqGNWTGxBHbdicrWqfz6LjGvWn82a7GF2nmT+x0j+FvjsRDNbDrwc+PQ0m7wKL8EA+Dpwq9kc1tkuf1y16lXAF/L/3g8DPWa2JOiggmBmXXj/mXwGwDk36pwbmLRZVY9XkTEF7VZgn3Pu2UnPB/23NV1c9WDieezzwK8GGMt1wF7n3H7n3CjwFbz4JgrkvFtkbIFwzj1A4ZrbgXw+iogrEM65I865LfnHCWAnsGzSZkEds2JiC0SRuVrVP5+VyiFrMmGGM0MMngCOA993zj0yxWavzl8a+bqZrZji9XL7G+APgNw0ry8DngOv7BMwCPTWQFxQ/WMF3h/of5nZY+YtvTvZmeOVd4jqnAhmigvgxvzlnO+a2WVViGk10A/8k3lDaz5tZvFJ21T7eBUTE1T/WE10B/DlKZ4P6m/LN11cEOzxKsYi59wR8P6zBhZOs12bmW02s4fNrFJJdTH/jkGdd4v9Gwvi3DuToD8fhQT6+cgPGbgKr1dyosCPWYHYIKDjVkSuFsjnsxI5ZM0mzM65rHNuI94KVteZ2eWTNvl3YJVz7grgB5z9BlMRZvYK4Lhz7rFCm03xXEV7xouMq6rHaoKbnXNXA7cDv2tmL5z0etWPV95McW3Bu5R+JfB3wLeqEFMY71LlJ5xzVwEpvMvhE1X7eBUTUxDHCgDzFux4JfCvU708xXNVuUo1Q1yBHa+JzOwHZrZtittsekgvcN4Ss78O/I2ZralEqFM8N+clwMusmHaDOvfOJLDPxwwC/XyYWQfwb8C7nHNDk1+e4i1VO2YzxBbYcSsiVwvkuFUih6zZhNmXvwR8P3DbpOdPOudG8j9+CrimwqHcDLzSzA7gXXp7sZn986RtgliKdsa4AjhWfruH8/fHgW/iXcKcqJjlfasel3NuyL+c45y7F4iY2YIKh3UIODThW/DX8ZLVydtU83jNGFNAx8p3O7DFOXdsitcC+dvKmzaugI/XxDhe4py7fIrbt4Fj/qXm/P3xafbhf472452jr6pAqLW8BPiMsQV17i1CkJ+PaQX5+TCzCF5C+iXn3Dem2CSwYzZTbLVwXpkuVyO4z2fBuOby2azJhNnM+sysJ/+4HXgJsGvSNhPHDr0Sb1xPxTjn3uecW+6cW4V3ufVHzrk3TNqs6kvRFhNXtY9Vvs24mXX6j4FfAibPjL4HeJN5bgAG/UvBQcZlZov9MVZmdh3e5+RkJeNyzh0FnjOzi/NP3QrsmLRZVY9XMTEFcawmeD3TD3uo+t9WMXEFfLyKNfE89mbg25M3MLN5Ztaaf7wA74v75L/XcqjlJcBnjC2Ic2+Rgvx8TCuoz0e+zc8AO51zH5lms0COWTGxBXjcZszVCODzWbEc0lV5VmUxN+AK4HHgKbxk5v355z8AvDL/+EPAdryZyfcBl1QxvlvIz0idFFMb3mXYvcCjwOoqH7fp4qr6scIb//pk/rYd+OP8828D3pZ/bMDf48003wpsqpG43j7heD0M3FSlf7+NwOb83/23gHk1cLxmiimoYxXD+w+he8JzgR6rIuMK5HjN8nfoBX4I7Mnfz88/vwn4dP7xTfnj+mT+/i0VjOdleJUB9k34vNbEebeI2AL5fwrvC9sRYAyvh+8tNfL5mCmuoM4nL8AbJvAU8ET+9rIaOWbFxBbUcSsmV6v657PIuGb92dTS2CIiIiIiBdTkkAwRERERkVqhhFlEREREpAAlzCIiIiIiBShhFhEREREpQAmziIiIiEgBSpil6szMmdkXJ/wcNrN+M/vOhOd+Nb9k5S4z22oTlt41s8+Z2TNm9kT+9T+Z8Nr9ZrYp//jA5OLtZnZnvq0nJtzWTxFjcvJz+efvyre5y8weNbMXTPo9/tzM9kzY9x9P3qeZrcofg3dMeO3jZnZn/vENZvZI/v07zexPizuyIiLlZWbZ/Llom5n9q5nF8s8vNrOvmNk+M9thZvea+jsQZgAAIABJREFU2bop3q9zqTQEJcwShBRweb6gOMBLgef9F83sSuCvgVc55y7BKyr+12Z2xYR9vMd5y15uBN5sZhfOov2vOuc2TrgVteCCecuQ/xbwgnxcbwP+xcwW5zf5/4ClwIZ8bL8ARKbZ3XHgnfkFDyb7PHBXfh+XA18r+jcTESmvTP48eTkwCrwtv0jGN4H7nXNrnHPrgT8CFhWzQ51LpR4pYZagfBd4ef7x5JXR/hfw5865ZwDy9x8C3jPFftry96kKxTnRH+Il6ifycW3BOyH/br7X5TeBdzjnhvOvJ5xzfzrNvvrxFoV48xSvLcQr7o9zLltsQi8iUmEPAmuBFwFjzrlP+i84555wzj1Y5H50LpW6o4RZgvIV4A4za8NbleeRCa9dBjw2afvN+ed9f2VmT+CtFvUV59zxWbT9uklDMtpnfsuMca0FDjrnErOI4y+Ad5tZaNLzHwV2m9k3zey38sdIRCQwZhYGbsdb5e5yzj8XzobOpVJ3lDBLIJxzTwGr8HqX7530suEtBVroOX9IxmLgVjO7aRbNTx6SkZld9DPGipn9Rj4Zf87MVkz1xnzP+aPAr096/gN4yxD/V/6175UQn4hIKdrznRObgYPAZyrUjs6lUtOUMEuQ7sEbq/zlSc9vxzvJTXQ1cN7lNOdcErgfeMHk1ypgB3DNpOf8uPYCF5hZZz6uf8on9IPA5F6Pif4c7/LkOZ9F59w+59wngFuBK82stzy/gojIrGQmdC68wzk3ineOnnwunA2dS6XuKGGWIH0W+IBzbuuk5/8aeJ+ZrQJvJjTehJL/O3kH+cuE1wP7Khin7y+BD/snXDPbCNwJ/INzLo3X8/Jx/7Jf/vLgVBNRznDO7cL7T+IV/nNm9vL8pBqAi4AsMFDeX0VEZM5+BLSa2W/6T5jZtWb2i0W+X+dSqTvhoAOQ5uWcOwR8bIrnnzCzPwT+3cwiwBjwB865JyZs9ldm9v/inUR/CHxjmmaeMrNc/vHXgKfwxjBP7JH+HefcTye9L2Zmhyb8/BHn3EfMbBnwUzNzQAJ4g3PuSH6bPwb+D7DNzBJABm8iy+FCxwH4IPD4hJ/fCHzUzNLAOPDfnXPZGfYhIlIVzjlnZr8G/I2ZvRcYBg4A75pic51LpSGYc+cNGRIRERERkTwNyRARERERKUAJs4iIiIhIAUqYRUREREQKUMIsIiIiIlKAEmYRERERkQKUMIuIiIiIFKCEWURERESkACXMIiIiIiIFKGEWERERESlACbOIiIiISAFKmEVERERECggHHcBkCxYscKtWrQo6DBGRqnnsscdOOOf6go4DdA4WkeZS7Pm35hLmVatWsXnz5qDDEBGpGjN7NugYfDoHi0gzKfb8qyEZIiIiIiIFKGEWERERESlACbOIiIiISAFKmEVEREREClDCLCIiIiJSgBJmEREREZEClDCLiIiIiBSghFlEREREpAAlzCIiIiIiBdTcSn915e67C79+113ViUNERM5z92MznKMnuOsana9FZHrqYRYRERERKUAJs4iIiIhIAUqYRUREREQKUMIsIiIi/z97dx4fVXX/f/z1yQqEHQLIIqAgAgqoEbe6UixIK1r33dZqrfqttbXWamsttr9vW21tbbUWd+uC1pWvQhE3bFUUFGRHEEECAkH2HZLP748zgWFIJpNkkplJ3s8H9zFz7z33zmdCcvLJmbOISBxKmEVERERE4lDCLCIiIiIShxJmEREREZE4lDCLiIiIiMShhFlEJAOZ2cNmtsrMZlVy/iIzmxHZ3jOzgfUdo4hIQ6GEWUQkMz0KDItz/nPgRHcfANwBJL7snYiI7EVLY4uIZCB3f8fMesQ5/17U7mSga13HJCLSUKmFWUSk4bsCGF/ZSTO7ysymmtnUkpKSegxLRCQzKGEWEWnAzOxkQsL8s8rKuPtody9y96LCwsL6C05EJEMklDCb2TAzm29mC83s5grOn2BmH5vZLjM7u4LzLc1smZn9LRlBi4hI1cxsAPAgMNLdv0p1PCIimarKhNnMsoF7geFAP+ACM+sXU+wL4HLgqUpucwcwqeZhiohIdZjZ/sALwCXu/mmq4xERyWSJDPobDCx090UAZjYGGAnMKS/g7osj58piLzazI4COwL+BotqHLCIiZvY0cBLQ3syKgV8BuQDufj9wG9AOuM/MAHa5u+pgEZEaSCRh7gIsjdovBo5K5OZmlgX8EbgEGBKn3FXAVQD7779/IrcWEWnU3P2CKs5/D/hePYUjItKgJdKH2So45gne/xpgnLsvjVdIA05EREREJF0l0sJcDHSL2u8KLE/w/scAx5vZNUBzIM/MNrn7PgMHRURERETSUSIJ8xSgt5n1BJYB5wMXJnJzd7+o/LmZXQ4UKVkWERERkUxSZZcMd98FXAdMAOYCz7r7bDMbZWanA5jZkZFBJ+cA/zCz2XUZtIiIiIhIfUloaWx3HweMizl2W9TzKVSx7Kq7Pwo8Wu0IRURERERSSCv9iYiIiIjEoYRZRERERCQOJcwiIiIiInEoYRYRERERiUMJs4iIiIhIHEqYRURERETiUMIsIiIiIhKHEmYRERERkTiUMIuIiIiIxKGEWUREREQkDiXMIiIiIiJxKGEWEREREYlDCbOIiIiISBxKmEVERERE4lDCLCIiIiIShxJmEREREZE4lDCLiIiIiMShhFlEREREJA4lzCIiIiIicShhFhERERGJQwmziIiIiEgcCSXMZjbMzOab2UIzu7mC8yeY2cdmtsvMzo46PsjM3jez2WY2w8zOS2bwIiIiIiJ1rcqE2cyygXuB4UA/4AIz6xdT7AvgcuCpmONbgEvdvT8wDPizmbWubdAiIo2dmT1sZqvMbFYl583M7ok0dMwws8PrO0YRkYYikRbmwcBCd1/k7juAMcDI6ALuvtjdZwBlMcc/dfcFkefLgVVAYVIiFxFp3B4lNERUZjjQO7JdBfy9HmISEWmQEkmYuwBLo/aLI8eqxcwGA3nAZ9W9VkRE9ubu7wBr4hQZCTzuwWSgtZntVz/RiYg0LIkkzFbBMa/Oi0Qq6X8C33H3sgrOX2VmU81saklJSXVuLSIiFUtKY4eIiCSWMBcD3aL2uwLLE30BM2sJvAr8ItLKsQ93H+3uRe5eVFioHhsiIkmQcGOHGi1EROJLJGGeAvQ2s55mlgecD4xN5OaR8i8SPhb8V83DFBGRakq4sUONFiIi8VWZMLv7LuA6YAIwF3jW3Web2SgzOx3AzI40s2LgHOAfZjY7cvm5wAnA5WY2PbINqpN3IiIi0cYCl0ZmyzgaWO/uX6Y6KBGRTJSTSCF3HweMizl2W9TzKYTWi9jrngCeqGWMIiISw8yeBk4C2kcaLH4F5AK4+/2EOvs0YCFhis/vpCZSEZHMl1DCLCIi6cXdL6jivAPX1lM4IiINmpbGFhERERGJQwmziIiIiEgcSphFREREROJQwiwiIiIiEocSZhERERGROJQwi4iIiIjEoYRZRERERCQOJcwiIiIiInEoYRYRERERiUMJs4iIiIhIHEqYRURERETiUMIsIiIiIhKHEmYRERERkTiUMIuIiIiIxKGEWUREREQkDiXMIiIiIiJxKGEWEREREYlDCbOIiIiISBxKmEVERERE4lDCLCIiIiIShxJmEREREZE4EkqYzWyYmc03s4VmdnMF508ws4/NbJeZnR1z7jIzWxDZLktW4CIiIiIi9aHKhNnMsoF7geFAP+ACM+sXU+wL4HLgqZhr2wK/Ao4CBgO/MrM2tQ9bRERERKR+JNLCPBhY6O6L3H0HMAYYGV3A3Re7+wygLObabwAT3X2Nu68FJgLDkhC3iIiIiEi9SCRh7gIsjdovjhxLRELXmtlVZjbVzKaWlJQkeGsRERERkbqXSMJsFRzzBO+f0LXuPtrdi9y9qLCwMMFbi4iIiIjUvUQS5mKgW9R+V2B5gvevzbUiIiIiIimXSMI8BehtZj3NLA84Hxib4P0nAKeaWZvIYL9TI8dERERERDJClQmzu+8CriMkunOBZ919tpmNMrPTAczsSDMrBs4B/mFmsyPXrgHuICTdU4BRkWMiIlILCUz3ub+ZvWVm08xshpmdloo4RUQagpxECrn7OGBczLHbop5PIXS3qOjah4GHaxGjiIhEiZrucyih69sUMxvr7nOiiv2C0MDx98hUoOOAHvUerIhIA6CV/kREMk+V030SBli3jDxvhcaPiIjUmBJmEZHMk8iUnbcDF0e6y40D/qeym2lqTxGR+JQwi4hknkSm7LwAeNTduwKnAf80swrrfE3tKSISnxJmEZHMk8iUnVcAzwK4+/tAE6B9vUQnItLAKGEWEck8iUz3+QUwBMDM+hISZvW3EBGpASXMIiIZJpHpPoGfAFea2SfA08Dl7p7oKq0iIhIloWnlREQkvSQw3ecc4Lj6jktEpCFSC7OIiIiISBxKmEVERERE4lDCLCIiIiIShxJmEREREZE4lDCLiIiIiMShhFlEREREJA4lzCIiIiIicShhFhERERGJQwmziIiIiEgcSphFREREROJQwiwiIiIiEocSZhERERGROJQwi4iIiIjEoYRZRERERCSOhBJmMxtmZvPNbKGZ3VzB+XwzeyZy/gMz6xE5nmtmj5nZTDOba2Y/T274IiIiIiJ1q8qE2cyygXuB4UA/4AIz6xdT7Apgrbv3Au4Gfh85fg6Q7+6HAkcA3y9PpkVEREREMkEiLcyDgYXuvsjddwBjgJExZUYCj0WePwcMMTMDHCgwsxygKbAD2JCUyEVERERE6kEiCXMXYGnUfnHkWIVl3H0XsB5oR0ieNwNfAl8Ad7n7mtgXMLOrzGyqmU0tKSmp9psQEREREakriSTMVsExT7DMYKAU6Az0BH5iZgfsU9B9tLsXuXtRYWFhAiGJiIiIiNSPRBLmYqBb1H5XYHllZSLdL1oBa4ALgX+7+053XwW8CxTVNmgRERERkfqSSMI8BehtZj3NLA84HxgbU2YscFnk+dnAm+7uhG4Yp1hQABwNzEtO6CIiIiIida/KhDnSJ/k6YAIwF3jW3Web2SgzOz1S7CGgnZktBH4MlE89dy/QHJhFSLwfcfcZSX4PIiIiIiJ1JieRQu4+DhgXc+y2qOfbCFPIxV63qaLjIiIiIiKZQiv9iYiIiIjEoYRZRERERCQOJcwiIiIiInEoYRYRERERiUMJs4hIBjKzYWY238wWmtnNlZQ518zmmNlsM3uqvmMUEWkoEpolQ0RE0oeZZROm7RxKWDhqipmNdfc5UWV6Az8HjnP3tWbWITXRiohkPrUwi4hknsHAQndf5O47gDHAyJgyVwL3uvtagMhqqyIiUgNKmEVEMk8XYGnUfnHkWLSDgIPM7F0zm2xmwyq7mZldZWZTzWxqSUlJHYQrIpLZlDCLiGQeq+CYx+znAL2Bk4ALgAfNrHVFN3P30e5e5O5FhYWFSQ1URKQhUMIsIpJ5ioFuUftdgeUVlHnZ3Xe6++fAfEICLSIi1aSEWUQk80wBeptZTzPLA84HxsaUeQk4GcDM2hO6aCyq1yhFRBoIJcwiIhnG3XcB1wETgLnAs+4+28xGmdnpkWITgK/MbA7wFvBTd/8qNRGLiGQ2TSsnIpKB3H0cMC7m2G1Rzx34cWQTEZFaUAuziIiIiEgcSphFREREROJQwiwiIiIiEocS5mRZtw48dhpUEREREcl0GvRXGzt3wttvw+TJUFwMJ58M550HVtGaAiIiIiKSidTCXBuvvgrPPQc5OTBoELz1Frz+eqqjEhEREZEkUgtzTa1bFxLkww+H738fysrggQdCAt2uXTguIiIiIhlPLcw19de/wrZtcNppYT8rC777XejWLSTNpaWpjU9EREREkkIJc01s3Ah//jMMGBAS5HK5uTBiBHz1FUyfnrr4RERERCRpEkqYzWyYmc03s4VmdnMF5/PN7JnI+Q/MrEfUuQFm9r6ZzTazmWbWJHnhp8g//gFr1uxpXY42cCAUFsLEiZo1Q0RERKQBqDJhNrNs4F5gONAPuMDM+sUUuwJY6+69gLuB30euzQGeAK529/7AScDOpEWfKmPGwDHHQM+e+57LyoIhQ+Dzz+G99+o/NhERERFJqkRamAcDC919kbvvAMYAI2PKjAQeizx/DhhiZgacCsxw908A3P0rd8/szr2rV8PHH8Pw4ZWXOfZYaNYM/vjH+otLREREROpEIglzF2Bp1H5x5FiFZdx9F7AeaAccBLiZTTCzj83spopewMyuMrOpZja1pKSkuu+hfr3xRuhqceqplZfJz4fjj4eXX4aVK+svNhERERFJukQS5opW4YjtnFtZmRzga8BFkcczzWzIPgXdR7t7kbsXFRYWJhBSCr32GrRuDUVF8csdfXSYam7MmPqJS0RERETqRCIJczEQNRUEXYHllZWJ9FtuBayJHJ/k7qvdfQswDsjcCYrdw2C+U06B7Oz4ZTt3DnMxP/FE/cQmIiIiInUikYR5CtDbzHqaWR5wPjA2psxY4LLI87OBN93dgQnAADNrFkmkTwTmJCf0FPj0U1i6NH53jGgXXwxTp8K8eXUbl4iIiIjUmSoT5kif5OsIye9c4Fl3n21mo8zs9Eixh4B2ZrYQ+DFwc+TatcCfCEn3dOBjd381+W+jnrz2WngcOjSx8uefH2bNePLJuotJREREROpUQktju/s4QneK6GO3RT3fBpxTybVPEKaWy3wTJ8KBB8IBByRWfr/9whRzTz4Jo0aBVdTVW0REkmln6U4+XPYh81fPJz8nn+6tumOqf0WkFhJKmIUwgG/SpNBqXB0XXwyXXQbvvx+mmxMRkTqzs3QnI54awcRFE3cfG3bgMM7se2YKoxKRTKelsRO1YAFs2BBmv6iOM8+Epk01+E9EpI65O1e/cjUTF03kzqF38uOjf8zXun2Nf3/2b15f9HqqwxORDKaEOVFTp4bHqqaTi9WiBZxxBjzzDOzYkfy4REQEgD+8+wcenv4wt51wGzceeyN92vfhogEXcVinw/jXnH8xfcX0VIcoIhlKCXOiPvootBT37Vv9ay++GNasgX//O/lxiYgIa7auYdQ7ozjz4DO5/aTbdx/PsiyuOOwKurTowgtzX6DMy1IXpIhkLCXMiZo6FQYNgpwadPseOhTat1e3DBGROnL/1PvZsnMLo04etc8Av9zsXEb0HsHKzSv5+MuPUxShiGQyJcyJKC2Fjz+ufneMcrm5YbDg2LGwfn1yYxMRaeS279rOPR/cw7BewzikwyEVljlsv8PoWNCR8QvHE5YJEBFJnBLmRMyfD5s31zxhhtAtY/t2eOGF5MUlIiI8OfNJVm5eyY3H3FhpmSzLYnjv4RRvKGbmqpn1GJ2INARKmBPx0Ufh8Ygjan6PwYOhVy91yxARSSJ354/v/5GBHQdySs9T4pYd3Hkw7Zq2Y8JnE+opOhFpKJQwJ2LqVGjWDA4+uOb3MAutzG+9BcXFyYtNRKQRm7J8CnNK5vDDo35Y5eIk2VnZnND9BBauWcjqLavrKUIRaQiUMCdi6lQ4/HDIzq7dfS66CNzh6aeTE5eINFpmNszM5pvZQjO7OU65s83MzawWfcrS1/NznicnK4czD05sYZIjOx8JwIfLPqzLsESkgVHCXJVdu2D69Nr1Xy7XqxccdZS6ZYhIrZhZNnAvMBzoB1xgZv0qKNcC+CHwQf1GWD/cnefnPs8pPU+hTdM2CV3Trlk7erXtxYfLPtTgPxFJmBLmqsyfD1u21K7/crSLL4YZM8ImIlIzg4GF7r7I3XcAY4CRFZS7A/gDsK0+g6svM1bO4LO1n3FW37Oqdd3gLoP5ctOXFG9U9zgRSYwS5qqUJ7YDBybnfuedF7p2qJVZRGquC7A0ar84cmw3MzsM6Obur1R1MzO7ysymmtnUkpKS5EZah56f+zxZlsUZB59RreuO2O8IsiyLD4vVLUNEElODVTgamZkzw2Ilffok536FhTBiBDzyCNx+exhMmO5Gj45//qqr6icOESlX0ei23f0LzCwLuBu4PJGbuftoYDRAUVFRxvRTeH7u8xy///F0KOhQreua5zWnf2F/piyfwpl9zyTL1HYkIvGplqjKrFkhWc7LS949f/pTWL0aHn44efcUkcakGOgWtd8VWB613wI4BHjbzBYDRwNjG9LAv3mr5zGnZE61u2OUK+pcxNpta1mybkmSIxORhkgtzFWZOROOPjq59/za1+DYY+Guu+D73w8rAdaUWn9FGqMpQG8z6wksA84HLiw/6e7rgfbl+2b2NnCju0+t5zjrzLgF4wCq3R2j3KEdDiXLsvhk5Sf0bNMzmaGJSAOkFuZ4Nm6ExYvhkIqXWq2Vm2+GJUvg2WeTf28RadDcfRdwHTABmAs86+6zzWyUmZ2e2ujqx2ufvcbB7Q+mW6tuVReuQEFeAb3a9GLGSg3AFpGqKWGOZ/bs8Hjoocm/94gR0K8f/O53UFqa/PuLSIPm7uPc/SB3P9Ddfxs5dpu7j62g7EkNqXV5265tvLPkHU494NRa3WdAxwEs27hMi5iISJWUMMcza1Z4rIsW5qwsuO228Br33Zf8+4uINFDvfvEuW3dtZeiBQ2t1nwEdBwColVlEqqQ+zPHMnAkFBdCjR82ur6p/8ZVXhtkybrkFzjgDutXso0URkcZk4qKJ5GTlcGL3E2t1n47NO9KxoKMSZhGpklqY45k5M7QuZ9XRl8kM7r8fysrgmmvCstkiIhLXxEUTObbbsbTIb1Hrew3oOIBPv/qUDds3JCEyEWmoEsoEzWyYmc03s4VmdnMF5/PN7JnI+Q/MrEfM+f3NbJOZ3ZicsOvJrFl10x0jWo8ecMcd8MorYdYMERGpVMnmEj7+8mOGHlC77hjlBnQcQKmXMmHhhKTcT0QapioTZjPLBu4FhgP9gAvMrF9MsSuAte7eizBZ/u9jzt8NjK99uPVo5UooKambAX+xrr8+rAB4003wl7/U/euJiGSoNz5/AyBpCfOBbQ6kWW4zxi/MrF9RIlK/EunDPBhY6O6LAMxsDDASmBNVZiRwe+T5c8DfzMzc3c3sDGARsDlpUdeHuhzwFys7G/75T9i5E370I1ixAn7xi9B/uqp+0CIijcjri16ndZPWFHVOzhos2VnZ9G3fl/ELx+PumFW0iKKINHaJdMnoAiyN2i+OHKuwTGR+0PVAOzMrAH4G/DreC5jZVWY21cymlpSUJBp73Zo5MzzWRwszhMVLnn4avvOdMNVcnz7wt7/BqlXq2ywiEvH24rc5ofsJZGdlJ+2eh3Q4hBWbVjB9xfSk3VNEGpZEWpgr+nM7NoOrrMyvgbvdfVO8v9rdfTQwGqCoqCg9ssOZM6GwEDp0qL/XzMsLy2VfcUVoaf6f/wnHW7aEFi2gadOwX1a27+YO+fmhTJMmYWvWLCzBXVgI7duHx/KtTZsw6FBEJEMs27CMz9Z+xjVHXpPU+/Yv7A/A+IXjOWy/w5J6bxFpGBJJmIuB6PnOugLLKylTbGY5QCtgDXAUcLaZ/QFoDZSZ2TZ3/1utI69rs2bVX+tyrOOOgw8/hE8/hV//OqwIuHkzbN0azufmhpk7yrfsSEvLtm2wfTusXx/KbtkCb7xR8Wu0bQuDBsEJJ8DFF8OBB9bPexMRqaFJSyYBcFKPk5J631ZNWnH4foczfuF4bjn+lqTeW0QahkQS5ilAbzPrCSwDzgcujCkzFrgMeB84G3jT3R04vryAmd0ObMqIZLmsLKzy973v1e3rJNI/+aSTavcal1wSWplXrw6DGEtKQjePuXNh2rSQkN9+e3ide+5J3R8JIiJVeHvx27TKb8XAjgOTfu/Tep3G//vv/2Pt1rW0adom6fcXkcxWZcLs7rvM7DpgApANPOzus81sFDA1sgzrQ8A/zWwhoWX5/LoMus4tXhxadOtjwF9da9o0LIhS2aIoxcXwxBPwpz/BEUfArbeGLUdr2ohIepm0ZBLHdz8+qf2Xyw3vPZzf/Oc3TFw0kXP7n5v0+4tIZksoK3L3ccC4mGO3RT3fBpxTxT1ur0F8qVHfA/7qUiKt2DffHFrTr78+tDbPmxeS6Ozk/1ISEamJLzd+yadffcqVh19ZJ/c/qstRtG3alvELxythFpF9qBmxIuVTyvWLnW66AWvfHp58MvRrvummMIDw4YfrbpVDEZFqqKv+y+Wys7I59cBTGb9gPGVeRpap7hORPVQjVGTmTOjZM8xM0dj89KcwahQ89hj8/OepjkZEBAj9l1vktWBQp0F19hrDew1n5eaVml5ORPahFuaKzJzZMPov19QvfhH6Nt95J5x2WqqjERHZ3X85J6vufm0N6zUMgHELxnH4fofX2euISOZRC3Os7dvDdG4Nof9yTZmFQYAHHACXXx6mqxMRSZGVm1Yyb/U8Tux+Yp2+ToeCDhR1LtIy2SKyDyXMsebPh127GncLM4RluR97LMwB/dxzqY5GRBqxuu6/HO20XqcxuXgya7auqfPXEpHMoYQ5VvmAv8bcwlzuuOPghhvgv/8NXTRERFJg0uJJNM9rXi/dJIb3Hk6Zl/HaZ6/V+WuJSOZQwhxr5sywkt5BB6U6kvTwi1+EuZxfeinVkYhII/X2krc5rttxddp/udyRnY+kXdN26pYhIntRwhxr5kzo0wfy8lIdSXpo0wa+8Y3wdVm4MNXRiEgjs2rzKuaUzKmX7hgQppcb1msY4xeMp7SstF5eU0TSnxLmWJ98AgMGpDqK9HLKKdCqFbzwArinOhoRaUTeWfIOQJ0P+It2ep/TKdlSwvvF79fba4pIelPCHO2rr0Jf3UF1N89nRsrLgxEj4LPPwiqAIiL1ZNLiSTTLbUZR56J6e81hvYaRl53HS/PUFU1EAiXM0T75JDwOHJjaONLRsceGhVxefz3VkYhIIzJpySSO63Ycudm59faaLfNbckrPU3hp3ku4PlUTEZQw700Jc+Vyc+GObl6eAAAgAElEQVTkk8MsIsuXpzoaEWkEVm9ZzcxVM+ut/3K0M/qcwWdrP2NOyZx6f20RST9KmKN98gl06gQdO6Y6kvR04okhcVYrs4jUg7cXvw3Uz/zLsb7V51sA6pYhIoAS5r1Nn67+y/E0bx66ZnzwAaxfn+poRKSBe2PRGzTPa86RnY+s99fu3KIzR3U5ipfmK2EWESXMe+zYAXPmqDtGVYYMgdJSmDQp1ZGISAP35uI3ObH7ifXafznaGQefwdTlU1m6fmlKXl9E0ocS5nJz58LOnUqYq9KxI/TvD//5T1hCXERSwsyGmdl8M1toZjdXcP7HZjbHzGaY2Rtm1j0VcdZU8YZiPv3qU07peUrKYji739kAPDP7mZTFICLpQQlzufIBf+qSUbWTToING2DatFRHItIomVk2cC8wHOgHXGBm/WKKTQOK3H0A8Bzwh/qNsnbeWPQGAEN6DklZDL3a9mJwl8E8OfPJlMUgIulBCXO56dOhSRPo3TvVkaS//v2hfXt1yxBJncHAQndf5O47gDHAyOgC7v6Wu2+J7E4GutZzjLXy5uI3ad+sPYd2PDSlcVx4yIVMXzFds2WINHJKmMt98gkceijk5KQ6kvSXlQUnnAALFsCyZamORqQx6gJEd6wtjhyrzBXA+DqNKIncnTcWvcHJPU4my1L7a+q8Q84jy7J4eubTKY1DRFJL2SGE5Z6nT4dvfzvVkaTG6NHVv+a442DsWHj77aSHIyJVsgqOVbjChpldDBQBla4tbWZXAVcB7L///smIr1Y+/epTlm1cltLuGOU6Ne/EkJ5DeGrWU4w6eRRmFX3pRaShUwszwOLFsGYNHH54qiPJHM2bw5FHhinmNmxIdTQijU0x0C1qvyuwz4pCZvZ14FbgdHffXtnN3H20uxe5e1FhYWHSg62u1xeFud5TOeAv2oWHXsiitYuYXDw51aGISIoklDAnMBo738yeiZz/wMx6RI4PNbOPzGxm5DE9ar9YkyOV4NFHpzaOTHPSSbB9Ozz+eKojEWlspgC9zaynmeUB5wNjowuY2WHAPwjJ8qoUxFhj4xeO58A2B9Krba9UhwLAmQefSdOcpjw07aFUhyIiKVJlwpzgaOwrgLXu3gu4G/h95Phq4FvufihwGfDPZAWeVJMnQ9OmoQ+zJK5Hj7Ddd1/o1iIi9cLddwHXAROAucCz7j7bzEaZ2emRYncCzYF/mdl0Mxtbye3SytadW3nz8zc5rfdpadP9oVWTVlx06EU8NfMp1m5dm+pwRCQFEmlhrnI0dmT/scjz54AhZmbuPs3dyz8mnA00MbP8ZASeVB98ELoXaMBf9Z14YpjD+q23Uh2JSKPi7uPc/SB3P9Ddfxs5dpu7j408/7q7d3T3QZHt9Ph3TA+Tlkxi666tnNb7tFSHspdrB1/L1l1beWT6I6kORURSIJEMsaLR2EdVVsbdd5nZeqAdoYW53FnAtIr60aV0wMn27WE+4euvr9/XbSiKiuD//i+0Mp+Snj1uRCRzjFswjqY5TTmxe6VjFFNiUKdBHNvtWO6bch8/OvpHKZ+9I52M/ijxgeNXHXFVHUYiUncSSZgTGY0dt4yZ9Sd00zi1ohdw99HAaICioqL6/Wx/2rSwLLb6L9dMXh5ccQX86U9QXAxdM2qqVxFJI+7Oqwte5ZSep9A0t2mqw9nHtUdey0UvXMRrn73GsF7DUh1OtSmxFam5RP5ETmQ09u4yZpYDtALWRPa7Ai8Cl7r7Z7UNOOk++CA8KmGuuauvhrKymk1PJyISsWDNAhatXZR23THKnd3vbDoUdODuyXenOhQRqWeJtDDvHo0NLCOMxr4wpsxYwqC+94GzgTfd3c2sNfAq8HN3fzd5YSfR5MmhVbRz51RHkrkOOACGD4cHHoBf/CK0OouIVNO4BeMAGN5reIojqVhedh4/OeYn/Oz1n3HTxJsSnsVDrbUima/KFuYER2M/BLQzs4XAj4HyqeeuA3oBv4yM0p5uZh2S/i5q44MP1LqcDNdeCytWwIsvpjoSEclQL89/mb7t+9KzTc9Uh1Kpa4+8lpb5LXl53su4ZgcSaTQSGrWQwGjsbe5+jrv3cvfB7r4ocvw37l4QNUp7UFrNB7pyJXz+uRLmZBg2LLQ033tvqiMRkQy0YtMKJi2exDn9zkl1KHEV5BUwvNdwPl3zKfO+mpfqcESknjTuedTejfQSUcJce1lZ8IMfwE9/GpYZHzQo1RGJSAZ5bs5zOM65/c9NdShVOn7/43nts9d4ed7L9DmuT1JnzNDAPJH01LjnxXntNWjRAgYPTnUkDcMVV0DLlvDb36Y6EhHJMM/Ofpb+hf3p36F/qkOpUm52Lqf3OZ3P133Of5b8J9XhiEg9aLwJsztMmBDmDs7NTXU0DUObNnDddfD88zBnTqqjEZEMsWzDMv77xX85r/95qQ4lYcd0PYa+7fvy/Nzn+WrLV6kOR0TqWONNmBcuhMWL4dQKp4aWmrrhBmjWTK3MIpKwTOqOUc7MuHjAxQA8MfMJDQAUaeAab8I8YUJ4/MY3UhtHQ9O+PVxzDYwZAwsWpDoaEckAz8x+hoEdB9KnfZ9Uh1It7Zu159t9v82ckjmMXzg+1eGISB1qvAnza6+FWR0OPDDVkTQ8P/kJ5OfDz3+e6khEJM3NLZnL+8Xvc+GhsdP7Z4YTu5/IUV2O4uX5L/Phsg9THY6I1JHGmTDv2AFvvaXW5brSsSPcemvoyzxxYqqjEZE09vepfycvO4/vDPpOqkOpETPjkgGXcFC7g3jsk8eYU6LxGyINUeNMmN97DzZtUv/lunTjjdCrF/zP/4Q/UEREYmzasYnHPnmMc/ufS2FBYarDqbHc7FyuPuJqOhV04q8f/pV3lryT6pBEJMkaZ8I8bhzk5IQZMqRu5OfDX/4C8+fD3XenOhoRSUNPzniSDds3cE3RNakOpdYK8gq48dgb6de+H0/OfJInZjzB5h2bUx2WiCRJ41u4pLQUnnwyrEzXsmWqo2nYTjsNvv1t+OUv4YQT4JhjUh2RiKQJd+e+qfcxqNMgju7aMBaPaprblGuOvIaX5r3ExEUTmbZiGqf3OZ2LB1xMs9xmqQ5vt9KyUnaU7mB76Xa279pOqZeSZVkYhpmRZVksWbeE7KxssiyLbMsmOyubvOw88rLzyM3KJTsrO9VvQ6ReNb6EeeJEWL4c7rkn1ZE0Dg8+CEVFcPbZ8NFH0KlTqiMSkTTw5udvMmPlDP7xzX9gZqkOJ2mys7I5q99ZDO46mDGzxvDUzKd49dNXufDQCxnRewRf2/9rtGrSqk5ee+vOrSzfuJzlG5ezbOMylm1YxrKNy3bvz1s9j/Xb1rOzbGeV97r1zVvjns+yrN0JdJZl0SKvBa2atKJDQQc6FnSkR+sedG3ZlZysxpdmSMPU+L6TH30U2raFb34z1ZE0Dm3awIsvhuXHzz4b/v1vaN68+vcZXcVysVdpiViRTOHu3PLmLXRt2ZVLB16a6nDqRLeW3bjxmBtZsGYBKzat4OFpD/P3qX8ny7Lo2bonvdr2okuLLhTkFdA8rzkFuQUU5BXw3tL3cJwyL8M98ohTVlbGjrId7Cjdwc7Snewo3cFL815i9ZbVlGwpYfWW1WzasWmfOJrlNqNLiy50admFA1ofQKsmrWia05S8nDzys/PJy84jJysHd9/rdY/vfjxlXkZpWSllXsausl3sLAuvG71t37WdqV9OZeP2jazbto4FXy1ge+l2AHKzcunVthcDOg5gUKdBtG3atr7/G0SSpnElzGvXwksvwZVXhj62Uj8GDIBHHoELL4QTT4RXX1VLc23ojwfJcOVTsD34rQdpktMk1eHUGTPjoHYHcdepd/HAtx5gcvFk3lnyDnNXz2XBmgXMWjWLzTs3s2nHJnaV7aryfrlZueRm5+5u2S3zMgoLCjm4/cG0b9ae9s3a07lF590JcucWnWmV32p3C/7oj6qoO6J897DvJlw2+r7uztpta/l87ecsXLuQ2atm88zsZ3h29rP0K+xH+2bt+dZB3yI3WyvsSmZpXAnzM8/A9u1w+eWpjqTxOe+80LJ87rmhtfmBB2Do0FRHJXWlqqQ+EVUl/vrDISOVlpVy65u30qddHy4bdFmqw6k3TXObcnLPkzm558kVnt9RuoPNOzbz6PRHQ3/iSF9iw/baj3bVEen3PW5mtG3alrZN23JE5yOgP6zctJIPln3Ae0vf46xnz6JjQUcuH3Q53z/i+/Rs0zPVIYskpPEkzGVl8I9/wCGHwOGHpzqaxmnECJg0Cc45J0zpN2RImHbupJOgVSV9+txh/frQ73z9+rCtWxceN2yAXZFWmXHjQtncXCgshA4d9mw9e0KfPtCiRb291RqrLAnctAlWrICVK+Grr8J737QJdu4MX4OcnPDeW7QI5/ffP2w9ekDXrpDKPqIbNsCqVeETnnXr9jxu3x4G4ZZv7uGTn6ZNwzZ/fvj/K38v++8P++0X3qtkrEemP8Kckjn865x/qX9rlLzsPPKa5lGQV5DqUJKuY/OOnN7ndL550Dfp1rIboz8ezV3v3cWd793JGQefwfVHXc/x+x/foPqyS8PTeGqrZ56B6dPh8cdTmzw0dkVFMG8e3H8//OY3cMYZkJ0dEtrCwjBzydatsHlzSA6XL4dt2/a9T35+SLJzcsL/5+rV4XhpKWzcGK533/uazp3h4IOhb18YNCj84dS/f3p1zyn/A+GLL/be1q7dU8YstNa3aBGS5Jyc8DXbsQM+/RTeiZkDtkWL8D6jt0MOCclnsn4W3EOiPnt22J59Fr78Mvz/bYrpV5mbG/q2N20KWVnh/7/8/3HbtpBMb90afl43x0zLlZMD/fqF/7utW6Fbt7A1abgf6zcki9Yu4oYJN3BC9xM4q+9ZqQ5H6lmWZTHioBGMOGgES9cv5b4p9zH649G8MPcFDut0GNcfdT3nH3I++TlpVCeLRDSOhHn7drjllpAkXXRRqqOR/Hy4/nq4+mp4//0wc8m4cbBsGSxaFBKq/Hxo3z4sXd6qVdhat97zvKoEqawsJGobN0JJSWidbdUqJOuPPw733hvK5eSEBPLww+Gww8LjwIE1G5gI1esmsGULzJ0LM2fCrFlhe//90CILIYHs2BF69w5JYefOYb9t25BkVuaii2Dp0pBoL1q0J4kdOxYeemhPudatw3vv1w+6dAn332+/8NiyZfjalCezEJL2r77asy1dCgsW7NnWrdtz7yZNwr0GDgz369QpxN26dUiUE03Ut20Lr7tmTXjN1auhuBheeGHP1yk7Oyxz368fHHFE+BpJ2tlVtotLX7yUbMvm8TMeV2tiI9etVTf+9+v/yy9P/CVPzHiCv3zwFy5/+XJuev0mflD0A7572HfZv9X+dfb61enPDdXr/lKde9fVfat7b6la40iY770XFi8OiVlW41yrpU7VtC9pfn7ojnHSSdC9e3JjysoKSV/LliEZjI6jrCwkktOmhe3jj+GVV8LARAjJ3EEHhQT6sMNC0t61a0haO3aMn6xCaG3duTMkdNHbmjWh9Xfx4rAtX76nFTw/PyR8/fvv6X7QtWvNWk4LCkJL+sEH73tu1Sr4/e/Da5dvM2aEPyyqyyzE2bs3XHBBeCx/D6++mpzW6/LEe7/99j1X3hK/YEH4w+Pll8PWvTsMHhxmwuncufYxSFLcMekO3l36Lk9++0m6t07yz7tkrGa5zbjqiKu48vAreX3R6/zlg7/w60m/ZtSkUQw5YAgXHnIhIw8eqRk2JOUafsK8ZEn46H/YMPj611MdjaSDrKywbHevXqE/NYTE9Q9/2NMyu3QpvPYajBmz97U5OaHlOz8/tITn5YXH7dtDi/aaNaFVtKys4tct71c8dGjoW33IIWE74IBw72QMlounQ4fQ/aVPn72P79oVkvryPuLbt4f3UL65Q7NmIRlv3jw8tmwZ3nu0JUvCVh+th61awaGHhg1CS/TUqfDhh/Cvf8Fzz4Wf+SuvhJEjw/+VpMQ9H9zDqHdGcenAS7nw0AtTHY6kITNj6IFDGXrgUD5f+zmPffIYj33yGN8d+12y/i+L3m1707ewLwe3O5hurbpV2P9dLao1V1et4g1Jw06Y168PA83KysIyzZIadZ0EJoNZ6Ffbpk2YBq/c5s0hCV6zJiS2S5eGLh47d4Y+w+Vbfn7oK7x48Z6Bay1a7GnlLt9iW6dXr4a33w5bKuXkhC4TbTO4FadNm/CHyNChoQtOaWmYd/3cc0P/+MsuC8nzQQelOtJG5b4p93H9v6/nzIPP5MFvPZjqcCQD9GzTk9tPup1fnfgrbn3zVqZ9OY1ZJbN4ad5LAORk5dCtZTc6Ne9EYUEhHZp1oLCgkJWbVtK6SWv1gZY60XAT5h07wkIZ8+fDhAn6JSk1S9wLCsLWrVti05Rlwh8HjUGnTuH/67bbwicFDzwAd98Nd90V5gK/8ko46ywNFqxDm3Zs4vrx1/Pw9If55kHfZMzZYzT3rlSLmdGjdQ96tO7BmX3PZMP2DSz4agGfr/ucJeuXMHf1XN4vfn93+f/97/8C0CSnCW2atKFVk1a7l/HOtrDMd5ZlUeZlrNy8cvdiLdGP5QvF4FBG2e5zd7xzB2Vets+21+Iykf0dpTsA9rp3OY8ZjH71K1fvLrvP+48sVV7+6O67+/4btvtrFP08+rqbX78ZMyPbsncvkNMirwXN85rv3sr3562eR35OPk1ympCfnb/7ebPcZru3/Oz8Rj32oGEmzHPnwiWXhKWYH3kETjkl1RFJQ5ApyXCmxFkfsrNh+PCwrVgRWpwfeAAuvjhMaXjJJXDppWGwZyP+RZBMpWWlPD/3eW554xYWrV3ELV+7hdtPul3JstRay/yWHNH5iDC/c8SO0h2UbC6hZEsJ/Qv7s27buj3b9nXsKtu1e7XCUg+P2ZbNtl3b9kpGswhzXe8+Vp6sRvb7tu+7O+GOnhe7ormyZ6ycsdd9wr899Ut00nnEfnveS3SZ2ETecaZ9OY3IEcI/36ts+fPyc/0L++M4pWWluxfIKd++3PTlXvvbdlUwG1WMLMuiWW4z7nzvTjoWdKRLyy5hkZzIQjldW3bd/Twvu+F1gUsoYTazYcBfgGzgQXf/Xcz5fOBx4AjgK+A8d18cOfdz4AqgFPihu09IWvSxFi6Ehx8OLUkFBfD88/Dtb9fZy4lIBunUCW6+GW66Cd56KyTO998P99wTBoaedlpofT7++PCJQpon0LWpl5PN3ZlTMof/+/T/eGjaQyxcs5A+7fow6fJJHN/9+Lp4SREgzF/dpWVI0tJlxolMnCXj71P+zvbS7WzftZ3tpdvZtmsbW3dtZevOrWzZuYXNOzfvfr5fi/1YsWkF076cxiufvsKWnVv2updhdG7Rme6tu9O9VWRrvfdjJs43XmXCbGbZwL3AUKAYmGJmY919TlSxK4C17t7LzM4Hfg+cZ2b9gPOB/kBn4HUzO8jdS5P6LnbuhG98I/wSzMoKSfJf/6rll0VkX1lZYdGcIUPCVHWvvBKm3HvmmZBEQ+jLPWBAGJhZPktH585hwGd2drhHVlZIqjduDLOPQJgtpB7Upl5OdizuzpEPHMlHX34EwNFdj+Z3Q37HGQefQXZWFTPKiEhayM7KpllW6HpRlehE3N1Zt20dyzYuY9mGZRRvKOaL9V+wZP0SlqxfwuTiyfxrzr/2Wfq9bdO2dG/VnS4tu4Rl3ZuGpd3bNWtHi7wWNMttRkFeAQW5BeRl5+1pTY+0tm/esZmNOzayavMqlm9czrZd2/jNKb9J7hclRiItzIOBhe6+CMDMxgAjgeiKeSRwe+T5c8DfLHzmMBIY4+7bgc/NbGHkfu+TTLm5oY/y0KHh49XyacREROJp1y4MBrzssjBIcMYMeO+98DhzZuj/XD6AsCpdu9Zbwkwt6mWP7URZS2bGBYdcwFVHXMWI3iPo0lL1r0hjYWa0adqGNk3bcEiHQyosU1pWyopNK0ISvW7JXo/FG4qZvmI6JZtL2F66vcZxdG7RmTtOvqNO+1hbVXWnmZ0NDHP370X2LwGOcvfrosrMipQpjux/BhxFqKwnu/sTkeMPAePd/bmY17gKKP+TpQ8wv/ZvrV60B1anOohqyLR4QTHXl0yLOdPihfgxd3f3wkRvVJt62d33iSFOHZyJX+doij91Mjl2yOz4Mzl2qP/4E6p/E2lhrihdj82yKyuTyLW4+2gg40YqmdlUdy9KdRyJyrR4QTHXl0yLOdPihaTHXJt6ed+DldTBmfh1jqb4UyeTY4fMjj+TY4f0jT+RZe+KgW5R+12B5ZWVMbMcoBWwJsFrRUSkempTL4uISDUlkjBPAXqbWU8zyyMM4hsbU2YscFnk+dnAm5F+cmOB880s38x6Ar2BD5MTuohIo1WbellERKqpyi4Z7r7LzK4DJhCmL3rY3Web2ShgqruPBR4C/hkZ1LeGUHkTKfcsYSDKLuDapM+QkVqZ1o0k0+IFxVxfMi3mTIsXkhhzberlVMWcIoo/dTI5dsjs+DM5dkjT+Ksc9CciIiIi0pgl0iVDRERERKTRUsIsIiIiIhKHEuYaMLNhZjbfzBaa2c2pjqciZvawma2KzMVafqytmU00swWRxzapjDGWmXUzs7fMbK6ZzTaz6yPH0zJuM2tiZh+a2SeReH8dOd7TzD6IxPtMZFBWWjGzbDObZmavRPbTOmYzW2xmM81suplNjRxLy++LcmbW2syeM7N5ke/pY9I95oqY2Z2R9zDDzF40s9apjqkqmVBHV6ayejCTxNYvmaSin9tUx1QdZnZD5Ptmlpk9bWZNUh1TPJmUqyhhribbsyTtcKAfcIGFJcDTzaPAsJhjNwNvuHtv4I3IfjrZBfzE3fsCRwPXRr626Rr3duAUdx8IDAKGmdnRhCWI747Eu5awRHG6uR6YG7WfCTGf7O6DoubnTNfvi3J/Af7t7gcDAwlf73SPuSITgUPcfQDwKfDzFMcTVwbV0ZWprB7MJLH1Syap6Oc2I5hZF+CHQJG7H0IYEFyTwb716VEyJFdRwlx9u5ekdfcdQPmStGnF3d9h3zlXRwKPRZ4/BpxRr0FVwd2/dPePI883EiqqLqRp3B5siuzmRjYHTiEsRQxpFG85M+sKjAAejOwbaR5zJdLy+wLAzFoCJxBmqsDdd7j7OtI45sq4+2vuviuyO5kw53M6y4g6ujJx6sGMEFu/ZJI4P7eZJAdoGpl7vRlpvvZFJuUqSpirrwuwNGq/mMypzDq6+5cQKmWgQ4rjqZSZ9QAOAz4gjeOOfPQ4HVhFaIn7DFgXlWCk4/fHn4GbgLLIfjvSP2YHXjOzjyws4wxp/H0BHACUAI9EPpp+0MwKSO+YE/FdYHyqg6hCJtfRe4mpBzNFbP2SSSr7uc0I7r4MuAv4AvgSWO/ur6U2qhpJy3pSCXP1JbzcrNSMmTUHngd+5O4bUh1PPO5e6u6DCK1ug4G+FRWr36gqZ2bfBFa5+0fRhysomjYxRxzn7ocTPma/1sxOSHVAVcgBDgf+7u6HAZtJk48VK2Jmr0f6PMZuI6PK3EroLvBk6iJNSCZ8P1cpk+rBcpXUL5kko35uY0X6+o4EegKdgQIzuzi1UTUcVS5cIvvI5OW+V5rZfu7+pZntR2gVTStmlkv4JfGku78QOZz2cbv7OjN7m9DnsLWZ5URabNPt++M44HQzOw1oArQktAilc8y4+/LI4yoze5Hwx0k6f18UA8XuXt4y+BzhF29axuzuX4933swuA74JDMmA1QIzuY4GKq0HM8E+9YuZPeHumZK0VfZzmym+Dnzu7iUAZvYCcCzwREqjqr60rCfVwlx9iSxJm66il8q9DHg5hbHsI9KX9iFgrrv/KepUWsZtZoXlMwaYWVNCZTUXeIuwFDGkUbwA7v5zd+/q7j0I37tvuvtFpHHMZlZgZi3KnwOnArNI0+8LAHdfASw1sz6RQ0MIK56mbcyVMbNhwM+A0919S6rjSUAm19Hx6sG0V0n9kinJcryf20zxBXC0mTWLfB8NIYMGLUZJy3pSK/3VQOSv5z+zZ0na36Y4pH2Y2dPASUB7YCXwK+Al4Flgf8IP1jnuHtvZPmXM7GvAf4CZ7On/dguh/17axW1mAwgDErIJf3w+6+6jzOwAwkCjtsA04GJ33566SCtmZicBN7r7N9M55khsL0Z2c4Cn3P23ZtaONPy+KGdmgwgDn/KARcB3iHyfkKYxV8TC0tr5wFeRQ5Pd/eoUhlSlTKijK1NZPeju41IXVfVF1y+pjqU6Kvq5dfe1qY0qcRamNz2P0H1qGvC9dKnLK5JJuYoSZhERERGRONQlQ0REREQkDiXMIiIiIiJxKGEWEREREYlDCbOIiIiISBxKmEVERERE4lDCLCllZneb2Y+i9ieY2YNR+380sx+bWQ8z22pm06O2SyNlFpvZzKjj90SOP2pmZ0eet40sdfqdyL1mxcRxjZk9GbXf2swWmVn3mHK/MbNlkdeZaWYjoo7/iAqY2Tlm5mbWK+pYr8ixH0Qdu1+rMolIbZlZaUxdeXPUuUIz22lm34+5prwenWFmk6LrPjPbFFN2uJn9JzLXL2aWE7nuqJhy3zOzkkjdu8DM/m1mR0edf8LMPo+K8z9R1/25gvdVHKmb/2tmQ2LO3Whm90Tq1tjfFRdFXV/+Ht8ys25R8a+LPI93/ZWR6z+JPGbUlHlSO0qYJdXeI6xEhJllEeZi7B91/ljg3cjzz9x9UNT2eFS5k6OO/zD6BcysFTABGO3uj1QSx/3AgWZ2cmT/N8A/3H1JBWXvjCyHfQHwaPkvjTguAP5LmMg/2krgBjPTipsikkxbY+rK30WdOweYTKiXYp3s7gOAt4FfVHZzdx9PqL/KF5f4EfBu1Ap50Z5098PcvTdwF/CymR0Udf6GqDiPT/D9Pc2+9en5keMA82Pef/Ry7sdH3uN7hHn+K7LP9ZE/IH4KHOvuAwm/m4+jSzoAAAQZSURBVGZVcr00QEqYJdXeJZIwExLlWcBGM2tjZvlAX8Lk6zXVHBhPWOzi75UVcvcy4AfAPWY2GDgeiLvKlrvPAgxoU1kZM2sJHAVcyb6/oFYQFii4pOq3ISKSFBcAPwG6mlmXSsq8D1R2rtz1wC/NrD9wNfDzql7Y3V8nrGJ4ZeLhVuhfhCW4cyG0CgPtCH8IJCqR9xitI7AB2Azg7hvdfXE1rpcMp4RZUsrdlwO7zGx/QuL8PmFlv2OAImCGu++IFD8w5mOy6NaIt6KO3xB1/E/Af9397gRimQa8CUwErnP3nfHKm9mxwLYqViD6NvCKu88DNltYHTDa/wI/jbSui4gkQ9OYuvI8gEgXhE7u/iFhJbXzKrl+GGG1tUq5+zLgb4Q6+3Z3X5dgbB8DB0ft3x0V5+OVXRTz2quA6cCpkUPnA2N8z0psfWLe/7EV3OYbVP4eK7r+Y2Ad8LmZPazuGI2PPgqWdFDeynwsIcHtEnm+nvCxWbnPIl0hKnKyu6+u4PibwEgzuytSyVbl3si9/hOnzE/N7HJgI5X/wil3AVD+ceiYyP6M8pPuvtDMpidwHxGRRG2tpK48n5AoQ6iPHmLvT9LeMrOOwCridMmIci/wa3d/ohqxxXZhu8Hd4ybnlSjvlvFq5PHCqHPz4/yu+E/kPX4J3FxJmQqvN7OhhE8MTyF8GjnI3X9Tg9glA6lVS9JBeT/mQwldMiYTWpij+y/X1Bjg78A4M2uRQPmyyBbPneX97dy90vjMrBA4kdDPeTHwY+D8Cvo8/5ZQcVfVF1pEpDYuAC6P1EdjgYFm1jvq/MlAd2A2MCqB+yVSX8Y6DJhbzWsq8gLwDTMrArLcfUZVF0QcD/QAFgC/qs4LejDZ3f8fIUE/qzrXS2ZTwizp4F3gm8Aady+NdHFoTUia36/tzd39z8AbwItmllfb+1XDucBD7t7d3Xu4e1dgOXB0dCF3nw18Bgyvx9hEpBExsz5Agbt3idRHPQhdwvYaPOfuWwmD+C41s7ZJjuFk4LuElu1acfcNhMHUDwJPVfPaLYT3+F0za53INWbW1cyiW50HARUNCpcGSgmzpIOZhNkxJsccWx/TzSK2D3P0bBjRfZj36Qfn7j8DlgL/JHzf94lMMVS+nZOE93F71P0WE1pzXowp8zx7f3RY7jdAtyTEICIS24f5d1ReH+0zW4a7f0no8nBt5FCzmPryx9WI5aJIDJ8CPwPOcPf5Uefvjok1O3L8ipjX7FTBvZ8GBhI+SYwW2wf52tgL3b2YMHjwB7HnKrk+NxLrPDP7hDA+5YYKrpUGyvb0kRcRERERkVhqYRYRERERiUMJs4iIiIhIHEqYRURERP5/u3UgAAAAACDI33qDCYoiGMIMAABDmAEAYAgzAAAMYQYAgBE31YBmecifaAAAAABJRU5ErkJggg==\n",
      "text/plain": [
       "<Figure size 720x576 with 4 Axes>"
      ]
     },
     "metadata": {
      "needs_background": "light"
     },
     "output_type": "display_data"
    },
    {
     "data": {
      "image/png": "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\n",
      "text/plain": [
       "<Figure size 720x576 with 4 Axes>"
      ]
     },
     "metadata": {
      "needs_background": "light"
     },
     "output_type": "display_data"
    },
    {
     "data": {
      "image/png": "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\n",
      "text/plain": [
       "<Figure size 720x576 with 4 Axes>"
      ]
     },
     "metadata": {
      "needs_background": "light"
     },
     "output_type": "display_data"
    },
    {
     "data": {
      "image/png": "iVBORw0KGgoAAAANSUhEUgAAAsgAAAEtCAYAAAAVypbaAAAABHNCSVQICAgIfAhkiAAAAAlwSFlzAAALEgAACxIB0t1+/AAAADh0RVh0U29mdHdhcmUAbWF0cGxvdGxpYiB2ZXJzaW9uMy4xLjEsIGh0dHA6Ly9tYXRwbG90bGliLm9yZy8QZhcZAAAgAElEQVR4nOzdeZxcdZX//9fpzr5DEhLIHpIAkU2IAUUYEIEEkaCCoCKojFFHdBT9KoiiMsxvdFxwQ4coKKJsgsxEDAYUUEGWNBATAkaymXQSspCdrJ2c3x/nll001enq7qq6tbyfj0c9btWtW7dOVVd/6tTnnvv5mLsjIiIiIiKhLu0ARERERETKiRJkEREREZEsSpBFRERERLIoQRYRERERyaIEWUREREQkixJkEREREZEsXdIOoD0GDRrko0ePTjsMEZGCevrpp9e7++C042iN2l4RqVattb8VlSCPHj2ahoaGtMMQESkoM/tH2jHsj9peEalWrbW/KrEQEREREcmiBFlEREREJIsSZBERERGRLEqQRURERESyKEEWEREREcmiBFlEREREJEteCbKZTTGzhWa2yMyuzHF/dzO7M7n/STMbnaw/w8yeNrP5yfItWY95JNnn3ORyUKFelIiIiIhIR7U5DrKZ1QM3AGcAjcAcM5vp7s9nbXYZsNHdx5nZRcDXgQuB9cDb3X2VmR0JzAaGZT3ufe6uwTVFREREpGzk04M8GVjk7kvcfTdwBzCtxTbTgFuS63cDp5uZufuz7r4qWb8A6GFm3QsRuIiIiIhIMeSTIA8DVmTdbuTVvcCv2sbdm4DNwMAW27wLeNbdd2Wt+2lSXvElM7NcT25m082swcwa1q1bl0e4IiIiIiIdl89U07kSV2/PNmb2OqLs4sys+9/n7ivNrC9wD/B+4Oev2Yn7DGAGwKRJk1o+rwDMmJF7/fTppY1DRCRNudpCtYMi0gH59CA3AiOybg8HVrW2jZl1AfoDG5Lbw4F7gUvcfXHmAe6+MlluBW4jSjlERERERFKVT4I8BxhvZmPMrBtwETCzxTYzgUuT6+cDD7m7m9kA4LfAVe7+WGZjM+tiZoOS612Bc4DnOvdSREREREQ6r80EOakpvpwYgeIF4C53X2Bm15rZuclmNwEDzWwRcAWQGQrucmAc8KUWw7l1B2ab2TxgLrAS+HEhX5iIiIiISEfkU4OMu88CZrVYd03W9Z3ABTkedx1wXSu7PT7/MEVERERESkMz6YmIiIiIZFGCLCIiIiKSRQmyiIiIiEgWJcgiIiIiIlmUIIuIiIiIZFGCLCIiIiKSRQmyiIiIiEiWvMZBlio0Y0bu9dOnlzYOERERkTKjHmQRERERkSxKkEVEREREsihBFhERERHJogRZRERERCSLEmQRERERkSxKkEVEREREsihBFhGpQGY2xcwWmtkiM7syx/2nmNkzZtZkZudnrT/WzB43swVmNs/MLixt5CIi5U/jIFcTd1i2DDZtggMPhM2boX//tKMSkQIzs3rgBuAMoBGYY2Yz3f35rM2WAx8APtvi4duBS9z9RTM7BHjazGa7+6YShC4iUhGUIFeDffvgD3+AP/0J1q5tXv/Nb8LHPw5XXQWDB6cXn4gU2mRgkbsvATCzO4BpwD8TZHdflty3L/uB7v73rOurzGwtMBhQgiwiklCCXOl27YKf/hSeegrGj4cpU2DYsOhF3rkTvvtd+MlP4Lbb4Jxz0o5WRApjGLAi63YjcEJ7d2Jmk4FuwOIc900HpgOMHDmyY1GKiFQo1SBXsh074OyzIzk+7zz4zGfgpJNg9Gg49li4+WZ47jmYMCHu/+Uv045YRArDcqzzdu3A7GDgVuCD7r6v5f3uPsPdJ7n7pME6AiUiNUYJciX71KfgoYfgAx+AqVPBcnxnHnEEPPwwnHIKXHyxkmSR6tAIjMi6PRxYle+Dzawf8Fvgi+7+RIFjExGpeEqQK9Vdd8GMGfC5z8Eb37j/bfv2hVmz4OST4WMfg6VLSxOjiBTLHGC8mY0xs27ARcDMfB6YbH8v8HN3/1URYxQRqVhKkCvR0qXw4Q/DiSfCddfl95gePeDWW6OX+f3vjxP7RKQiuXsTcDkwG3gBuMvdF5jZtWZ2LoCZvcHMGoELgBvNbEHy8HcDpwAfMLO5yeXYFF6GiEjZ0kl6lcY9eoHd4fbboWvX/B87ahT84AdwySVw0EFxQp+IVCR3nwXMarHumqzrc4jSi5aP+wXwi6IHKCJSwdSDXGl+/WuYPRuuvTZOxmuviy+O0Sxmz46T/ERERETkVZQgV5Jt2+LEvKOPhssv79g+zOCaa2D7dvjznwsbn4iIiEgVUIJcSf7jP6CxEX74Q+jSieqYN7wBDj8cfv972LOncPGJiIiIVAHVIKdpxozc66dPf+2655+PmfHe9CZYsCAunTFlCnznO/DEEzG6hYiIiIgA6kGuDO4xZXSPHvDOdxZmn4cfDiNHwgMPxP5FREREBFCCXBluvx0eeSRmw+vbtzD7NINTT4W1a2H58sLsU0RERKQKKEEud2vXwqc/DZMmFb4U4phjoK4OnnmmsPsVERERqWCqQS6k9tQU58M9JgTZtClOqHv88Y7HlkufPnDYYZEgn3de7qmqRURERGqMEuRydtNNMHMmfPvbcNRR7U+QW0vYs73+9XDbbbBqFQwb1rE4RURERKqISizK1ZNPxpjHp58O//7vxXue178+eo5VZiEiIiICKEEuT88+G8OwDR0Kt94adcLF0q8fjBunBFlEREQkoQS53LzwApxxRiSuf/gDHHxw8Z/zuOOixGLNmuI/l4iIiEiZUw1yudiwIeqNH38cxo+H+++HUaNK89wTJ8byxRdL83wiIiIiZUwJcpo2b4ann4aGBli8OEoppk6Fe+6Bnj1LF8eQITG+8qJFpXtOERERkTKlBDkN8+fDZz8LDz4YQ7kNGwbTpsEb3gCDB5c2OYY4Se/QQ6MHudBD1YmIiIhUGCXIpbRnD1x9dQzbNmAAvO1tMQFIKeqM2zJuHMydG2MuDxiQdjQiIiIiqdFJeqV09dXwjW/ApZfCwoXw9reXR3IMUfcMqkMWERGRmpdXgmxmU8xsoZktMrMrc9zf3czuTO5/0sxGJ+vPMLOnzWx+snxL1mOOT9YvMrPvmVX5NG733x/J8cc+FhOADByYdkSvNmIEdO+uOmQRERGpeW0myGZWD9wATAUmAu8xs4ktNrsM2Oju44Drga8n69cDb3f3o4BLgVuzHvMjYDowPrlM6cTrKG8rV8Ill8DRR0d5RTmqr4exY5Ugi4iISM3Lpwd5MrDI3Ze4+27gDmBai22mAbck1+8GTjczc/dn3X1Vsn4B0CPpbT4Y6Ofuj7u7Az8Hzuv0qylXX/86bN0Kd90FPXqkHU3rxo2LZH779rQjEREREUlNPgnyMGBF1u3GZF3Obdy9CdgMtKwheBfwrLvvSrZvbGOfAJjZdDNrMLOGdevW5RFumdmzB375S3jHO+Cww9KOZv/Gj49RNRYvTjsSERERkdTkkyDnqg329mxjZq8jyi4+0o59xkr3Ge4+yd0nDR48OI9wy8y8eTEJyAc/mHYkbRs9OoZ8W7Ys7UhEREREUpNPgtwIjMi6PRxY1do2ZtYF6A9sSG4PB+4FLnH3xVnbD29jn9XhscfiBLjTT087krZ17w4HHQSNjW1vKyIiIlKl8kmQ5wDjzWyMmXUDLgJmtthmJnESHsD5wEPu7mY2APgtcJW7P5bZ2N1XA1vN7MRk9IpLgP/r5GspPxs3wvPPx7Bu9fVpR5Of4cOVIIuIiEhNa3OiEHdvMrPLgdlAPXCzuy8ws2uBBnefCdwE3Gpmi4ie44uSh18OjAO+ZGZfStad6e5rgY8BPwN6Avcnl+ry+ONR09ujR+sz1OXSnm0LbfjwmP56x47Sz+gnIiIiUgbymknP3WcBs1qsuybr+k7gghyPuw64rpV9NgBHtifYijN/PowZE9NHV4oRSTXNypUxqoWIiIhIjdFMesWyZw8sX155SebwpDR8xYr9byciIiJSpZQgF8uKFdDUFJNvVJIBA6B3b9Uhi4iISM1SglwsS5bE8tBD042jvcyizEIJskhZM7MpZrbQzBaZ2ZU57j/FzJ4xsyYzO7/FfZea2YvJ5dKWjxURqXVKkItlyRIYOBD69087kvYbPjxqkPfuTTsSEcnBzOqBG4CpwETgPWY2scVmy4EPALe1eOyBwJeBE4iZUr9sZgcUO2YRkUqiBLlYliypvPKKjOHDo4Z67dq0IxGR3CYDi9x9ibvvBu4ApmVv4O7L3H0esK/FY88CHnT3De6+EXgQmFKKoEVEKoUS5GLYuDEulZogZ0ayUJmFSLkaBmSfSduYrCvYY81supk1mFnDunXrOhyoiEglUoJcDJn640pNkIcOjYlNNJKFSLmyHOu8kI919xnuPsndJw2upKEqRUQKQAlyMSxeDF27Ng+ZVmm6dIkkeVV1zv4tUgUagRFZt4cD+f7DduaxIiI1QQlyMSxZAqNGRaJZqYYOhTVr0o5CRHKbA4w3szFm1o2YvXRmno+dDZxpZgckJ+edmawTEZGEEuRC27cvandHjUo7ks4ZMgTWr4+xnEWkrLh7E3A5kdi+ANzl7gvM7FozOxfAzN5gZo3ELKc3mtmC5LEbgP8gkuw5wLXJOhERSVRwF2eKZsxo/b5Nm2IEiKFDSxdPMQwdGsn+unVw8MFpRyMiLbj7LGBWi3XXZF2fQ5RP5HrszcDNRQ1QRKSCKUEutExZwkEHpRtHZw0ZEsuXXlKCLCLlZ38dFSIinaQSi0LLjB2cSTArVSZ+1SGLiIhIjVGCXGhr1kC3bpU5g162nj1hwIDoQRYRERGpIUqQC23t2iivqKuCt3bIECXIIiIiUnOqIIsrM2vWVH79cUZmqDfPd/4BERERkcqnBLmQ9u6NodEqvf44Y8gQ2L4dtm5NOxIRERGRklGCXEjr18fQaNWUIINO1BMREZGaogS5kDIjWFRTiQWoDllERERqihLkQsr0tFZLD/KBB0LXrupBFpHyt3Mn/OxncPXVsGtX2tGISIXTRCGFtHYt9OoFvXunHUlh1NVpJAsRKX+NjfCjH0WZG8CSJXDEEenGJCIVTT3IhZQZwcIs7UgKZ8gQ9SCLSHm7997oQf7EJ6L9XbQo7YhEpMIpQS6kNWuqp7wiY/Dg6JVpako7EhGR3FauhIkT4cgjYfhwJcgi0mlKkAtl927YuLE6E+R9++IQpohIudmxI9regw+O24ceCkuXxrCbIiIdpAS5UDK1b4MHpxtHoWVez+LF6cYhIpJL5hyJQw6J5fjxcZLeihXpxSQiFU8JcqFs2hTLAw9MN45CU4IsIuVs1apYZvcgg8osRKRTlCAXysaNsRwwIN04Cm3AAKivj7PCRUTKzerVMRxl5sf8AQfAoEFKkEWkU5QgF0q1Jsh1dfFlox5kESlHq1bFpEZ1WV9n48ZFguyeXlwiUtGUIBfKxo3Qrx90qcKhpQcPVoIsIuVp9erm8oqMceNg69bm2U1FRNpJCXKhbNpUfb3HGZkeZPXGiEg52bkTNmx4bYI8enQsly8veUgiUh2UIBfKxo1R+1aNBg+GLVvii0hEpFysXh3LzAgWGZl65JdfLm08IlI1lCAXSrUnyKAyCxEpLy1HsMjo0QN6924eflNEpJ2UIBfCrl2wfXv1JsiDBsVSI1mISDlZvTrO+8g1/nxmFlARkQ5QglwImTGQq7UGWT3IIlKOVq9+7QgWGQMHKkEWkQ5TglwImSHeqrUHuVu3OISpBFlEykmuESwyBg2K8yY05bSIdIAS5EKo9gQZYOxYlViISPnYty/a3oEDc98/aFAkxytXljYuEakKSpALoVonCcl26KHqQRaR8rF9eyTJ/fvnvl/nTohIJyhBLoRNm+KM6W7d0o6keA49NHpidu5MOxIREdi8OZZtJchLl5YmHhGpKkqQC6Gah3jLGDs2JgrRl42IlINMgtyvX+77DzwQzNRmiUiHKEEuhFpIkA89NJY6XClSFsxsipktNLNFZnZljvu7m9mdyf1PmtnoZH1XM7vFzOab2QtmdlWpYy+ItnqQu3SJdlltloh0QF4Jcica4oFm9rCZbTOzH7R4zCPJPucml4MK8YJSsWlT7STIqkMWSZ2Z1QM3AFOBicB7zGxii80uAza6+zjgeuDryfoLgO7ufhRwPPCRTJtdUdpKkCHKLNSDLCId0GaC3MmGeCfwJeCzrez+fe5+bHJZ25EXkLo9e2Dr1uo+QQ9iLOTevZUgi5SHycAid1/i7ruBO4BpLbaZBtySXL8bON3MDHCgt5l1AXoCu4EtpQm7gDZvjhnzundvfRslyCLSQfn0IHe4IXb3V9z9USJRrk6ZSUKqvQfZLHqRdbhSpBwMA1Zk3W5M1uXcxt2bgM3AQKKNfgVYDSwHvunuG1o+gZlNN7MGM2tYt25d4V9BZ23evP/eY4gEefVq2LGjNDGJSNXIJ0HuTEPclp8m5RVfSno2XqPsG+laGAM5Q0O9iZSLXO2l57nNZGAvcAgwBviMmY19zYbuM9x9krtPGpxrKue05ZMgZ8ZIXras6OGISHXJJ0HuTEO8P+9LauBOTi7vz7VR2TfS1T7NdLZMD/K+fWlHIlLrGoERWbeHA6ta2yYpp+gPbADeC/zO3fckpW2PAZOKHnGhbdnSdoKc+c5QmYWItFM+CXJnGuJWufvKZLkVuI3o1ag8W5LSvbYa6mowdizs2hWHLEUkTXOA8WY2xsy6ARcBM1tsMxO4NLl+PvCQuztRVvEWC72BE4G/lSjuwtm8ufUh3jI0FrKIdFA+CXJnGuKczKyLmQ1KrncFzgGea2/wZWHLlhhOqGfPtCMpPo1kIVIWklK2y4HZwAvAXe6+wMyuNbNzk81uAgaa2SLgCiAzAtENQB+izZ0D/NTd55X0BXTW1q3xY72tjol+/eIkPiXIItJOXdrawN2bzCzTENcDN2caYqDB3WcSDfGtSUO8gUiiATCzZUA/oJuZnQecCfwDmJ0kx/XA74EfF/SVlcrWrdC3b5zEVu2yE+RTTkk3FpEa5+6zgFkt1l2TdX0nMaRby8dty7W+omSOYrWVIJvB8OHQ2Fj8mESkqrSZIEPHG+LkvtGt7Pb4/EIsc5kEuRaMHAn19RrJQkTSlW+CDDBihBJkEWk3zaTXWVu21E6C3LVrJMkqsRCRNLUnQR4+HFasaHs7EZEsSpA7a+vWtk8UqSYa6k1E0tbeHuRVq2Dv3uLGJCJVRQlyZ7jXVg8yxEgWKrEQkTStXh0nR/fq1fa2w4dDUxOsWVP8uESkaihB7oydO6PhraUE+dBDYf365uHtRERKbfXq6D3O5+ToEckopapDFpF2UILcGVu3xrLWSixAZRYikp6XXsq/3R0+PJaqQxaRdlCC3BmZXtRa6kEem8xIqzILEUlLpgc5H+pBFpEOUILcGZke5FpKkNWDLCJpa0+CPHAg9OihBFlE2kUJcmfUYolFv34xfasSZBFJw65dsGFD/glyZrIQlViISDvkNVGItCJTYtGnT7pxlMKMGc3X+/SBP/851k2fnl5MIlJ7MqNRtKdjQrPpiUg7qQe5M7ZujWGGutTY74zBg2HdurSjEJFalGl72lPaNmKEepBFpF2UIHdGrU0SkjF4cBzi1MD7IlJq69fHsj1H7jRZiIi0kxLkzqi1SUIyBg2Cffvg5ZfTjkREak1HEmRNFiIi7aQEuTO2bq3NBHnw4FhmvqhEREol88O8vT3IoDpkEcmbEuTOqOUSC1AdsoiU3vr1UFeX3zTTGZosRETaSQlyR+3dC6+8Ups9yP37Q9euSpBFpPTWr4cDDogkOV/qQRaRdlKC3FG1OElIRl1d1CErQRaRUlu/Ptqf9jjwQE0WIiLtogS5o2pxkpBsgwapBllESq8jCbKZhnoTkXZRgtxRmUlCarEHGZrHQnZPOxIRqSUdSZAh6pCXLy98PCJSlZQgd1Qtl1hAJMi7dqnMQkRK6+WXO5YgjxqlHmQRyZsS5I6q9RKLzEgWixenG4eI1A73jvcgjxwZk4Xs2VP4uESk6ihB7qgtW2KK6R490o4kHUqQRaTUtm2D3bs7niDv2wcrVxY+LhGpOkqQOyozSYhZ2pGkY+DAeO1KkEWkVDInBne0xAJUhywieVGC3FG1OklIRteuMRbpiy+mHYmI1IpMgjxwYPsfO3JkLP/xj8LFIyJVSwlyR23ZUrsn6GUMGQILF6YdhYjUis70IGcmC1EPsojkQQlyR2VKLGpZJkHWUG8iUgqdSZB79oSDDlIPsojkRQlyR7irxAJg6NB4H156Ke1IRKQWvPxyLDuSIEOUWagHWUTyoAS5I3bsgKYm9SAPGRLLv/0t3ThEpDasXw/19dC/f8ceP2qUEmQRyYsS5I6o9UlCMoYOjaXqkEVKzsymmNlCM1tkZlfmuL+7md2Z3P+kmY3Ouu9oM3vczBaY2Xwzq4zxKtevjxP06jr41TVyZJRYqCxMRNqgBLkjMtNM13qJxYAB0KuXEmSREjOzeuAGYCowEXiPmU1ssdllwEZ3HwdcD3w9eWwX4BfAR939dcCpQGXMntHRSUIyRo6E7dthw4bCxSQiVUkJckeoBznU1cGECUqQRUpvMrDI3Ze4+27gDmBai22mAbck1+8GTjczA84E5rn7XwHc/WV331uiuDunswlyZixknagnIm1QgtwRtT7NdLbDDlOCLFJ6w4AVWbcbk3U5t3H3JmAzMBCYALiZzTazZ8zsc7mewMymm1mDmTWsW7eu4C+gQzIlFh2VGQtZdcgi0gYlyB2RKbHo0yfdOMrBYYfBsmWwa1fakYjUklxTeLYsrG1tmy7Am4H3Jct3mNnpr9nQfYa7T3L3SYMzU8unrRAlFqAEWUTapAS5I7Zuhd6942zqWnfYYbBvHyxalHYkIrWkERiRdXs4sKq1bZK64/7AhmT9H919vbtvB2YBxxU94s5yj2HeOpMgDxoU4yGrxEJE2qAEuSM0BnKzww6LpYZ6EymlOcB4MxtjZt2Ai4CZLbaZCVyaXD8feMjdHZgNHG1mvZLE+V+A50sUd8dt2RLDa3YmQTbTWMgikpcuaQdQkTTNdLMJE2KpOmSRknH3JjO7nEh264Gb3X2BmV0LNLj7TOAm4FYzW0T0HF+UPHajmX2bSLIdmOXuv03lhbRHZ2bRy5YZ6k1EZD+UIHfE1q0wfHjaUZSHvn3hkEOUIIuUmLvPIsojstddk3V9J3BBK4/9BTHUW+UoVII8ahTMm9f5eESkqqnEoiO2blUPcrbDD4cXXkg7ChGpZoVKkEePhjVr4JVXOh2SiFQv9SC3165dMdC8apCbHXUU/PjHsHevTlwUkcKaMSOWjz8eywcfhLlzO76/8eNjuWgRHHNM52ITkaqlHuT2yowHqh7kZsccEz8aFi9OOxIRqVbbtsWys8NrZs6bePHFzu1HRKqaEuT2Wrs2lupBbnb00bFUXZ+IFMu2bTF7Z48endvPuHGx/PvfOx+TiFStvBJkM5tiZgvNbJGZXZnj/u5mdmdy/5NmNjpZP9DMHjazbWb2gxaPOd7M5ieP+V4yBWr5W7MmlupBbva610VpxV//mnYkIlKttm2L3uPOflX06RMnFqsHWUT2o80E2czqgRuAqcBE4D1mNrHFZpcBG919HHA98PVk/U7gS8Bnc+z6R8B0YHxymdKRF1By6kF+rR49YjxkJcgiUiyZBLkQxo9XD7KI7Fc+PciTgUXuvsTddwN3ANNabDMNuCW5fjdwupmZu7/i7o8SifI/mdnBQD93fzwZuP7nwHmdeSElk0mQ1YP8akcfrRILESmeQifI6kEWkf3IJ0EeBqzIut2YrMu5jbs3AZuBgW3ss7GNfQJgZtPNrMHMGtZlTpBL05o10LUrdO+ediTl5ZhjYvD9TZvSjkREqtErrxQuQZ4wIU64VnslIq3IJ0HOVfDlHdimQ9u7+wx3n+TukwYPHryfXZbI2rVRXlEhJdMlkxkuSb3IIlIMhe5BBvUii0ir8kmQG4ERWbeHA6ta28bMugD9ialN97fP7Knocu2zPK1dq/KKXDSShYgUy759hU2QNdSbiLQhnwR5DjDezMaYWTfgImBmi21mApcm188HHkpqi3Ny99XAVjM7MRm94hLg/9odfRrWrFGCnMshh8DAgTpRT0QKb8cOcIfevQuzv7Fj4yigEmQRaUWbM+m5e5OZXQ7MBuqBm919gZldCzS4+0zgJuBWM1tE9BxflHm8mS0D+gHdzOw84Ex3fx74GPAzoCdwf3Ipf2vXwpgxaUdRfsyizEI9yCJSaIWaJCSjRw8YOVIjWYhIq/KaatrdZwGzWqy7Juv6TuCCVh47upX1DcCR+QZaFtwjQc6UE8irHX003HgjNDVBF81iLiIFUugEGaLMQj3IItIKzaTXHhs3RvKnEovcJk+OQ6Hz56cdiYhUk2IkyJmh3lqvBhSRGqYEuT00Scj+nXRSLB97LN04RKS6FKsHedMmWL++cPsUkaqhBLk9NEnI/o0YAcOGwV/+knYkIlJNipEgH3ZYLF94oXD7FJGqoQS5PdasiaV6kHMzgze9ST3IIlJY27bFeQ2FnKDp2GNj+cwzhduniFQNJcjtoR7ktp10EixfDo2NbW8rIpKPzCx6hZygaejQGJ7y6acLt08RqRpKkNtjzZpooAs1Fmc1etObYqkyCxEplEJOEpLtuOPUgywiOWksrvZYuxYGDYL6+rQjKV/HHgs9e0aC/O53px2NiFSDbds63jExY8Zr102fHsvjj4dZs6KHWh0fIpJFPcjtsXYtHHRQ2lGUt65dY7g39SCLSKEUqwf5+ONjGuu5cwu/bxGpaEqQ22PNGiXI+TjpJHj2Wdi+Pe1IRKQaFDpBnjEjLs8/H7e///3C7VtEqoJKLNpj7VqYNCntKMpLrsOXW7bEhCqPPw6nn176mESkeuzbFz+2i9GDPGBAjEq0fHnh9y0iFU09yO2hEov8jB8P3brB/fenHYmIVLrt22O2u2IkyGYwciT84x+F37eIVDQlyPnauTN6RpUgt61HD/iXf4mTX0REOqMYk4RkGzkSVq9WSZiIvIoS5MZvL9sAACAASURBVHxlxkAeMiTdOCrF294WM1QtXZp2JCJSyYqdII8aFT3U8+YVZ/8iUpGUIOcrkyCrBzk/Z58dS/Uii0hnlKIHGeCpp4qzfxGpSEqQ85WZZloJcn7Gj4dx45Qgi0jnFDtBPuCAGN/+wQeLs38RqUhKkPOlEov2O/tseOgh2LEj7UhEqo6ZTTGzhWa2yMyuzHF/dzO7M7n/STMb3eL+kWa2zcw+W6qYO6TYCbIZHHlktFW7dhXnOUSk4ihBzpdKLNrvbW+LkxsffjjtSESqipnVAzcAU4GJwHvMbGKLzS4DNrr7OOB64Ost7r8eKP+hZrZtiwmIunUr3nO87nVxkt6jjxbvOUSkoihBzteaNdCrl6YjbY9TToG+feGee9KORKTaTAYWufsSd98N3AFMa7HNNOCW5PrdwOlmZgBmdh6wBFhQong7rliz6GU77LBIwH/3u+I+j4hUDCXI+Vq7VuUV7dWjB7zrXXD33SqzECmsYcCKrNuNybqc27h7E7AZGGhmvYHPA1/d3xOY2XQzazCzhnXr1hUs8HbbujUm8yim7t3jB73GbheRhBLkfGmSkI65+OIYP/q++9KORKSaWI51nuc2XwWud/dt+3sCd5/h7pPcfdLgwYM7GGYBbNkSR6KKbcoUWLAAVqxoe1sRqXpKkPO1Zo0S5I449VQ45BD4xS/SjkSkmjQCI7JuDwdWtbaNmXUB+gMbgBOA/zazZcCngC+Y2eXFDrjDtm4tXYIMMHt28Z9LRMqeEuR8qcSiY+rr4b3vjeHe1q9POxqRajEHGG9mY8ysG3ARMLPFNjOBS5Pr5wMPeTjZ3Ue7+2jgO8D/5+4/KFXg7eJeugR54kQYMQLuvbf4zyUiZU8Jcj727YN169SD3FEXXwxNTfCrX6UdiUhVSGqKLwdmAy8Ad7n7AjO71szOTTa7iag5XgRcAbxmKLiyt2VLtB3FrkGGGO7t0kujDnnZsuI/n4iUNSXI+Xj5Zdi7VwlyRx19dIwzetNN0SMkIp3m7rPcfYK7H+ru/5msu8bdZybXd7r7Be4+zt0nu/uSHPv4irt/s9Sx5y0zvGYpepABpk+PRPnGG0vzfCJStrqkHUBFWL06locckm4clWTGjFffPuoouP32mM71hBPSiUlEKksmQS5FDzJEicW558JPfgJf+UqMbiEiNUk9yPlYlZz7ogS54048MYZ9+0F5ljqKSBkqdQ8ywMc/HudL3H136Z5TRMqOEuR8ZHqQDz443TgqWY8e8MY3wl13xYggIiJtSSNBfstbYMIE+O53VRImUsOUIOcj04OsBLlzTj0Vdu+Ow5ciIm3JJMjFnkkvW10dfP7zMGcO/OxnpXteESkrSpDzsXo1DBgAPXumHUllGzoUzjgDfvSjSJRFRPZnzRro1Qu6lPh0mQ98AN78ZvjsZ2MEIxGpOUqQ87FqleqPC+WII2DlSvjwh+NEvsxFRKSltWtLW16RUVcXI1ls3RpJsojUHCXI+Vi9WuUVhTJxIowcCb/7XYwvLSLSmrQSZIi26nOfg5//HH74w3RiEJHUKEHOh3qQC8cMpk6NL75nnkk7GhEpZ2vXlm6It1y+/GU45pgY2eIDH9ARL5EaogS5Le7Rg6wEuXCOPTam7b7/fp0lLiKtS7MHGaBr1ygHO+KI6El+4AEd+RKpEUqQ2/Lyy7Bnj0osCqmuLnqRGxvh2WfTjkZEytGePdH+ppkgQyTJ//Zv8cP+nnvge99rHtlIRKqWZtJriyYJKY7Jk6MO+X//Nw5hiohkW78+lmmWWGR06wYf+Qg8+miM5T5hAlxySSTNGdOnpxefiBScEuS2aJKQ4qivh3e8I4Z8+8tf4GMfSzsiESknpZ4kpK3aYjM4+WQYPx5uuinarlNPhXe/O9ozEakqKrFoi3qQi+eYY2DsWLjvPti+Pe1oRKScpDGLXj6GDo2JRN76VnjkkRjhYufOtKMSkQJTD3Jb1INcPGbwznfCN78JX/saXHtt2hGJSLko1wQZYuKSCy6Ik41vvx2+9a044bjlZFIquxCpWOpBbsuqVZpFr5jGj4965K99DZ5/Pu1oRKRcrFkTy3JMkDNOOQU++tE44fimmzTChUgVUYLcFk0SUnwXXBBfgtOn6wtGRMLatTGCRK9eaUeyf8ccAxdeCPPnw733ph2NiBRIXgmymU0xs4VmtsjMrsxxf3czuzO5/0kzG51131XJ+oVmdlbW+mVmNt/M5ppZQyFeTFFokpDi69cPvv1teOyxOPFFRGTtWjjooCjFKnenngr/8i8xTrKGrhSpCm0myGZWD9wATAUmAu8xs4ktNrsM2Oju44Drga8nj50IXAS8DpgC/DDZX8Zp7n6su0/q9CspFk0SUhqXXAJTpsAVV8BTT6UdjYikLZMgV4oLL4QRI+C22+CVV9KORkQ6KZ8e5MnAIndf4u67gTuAaS22mQbckly/GzjdzCxZf4e773L3pcCiZH+VwT16kFViUXxm8ItfxHt9/vmwbl3aEYlImtasgcGD044if/X1cOmlsG1bjJUsIhUtnwR5GLAi63Zjsi7nNu7eBGwGBrbxWAceMLOnzazVU33NbLqZNZhZw7pSJ02ZWfTUg1waAwfCr38dyfG73qVeGJFaVonlbSNGxCyhTzwRNckiUrHySZBzFYB5ntvs77EnuftxROnGx83slFxP7u4z3H2Su08aXOreBA3xVnrHHQc/+1nUI599dvTGiEht2bMn2t8RI9KOpP2mTo2xku+4Q+Mji1SwfBLkRiC7lRoOtJyI/p/bmFkXoD+wYX+PdffMci1wL+VYepGZJEQJcmldeCH88peRJJ91lsotRGrN6tVR4laJCXLXrnDRRTFV9n//d9rRiEgH5TNRyBxgvJmNAVYSJ929t8U2M4FLgceB84GH3N3NbCZwm5l9GzgEGA88ZWa9gTp335pcPxMov1kili2L5ahRqYZRE3JN83rZZXDzzXDYYTEE3NixzfdpAH6R6rUiqcwbPrz5eiU54gg4/nj4r/+C978fxoxJOyIRaac2e5CTmuLLgdnAC8Bd7r7AzK41s3OTzW4CBprZIuAK4MrksQuAu4Dngd8BH3f3vcAQ4FEz+yvwFPBbd/9dYV9aASxbFr0Bw1qWXEtJHH98TOlaXx+z7f3mN3HoVUSqW2NjLCuxBznj/POhrg4+/em0IxGRDshrqml3nwXMarHumqzrO4ELWnnsfwL/2WLdEuCY9gZbckuXwsiRkaBJOkaOhC98IaZzve8+mDMHLr447ahEpJiye5Ar1YEHwpe+BFddBfffH7XJIlIxNJPe/ixdCqNHpx2F9O4N//qv8IlPwN698K1vRfnFhg1pRyYixdDYCH36QP/+aUfSOVdcARMmwCc/Cbt2pR2NiLSDEuT9WbZMtWPl5Mgj4ctfhjPPhFtuidrkn/5U01OLVJsVK6K8ohJm0dufbt3g+9+HRYvih72IVAwlyK155ZWYyUkJcnnp1i3GSH7mmeiZ+dCH4JRTYN68tCMTkUJpbKzs8opsZ54J73gHXHcdLF+edjQikiclyK3JjGChEovydPTR8Oc/w003wd/+FuMnX3GFJheRmmFmU8xsoZktMrMrc9zf3czuTO5/0sxGJ+vPSCZomp8s31Lq2NuU6UGuFtdfH8srrkg3DhHJW14n6dWkTIKsHuTyVVcXPcjTpsWJfNdfH+Mnf+hDr/27aVg4qSJmVg/cAJxBjDc/x8xmuvvzWZtdBmx093FmdhHwdeBCYD3wdndfZWZHEiMUlc9QPbt3w0svVVeCPGpUtFFf+hI8+CCccUbaEYlIG9SD3JqlS2OpBLn8DRwIN94IDz0Uw8D993/Hl5C3nPBRpGpMBha5+xJ33w3cAUxrsc004Jbk+t3A6WZm7v5sZqImYAHQw8y6lyTqfGQmCamWEouMz34WDj00TjbWCXsiZU8JcmuWLoUePWDIkLQjkXyddhpccw0ceyzcfXdMWa1xk6U6DQOyZ9Bo5LW9wP/cJhnPfjMwsMU27wKedffXZGxmNt3MGsysYV0pZ7PMDPFWTT3IEN8n3/8+LFwI15bfvFgi8mpKkFuzbFnUH1f6WdS1plevKKd4+9vhiSfgu9+FnTvTjkqk0HI1TC0Pmex3GzN7HVF28ZFcT+DuM9x9krtPGjx4cIcDbbfMJCHV1oMMMRbyBz8IX/saPPlk2tGIyH4oQW7N0qUqr6hUZnDOOTFW8uLFkSRv3px2VCKF1Ahkd7EOB1a1to2ZdQH6AxuS28OBe4FL3H1x0aNtj2rtQc74znci+b/kEti+Pe1oRKQVOkmvNUuXwoknph2FtGbGjLa3mTwZunSBH/8Yzjor6pL79i1+bCLFNwcYb2ZjgJXARcB7W2wzE7gUeBw4H3jI3d3MBgC/Ba5y98dKGHN+GhuhX7+4VLrW2qnzz4dvfzvapfe/XycRi5Qh9SDnsmlTXNSDXPmOOw4+8hFoaIB3vlMnx0hVSGqKLydGoHgBuMvdF5jZtWZ2brLZTcBAM1sEXAFkhoK7HBgHfMnM5iaXg0r8Elq3YkV1lldkO+wwmDIFHn00SsFEpOyoBzkXDfFWXY49Fi6+OGbfO+mkmLa6LvltqJ4bqVDuPguY1WLdNVnXdwIX5HjcdcB1RQ+woxobq7e8Itu550YJ2C9/GSNcTJyYdkQikkU9yLlkhnjTJCHV401vihn4nn4abr9dQ8CJlKta6EEGqK+PH+vdu8dMexs2pB2RiGRRgpyLepCr05lnxuVPf4Lf/CbtaESkpd27Yc2a2uhBBhgwAD760fjOOf/8eP0iUhaUIOeycGE0XAcemHYkUmjvfGeUWfz2tzGxiIiUj0WL4ujO+PFpR1I648bBT34CDz8cybKObomUBdUg5zJvHhx9tMZArkZm8L73wbZtcOedUQf43pYn/9P62eeqWRYpnueTmbJrrR73/e+PHwfXXhujd1x/vb5/RFKmHuSW9u2D+fMjQZbqlKn9Gz8eLr0U7rsv7YhEBCJBNotRHmrJjBlwyCHwlrfEuO1nnw033ph2VCI1TQlyS0uXRu/iMcekHYkUU7du8PGPx9/5vPNiWmoRSdfzz8e5Hz17ph1J6ZnBu98NJ58Mv/sd3HEH7N2bdlQiNUsJckvz5sVSPcjVr2fPqEM+7bSY/vWrX40jCCKSjuefr73yimxmUfJ1xhnwyCNw4YWwY0faUYnUJCXILc2bF43UkUemHYmUQr9+ccLeJZfAV74SNckabkmk9Jqa4gTpWk6QIcZoP/98uOACuOeeGKJycXnNBi5SC5Qgt/TXv0Ztaq9eaUcipdKtW5RY3HADPPBAzL6XGepPREpjyZIY5qzWE+SMt741zo/4xz/g+OPh7rvTjkikpihBbikzgoXUFjP4t3+LqV/d4RvfgD/+UUMuiZRKrY5gsT9vexs88wxMmBA9yhdfDBs3ph2VSE1Qgpxt27Y4lKUT9GrX5MnxhXT44XDbbXDzzbBzZ9pRiVS/BQtiefjh6cZRTmbMiKNaH/wgnHNOzAJ61FGxTkSKSglytvnzY6ke5No2cGCMcDFtGsyZA1/7GqxenXZUItXt+edh5Ejo2zftSMpPfT28/e3w+c/HicRnnQWnngrf/37rY7aLSKcoQc6mESwko64uxiL91KfiyMJ//Rc89VTaUYlUr1ofwSIfo0fDF74Ap58Of/oTXHedTuATKRIlyNnmzYtRDUaNSjsSKReHHw5XXw0jRsBNN8EnPxln24tI4ezdC3/7mxLkfHTrFuMlX3FFvG/f+AZcdRXs2pV2ZCJVRQlytjlzov5YU3xKtgMOiC+j00+PQ5rnngtbtqQdlUj1WLYsav2VIOdvwgS45ho46aQoA5s8ufkoqIh0Wpe0Aygb69ZBQwN8+ctpRyKllG/9Xn199Nq8+90x2sWb3xzjJ48YUdz4RGrBM8/EUuPPt0+PHvD+90dt8r/+K0yaFBMe/b//B1309S7SGepBznjggRjSa+rUtCORcjZ9Otx/f4xNOnly/KgSkc558MEobzvuuLQjqUznnAPPPRcnFn/hC3DKKfDii2lHJVLRlCBn3H8/DBoUv8BF9ueMM+Avf4Hu3eOL6Oc/TzsikcrlHh0Up58OXbumHU1lmjEDfv3rmFzksstiwqtjj4Uf/CDqlEWk3ZQgQwybM3s2TJkSoxeItOV1r4Mnn4xe5EsvhQ99CF55Je2oRCrP3/8eR2TOPDPtSCqfWbRJ11wTP94/8Ql4wxviB72ItIuyQYjD5OvXq7xC2mfIEPj97+GLX4ypqo88Mn5oiUj+MpNeKEEunAMOgPPOgw9/OE6APOmk6FGeOzftyEQqhqr4IcorzNRAS/t16QL/8R/x2Xn3u+MoxHHHxZfTkCGxzfTp6cYoUs4eeADGjYOxY9OOpLqYRcngUUfFD/nf/x5e//poqz7xiRjnvdaPmOY6SVvttSSUIEMkyJMnRw2ySEecfHL0JM+eHV/4c+fCG98Y9coiktvu3fDww1GmJMXRvTu87W1w2mkx6dGPfhSz8g0fDu95D1x4YSTOtZ4sF5MS8YqkBPm556KW9Lrr0o5EKl3XrnE2+SmnxBBwjz0WlyefjBrlc86JYZna0trQc2pQpdr85S9Ru6+jd8XXq1dcvvhFePZZeOIJ+Na3YqKRIUNi+uqpU+NH/cCBnXsutWFSBZQgX3st9O0LH/1o2pFItejXL3pmzjkH/vhHePppuOAC6N8/SjDOOit6nMeOVa+N1Lbbb48flqedlnYktaO+PkovJk2KHuX582MWvvvuixF5zGIG0RNOiCOrkyfH+RXdu6snVGpKbSfIzz0Hv/pVTCXc2V/MIi317RtJ8tlnxzS6c+ZEOc+dd8b9/fvHaBhjx8KYMc3LDRtgwAAlz1LdFi+Gm2+OBKtfv7SjqU19+kQp2PTpMRxcQ0OMSf3kk3DPPXHyMUTS3L9/lCEOHAgHHhh/sz59ot0aPDgugwbFVNgiVaC2E+RM7/GnP512JFIp8p15L1tdXUyhO3FijPm6ahUsXQq9e0fi/Kc/wW23xXCDGfX18UU0aBAcfDAceiisWFHcmft0WFRK6Zprovf4i19MOxKBaHNOOCEuADfeCC+/HG3VSy/F9ZdfhkWL4ke8e2x3002v3s+gQfED/5BDot2aMCES6lLJtx1raoLNm2Hr1njtPXtGPpCm9vTQqze/6Go3QZ49W73HUnpmMGxYXLIbs927Yfny+DK65ZYYdnD9+pgC/U9/gj/8IRrEYcPgxBPj8sY3xogZPXum93pEOmLevCiv+Pzn4wegpCtXsmUWyW6uk9f37Yva8W3bojxm3brm9mrFijjxsqEh2i6I79gJE6J3+bTTYNSozsfsHs+fSdwzl4cfhu3bYc+eSIL37o3lH/8Ia9Y0X9avb07yM7p0gZ/+NMpPTjklLocc0v7Y1q6N6dOffTaWTz4ZMezbF3XgffrA4483v78DB8b6Rx+Ncpddu+I7YceOeA83b4ZNm+L17tkTr+mVV+L97Ns3fpAMHRqlMMccE50v0mnmLT8guTYymwJ8F6gHfuLuX2txf3fg58DxwMvAhe6+LLnvKuAyYC/wSXefnc8+c5k0aZI3FGJq34ceirN6Dzss/mn692/f4zvSiyjSUU1N0NgYicQTT0TDunRp3NelS4xvetRRMHp0JNAHHBAN5L598dimpmhUN2+Onp/MF0n29cwlM+tW167RYPftC296E4wfH19wEybAEUfokHiBmdnT7t6uaTyL0S63pmBtL0RicvbZMUHI0qXxed0ftbflLVev5YwZ0f6sXBlTXv/977Hcti3uHz48Rs446qhos4YMiRrn+vpIbmfOjOWOHc2XIUNe227t2dN6XHV1sb8uXeIyaFDsY8iQSCaHDImY+vaNWLdvjwS/qSmS+61bYz/jxsW2mTj79YtOiYsvjiR140ZYsiT2NXduJMQrVzbHceih0ZZ27Ro/OrZvb34f1q2DnTtbj79nz3jOAQMiT+nTJ5Liurp4T3ftgi1bInnevj0eZxavb8SI+CFy+eXxXheyd7zKeq9ba3/b7EE2s3rgBuAMoBGYY2Yz3f35rM0uAza6+zgzuwj4OnChmU0ELgJeBxwC/N7MJiSPaWufhbdrV5yE8KlPxYf2979vf3IsUmpdukTyO316jF8K0QPy5JORLD/xBPzud7B6df7769MnkujMZfz4SLTr66NXZc+eaHA3b44vi1/96tUlIKNGRW/FkUfGD82RI+MyYkR+I3VIpxSjXXb34s9J/OKLkRyvWBE9yG0lx1K56uqiPRgxAt7ylmg/Vq+GhQvjh1FDQ4z2k92u5NKjRySK//hHc7s1blxzT2lmXcs2rb7+1ftpLZFvafr0SJLnzo3e2z/+MY7gPfbYq7drWRpUVxcnN552WiSkxx0XbeqAAftPKLdvjx+N27fD//5v/FDo1i3aabP8SizcI0levjwuK1bE/9pTT0XbbRbt9OGHR8145jJiRMQ3YEC8Z2bN+9y7N36YbNsWPwIyly1bYr91dfGYzOPdX/34KpBPicVkYJG7LwEwszuAaUB2QzwN+Epy/W7gB2Zmyfo73H0XsNTMFiX7I499dp57nAjy9NNxue22+GV3wgnwf/+ncY+lsuRqZMeMiQs09xLv2BE/BjM9KJlljx7RoHXr1v6GrKkpGvE1a6KGetUq+OtfIzHf2yKvytQg9u0blz59otFftuzVz5t9fdy42M+ePXHZvTuWjY3Nh0n37o0vU/fmZfalvj5OFOrePS49ejRfX7UqvnC6dm3uUeraNUpVsrfv0aN5OKzevXMvMz8AMkffMs8P8V53796+97ZjitEuP17QCN3jM7N8edTa33MPzJoVn4mHHoojE1I76uqay8sy9u2DadOiJGH37vgf79UrEueePeN/LY2Tlbt0aR7p44oroh5727Zo/7Ztizb25JOjTejXL5LN0aM79r/fq1d0LkDuWu18jqCYxY/NAw6IHw4ZW7bEuS8NDdGz/eKLUV66Y8dr91FfH6+lqSl6tffXO5/L1VfH33b48ObLsGHxHmW3vXV1r27PM9f37o37u3Vr/pHQnmURPif5JMjDgBVZtxuBE1rbxt2bzGwzMDBZ/0SLx2b+O9raZ2GceGIciunWLT7QN98c4zxW2S8dEbp2Ld6Pvi5d4rDd0KGvboD37o1DntmXgw+ORH3btjhM+dJL8eWXfWIPvDrBzJwo07Vr/K927dp86dkz7ssk+2Zxyb5uFg37yJHRuGfq+LZujcOYa9Y01yRmlk1NkeAX0llnFX6fuRWrXS6c66+Hz3ym+fbBB8NHPhJH8DI/6qTydaYEpq4OfvOb164vt/OCzJp/8Gd86EPpxZOvfv2ik2Ho0DhyA9HebtkSP143boxkObucpa6uuQf75JOjgyOTfB9wQBx1v+uuSG63bYue602bou1tbIxOyEceiU6JpqbSvdYuXeKo6nHHFW6XeWyTK5NsWbjc2jatrc+V6ucshjaz6UDmGMM2M1vYSpz7t3t3HCb5wx8GAes7tI/Sq5RYFWfhVUqshYlzzZrORwLRQLau+O/p7Nkd/fHd3rOWitEuv/rBhWp7M1avhu99Ly75qZT/gVLQe9GsY+/FRz6SznbFenwo7ufivvuKtuuCa2oaxPHHd/S9yNn+5pMgNwLZY0sNB1a1sk2jmXUB+gMb2nhsW/sEwN1nAAU7S8PMGtp7MkxaKiVWxVl4lRJrpcQJlRVrHorVLv9Todve9qqyv1en6L1opveimd6LZsV4L/Ip2pgDjDezMWbWjTi5Y2aLbWYClybXzwce8hgeYyZwkZl1N7MxwHjgqTz3KSIiuRWjXRYRkUSbPchJ7drlwGxiOKGb3X2BmV0LNLj7TOAm4NbkZI8NRGNNst1dxIkjTcDHM2dK59pn4V+eiEj1KVa7LCIiIa9xkKuJmU1PDh2WvUqJVXEWXqXEWilxQmXFKvp7ZdN70UzvRTO9F82K8V7UXIIsIiIiIrI/KQwwKCIiIiJSvmoqQTazKWa20MwWmdmVaceTYWYjzOxhM3vBzBaY2b8n679iZivNbG5yOTvtWAHMbJmZzU9iakjWHWhmD5rZi8ky1SmyzOywrPdtrpltMbNPlct7amY3m9laM3sua13O99DC95LP7TwzK9xAjx2L8xtm9rcklnvNbECyfrSZ7ch6b/8n5Thb/Vub2VXJ+7nQzM4qVZySn3Jtq0thP98HZdXGloqZ1ZvZs2Z2X3J7jJk9mbwPdyYnqdYEMxtgZncn7e8LZvbGGv5cfDr5/3jOzG43sx6F/mzUTIJszVOzTgUmAu+xmHK1HDQBn3H3I4ATgY9nxXa9ux+bXGalF+JrnJbElBlW5UrgD+4+HvhDcjs17r4w874BxwPbgXuTu8vhPf0ZMKXFutbew6nESAPjiXFpf1SiGCF3nA8CR7r70cDfgauy7luc9d5+tEQxQu44Icff2l491fIU4IdJ+yBloMzb6lJo7fugrNrYEvp34IWs218n/q/HAxuJKdVrxXeB37n74cAxxPtSc58LMxsGfBKY5O5HEicqX0SBPxs1kyCTNTWru+8GMlOzps7dV7v7M8n1rcSHvvAzWxXXNOCW5PotwHkpxtLS6UTi9o+0A8lw9z8RIwtka+09nAb83MMTwAAzOzitON39AXfPTJH0BDGObqpaeT9b88+plt19KZCZalnKQ9m21aWwn++Dcm5ji8LMhgNvA36S3DbgLcTU6VAj7wOAmfUDTiFGp8Hdd7v7Jmrwc5HoAvS0GOO9F7CaAn82ailBzjU1a9kloWY2Gng9kJkS7PLkUPbNZXToxIEHzOxpi9m2AIa4+2qIBh44KLXoXusi4Pas2+X4nkLr72E5f3Y/BNyfdXtMcjj0j2Z2clpBZcn1ty7n91P09/mnFt8H5dzGFst3gM8B+5LbA4FNWT/Qa+mzMRZYB/w0aWN/Yma9qcHP0ZPsQgAADOJJREFUhbuvBL4JLCcS483A0xT4s1FLCXJe06umycz6APcAn3L3LcSh9EOBY4kPwbdSDC/bSe5+HHEI9ONmdkraAbUmqUE6F/hVsqpc39P9KcvPrpldTRwO/mWyajUw0t1fD1wB3Jb0eqSltb91Wb6f8k/6+5Dz+6CmmNk5wFp3fzp7dY5Na+Wz0QU4DvhR0sa+Qg2UU+SSdHZMA8YAhwC9iXykpU59NmopQc5retW0mFlXojH8pbv/GsDd17j7XnffB/yYMjkM7O6rkuVaoq53MrAmc9g/Wa5NL8JXmQo84+5roHzf00Rr72HZfXbN7FLgHOB9yexsJCULLyfXnwYWAxPSinE/f+uyez/lVWr+75Pr+4DybWOL5STgXDNbRpTZvIXoUR6QHFaH2vpsNAKN7p45unw3kTDX2ucC4K3AUndf5+57gF8Db6LAn41aSpDLdnrrpK7qJuAFd/921vrsOtN3AM+1fGypmVlvM+ubuQ6cScSVPa3tpcD/pRPha7yHrPKKcnxPs7T2Hs4ELrFwIrA5c0gtDWY2Bfg8cK67b89aPzhzspuZjSVOKlySTpT7/VtrquXyVrZtdSm09n1A+baxReHuV7n7cHcfTXwGHnL39wEPE1OnQw28Dxnu/hKwwswOS1adTsyGWVOfi8Ry4EQz65X8v2Tei8J+Nty9Zi7A2cRZ94uBq9OOJyuuNxOHAuYBc5PL2cCtwPxk/Uzg4DKIdSzw1+SyIPM+ErVhfwBeTJYHlkGsvYCXgf5Z68riPSWS9tXAHqJn4LLW3kPisOINyed2PnHmbppxLiJqRDOf1f9Jtn1X8pn4K/AM8PaU42z1bw1cnbyfC4GpaX9WdXnN37Ms2+oSvfbWvg/Kro0t4XtyKnBfcn0s8YN2EVE61z3t+Er4PhwLNCSfjf8FDqjVzwXwVeBvRMfHrUD3Qn82NJOeiIiIiEiWWiqxEBERERFpkxJkEREREZEsSpBFRERERLIoQRYRERERyaIEWUREREQkixJkycnM3mFmbmaHZ61bmjUGY2bdd8zsc2Z2qpltNrO5WZe3JtvsTW4/Z2a/MbMBLfbxaTPbaWb9W6yfbGaPmNmLZvaMmf3WzI5K7vuKma1s8Xwt9zvazHYk9z1vZv9jZnU51v88GZif5HXcl7WPqWbWYGYvmNnfzOybBX7+zOWS5DHLzGy+xfTIfzSzUa38fZaZ2Z9brJtrZs9lvY6cf4/9/H1HZx4vIp3Tot37lZn1arE+c7kyWf+ImS00s7+a2RwzOzZrX33M7EYzW2xmC8zsT2Z2Qh77a8jax6Rk3VlZ225LnnOumf08a9vvJu3bq3IEM5tiZk8lbeFcM7vTzEYm9/3M4jsis++/tPK+vDlrH38zs+lZ97VsV7+W4/GPmNmkrNv/bLeSds/N7O1Z999nZqe2fKyZ9U/a/sXJ5ZeWTEff8nsg6/Wd3+JvlYnz7qz43czGZT3u08m6zPNm2vjMY7+XtW0XM1tvZv+1v9ecrOuVxDw/+Yw9ajH7ohRIl7Y3kRr1HuBRYoD2ryTr7khufxUgaTzPJ2Y8GgP82d3PybGvHe5+bPKYW4CPA//Z4rnmEJM5/CzZbghwF/Bed/9Lsu7NxNTB85PHXe/u32zjdSx292MtZtd5CDiPGKM3s74eeBB4N81TJpM835HAD4C3ufvfkn1Mz9qk08/fymNOc/f1ZvZV4IvAh1vZrq+ZjXD3FWZ2RI77W/t7QO6/r4gUTna790vgo8C3s9fn8D53bzCzDwLfAM5I1v8EWAqMd/d9FhPxZP7n97e/g8xsqrvfn1nh7rOB2UlcjwCfdffsRLqOaItXAKcAjyTrjwS+T0wQ9EKy7lxgNDFxA8D/c/e7W3tDzGwocBtwnrs/Y2aDgNlmttLdf5tslk+7uj+NxDjn/3975x6jR1XG4ecHSaXFlACJsRSlSa0V2rBySUArJBVtMeEmKbIrRJHwh0m5LWmocjECrQIbEzVREwgITcqC9goWSVUKVmwIxXYpDbdCwKgo15RySRV5/eM9455vdma+b9olJOR9kk1mzpzbN7PzznvO+Z1z7ukS7xbgcTMrOieuwb8/p/dYzjn5fcvYhtvVJel8Ab6JRc5cM3ulIu08fG32r0m6wprX4b0E+JeZFZ1GM/F14INxInqQgzGkVugcfLOF/uzScOn8ROB5M3uhRfabgKlZWdOBj+KO4EAW70Lg9sI5BjCzP5nZmhZl/R8zexf4M/CpUvh/8YXFp1YkuxxYamZPFnmY2c/Hs/wudNyrCn4FnJ2OO3YMbKLh+QZB8P6wkT1895ONPA64ynzbdMzsucyhbGIIt61tmItvvvALOm3yYuAHhXOc6nG3mf2xRd4LgdvM7C8p/Su4nf1Oyzo2MQLslPTlugiph/cY4Los+FqgT6VR0j1gDcnJTg2ZncDLPaYdAH5C2imuS9wpwN+LEzN7ysx2t65tUEs4yEEVZwD3mdnTwGuSjgYws8eA9yT1pXj9dDplJ5SG+qbnmabe2pPo3Da2cOw2AjMlfSyFz8J7WpsYzMra0BRRPrx5EqO9z0X4fvjH576KZLOBR9+n8qeX7tUJFclOxo1tHSuAM9PxqYztMal7HpXPNwiC8SeNHn2F0Xd/Yum9PLsiWf7uzwK2psZ8FU35bQJ2S5rbosqFTV4NnKIkP6M3mzyU1WN5xfVZjLWpm1N4QW5X57eod84SmhsGR1C6p+l4C6M9891YntVzKAt/A98SejZ+L++qSLshSzsIIGki/o34DX7/ByrS5dwKLJa0SdISSTN6rHfQIyGxCKoYAH6cju9M54VhHAb6JW3HW8nfy9LVDelPlLQVH4p7FJc0FPQDX03DhquAs/BtlTuQ9DAwGVhvZpek4F6G4qansg1Ya2a/lTQtC58BrEjOf1v2pvwmicWGJDF5iWYj/xrwuqR+4Ang7dL1uufR9HyDIBgfCrsH3gFwSzpukkQsl7Q/sC/Qa8O1KT8YdRYXd8tI0gR8W+tBM9uV7O48YF0pXrG98STgpswONkosAOG2sEwe1s2udkuPmW2URE3HQ1M91FBGObxOYgGjcsT5uNP7rdL1KonFKcAGM3tb0krgakmDdQ0jM9uaeqjnAV8CHpH0ubyHP9g7wkEOOkiG74vAbEmGG2qTdHnSQw0D64EHgcfM7KUesn0n6XAPwFvHC4GfSjoSd1B/JwlgAvAc7iBvxz8QawHM7Dj5BIk6TW0ddY5ooQ2eAjwg6TQzu7sUZzs+DDfSssxeym9iLvAWroe7FrisIe5d+P06r5eMm55vyzoGQdBMN8e1inNwe3M9/l6fiduhPkn7FBKLNpjZ/ZKuo/uQPXjP9QHAtmSTJ+EN73WM2uQRM3sV+KykRbhErle2A8fSOYp4DGM1uk28ChyYnR8EVOl5l+Ja5Hdr6nFUfk+T9vpIvLNgcqmMpnKquAeXt2w2szfSvezGADBH0vPp/GD8W/D7ugRm9iawClgl6T28cRMO8jgREougzAJgmZkdZmbTzOwT+OSQLwCY2bO4gbqeHjWvBWa2E7gYWJSG7QaA76dyppnZIcBU+coNPwPOk/T5LItJe/vjKur0Iq5/+27F5SHgCkmfBjegkpqc1fGs1zvApcA3JB3UEHU1cCNp0k0PND7fIAg+WMzsP3iP7/GSDk82dzNwjZKnJWmGpF4nk4E7i700ggeACwqbjE++npckYjcCV6pzQnBbm1zY9WLy4sHADSnvXnkAOFejXuc3gTESNzNbjzu5fRXXduByinyE7irgD2b2V+AZ4JDit6ZvUh+wtZxXFcl+L6ZzMnotkibjNviT2b1fSIPMQtIcja66MQGXjbSZDxR0IRzkoMwA7nTlrAS+np0PA5+piFfWvC4oZ25mW/Aekv70V85jNdBvZv/EJ6D9UNIO+ZJBC/BVJQoGS+VNa/NDM9YAk8rDcUl2cSkwLOkJfOLKlHEqv6xBvrgcITnvw7ihrMTMdpnZDWb274rLVc+j2/OdKelv2d9ZLX5TEATdKWuGxyxllhysHwGLUtAFwMeBHZK2ATcD/2iR3710mSiWnOD5ZHIKM3sLX+3mVDPbhq+csEy+PNtDuF73jiyboVJdJpTq8SJwLnCzpCfxicu3mlm3FSdybgJ2ASOSRvAe7DpJxlLg0Jpr5wMz0vflZbyH/dupnrtTPX+ZZDIr8IbDzix9rkEe08trZncWkxEryDXIy/CRgvtLk+zWAqdJ+kg6X5fZ5V/jKzo9mP4ftuCNqJU15QV7gJpXEQmCIAiCIPjwIl+54l7gotSYCIJwkIMgCIIgCIIgJyQWQRAEQRAEQZARDnIQBEEQBEEQZISDHARBEARBEAQZ4SAHQRAEQRAEQUY4yEEQBEEQBEGQEQ5yEARBEARBEGSEgxwEQRAEQRAEGf8DCbKB5RXiVvUAAAAASUVORK5CYII=\n",
      "text/plain": [
       "<Figure size 720x576 with 2 Axes>"
      ]
     },
     "metadata": {
      "needs_background": "light"
     },
     "output_type": "display_data"
    }
   ],
   "source": [
    "# <b><font size=\"3\">Code to create plots for outliers</font> </b>\n",
    "\n",
    "#creating plots\n",
    "\n",
    "\n",
    "fig, ax = plt.subplots(figsize = (10, 8))\n",
    "plt.subplot(2, 2, 1)\n",
    "sns.distplot(chef_data['REVENUE'],\n",
    "             bins  = 'fd',\n",
    "             color = 'g')\n",
    "plt.xlabel('REVENUE')\n",
    "\n",
    "########################\n",
    "\n",
    "plt.subplot(2, 2, 2)\n",
    "sns.distplot(chef_data['TOTAL_MEALS_ORDERED'],\n",
    "             bins  = 'fd',\n",
    "             color = 'y')\n",
    "plt.xlabel('TOTAL MEALS ORDERED')\n",
    "\n",
    "########################\n",
    "\n",
    "plt.subplot(2, 2, 3)\n",
    "sns.distplot(chef_data['UNIQUE_MEALS_PURCH'],\n",
    "             bins  = 'fd',\n",
    "             color = 'orange')\n",
    "plt.xlabel('UNIQUE MEALS PURCHASE')\n",
    "\n",
    "########################\n",
    "plt.subplot(2, 2, 4)\n",
    "sns.distplot(chef_data['CONTACTS_W_CUSTOMER_SERVICE'],\n",
    "             bins  = 'fd',\n",
    "             color = 'r')\n",
    "plt.xlabel('CONTACTS WITH CUSTOMER SERVICE')\n",
    "plt.tight_layout()\n",
    "plt.show()\n",
    "\n",
    "########################\n",
    "########################\n",
    "\n",
    "fig, ax = plt.subplots(figsize = (10, 8))\n",
    "plt.subplot(2, 2, 1)\n",
    "sns.distplot(chef_data['PRODUCT_CATEGORIES_VIEWED'],\n",
    "             bins  = 'fd',\n",
    "             color = 'g')\n",
    "plt.xlabel('PRODUCT CATEGORIES VIEWED')\n",
    "\n",
    "########################\n",
    "\n",
    "plt.subplot(2, 2, 2)\n",
    "sns.distplot(chef_data['AVG_TIME_PER_SITE_VISIT'],\n",
    "             bins  = 'fd',\n",
    "             color = 'y')\n",
    "plt.xlabel('AVERAGE TIME PER SITE VISIT')\n",
    "\n",
    "########################\n",
    "\n",
    "plt.subplot(2, 2, 3)\n",
    "sns.distplot(chef_data['CANCELLATIONS_BEFORE_NOON'],\n",
    "             bins  = 'fd',\n",
    "             color = 'orange')\n",
    "plt.xlabel('CANCELLATIONS BEFORE NOON')\n",
    "\n",
    "########################\n",
    "\n",
    "plt.subplot(2, 2, 4)\n",
    "sns.distplot(chef_data['CANCELLATIONS_AFTER_NOON'],\n",
    "             bins  = 'fd',\n",
    "             color = 'red')\n",
    "plt.xlabel('CANCELATIONS AFTER NOON')\n",
    "plt.tight_layout()\n",
    "plt.show()\n",
    "\n",
    "########################\n",
    "########################\n",
    "\n",
    "fig, ax = plt.subplots(figsize = (10, 8))\n",
    "plt.subplot(2, 2, 1)\n",
    "sns.distplot(chef_data['MOBILE_LOGINS'],\n",
    "             bins  = 'fd',\n",
    "             color = 'y')\n",
    "plt.xlabel('MOBILE LOGINS')\n",
    "\n",
    "########################\n",
    "\n",
    "plt.subplot(2, 2, 2)\n",
    "sns.distplot(chef_data['PC_LOGINS'],\n",
    "             bins  = 'fd',\n",
    "             color = 'orange')\n",
    "plt.xlabel('PC LOGINS')\n",
    "\n",
    "########################\n",
    "\n",
    "plt.subplot(2, 2, 3)\n",
    "sns.distplot(chef_data['WEEKLY_PLAN'],\n",
    "             bins  = 'fd',\n",
    "             color = 'r')\n",
    "plt.xlabel('WEEKLY PLAN')\n",
    "\n",
    "########################\n",
    "\n",
    "plt.subplot(2, 2, 4)\n",
    "sns.distplot(chef_data['EARLY_DELIVERIES'],\n",
    "             bins  = 'fd',\n",
    "             color = 'g')\n",
    "plt.xlabel('EARLY DELIVERIES')\n",
    "\n",
    "plt.tight_layout()\n",
    "plt.show()\n",
    "\n",
    "########################\n",
    "########################\n",
    "\n",
    "fig, ax = plt.subplots(figsize = (10, 8))\n",
    "plt.subplot(2, 2, 1)\n",
    "sns.distplot(chef_data['LATE_DELIVERIES'],\n",
    "             bins  = 'fd',\n",
    "             color = 'y')\n",
    "plt.xlabel('LATE DELIVERIES')\n",
    "\n",
    "########################\n",
    "\n",
    "plt.subplot(2, 2, 2)\n",
    "sns.distplot(chef_data['FOLLOWED_RECOMMENDATIONS_PCT'],\n",
    "             bins = 10,\n",
    "             color = 'orange')\n",
    "plt.xlabel(' % FOLLOWED RECOMMENDATIONS')\n",
    "\n",
    "########################\n",
    "\n",
    "plt.subplot(2, 2, 3)\n",
    "sns.distplot(chef_data['AVG_PREP_VID_TIME'],\n",
    "             bins = 'fd',\n",
    "             color = 'r')\n",
    "plt.xlabel('AVG. PREPARATION VIDEO TIME')\n",
    "\n",
    "########################\n",
    "\n",
    "plt.subplot(2, 2, 4)\n",
    "sns.distplot(chef_data['LARGEST_ORDER_SIZE'],\n",
    "             bins  = 'fd',\n",
    "             color = 'g')\n",
    "plt.xlabel('LARGEST ORDER SIZE')\n",
    "\n",
    "plt.tight_layout()\n",
    "plt.show()\n",
    "\n",
    "########################\n",
    "########################\n",
    "\n",
    "fig, ax = plt.subplots(figsize = (10, 8))\n",
    "plt.subplot(2, 2, 1)\n",
    "sns.distplot(chef_data['MASTER_CLASSES_ATTENDED'],\n",
    "             bins  = 'fd',\n",
    "             color = 'r')\n",
    "plt.xlabel('MASTER CLASSES ATTENDED')\n",
    "\n",
    "########################\n",
    "\n",
    "plt.subplot(2, 2, 2)\n",
    "sns.distplot(chef_data['MEDIAN_MEAL_RATING'],\n",
    "             bins  = 'fd',\n",
    "             color = 'r')\n",
    "plt.xlabel('MEADIAN MEAL RATING')\n",
    "\n",
    "########################\n",
    "\n",
    "plt.subplot(2, 2, 3)\n",
    "sns.distplot(chef_data['AVG_CLICKS_PER_VISIT'],\n",
    "             bins = 'fd',\n",
    "             color = 'r')\n",
    "plt.xlabel('AVG. CLICKS PER VISIT')\n",
    "\n",
    "########################\n",
    "\n",
    "plt.subplot(2, 2, 4)\n",
    "sns.distplot(chef_data['TOTAL_PHOTOS_VIEWED'],\n",
    "             bins  = 'fd',\n",
    "             color = 'g')\n",
    "plt.xlabel('TOTAL PHOTOS VIEWED')\n",
    "\n",
    "\n",
    "plt.tight_layout()\n",
    "plt.show()\n",
    "\n",
    "\n",
    "##############################\n",
    "#############################\n",
    "\n",
    "fig, ax = plt.subplots(figsize = (10, 8))\n",
    "plt.subplot(2, 2, 1)\n",
    "sns.distplot(chef_data['AVG_PRICE_MEAL'],\n",
    "             bins  = 'fd',\n",
    "             color = 'r')\n",
    "plt.xlabel('AVERAGE PRICE PER MEAL')\n",
    "\n",
    "########################\n",
    "\n",
    "plt.subplot(2, 2, 2)\n",
    "sns.distplot(chef_data['PER_UNIQUE_MEALS'],\n",
    "             bins  = 'fd',\n",
    "             color = 'r')\n",
    "plt.xlabel('PERCENTAGE OF UNIQUEMEALS')\n",
    "\n",
    "plt.tight_layout()\n",
    "plt.show()\n",
    "########################\n",
    "\n"
   ]
  },
  {
   "cell_type": "code",
   "execution_count": 35,
   "metadata": {},
   "outputs": [],
   "source": [
    "#setting outlier thresholds\n",
    "\n",
    "REVENUE_hi = 5000 \n",
    "\n",
    "TOTAL_MEALS_ORDERED_hi = 220   \n",
    "\n",
    "UNIQUE_MEALS_PURCH_hi = 9   \n",
    "\n",
    "CONTACTS_W_CUSTOMER_SERVICE_hi = 12\n",
    "CONTACTS_W_CUSTOMER_SERVICE_lo = 2.5\n",
    "\n",
    "AVG_TIME_PER_SITE_VISIT_hi = 200    \n",
    "\n",
    "CANCELLATIONS_BEFORE_NOON_hi = 6\n",
    "\n",
    "MOBILE_LOGINS_hi = 6\n",
    "MOBILE_LOGINS_lo = 5\n",
    "\n",
    "PC_LOGINS_hi = 2\n",
    "PC_LOGINS_lo = 1\n",
    "\n",
    "EARLY_DELIVERIES_hi = 4\n",
    "\n",
    "LATE_DELIVERIES_hi = 10  \n",
    "\n",
    "AVG_PREP_VID_TIME_hi = 300\n",
    "\n",
    "LARGEST_ORDER_SIZE_hi = 8   \n",
    "LARGEST_ORDER_SIZE_lo = 2\n",
    "\n",
    "MASTER_CLASSES_ATTENDED_hi = 1\n",
    "MASTER_CLASSES_ATTENDED_lo = 0\n",
    "\n",
    "MEDIAN_MEAL_RATING_hi = 4\n",
    "MEDIAN_MEAL_RATING_lo = 2\n",
    "\n",
    "AVG_CLICKS_PER_VISIT_hi = 17.5\n",
    "AVG_CLICKS_PER_VISIT_lo = 10\n",
    "\n",
    "TOTAL_PHOTOS_VIEWED_hi = 350\n",
    "\n",
    "AVG_PRICE_MEAL_hi = 75\n",
    "\n",
    "PER_UNIQUE_MEALS_hi = 25"
   ]
  },
  {
   "cell_type": "code",
   "execution_count": 36,
   "metadata": {},
   "outputs": [],
   "source": [
    "# renaming my data frame to reuse an old code\n",
    "\n",
    "original_2 = chef_data.copy()\n"
   ]
  },
  {
   "cell_type": "code",
   "execution_count": 37,
   "metadata": {},
   "outputs": [],
   "source": [
    "# developing features (columns) for outliers\n",
    "#Explanatory variables \n",
    "\n",
    "original_2['OUT_REVENUE'] = 0\n",
    "condition_hi_re = original_2.loc[0:,'OUT_REVENUE'][original_2['REVENUE'] > REVENUE_hi]\n",
    "\n",
    "original_2['OUT_REVENUE'].replace(to_replace = condition_hi_re,\n",
    "                                value      = 1,\n",
    "                                inplace    = True)\n",
    "\n",
    "\n",
    "#TOTAL_MEALS_ORDERED\n",
    "original_2['OUT_TOTAL_MEALS_ORDERED'] = 0\n",
    "condition_hi_meals = original_2.loc[0:,'OUT_TOTAL_MEALS_ORDERED'][original_2['TOTAL_MEALS_ORDERED'] > TOTAL_MEALS_ORDERED_hi]\n",
    "\n",
    "original_2['OUT_TOTAL_MEALS_ORDERED'].replace(to_replace = condition_hi_meals,\n",
    "                                value      = 1,\n",
    "                                inplace    = True)\n",
    "\n",
    "\n",
    "#UNIQUE_MEALS_PURCH_\n",
    "original_2['OUT_UNIQUE_MEALS_PURCH'] = 0\n",
    "condition_hi_unq = original_2.loc[0:,'OUT_UNIQUE_MEALS_PURCH'][original_2['UNIQUE_MEALS_PURCH'] > UNIQUE_MEALS_PURCH_hi]\n",
    "\n",
    "original_2['OUT_UNIQUE_MEALS_PURCH'].replace(to_replace = condition_hi_unq,\n",
    "                                value      = 1,\n",
    "                                inplace    = True)\n",
    "\n",
    "#CONTACTS_W_CUSTOMER_SERVICE high\n",
    "original_2['OUT_CONTACTS_W_CUSTOMER_SERVICE'] = 0\n",
    "condition_hi_cs = original_2.loc[0:,'OUT_CONTACTS_W_CUSTOMER_SERVICE'][original_2['CONTACTS_W_CUSTOMER_SERVICE'] > CONTACTS_W_CUSTOMER_SERVICE_hi]\n",
    "\n",
    "original_2['OUT_CONTACTS_W_CUSTOMER_SERVICE'].replace(to_replace = condition_hi_cs,\n",
    "                                value      = 1,\n",
    "                                inplace    = True)\n",
    "\n",
    "condition_lo_cs = original_2.loc[0:,'OUT_CONTACTS_W_CUSTOMER_SERVICE'][original_2['CONTACTS_W_CUSTOMER_SERVICE'] < CONTACTS_W_CUSTOMER_SERVICE_lo]\n",
    "\n",
    "original_2['OUT_CONTACTS_W_CUSTOMER_SERVICE'].replace(to_replace = condition_lo_cs,\n",
    "                                 value      = 1,\n",
    "                                 inplace    = True)\n",
    "\n",
    "#AVG_TIME_PER_SITE_VISIT\n",
    "original_2['OUT_AVG_TIME_PER_SITE_VISIT'] = 0\n",
    "condition_hi_sv = original_2.loc[0:,'OUT_AVG_TIME_PER_SITE_VISIT'][original_2['AVG_TIME_PER_SITE_VISIT'] > AVG_TIME_PER_SITE_VISIT_hi]\n",
    "\n",
    "original_2['OUT_AVG_TIME_PER_SITE_VISIT'].replace(to_replace = condition_hi_sv,\n",
    "                                value      = 1,\n",
    "                                inplace    = True)\n",
    "\n",
    "#CANCELLATIONS_BEFORE_NOON\n",
    "original_2['OUT_CANCELLATIONS_BEFORE_NOON'] = 0\n",
    "condition_hi_bnoon = original_2.loc[0:,'OUT_CANCELLATIONS_BEFORE_NOON'][original_2['CANCELLATIONS_BEFORE_NOON'] > CANCELLATIONS_BEFORE_NOON_hi]\n",
    "\n",
    "original_2['OUT_CANCELLATIONS_BEFORE_NOON'].replace(to_replace = condition_hi_bnoon,\n",
    "                                value      = 1,\n",
    "                                inplace    = True)\n",
    "\n",
    "\n",
    "# MOBILE_LOGINGS\n",
    "original_2['OUT_MOBILE_LOGINS'] = 0\n",
    "condition_hi_mlg = original_2.loc[0:,'OUT_MOBILE_LOGINS'][original_2['MOBILE_LOGINS'] > MOBILE_LOGINS_hi]\n",
    "condition_lo_mlg = original_2.loc[0:,'OUT_MOBILE_LOGINS'][original_2['MOBILE_LOGINS'] < MOBILE_LOGINS_lo]\n",
    "\n",
    "original_2['OUT_MOBILE_LOGINS'].replace(to_replace = condition_hi_mlg,\n",
    "                                 value      = 1,\n",
    "                                 inplace    = True)\n",
    "\n",
    "original_2['OUT_MOBILE_LOGINS'].replace(to_replace = condition_lo_mlg,\n",
    "                                 value      = 1,\n",
    "                                 inplace    = True)\n",
    "\n",
    "\n",
    "# PC_lOGINS\n",
    "original_2['OUT_PC_LOGINS'] = 0\n",
    "condition_hi_pc = original_2.loc[0:,'OUT_PC_LOGINS'][original_2['PC_LOGINS'] > PC_LOGINS_hi]\n",
    "condition_lo_pc = original_2.loc[0:,'OUT_PC_LOGINS'][original_2['PC_LOGINS'] < PC_LOGINS_lo]\n",
    "\n",
    "original_2['OUT_PC_LOGINS'].replace(to_replace = condition_hi_pc,\n",
    "                                 value      = 1,\n",
    "                                 inplace    = True)\n",
    "\n",
    "original_2['OUT_PC_LOGINS'].replace(to_replace = condition_lo_pc,\n",
    "                                 value      = 1,\n",
    "                                 inplace    = True)\n",
    "\n",
    "\n",
    "#EARLY_DELIVERIES\n",
    "original_2['OUT_EARLY_DELIVERIES'] = 0\n",
    "condition_hi_ed = original_2.loc[0:,'OUT_EARLY_DELIVERIES'][original_2['EARLY_DELIVERIES'] > EARLY_DELIVERIES_hi]\n",
    "\n",
    "original_2['OUT_EARLY_DELIVERIES'].replace(to_replace = condition_hi_ed,\n",
    "                                value      = 1,\n",
    "                                inplace    = True)\n",
    "\n",
    "\n",
    "#LATE_DELIVERIES\n",
    "original_2['OUT_LATE_DELIVERIES'] = 0\n",
    "condition_hi_ld = original_2.loc[0:,'OUT_LATE_DELIVERIES'][original_2['LATE_DELIVERIES'] > LATE_DELIVERIES_hi]\n",
    "\n",
    "original_2['OUT_LATE_DELIVERIES'].replace(to_replace = condition_hi_ld,\n",
    "                                value      = 1,\n",
    "                                inplace    = True)\n",
    "\n",
    "\n",
    "\n",
    "#AVG_PREP_VID_TIME\n",
    "original_2['OUT_AVG_PREP_VID_TIME'] = 0\n",
    "condition_hi_vid= original_2.loc[0:,'OUT_AVG_PREP_VID_TIME'][original_2['AVG_PREP_VID_TIME'] > AVG_PREP_VID_TIME_hi]\n",
    "\n",
    "original_2['OUT_AVG_PREP_VID_TIME'].replace(to_replace = condition_hi_vid,\n",
    "                                value      = 1,\n",
    "                                inplace    = True)\n",
    "\n",
    "\n",
    "#LARGEST_ORDER_SIZE\n",
    "original_2['OUT_LARGEST_ORDER_SIZE'] = 0\n",
    "condition_hi_large= original_2.loc[0:,'OUT_LARGEST_ORDER_SIZE'][original_2['LARGEST_ORDER_SIZE'] > LARGEST_ORDER_SIZE_hi]\n",
    "\n",
    "original_2['OUT_LARGEST_ORDER_SIZE'].replace(to_replace = condition_hi_large,\n",
    "                                value      = 1,\n",
    "                                inplace    = True)\n",
    "\n",
    "condition_lo_large= original_2.loc[0:,'OUT_LARGEST_ORDER_SIZE'][original_2['LARGEST_ORDER_SIZE'] < LARGEST_ORDER_SIZE_lo]\n",
    "original_2['OUT_LARGEST_ORDER_SIZE'].replace(to_replace = condition_lo_large,\n",
    "                                value      = 1,\n",
    "                                inplace    = True)\n",
    "\n",
    "\n",
    "\n",
    "#MASTER CLASS ATTENDED\n",
    "original_2['OUT_MASTER_CLASSES_ATTENDED'] = 0\n",
    "condition_hi_mas= original_2.loc[0:,'OUT_MASTER_CLASSES_ATTENDED'][original_2['MASTER_CLASSES_ATTENDED'] > MASTER_CLASSES_ATTENDED_hi]\n",
    "\n",
    "original_2['OUT_MASTER_CLASSES_ATTENDED'].replace(to_replace = condition_hi_mas,\n",
    "                                value      = 1,\n",
    "                                inplace    = True)\n",
    "\n",
    "condition_lo_mas= original_2.loc[0:,'OUT_MASTER_CLASSES_ATTENDED'][original_2['MASTER_CLASSES_ATTENDED'] < MASTER_CLASSES_ATTENDED_lo]\n",
    "\n",
    "original_2['OUT_MASTER_CLASSES_ATTENDED'].replace(to_replace = condition_lo_mas,\n",
    "                                value      = 1,\n",
    "                                inplace    = True)\n",
    "\n",
    "\n",
    "#MEDIAN_MEAL_RATING\n",
    "original_2['OUT_MEDIAN_MEAL_RATING'] = 0\n",
    "condition_hi_med= original_2.loc[0:,'OUT_MEDIAN_MEAL_RATING'][original_2['MEDIAN_MEAL_RATING'] > MEDIAN_MEAL_RATING_hi]\n",
    "\n",
    "original_2['OUT_MEDIAN_MEAL_RATING'].replace(to_replace = condition_hi_med,\n",
    "                                value      = 1,\n",
    "                                inplace    = True)\n",
    "\n",
    "condition_lo_med= original_2.loc[0:,'OUT_MEDIAN_MEAL_RATING'][original_2['MEDIAN_MEAL_RATING'] <MEDIAN_MEAL_RATING_lo]\n",
    "\n",
    "original_2['OUT_MEDIAN_MEAL_RATING'].replace(to_replace = condition_lo_med,\n",
    "                                value      = 1,\n",
    "                                inplace    = True)\n",
    "\n",
    "#AVG_CLICKS_PER_VISIT low/high\n",
    "original_2['OUT_AVG_CLICKS_PER_VISIT'] = 0\n",
    "condition_hi_cl = original_2.loc[0:,'OUT_AVG_CLICKS_PER_VISIT'][original_2['AVG_CLICKS_PER_VISIT'] > AVG_CLICKS_PER_VISIT_hi]\n",
    "condition_lo_cl = original_2.loc[0:,'OUT_AVG_CLICKS_PER_VISIT'][original_2['AVG_CLICKS_PER_VISIT'] < AVG_CLICKS_PER_VISIT_lo]\n",
    "\n",
    "original_2['OUT_AVG_CLICKS_PER_VISIT'].replace(to_replace = condition_hi_cl,\n",
    "                                 value      = 1,\n",
    "                                 inplace    = True)\n",
    "\n",
    "original_2['OUT_AVG_CLICKS_PER_VISIT'].replace(to_replace = condition_lo_cl,\n",
    "                                 value      = 1,\n",
    "                                 inplace    = True)\n",
    "\n",
    "\n",
    "#TOTAL_PHOTOS_VIEWED\n",
    "original_2['OUT_TOTAL_PHOTOS_VIEWED'] = 0\n",
    "condition_hi_ph= original_2.loc[0:,'OUT_TOTAL_PHOTOS_VIEWED'][original_2['TOTAL_PHOTOS_VIEWED'] > TOTAL_PHOTOS_VIEWED_hi]\n",
    "\n",
    "original_2['OUT_TOTAL_PHOTOS_VIEWED'].replace(to_replace = condition_hi_ph,\n",
    "                                value      = 1,\n",
    "                                inplace    = True)\n",
    "\n",
    "\n",
    "# AVG_PRICE_PER_MEAL\n",
    "\n",
    "original_2['OUT_AVG_PRICE_MEAL'] = 0\n",
    "condition_hi_mealp= original_2.loc[0:,'OUT_AVG_PRICE_MEAL'][original_2['AVG_PRICE_MEAL'] > AVG_PRICE_MEAL_hi]\n",
    "\n",
    "original_2['OUT_AVG_PRICE_MEAL'].replace(to_replace = condition_hi_mealp,\n",
    "                                value      = 1,\n",
    "                                inplace    = True)\n",
    "\n",
    "\n",
    "\n",
    "\n",
    "#PER_UNIQUE_MEAL\n",
    "\n",
    "original_2['OUT_PER_UNIQUE_MEALS'] = 0\n",
    "condition_hi_ump= original_2.loc[0:,'OUT_PER_UNIQUE_MEALS'][original_2['PER_UNIQUE_MEALS'] > PER_UNIQUE_MEALS_hi]\n",
    "\n",
    "original_2['OUT_PER_UNIQUE_MEALS'].replace(to_replace = condition_hi_ump,\n",
    "                                value      = 1,\n",
    "                                inplace    = True)\n",
    "\n",
    "\n"
   ]
  },
  {
   "cell_type": "code",
   "execution_count": 38,
   "metadata": {},
   "outputs": [],
   "source": [
    "# CHECKPOINT\n",
    "original_2.to_excel('Apprentice_Chef_featured.xlsx', index= False)"
   ]
  },
  {
   "cell_type": "code",
   "execution_count": 39,
   "metadata": {},
   "outputs": [],
   "source": [
    "chef_data = pd.read_excel('Apprentice_Chef_featured.xlsx')\n",
    "#chef_data.isnull().sum()"
   ]
  },
  {
   "cell_type": "markdown",
   "metadata": {},
   "source": [
    "## <i> Dropping Categorical/qualitative Variables </i>"
   ]
  },
  {
   "cell_type": "code",
   "execution_count": 40,
   "metadata": {},
   "outputs": [],
   "source": [
    "# droping categorical features\n",
    "chef_model = chef_data.drop(['NAME','EMAIL','FIRST_NAME','FAMILY_NAME', 'EMAIL_DOMAIN','DOMAIN_CLASS'], axis=1)\n",
    "\n",
    "#checking\n",
    "#chef_model['FOLLOWED_RECOMMENDATIONS']\n",
    "\n",
    "                                      "
   ]
  },
  {
   "cell_type": "code",
   "execution_count": 41,
   "metadata": {},
   "outputs": [],
   "source": [
    "chef_model.to_excel('Apprentice_Chef_final_featured.xlsx', index= False)\n"
   ]
  },
  {
   "cell_type": "markdown",
   "metadata": {},
   "source": [
    "# Classification Modeling "
   ]
  },
  {
   "cell_type": "markdown",
   "metadata": {},
   "source": [
    "<b><font size=\"4\">Correlations between variables and Cross Sell Success</font> </b>\n",
    "<br>\n",
    "<br>\n",
    "\n",
    "<b><font size=\"4\">Code and output</font> </b>\n",
    "<br>\n",
    "<br>\n",
    "\n",
    "<b><font size=\"2\">Code</font> </b>\n",
    "\n",
    "chef_corr = chef_model.corr()\n",
    "\n",
    "chef_corr['CROSS_SELL_SUCCESS'].sort_values(ascending = True)\n",
    "\n",
    "<b><font size=\"2\">Output</font> </b>\n",
    "\n",
    "\n",
    "JUNK_@                             -0.256011<br>\n",
    "OUT_CONTACTS_W_CUSTOMER_SERVICE   -0.058285<br>\n",
    "CANCELLATIONS_AFTER_NOON          -0.054149<br>\n",
    "PC_LOGINS                         -0.050647<br>\n",
    "WILLIGNESS_NEW_PRODUCTS           -0.042373<br>\n",
    "OUT_TOTAL_MEALS_ORDERED           -0.041327<br>\n",
    "AVG_CLICKS_PER_VISIT              -0.035074<br>\n",
    "OUT_MOBILE_LOGINS                 -0.030696<br>\n",
    "PER_UNIQUE_MEALS                  -0.030352<br>\n",
    "OUT_PER_UNIQUE_MEALS              -0.027599<br>\n",
    "AVG_PRICE_MEAL                    -0.024558<br>\n",
    "OVER_21                           -0.022204<br>\n",
    "OUT_UNIQUE_MEALS_PURCH            -0.021241<br>\n",
    "OUT_LARGEST_ORDER_SIZE            -0.020460<br>\n",
    "OUT_PC_LOGINS                     -0.018550<br>\n",
    "OUT_AVG_PRICE_MEAL                -0.016363<br>\n",
    "PROVIDED_FAMILY_NAME              -0.015019<br>\n",
    "OUT_AVG_CLICKS_PER_VISIT          -0.006905<br>\n",
    "WEEKLY_PLAN                       -0.005337<br>\n",
    "OUT_MEDIAN_MEAL_RATING            -0.004861<br>\n",
    "UNIQUE_MEALS_PURCH                 0.001136<br>\n",
    "OUT_MASTER_CLASSES_ATTENDED        0.004469<br>\n",
    "REVENUE                            0.004540<br>\n",
    "PRODUCT_CATEGORIES_VIEWED          0.004671<br>\n",
    "OUT_REVENUE                        0.005180<br>\n",
    "TOTAL_MEALS_ORDERED                0.006475<br>\n",
    "LATE_DELIVERIES                    0.006695<br>\n",
    "OUT_AVG_TIME_PER_SITE_VISIT        0.009166<br>\n",
    "TOTAL_PHOTOS_VIEWED                0.010175<br>\n",
    "AVG_TIME_PER_SITE_VISIT            0.011117<br>\n",
    "ORDERED_BEVERAGES                  0.011537<br>\n",
    "EARLY_DELIVERIES                   0.015112<br>\n",
    "OUT_LATE_DELIVERIES                0.018558<br>\n",
    "OUT_TOTAL_PHOTOS_VIEWED            0.019732<br>\n",
    "OUT_EARLY_DELIVERIES               0.021205<br>\n",
    "LARGEST_ORDER_SIZE                 0.022000<br>\n",
    "OUT_AVG_PREP_VID_TIME              0.022872<br>\n",
    "MEDIAN_MEAL_RATING                 0.031798<br>\n",
    "AVG_PREP_VID_TIME                  0.032115<br>\n",
    "CONTACTS_W_CUSTOMER_SERVICE        0.036541<br>\n",
    "MASTER_CLASSES_ATTENDED            0.037213<br>\n",
    "PERSONAL_@                         0.038841<br>\n",
    "PACKAGE_LOCKER                     0.043534<br>\n",
    "MOBILE_LOGINS                      0.044462<br>\n",
    "OUT_CANCELLATIONS_BEFORE_NOON      0.061191<br>\n",
    "REFRIGERATED_LOCKER                0.068321<br>\n",
    "TASTES_AND_PREFERENCES             0.081438<br>\n",
    "MOBILE_NUMBER                      0.102657<br>\n",
    "PROFESSIONAL_@                     0.156736<br>\n",
    "CANCELLATIONS_BEFORE_NOON          0.163442<br>\n",
    "FOLLOWED_RECOMMENDATIONS_PCT       0.464387<br>\n",
    "CROSS_SELL_SUCCESS                 1.000000<br>\n",
    "Name: CROSS_SELL_SUCCESS, dtype: float64"
   ]
  },
  {
   "cell_type": "markdown",
   "metadata": {},
   "source": [
    "No variables appears to have a high relationship with Cross Sell Success, however a <b>logistic regression </b> model can be build to observe which variables drive cross-selling and if they are statistically significant enough to be included in the final model. "
   ]
  },
  {
   "cell_type": "markdown",
   "metadata": {},
   "source": [
    "## Logistic Regression: base model"
   ]
  },
  {
   "cell_type": "markdown",
   "metadata": {},
   "source": [
    "<b>Train Test Split Data</b>"
   ]
  },
  {
   "cell_type": "code",
   "execution_count": 42,
   "metadata": {},
   "outputs": [],
   "source": [
    "\n",
    "chef_model = pd.read_excel('Apprentice_Chef_final_featured.xlsx')\n",
    "# creating response and explanatory variables\n",
    "# declaring explanatory variables\n",
    "chef_x = chef_model.drop('CROSS_SELL_SUCCESS', axis = 1)\n",
    "\n",
    "\n",
    "# declaring response variable\n",
    "chef_y = chef_model.loc[ : , 'CROSS_SELL_SUCCESS']\n",
    "\n",
    "\n",
    "#chef_x.info()\n",
    "#chef_x['FOLLOWED_RECOMMENDATIONS']"
   ]
  },
  {
   "cell_type": "code",
   "execution_count": 43,
   "metadata": {},
   "outputs": [],
   "source": [
    "# Setting a seed \n",
    "\n",
    "seed = 222\n",
    "\n",
    "# train-test split with stratification\n",
    "X_train, X_test, y_train, y_test = train_test_split(\n",
    "            chef_x,\n",
    "            chef_y,\n",
    "            test_size = 0.25,\n",
    "            random_state = seed,\n",
    "            stratify = chef_y)\n",
    "\n",
    "\n",
    "# merging training data for statsmodels\n",
    "chef_train= pd.concat([X_train, y_train], axis = 1)"
   ]
  },
  {
   "cell_type": "code",
   "execution_count": 73,
   "metadata": {},
   "outputs": [],
   "source": [
    "# looping to make x-variables suitable for statsmodels\n",
    "#for val in chef_x:\n",
    "    #print(f\"chef_train['{val}'] +\")"
   ]
  },
  {
   "cell_type": "code",
   "execution_count": 44,
   "metadata": {},
   "outputs": [
    {
     "name": "stdout",
     "output_type": "stream",
     "text": [
      "Warning: Maximum number of iterations has been exceeded.\n",
      "         Current function value: 0.352520\n",
      "         Iterations: 35\n"
     ]
    },
    {
     "name": "stderr",
     "output_type": "stream",
     "text": [
      "C:\\Users\\Carolina Duque\\Anaconda3\\lib\\site-packages\\statsmodels\\base\\model.py:512: ConvergenceWarning: Maximum Likelihood optimization failed to converge. Check mle_retvals\n",
      "  \"Check mle_retvals\", ConvergenceWarning)\n"
     ]
    },
    {
     "name": "stdout",
     "output_type": "stream",
     "text": [
      "                           Logit Regression Results                           \n",
      "==============================================================================\n",
      "Dep. Variable:     CROSS_SELL_SUCCESS   No. Observations:                 1459\n",
      "Model:                          Logit   Df Residuals:                     1409\n",
      "Method:                           MLE   Df Model:                           49\n",
      "Date:                Mon, 06 Apr 2020   Pseudo R-squ.:                  0.4386\n",
      "Time:                        10:24:42   Log-Likelihood:                -514.33\n",
      "converged:                      False   LL-Null:                       -916.19\n",
      "Covariance Type:            nonrobust   LLR p-value:                3.916e-137\n",
      "=================================================================================================================\n",
      "                                                    coef    std err          z      P>|z|      [0.025      0.975]\n",
      "-----------------------------------------------------------------------------------------------------------------\n",
      "Intercept                                        -0.0494      1.863     -0.027      0.979      -3.700       3.601\n",
      "chef_train['REVENUE']                            -0.0005      0.000     -2.718      0.007      -0.001      -0.000\n",
      "chef_train['TOTAL_MEALS_ORDERED']                 0.0044      0.004      1.014      0.311      -0.004       0.013\n",
      "chef_train['UNIQUE_MEALS_PURCH']                  0.1367      0.052      2.608      0.009       0.034       0.239\n",
      "chef_train['CONTACTS_W_CUSTOMER_SERVICE']         0.0267      0.048      0.560      0.576      -0.067       0.120\n",
      "chef_train['PRODUCT_CATEGORIES_VIEWED']           0.0016      0.025      0.064      0.949      -0.048       0.051\n",
      "chef_train['AVG_TIME_PER_SITE_VISIT']             0.0035      0.002      1.696      0.090      -0.001       0.008\n",
      "chef_train['MOBILE_NUMBER']                       0.9385      0.236      3.980      0.000       0.476       1.401\n",
      "chef_train['CANCELLATIONS_BEFORE_NOON']           0.2917      0.057      5.096      0.000       0.180       0.404\n",
      "chef_train['CANCELLATIONS_AFTER_NOON']           -0.1841      0.174     -1.059      0.289      -0.525       0.156\n",
      "chef_train['TASTES_AND_PREFERENCES']              0.2969      0.169      1.760      0.078      -0.034       0.628\n",
      "chef_train['MOBILE_LOGINS']                       0.1059      0.130      0.817      0.414      -0.148       0.360\n",
      "chef_train['PC_LOGINS']                          -0.2430      0.145     -1.675      0.094      -0.527       0.041\n",
      "chef_train['WEEKLY_PLAN']                         0.0005      0.006      0.080      0.936      -0.011       0.012\n",
      "chef_train['EARLY_DELIVERIES']                    0.0229      0.055      0.417      0.677      -0.085       0.131\n",
      "chef_train['LATE_DELIVERIES']                     0.0501      0.032      1.549      0.121      -0.013       0.114\n",
      "chef_train['PACKAGE_LOCKER']                     -0.0002      0.182     -0.001      0.999      -0.358       0.357\n",
      "chef_train['REFRIGERATED_LOCKER']                 0.1717      0.286      0.600      0.548      -0.389       0.732\n",
      "chef_train['FOLLOWED_RECOMMENDATIONS_PCT']       -0.0344      0.008     -4.193      0.000      -0.050      -0.018\n",
      "chef_train['AVG_PREP_VID_TIME']                6.255e-05      0.004      0.017      0.986      -0.007       0.007\n",
      "chef_train['LARGEST_ORDER_SIZE']                  0.0168      0.089      0.189      0.850      -0.157       0.190\n",
      "chef_train['MASTER_CLASSES_ATTENDED']             0.1764      0.183      0.962      0.336      -0.183       0.536\n",
      "chef_train['MEDIAN_MEAL_RATING']                 -0.1490      0.253     -0.588      0.556      -0.645       0.347\n",
      "chef_train['AVG_CLICKS_PER_VISIT']               -0.1148      0.068     -1.697      0.090      -0.248       0.018\n",
      "chef_train['TOTAL_PHOTOS_VIEWED']                 0.0001      0.001      0.173      0.863      -0.001       0.002\n",
      "chef_train['AVG_PRICE_MEAL']                      0.0102      0.011      0.968      0.333      -0.010       0.031\n",
      "chef_train['ORDERED_BEVERAGES']                   0.4261      0.301      1.416      0.157      -0.163       1.016\n",
      "chef_train['PER_UNIQUE_MEALS']                   -0.0563      0.022     -2.571      0.010      -0.099      -0.013\n",
      "chef_train['WILLIGNESS_NEW_PRODUCTS']            -0.5709      0.417     -1.371      0.170      -1.387       0.245\n",
      "chef_train['JUNK_@']                             -1.4958      0.216     -6.934      0.000      -1.919      -1.073\n",
      "chef_train['FOLLOWED_RECOMMENDATIONS']           33.1187   2.35e+05      0.000      1.000    -4.6e+05     4.6e+05\n",
      "chef_train['OVER_21']                             0.1694      0.216      0.785      0.432      -0.254       0.592\n",
      "chef_train['OUT_REVENUE']                         1.4494      0.714      2.031      0.042       0.051       2.848\n",
      "chef_train['OUT_TOTAL_MEALS_ORDERED']            -0.7889      0.697     -1.132      0.258      -2.155       0.577\n",
      "chef_train['OUT_UNIQUE_MEALS_PURCH']             -0.7046      0.873     -0.807      0.420      -2.416       1.006\n",
      "chef_train['OUT_CONTACTS_W_CUSTOMER_SERVICE']    -1.6742      1.169     -1.432      0.152      -3.966       0.617\n",
      "chef_train['OUT_AVG_TIME_PER_SITE_VISIT']        -0.7423      0.576     -1.289      0.198      -1.871       0.387\n",
      "chef_train['OUT_CANCELLATIONS_BEFORE_NOON']      -0.0562      1.368     -0.041      0.967      -2.738       2.626\n",
      "chef_train['OUT_MOBILE_LOGINS']                  -0.2873      0.346     -0.829      0.407      -0.966       0.392\n",
      "chef_train['OUT_PC_LOGINS']                       0.0855      0.590      0.145      0.885      -1.070       1.241\n",
      "chef_train['OUT_EARLY_DELIVERIES']                0.0932      0.437      0.213      0.831      -0.763       0.949\n",
      "chef_train['OUT_LATE_DELIVERIES']                 0.2010      0.681      0.295      0.768      -1.135       1.536\n",
      "chef_train['OUT_AVG_PREP_VID_TIME']              -0.4749      1.048     -0.453      0.650      -2.529       1.579\n",
      "chef_train['OUT_LARGEST_ORDER_SIZE']             -0.0449      0.508     -0.088      0.930      -1.041       0.951\n",
      "chef_train['OUT_MASTER_CLASSES_ATTENDED']         0.0967      0.405      0.239      0.811      -0.696       0.890\n",
      "chef_train['OUT_MEDIAN_MEAL_RATING']              0.2117      0.470      0.450      0.653      -0.710       1.133\n",
      "chef_train['OUT_AVG_CLICKS_PER_VISIT']           -0.0086      0.275     -0.031      0.975      -0.548       0.530\n",
      "chef_train['OUT_TOTAL_PHOTOS_VIEWED']             0.0396      0.470      0.084      0.933      -0.882       0.961\n",
      "chef_train['OUT_AVG_PRICE_MEAL']                 -0.0270      0.567     -0.048      0.962      -1.138       1.083\n",
      "chef_train['OUT_PER_UNIQUE_MEALS']                1.5602      0.605      2.579      0.010       0.374       2.746\n",
      "=================================================================================================================\n",
      "\n",
      "Possibly complete quasi-separation: A fraction 0.41 of observations can be\n",
      "perfectly predicted. This might indicate that there is complete\n",
      "quasi-separation. In this case some parameters will not be identified.\n"
     ]
    }
   ],
   "source": [
    "### Building my first model\n",
    "\n",
    "# MODEL 1\n",
    "\n",
    "logit_MRM = smf.logit(formula=\"\"\" CROSS_SELL_SUCCESS ~\n",
    "chef_train['REVENUE'] +\n",
    "chef_train['TOTAL_MEALS_ORDERED'] +\n",
    "chef_train['UNIQUE_MEALS_PURCH'] +\n",
    "chef_train['CONTACTS_W_CUSTOMER_SERVICE'] +\n",
    "chef_train['PRODUCT_CATEGORIES_VIEWED'] +\n",
    "chef_train['AVG_TIME_PER_SITE_VISIT'] +\n",
    "chef_train['MOBILE_NUMBER'] +\n",
    "chef_train['CANCELLATIONS_BEFORE_NOON'] +\n",
    "chef_train['CANCELLATIONS_AFTER_NOON'] +\n",
    "chef_train['TASTES_AND_PREFERENCES'] +\n",
    "chef_train['MOBILE_LOGINS'] +\n",
    "chef_train['PC_LOGINS'] +\n",
    "chef_train['WEEKLY_PLAN'] +\n",
    "chef_train['EARLY_DELIVERIES'] +\n",
    "chef_train['LATE_DELIVERIES'] +\n",
    "chef_train['PACKAGE_LOCKER'] +\n",
    "chef_train['REFRIGERATED_LOCKER'] +\n",
    "chef_train['FOLLOWED_RECOMMENDATIONS_PCT'] +\n",
    "chef_train['AVG_PREP_VID_TIME'] +\n",
    "chef_train['LARGEST_ORDER_SIZE'] +\n",
    "chef_train['MASTER_CLASSES_ATTENDED'] +\n",
    "chef_train['MEDIAN_MEAL_RATING'] +\n",
    "chef_train['AVG_CLICKS_PER_VISIT'] +\n",
    "chef_train['TOTAL_PHOTOS_VIEWED'] +\n",
    "chef_train['AVG_PRICE_MEAL'] +\n",
    "chef_train['ORDERED_BEVERAGES'] +\n",
    "chef_train['PER_UNIQUE_MEALS'] +\n",
    "chef_train['WILLIGNESS_NEW_PRODUCTS'] +\n",
    "chef_train['JUNK_@'] +\n",
    "chef_train['FOLLOWED_RECOMMENDATIONS']+\n",
    "chef_train['OVER_21'] +\n",
    "chef_train['OUT_REVENUE'] +\n",
    "chef_train['OUT_TOTAL_MEALS_ORDERED'] +\n",
    "chef_train['OUT_UNIQUE_MEALS_PURCH'] +\n",
    "chef_train['OUT_CONTACTS_W_CUSTOMER_SERVICE'] +\n",
    "chef_train['OUT_AVG_TIME_PER_SITE_VISIT'] +\n",
    "chef_train['OUT_CANCELLATIONS_BEFORE_NOON'] +\n",
    "chef_train['OUT_MOBILE_LOGINS'] +\n",
    "chef_train['OUT_PC_LOGINS'] +\n",
    "chef_train['OUT_EARLY_DELIVERIES'] +\n",
    "chef_train['OUT_LATE_DELIVERIES'] +\n",
    "chef_train['OUT_AVG_PREP_VID_TIME'] +\n",
    "chef_train['OUT_LARGEST_ORDER_SIZE'] +\n",
    "chef_train['OUT_MASTER_CLASSES_ATTENDED'] +\n",
    "chef_train['OUT_MEDIAN_MEAL_RATING'] +\n",
    "chef_train['OUT_AVG_CLICKS_PER_VISIT'] +\n",
    "chef_train['OUT_TOTAL_PHOTOS_VIEWED'] +\n",
    "chef_train['OUT_AVG_PRICE_MEAL'] +\n",
    "chef_train['OUT_PER_UNIQUE_MEALS'] \n",
    "\"\"\", data= chef_train) \n",
    "\n",
    "\n",
    "\n",
    "\n",
    "#fit the model based on the data\n",
    "results = logit_MRM.fit()\n",
    "\n",
    "\n",
    "\n",
    "#summary output\n",
    "print(results.summary())\n"
   ]
  },
  {
   "cell_type": "markdown",
   "metadata": {},
   "source": [
    "***\n",
    "***\n",
    "After running the multiple logistical regression. Those variables that were not statistically significant were removed.<br>\n",
    "A final model based on only those statistically significant variables was created. <br>\n",
    "A p-value < 0.05 was used"
   ]
  },
  {
   "cell_type": "code",
   "execution_count": 45,
   "metadata": {
    "scrolled": true
   },
   "outputs": [
    {
     "name": "stdout",
     "output_type": "stream",
     "text": [
      "Optimization terminated successfully.\n",
      "         Current function value: 0.446914\n",
      "         Iterations 7\n",
      "                           Logit Regression Results                           \n",
      "==============================================================================\n",
      "Dep. Variable:     CROSS_SELL_SUCCESS   No. Observations:                 1459\n",
      "Model:                          Logit   Df Residuals:                     1450\n",
      "Method:                           MLE   Df Model:                            8\n",
      "Date:                Mon, 06 Apr 2020   Pseudo R-squ.:                  0.2883\n",
      "Time:                        10:24:58   Log-Likelihood:                -652.05\n",
      "converged:                       True   LL-Null:                       -916.19\n",
      "Covariance Type:            nonrobust   LLR p-value:                5.959e-109\n",
      "==============================================================================================================\n",
      "                                                 coef    std err          z      P>|z|      [0.025      0.975]\n",
      "--------------------------------------------------------------------------------------------------------------\n",
      "Intercept                                     -1.4621      0.342     -4.269      0.000      -2.133      -0.791\n",
      "chef_train['UNIQUE_MEALS_PURCH']               0.0598      0.031      1.936      0.053      -0.001       0.120\n",
      "chef_train['MOBILE_NUMBER']                    0.7618      0.201      3.794      0.000       0.368       1.155\n",
      "chef_train['CANCELLATIONS_BEFORE_NOON']        0.2367      0.049      4.821      0.000       0.140       0.333\n",
      "chef_train['TASTES_AND_PREFERENCES']           0.3399      0.149      2.289      0.022       0.049       0.631\n",
      "chef_train['PC_LOGINS']                       -0.3080      0.128     -2.406      0.016      -0.559      -0.057\n",
      "chef_train['FOLLOWED_RECOMMENDATIONS_PCT']     0.0576      0.004     14.612      0.000       0.050       0.065\n",
      "chef_train['PER_UNIQUE_MEALS']                -0.0150      0.006     -2.323      0.020      -0.028      -0.002\n",
      "chef_train['JUNK_@']                          -1.5256      0.178     -8.552      0.000      -1.875      -1.176\n",
      "==============================================================================================================\n"
     ]
    }
   ],
   "source": [
    "# lOGISTIC REGRESSION MODEL 2\n",
    "# Building model with relevant variables \n",
    "\n",
    "# building a model\n",
    "logit_2 = smf.logit(formula=\"\"\" CROSS_SELL_SUCCESS ~\n",
    "chef_train['UNIQUE_MEALS_PURCH'] +\n",
    "chef_train['MOBILE_NUMBER'] +\n",
    "chef_train['CANCELLATIONS_BEFORE_NOON'] +\n",
    "chef_train['TASTES_AND_PREFERENCES'] +\n",
    "chef_train['PC_LOGINS'] +\n",
    "chef_train['FOLLOWED_RECOMMENDATIONS_PCT'] +\n",
    "chef_train['PER_UNIQUE_MEALS'] +\n",
    "chef_train['JUNK_@'] \n",
    "\"\"\", data= chef_train)\n",
    "\n",
    "\n",
    "\n",
    "# fit the model based on the data\n",
    "results_2 = logit_2.fit()\n",
    "\n",
    "\n",
    "\n",
    "#  summary output\n",
    "print(results_2.summary())\n"
   ]
  },
  {
   "cell_type": "markdown",
   "metadata": {},
   "source": [
    "<font size = 3>Some of the insights we can observed from this model is that: </font>\n",
    "- Compared to MODEL 1, MODEL two has a lower R^2. However, even if the R^2 decreased for the second model, it should fit the data better as those variables that were not statistically significant were removed. \n",
    "\n",
    "- An increase in the percentage of followed recommendations increases the odds of a person subscribing by 0.0576 to 1. \n",
    "- An increase in cancellations before noon, increases the odds of a person subscribing by 0.2367.\n",
    "- A unit increase in unique meal purchases increases the odds ratio of a customers' cross-sell success by 6.16%\n",
    "- The odds of a person subscribing are about 78% lower if they provided junk email rather than personal or work email. \n",
    "***\n",
    "***\n",
    "***\n"
   ]
  },
  {
   "cell_type": "code",
   "execution_count": 46,
   "metadata": {},
   "outputs": [],
   "source": [
    "# Stating my two datasets: full dataset ---> just with explanatory variables\n",
    "                        # significant datset ----> stat significant variables \n",
    "    \n",
    "chef_full = chef_model.copy()\n",
    "#check\n",
    "\n",
    "\n",
    "chef_sig= chef_model.loc[: , ['CROSS_SELL_SUCCESS',\n",
    "                            'UNIQUE_MEALS_PURCH',\n",
    "                            'MOBILE_NUMBER',\n",
    "                            'CANCELLATIONS_BEFORE_NOON',\n",
    "                            'TASTES_AND_PREFERENCES',\n",
    "                            'PC_LOGINS',\n",
    "                            'FOLLOWED_RECOMMENDATIONS_PCT',\n",
    "                            'PER_UNIQUE_MEALS',\n",
    "                            'JUNK_@']]\n",
    "#type(chef_sig)\n",
    "#chef_sig"
   ]
  },
  {
   "cell_type": "markdown",
   "metadata": {},
   "source": [
    "## Logistic Regression"
   ]
  },
  {
   "cell_type": "markdown",
   "metadata": {},
   "source": [
    "<b>Train test split </b>"
   ]
  },
  {
   "cell_type": "code",
   "execution_count": 47,
   "metadata": {},
   "outputs": [],
   "source": [
    "# creating response and explanatory variables\n",
    "\n",
    "# declaring explanatory variables\n",
    "chef_x_sig = chef_sig.drop('CROSS_SELL_SUCCESS', axis = 1)\n",
    "\n",
    "\n",
    "# declaring response variable\n",
    "chef_y = chef_model.loc[ : , 'CROSS_SELL_SUCCESS']\n",
    "\n",
    "X_train, X_test,y_train, y_test = train_test_split(\n",
    "            chef_x_sig,\n",
    "            chef_y,\n",
    "            test_size    = 0.25,\n",
    "            random_state = seed,\n",
    "            stratify     = chef_y)\n",
    "\n",
    "#chef_x_sig\n",
    "#chef_y"
   ]
  },
  {
   "cell_type": "code",
   "execution_count": 56,
   "metadata": {},
   "outputs": [
    {
     "name": "stdout",
     "output_type": "stream",
     "text": [
      " train score: 0.7464\n",
      "tests score: 0.7166 \n",
      "AUC score: 0.6712\n",
      "Scores Difference : 0.0298\n",
      "MSE: 0.2834\n"
     ]
    }
   ],
   "source": [
    "# INSTANTIATING a logistic regression model\n",
    "logreg = LogisticRegression(solver = 'lbfgs',\n",
    "                            C = 1,\n",
    "                            max_iter=1000,\n",
    "                            random_state = 802)\n",
    "\n",
    "\n",
    "# FITTING the training data\n",
    "logreg_fit = logreg.fit(X_train, y_train)\n",
    "\n",
    "\n",
    "# PREDICTING based on the testing set\n",
    "logreg_pred = logreg_fit.predict(X_test)\n",
    "\n",
    "\n",
    "# SCORING the results\n",
    "# why is accuracy not good? my predict the other side bad. in classifiation may be dangerous \n",
    "#let us know about voerfitting\n",
    "#print('Training Score:', logreg_fit.score(X_train, y_train).round(4))\n",
    "#print('Testing  Score:', logreg_fit.score(X_test, y_test).round(4))\n",
    "#print('AUC Score        :', roc_auc_score(y_true  = y_test,\n",
    "                                          #y_score = logreg_pred).round(4))\n",
    "    \n",
    "#saving scores     \n",
    "lg_train_score = logreg_fit.score(X_train, y_train).round(4)\n",
    "lg_test_score  = logreg_fit.score(X_test, y_test).round(4)\n",
    "lg_auc = roc_auc_score(y_true  = y_test,\n",
    "                                y_score = logreg_pred)\n",
    "\n",
    "print(f\"\"\" train score: {lg_train_score}\n",
    "tests score: {lg_test_score } \n",
    "AUC score: {lg_auc.round(4)}\"\"\")\n",
    "\n",
    "# has there been offerfit?\n",
    "\n",
    "print(f'Scores Difference : {round(lg_train_score - lg_test_score,4) }')\n",
    "print ('MSE:', mean_squared_error (y_test, logreg_pred).round(4))\n"
   ]
  },
  {
   "cell_type": "markdown",
   "metadata": {},
   "source": [
    "About 74.64% of cross-sell sucess can be explain by the significant variables "
   ]
  },
  {
   "cell_type": "markdown",
   "metadata": {},
   "source": [
    "<b>Logistic Regression Confusion Matrix </b>"
   ]
  },
  {
   "cell_type": "code",
   "execution_count": 57,
   "metadata": {},
   "outputs": [
    {
     "name": "stdout",
     "output_type": "stream",
     "text": [
      "[[ 85  71]\n",
      " [ 67 264]]\n",
      "            True Negative 17.45% ot the test sample\n",
      "            False Positive 14.58% of the test sample\n",
      "            False Negative 13.76% of test sample\n",
      "            True Positive 54.21% of thest sample\n"
     ]
    }
   ],
   "source": [
    "# creating a confusion matrix\n",
    "print(confusion_matrix(y_true = y_test,\n",
    "                       y_pred = logreg_pred))\n",
    "\n",
    "# total observations in sample test\n",
    "# X_test ---> 487 observations\n",
    "print(f\"\"\"            True Negative {round(85/487 * 100 ,2)}% ot the test sample\n",
    "            False Positive {round(71/487 * 100, 2)}% of the test sample\n",
    "            False Negative {round(67/487 * 100,2)}% of test sample\n",
    "            True Positive {round(264/487 * 100,2)}% of thest sample\"\"\")"
   ]
  },
  {
   "cell_type": "markdown",
   "metadata": {},
   "source": [
    "Given the business questions at hand: will a customer subscribe to Halfway There? a <b>true negative</b> is the most detrimental type of error. This is so because if the company predicts that x amount of customers will convert and they in fact do not, they may have invested resources to anticipate the demand. \n",
    "\n",
    "What this matrix is telling us is the the logistic regression model incorrectly label 85 customers (17.45% of test sample) that the model predicted will subscribe but in fact they did not. However the model correctly label 331 customers out of the 487 in the test sample. \n",
    "\n",
    "It can be concluded that over the model predicts overall well, with about 67.97% of the observations in the test dataset correctly predicted. However in order to ensure we have to best possible model. We will build other models and find the champion. "
   ]
  },
  {
   "cell_type": "markdown",
   "metadata": {},
   "source": [
    "## KNN Model"
   ]
  },
  {
   "cell_type": "markdown",
   "metadata": {},
   "source": [
    "### KNN with non- standardized data and significant variables"
   ]
  },
  {
   "cell_type": "code",
   "execution_count": 58,
   "metadata": {},
   "outputs": [
    {
     "name": "stdout",
     "output_type": "stream",
     "text": [
      "The optimal number of neighbors is 20\n"
     ]
    }
   ],
   "source": [
    "#Finding nearest neighbor with non-standardized data significant variables\n",
    "# creating lists for training set accuracy and test set accuracy\n",
    "training_accuracy = []\n",
    "test_accuracy = []\n",
    "\n",
    "\n",
    "# building a visualization of 1 to 50 neighbors\n",
    "neighbors_settings = range(1, 21)\n",
    "\n",
    "\n",
    "for n_neighbors in neighbors_settings:\n",
    "    # Building the model\n",
    "    clf = KNeighborsClassifier (n_neighbors = n_neighbors)\n",
    "    clf.fit(X_train, y_train)\n",
    "    \n",
    "    # Recording the training set accuracy\n",
    "    training_accuracy.append(clf.score(X_train, y_train))\n",
    "    \n",
    "    # Recording the generalization accuracy\n",
    "    test_accuracy.append(clf.score(X_test, y_test))\n",
    "\n",
    "\n",
    "# plotting the visualization\n",
    "\n",
    "#fig, ax = plt.subplots(figsize=(12,8))\n",
    "#plt.plot(neighbors_settings, training_accuracy, label = \"training accuracy\")\n",
    "#plt.plot(neighbors_settings, test_accuracy, label = \"test accuracy\")\n",
    "#plt.ylabel(\"Accuracy\")\n",
    "#plt.xlabel(\"n_neighbors\")\n",
    "#plt.legend()\n",
    "#plt.show()\n",
    "\n",
    "\n",
    "# finding the optimal number of neighbors\n",
    "opt_neighbors = test_accuracy.index(max(test_accuracy)) + 1\n",
    "print(f\"\"\"The optimal number of neighbors is {opt_neighbors}\"\"\")"
   ]
  },
  {
   "cell_type": "code",
   "execution_count": 61,
   "metadata": {},
   "outputs": [
    {
     "name": "stdout",
     "output_type": "stream",
     "text": [
      " train score: 0.7971\n",
      "tests score: 0.7598 \n",
      "AUC score: 0.7504\n",
      "Scores Difference : 0.0373\n",
      "MSE: 0.2402\n"
     ]
    }
   ],
   "source": [
    "# non-standarized data and significant variables\n",
    "\n",
    "# INSTANTIATING a model with the optimal number of neighbors\n",
    "\n",
    "knn_opt = KNeighborsClassifier(algorithm = 'auto',\n",
    "                              n_neighbors = opt_neighbors)\n",
    "\n",
    "\n",
    "\n",
    "# FITTING the model based on the training data\n",
    "knn_opt.fit(X_train, y_train)\n",
    "\n",
    "\n",
    "\n",
    "# PREDITCING on new data\n",
    "knn_opt_pred = knn_opt.predict(X_test)\n",
    "\n",
    "\n",
    "\n",
    "# SCORING and saving the results\n",
    "\n",
    "\n",
    "knn_nons_sig_train = knn_opt.score(X_train, y_train).round(4)\n",
    "knn_nons_sig_test = knn_opt.score(X_test, y_test).round(4)\n",
    "knn_nons_sig_auc= roc_auc_score(y_true  = y_test,\n",
    "                                          y_score = knn_opt_pred).round(4)\n",
    "print(f\"\"\" train score: {knn_nons_sig_train}\n",
    "tests score: {knn_nons_sig_test} \n",
    "AUC score: {knn_nons_sig_auc}\"\"\")\n",
    "\n",
    "print(f'Scores Difference : {round(knn_nons_sig_train - knn_nons_sig_test,4) }')\n",
    "print ('MSE:', mean_squared_error (y_test, knn_opt_pred).round(4))"
   ]
  },
  {
   "cell_type": "markdown",
   "metadata": {},
   "source": [
    "<b>KNN Confusion Matrix non-standarized significant variables</b>"
   ]
  },
  {
   "cell_type": "code",
   "execution_count": 96,
   "metadata": {},
   "outputs": [
    {
     "name": "stdout",
     "output_type": "stream",
     "text": [
      "[[113  43]\n",
      " [ 74 257]]\n",
      "            True Negative 23.2% ot the test sample\n",
      "            False Positive 8.83% of the test sample\n",
      "            False Negative 15.2% of test sample\n",
      "            True Positive 52.77% of thest sample\n"
     ]
    }
   ],
   "source": [
    "# creating a confusion matrix\n",
    "print(confusion_matrix(y_true = y_test,\n",
    "                       y_pred = knn_opt_pred))\n",
    "print(f\"\"\"            True Negative {round(113/487 * 100 ,2)}% ot the test sample\n",
    "            False Positive {round(43/487 * 100, 2)}% of the test sample\n",
    "            False Negative {round(74/487 * 100,2)}% of test sample\n",
    "            True Positive {round(257/487 * 100,2)}% of thest sample\"\"\")"
   ]
  },
  {
   "cell_type": "markdown",
   "metadata": {},
   "source": [
    "The above a KNN Classifier with non standardized data and only with  statistically significant variables has a higher score than the previous model (0.7971 vs 0.7464). Nevertheless the due to the flexibility of of the model, KNN non-standardized has a higher chance of committing True Negatives and as such our Logistic Regression Model Remains the champion. "
   ]
  },
  {
   "cell_type": "markdown",
   "metadata": {},
   "source": [
    "### <i>KNN Classifier with Standarized Significant Variables </i>"
   ]
  },
  {
   "cell_type": "code",
   "execution_count": 62,
   "metadata": {},
   "outputs": [],
   "source": [
    "# INSTANTIATING a StandardScaler() object\n",
    "scaler = StandardScaler()\n",
    "\n",
    "\n",
    "# FITTING the scaler with x_data\n",
    "scaler.fit(chef_x_sig)\n",
    "\n",
    "\n",
    "# TRANSFORMING our data after fit\n",
    "X_sig_scaled = scaler.transform(chef_x_sig)\n",
    "\n",
    "\n",
    "# converting scaled data into a DataFrame\n",
    "chef_x_sig_scaled = pd.DataFrame(X_sig_scaled)\n",
    "\n",
    "\n",
    "# checking the results\n",
    "chef_x_sig_scaled.describe().round(2)\n",
    "\n",
    "#adding back columns\n",
    "# adding labels to the scaled DataFrame\n",
    "chef_x_sig_scaled.columns = chef_x_sig.columns\n",
    "\n",
    "#chef_x_sig_scaled"
   ]
  },
  {
   "cell_type": "code",
   "execution_count": 84,
   "metadata": {},
   "outputs": [],
   "source": [
    "#  Checking pre- and post-scaling of the data\n",
    "#print(f\"\"\"\n",
    "#Dataset BEFORE Scaling\n",
    "#----------------------\n",
    "#{pd.np.var(chef_x_sig)}\n",
    "\n",
    "\n",
    "#Dataset AFTER Scaling\n",
    "#----------------------\n",
    "#{pd.np.var(chef_x_sig_scaled)}\n",
    "#\"\"\")"
   ]
  },
  {
   "cell_type": "code",
   "execution_count": 63,
   "metadata": {},
   "outputs": [],
   "source": [
    "#################################### SCALED!!!!!!!!!!!!!!!!!!!!!\n",
    "\n",
    "seed = 222\n",
    "\n",
    "# train-test split with stratification\n",
    "X_train, X_test, y_train, y_test = train_test_split(\n",
    "            chef_x_sig_scaled,\n",
    "            chef_y,\n",
    "            test_size = 0.25,\n",
    "            random_state = seed,\n",
    "            stratify = chef_y)\n",
    "\n",
    "\n",
    "# merging training data for statsmodels\n",
    "chef_train_scaled= pd.concat([X_train, y_train], axis = 1)"
   ]
  },
  {
   "cell_type": "code",
   "execution_count": 66,
   "metadata": {},
   "outputs": [
    {
     "name": "stdout",
     "output_type": "stream",
     "text": [
      "The optimal number of neighbors is 3\n"
     ]
    }
   ],
   "source": [
    "\n",
    "# creating lists for training set accuracy and test set accuracy\n",
    "training_accuracy = []\n",
    "test_accuracy = []\n",
    "\n",
    "\n",
    "# building a visualization of 1 to 50 neighbors\n",
    "neighbors_settings = range(1, 21)\n",
    "\n",
    "\n",
    "for n_neighbors in neighbors_settings:\n",
    "    # Building the model\n",
    "    clf = KNeighborsClassifier (n_neighbors = n_neighbors)\n",
    "    clf.fit(X_train, y_train)\n",
    "    \n",
    "    # Recording the training set accuracy\n",
    "    training_accuracy.append(clf.score(X_train, y_train))\n",
    "    \n",
    "    # Recording the generalization accuracy\n",
    "    test_accuracy.append(clf.score(X_test, y_test))\n",
    "\n",
    "\n",
    "# plotting the visualization\n",
    "#fig, ax = plt.subplots(figsize=(12,8))\n",
    "#plt.plot(neighbors_settings, training_accuracy, label = \"training accuracy\")\n",
    "#plt.plot(neighbors_settings, test_accuracy, label = \"test accuracy\")\n",
    "#plt.ylabel(\"Accuracy\")\n",
    "#plt.xlabel(\"n_neighbors\")\n",
    "#plt.legend()\n",
    "#plt.show()\n",
    "\n",
    "\n",
    "# finding the optimal number of neighbors\n",
    "opt_neighbors = test_accuracy.index(max(test_accuracy)) + 1\n",
    "print(f\"\"\"The optimal number of neighbors is {opt_neighbors}\"\"\")"
   ]
  },
  {
   "cell_type": "code",
   "execution_count": 68,
   "metadata": {},
   "outputs": [
    {
     "name": "stdout",
     "output_type": "stream",
     "text": [
      "Training Score: 0.852\n",
      "Testing Score : 0.7372\n",
      "AUC Score     : 0.7084\n",
      "Scores Difference: 0.1148\n",
      "MSE: 0.2628\n"
     ]
    }
   ],
   "source": [
    "# KNN of significant variables with standarized data\n",
    "# INSTANTIATING a model with the optimal number of neighbors\n",
    "knn_opt = KNeighborsClassifier(algorithm = 'auto',\n",
    "                              n_neighbors = opt_neighbors)\n",
    "\n",
    "\n",
    "\n",
    "# FITTING the model based on the training data\n",
    "knn_opt.fit(X_train, y_train)\n",
    "\n",
    "\n",
    "\n",
    "# PREDITCING on new data\n",
    "knn_opt_pred_2 = knn_opt.predict(X_test)\n",
    "\n",
    "\n",
    "\n",
    "# SCORING the results\n",
    "print('Training Score:', knn_opt.score(X_train, y_train).round(4))\n",
    "print('Testing Score :',  knn_opt.score(X_test, y_test).round(4))\n",
    "print('AUC Score     :', roc_auc_score(y_true  = y_test,\n",
    "                                          y_score = knn_opt_pred_2).round(4))\n",
    "\n",
    "knn_st_sig_train = knn_opt.score(X_train, y_train).round(4)\n",
    "knn_st_sig_test =  knn_opt.score(X_test, y_test).round(4)\n",
    "knn_st_sig_auc=  roc_auc_score(y_true  = y_test,\n",
    "                                          y_score = knn_opt_pred_2).round(4)\n",
    "\n",
    "print(f'Scores Difference: {round(knn_st_sig_train - knn_st_sig_test,4) }')\n",
    "print ('MSE:', mean_squared_error (y_test, knn_opt_pred_2).round(4))\n",
    "\n"
   ]
  },
  {
   "cell_type": "markdown",
   "metadata": {},
   "source": [
    "<b> KNN Confusion Matrix with Standarized Significant Variables</b>"
   ]
  },
  {
   "cell_type": "code",
   "execution_count": 69,
   "metadata": {},
   "outputs": [
    {
     "name": "stdout",
     "output_type": "stream",
     "text": [
      "[[ 98  58]\n",
      " [ 70 261]]\n",
      "            True Negative 20.12% ot the test sample\n",
      "            False Positive 11.91% of the test sample\n",
      "            False Negative 14.37% of test sample\n",
      "            True Positive 53.59% of thest sample\n"
     ]
    }
   ],
   "source": [
    "# creating a confusion matrix\n",
    "print(confusion_matrix(y_true = y_test,\n",
    "                       y_pred = knn_opt_pred_2))\n",
    "print(f\"\"\"            True Negative {round(98/487 * 100 ,2)}% ot the test sample\n",
    "            False Positive {round(58/487 * 100, 2)}% of the test sample\n",
    "            False Negative {round(70/487 * 100,2)}% of test sample\n",
    "            True Positive {round(261/487 * 100,2)}% of thest sample\"\"\")"
   ]
  },
  {
   "cell_type": "markdown",
   "metadata": {},
   "source": [
    "With standardization of the significant variables the KNN classifier shows slightly improvements:\n",
    "The score increased to 0.852. As well, the model appears to have perform better in terms of reducing true negatives.\n",
    "However it appears that this model has overfitted the data. So even though we have a better train score, the model my not predict well on new data. \n"
   ]
  },
  {
   "cell_type": "markdown",
   "metadata": {},
   "source": [
    "### KNN Classifier with all variables non-Standarized"
   ]
  },
  {
   "cell_type": "markdown",
   "metadata": {},
   "source": [
    "<b>Train Test Split with full explanatory dataset</b>"
   ]
  },
  {
   "cell_type": "code",
   "execution_count": 70,
   "metadata": {},
   "outputs": [],
   "source": [
    "# declaring explanatory variables\n",
    "chef_x= chef_full.drop('CROSS_SELL_SUCCESS', axis = 1)\n",
    "\n",
    "\n",
    "# declaring response variable\n",
    "chef_y = chef_model.loc[ : , 'CROSS_SELL_SUCCESS']\n",
    "\n",
    "X_train, X_test,y_train, y_test = train_test_split(\n",
    "            chef_x_sig,\n",
    "            chef_y,\n",
    "            test_size    = 0.25,\n",
    "            random_state = seed,\n",
    "            stratify     = chef_y)\n",
    "\n",
    "#chef_x_sig\n",
    "#chef_y\n"
   ]
  },
  {
   "cell_type": "code",
   "execution_count": 71,
   "metadata": {},
   "outputs": [],
   "source": [
    "#creating lists for training set accuracy and test set accuracy\n",
    "training_accuracy = []\n",
    "test_accuracy = []\n",
    "\n",
    "\n",
    "# building a visualization of 1 to 50 neighbors\n",
    "neighbors_settings = range(1, 21)\n",
    "\n",
    "\n",
    "for n_neighbors in neighbors_settings:\n",
    "    # Building the model\n",
    "    clf = KNeighborsClassifier (n_neighbors = n_neighbors)\n",
    "    clf.fit(X_train, y_train)\n",
    "    \n",
    "    # Recording the training set accuracy\n",
    "    training_accuracy.append(clf.score(X_train, y_train))\n",
    "    \n",
    "    # Recording the generalization accuracy\n",
    "    test_accuracy.append(clf.score(X_test, y_test))\n",
    "\n",
    "\n",
    "# plotting the visualization\n",
    "#fig, ax = plt.subplots(figsize=(12,8))\n",
    "#plt.plot(neighbors_settings, training_accuracy, label = \"training accuracy\")\n",
    "#plt.plot(neighbors_settings, test_accuracy, label = \"test accuracy\")\n",
    "#plt.ylabel(\"Accuracy\")\n",
    "#plt.xlabel(\"n_neighbors\")\n",
    "#plt.legend()\n",
    "#plt.show()\n",
    "\n",
    "\n",
    "# finding the optimal number of neighbors\n",
    "opt_neighbors = test_accuracy.index(max(test_accuracy)) + 1\n",
    "#print(f\"\"\"The optimal number of neighbors is {opt_neighbors}\"\"\")"
   ]
  },
  {
   "cell_type": "code",
   "execution_count": 73,
   "metadata": {},
   "outputs": [
    {
     "name": "stdout",
     "output_type": "stream",
     "text": [
      "Training Score: 0.7971\n",
      "Testing Score : 0.7598\n",
      "AUC Score     : 0.7504\n",
      "Scores Difference : 0.0373\n",
      "MSE: 0.2402\n"
     ]
    }
   ],
   "source": [
    "# KNN with all variables and non standarized\n",
    "# INSTANTIATING a model with the optimal number of neighbors\n",
    "knn_opt = KNeighborsClassifier(algorithm = 'auto',\n",
    "                              n_neighbors = opt_neighbors)\n",
    "\n",
    "\n",
    "\n",
    "# FITTING the model based on the training data\n",
    "knn_opt.fit(X_train, y_train)\n",
    "\n",
    "\n",
    "\n",
    "# PREDITCING on new data\n",
    "knn_opt_pred = knn_opt.predict(X_test)\n",
    "\n",
    "\n",
    "\n",
    "\n",
    "#saving scores\n",
    "knn_nons_all_train = knn_opt.score(X_train, y_train).round(4)\n",
    "knn_nons_all_test =  knn_opt.score(X_test, y_test).round(4)\n",
    "knn_nons_all_auc =  roc_auc_score(y_true  = y_test,\n",
    "                                          y_score = knn_opt_pred).round(4)\n",
    "\n",
    "\n",
    "# SCORING the results\n",
    "print(f'Training Score: {knn_nons_all_train}')\n",
    "print(f'Testing Score : {knn_nons_all_test}')\n",
    "print(f'AUC Score     : {knn_nons_all_auc}')\n",
    "\n",
    "\n",
    "print(f'Scores Difference : {knn_nons_all_train - knn_nons_all_test }')\n",
    "print ('MSE:', mean_squared_error (y_test, knn_opt_pred).round(4))"
   ]
  },
  {
   "cell_type": "markdown",
   "metadata": {},
   "source": [
    "<b> KNN Confusion Matrix with all variables non-standardize</b>"
   ]
  },
  {
   "cell_type": "code",
   "execution_count": 98,
   "metadata": {},
   "outputs": [
    {
     "name": "stdout",
     "output_type": "stream",
     "text": [
      "[[113  43]\n",
      " [ 74 257]]\n",
      "            True Negative 23.2% ot the test sample\n",
      "            False Positive 8.83% of the test sample\n",
      "            False Negative 15.2% of test sample\n",
      "            True Positive 52.77% of thest sample\n"
     ]
    }
   ],
   "source": [
    "# creating a confusion matrix\n",
    "print(confusion_matrix(y_true = y_test,\n",
    "                       y_pred = knn_opt_pred))\n",
    "print(f\"\"\"            True Negative {round(113/487 * 100 ,2)}% ot the test sample\n",
    "            False Positive {round(43/487 * 100, 2)}% of the test sample\n",
    "            False Negative {round(74/487 * 100,2)}% of test sample\n",
    "            True Positive {round(257/487 * 100,2)}% of thest sample\"\"\")"
   ]
  },
  {
   "cell_type": "markdown",
   "metadata": {},
   "source": [
    "This model which includes all the variables in the dataset and there are non standardized, has a lower score than the standardized model with only significant variables. However as mentioned the previous model overfitts and thus it will not predict well. What is more this model has similar score than the Knn non-standardized and with only significant variables. Nevertheless, the lack of interpretability of this model makes it hard to know which variables are the significant ones. Again this model has a higher number of true negatives which is the error we are trying to avoid the most. "
   ]
  },
  {
   "cell_type": "markdown",
   "metadata": {},
   "source": [
    "### <i>KNN Classifier all Variables Standarized </i>"
   ]
  },
  {
   "cell_type": "code",
   "execution_count": 75,
   "metadata": {},
   "outputs": [],
   "source": [
    "# INSTANTIATING a StandardScaler() object\n",
    "scaler = StandardScaler()\n",
    "\n",
    "\n",
    "# FITTING the scaler with x_data\n",
    "scaler.fit(chef_x)\n",
    "\n",
    "\n",
    "# TRANSFORMING our data after fit\n",
    "X_scaled = scaler.transform(chef_x)\n",
    "\n",
    "\n",
    "# converting scaled data into a DataFrame\n",
    "chef_x_scaled = pd.DataFrame(X_scaled)\n",
    "\n",
    "\n",
    "# checking the results\n",
    "#chef_x_scaled.describe().round(2)\n",
    "\n",
    "#adding back columns\n",
    "# adding labels to the scaled DataFrame\n",
    "chef_x_scaled.columns = chef_x.columns\n",
    "#chef_x_scaled"
   ]
  },
  {
   "cell_type": "markdown",
   "metadata": {},
   "source": [
    "<b>Training Test Split with all Variables Standardized</b>"
   ]
  },
  {
   "cell_type": "code",
   "execution_count": 76,
   "metadata": {},
   "outputs": [],
   "source": [
    "# train-test split with stratification\n",
    "X_train, X_test, y_train, y_test = train_test_split(\n",
    "            chef_x_scaled,\n",
    "            chef_y,\n",
    "            test_size = 0.25,\n",
    "            random_state = seed,\n",
    "            stratify = chef_y)\n",
    "\n",
    "\n",
    "# merging training data for statsmodels\n",
    "chef_train_scaled_all= pd.concat([X_train, y_train], axis = 1)"
   ]
  },
  {
   "cell_type": "code",
   "execution_count": 77,
   "metadata": {},
   "outputs": [
    {
     "name": "stdout",
     "output_type": "stream",
     "text": [
      "The optimal number of neighbors is 18\n"
     ]
    }
   ],
   "source": [
    "#creating lists for training set accuracy and test set accuracy\n",
    "training_accuracy = []\n",
    "test_accuracy = []\n",
    "\n",
    "\n",
    "# building a visualization of 1 to 50 neighbors\n",
    "neighbors_settings = range(1, 21)\n",
    "\n",
    "\n",
    "for n_neighbors in neighbors_settings:\n",
    "    # Building the model\n",
    "    clf = KNeighborsClassifier (n_neighbors = n_neighbors)\n",
    "    clf.fit(X_train, y_train)\n",
    "    \n",
    "    # Recording the training set accuracy\n",
    "    training_accuracy.append(clf.score(X_train, y_train))\n",
    "    \n",
    "    # Recording the generalization accuracy\n",
    "    test_accuracy.append(clf.score(X_test, y_test))\n",
    "\n",
    "\n",
    "# plotting the visualization\n",
    "#fig, ax = plt.subplots(figsize=(12,8))\n",
    "#plt.plot(neighbors_settings, training_accuracy, label = \"training accuracy\")\n",
    "#plt.plot(neighbors_settings, test_accuracy, label = \"test accuracy\")\n",
    "#plt.ylabel(\"Accuracy\")\n",
    "#plt.xlabel(\"n_neighbors\")\n",
    "#plt.legend()\n",
    "#plt.show()\n",
    "\n",
    "\n",
    "# finding the optimal number of neighbors\n",
    "opt_neighbors = test_accuracy.index(max(test_accuracy)) + 1\n",
    "print(f\"\"\"The optimal number of neighbors is {opt_neighbors}\"\"\")"
   ]
  },
  {
   "cell_type": "code",
   "execution_count": 79,
   "metadata": {},
   "outputs": [
    {
     "name": "stdout",
     "output_type": "stream",
     "text": [
      "Training Score: 0.7814\n",
      "Testing Score : 0.7207\n",
      "AUC Score     : 0.6488\n",
      "Scores Difference: 0.0607\n",
      "MSE: 0.2793\n"
     ]
    }
   ],
   "source": [
    "#KNN with all variables and standarized data\n",
    "# INSTANTIATING a model with the optimal number of neighbors\n",
    "knn_opt = KNeighborsClassifier(algorithm = 'auto',\n",
    "                              n_neighbors = opt_neighbors)\n",
    "\n",
    "\n",
    "\n",
    "# FITTING the model based on the training data\n",
    "knn_opt.fit(X_train, y_train)\n",
    "\n",
    "\n",
    "\n",
    "# PREDITCING on new data\n",
    "knn_opt_pred = knn_opt.predict(X_test)\n",
    "\n",
    "\n",
    "\n",
    "# SCORING the results\n",
    "print('Training Score:', knn_opt.score(X_train, y_train).round(4))\n",
    "print('Testing Score :',  knn_opt.score(X_test, y_test).round(4))\n",
    "print('AUC Score     :', roc_auc_score(y_true  = y_test,\n",
    "                                          y_score = knn_opt_pred).round(4))\n",
    "# Saving Scores\n",
    "knn_st_all_train  = knn_opt.score(X_train, y_train).round(4)\n",
    "knn_st_all_test = knn_opt.score(X_test, y_test).round(4)\n",
    "knn_st_all_auc =  roc_auc_score(y_true  = y_test,\n",
    "                                          y_score = knn_opt_pred).round(4)\n",
    "# socre diference\n",
    "\n",
    "print(f'Scores Difference: {round(knn_st_all_train- knn_st_all_test, 4)}')\n",
    "print ('MSE:', mean_squared_error (y_test, knn_opt_pred).round(4))"
   ]
  },
  {
   "cell_type": "markdown",
   "metadata": {},
   "source": [
    "<b> KNN Confusion Matrix with all variables Standardize</b> "
   ]
  },
  {
   "cell_type": "code",
   "execution_count": 106,
   "metadata": {},
   "outputs": [
    {
     "name": "stdout",
     "output_type": "stream",
     "text": [
      "[[ 70  86]\n",
      " [ 50 281]]\n",
      "            True Negative 14.37% ot the test sample\n",
      "            False Positive 17.66% of the test sample\n",
      "            False Negative 10.27% of test sample\n",
      "            True Positive 57.7% of thest sample\n"
     ]
    }
   ],
   "source": [
    "# creating a confusion matrix\n",
    "print(confusion_matrix(y_true = y_test,\n",
    "                       y_pred = knn_opt_pred))\n",
    "print(f\"\"\"            True Negative {round(70/487 * 100 ,2)}% ot the test sample\n",
    "            False Positive {round(86/487 * 100, 2)}% of the test sample\n",
    "            False Negative {round(50/487 * 100,2)}% of test sample\n",
    "            True Positive {round(281/487 * 100,2)}% of thest sample\"\"\")\n"
   ]
  },
  {
   "cell_type": "markdown",
   "metadata": {},
   "source": [
    "This model slightly overfitts the data, however is the one that decreases true negatives the most. But we can also see an increase in false positives. this model has a high score, but it is hard to tell what are those variables driving the model. "
   ]
  },
  {
   "cell_type": "markdown",
   "metadata": {},
   "source": [
    "## Classification and Regression Tree Models (CART Model)"
   ]
  },
  {
   "cell_type": "code",
   "execution_count": 80,
   "metadata": {},
   "outputs": [],
   "source": [
    "#creating fucntions for CART Model \n",
    "\n",
    "########################################\n",
    " #Creating a user define function for tree and important features called\n",
    "########################################\n",
    "def display_tree(tree, feature_df, height = 500, width = 800):\n",
    "    \"\"\"\n",
    "    PARAMETERS\n",
    "    ----------\n",
    "    tree       : fitted tree model object\n",
    "        fitted CART model to visualized\n",
    "    feature_df : DataFrame\n",
    "        DataFrame of explanatory features (used to generate labels)\n",
    "    height     : int, default 500\n",
    "        height in pixels to which to constrain image in html\n",
    "    width      : int, default 800\n",
    "        width in pixels to which to constrain image in html\n",
    "    \"\"\"\n",
    "\n",
    "    # visualizing the tree\n",
    "    dot_data = StringIO()\n",
    "\n",
    "    \n",
    "    # exporting tree to graphviz\n",
    "    export_graphviz(decision_tree      = tree,\n",
    "                    out_file           = dot_data,\n",
    "                    filled             = True,\n",
    "                    rounded            = True,\n",
    "                    special_characters = True,\n",
    "                    feature_names      = feature_df.columns)\n",
    "\n",
    "\n",
    "    # declaring a graph object\n",
    "    graph = pydotplus.graph_from_dot_data(dot_data.getvalue())\n",
    "\n",
    "\n",
    "    # creating image\n",
    "    img = Image(graph.create_png(),\n",
    "                height = height,\n",
    "                width  = width)\n",
    "    \n",
    "    return img\n",
    "\n",
    "########################################\n",
    "#plot_feature_importances\n",
    "########################################\n",
    "def plot_feature_importances(model, train, export = False):\n",
    "    \"\"\"\n",
    "    Plots the importance of features from a CART model.\n",
    "    \n",
    "    PARAMETERS\n",
    "    ----------\n",
    "    model  : CART model\n",
    "    train  : explanatory variable training data\n",
    "    export : whether or not to export as a .png image, default False\n",
    "    \"\"\"\n",
    "    \n",
    "    # declaring the number\n",
    "    n_features = X_train.shape[1]\n",
    "    \n",
    "    # setting plot window\n",
    "    fig, ax = plt.subplots(figsize=(12,9))\n",
    "    \n",
    "    plt.barh(range(n_features), model.feature_importances_, align='center')\n",
    "    plt.yticks(pd.np.arange(n_features), train.columns)\n",
    "    plt.xlabel(\"Feature importance\")\n",
    "    plt.ylabel(\"Feature\")\n",
    "    \n",
    "    if export == True:\n",
    "        plt.savefig('Tree_Leaf_50_Feature_Importance.png')"
   ]
  },
  {
   "cell_type": "markdown",
   "metadata": {},
   "source": [
    "## Full CART Model"
   ]
  },
  {
   "cell_type": "markdown",
   "metadata": {},
   "source": [
    "<b>Train Test Split based on full dataset"
   ]
  },
  {
   "cell_type": "code",
   "execution_count": 81,
   "metadata": {},
   "outputs": [],
   "source": [
    "# declaring explanatory variables\n",
    "chef_x= chef_full.drop('CROSS_SELL_SUCCESS', axis = 1)\n",
    "\n",
    "\n",
    "# declaring response variable\n",
    "chef_y = chef_model.loc[ : , 'CROSS_SELL_SUCCESS']\n",
    "\n",
    "X_train, X_test,y_train, y_test = train_test_split(\n",
    "            chef_x,\n",
    "            chef_y,\n",
    "            test_size    = 0.25,\n",
    "            random_state = seed,\n",
    "            stratify     = chef_y)\n",
    "\n",
    "#chef_x"
   ]
  },
  {
   "cell_type": "code",
   "execution_count": 88,
   "metadata": {},
   "outputs": [
    {
     "name": "stdout",
     "output_type": "stream",
     "text": [
      "Training SCORE: 1.0\n",
      "Testing  SCORE: 0.7187\n",
      "AUC Score     : 0.6829\n",
      "Scores difference:0.2813\n",
      "MSE: 0.2813\n"
     ]
    }
   ],
   "source": [
    "# INSTANTIATING a classification tree object\n",
    "full_tree = DecisionTreeClassifier()\n",
    "\n",
    "\n",
    "# FITTING the training data\n",
    "full_tree_fit = full_tree.fit(X_train, y_train)\n",
    "\n",
    "\n",
    "# PREDICTING on new data\n",
    "full_tree_pred = full_tree_fit.predict(X_test)\n",
    "\n",
    "\n",
    "# SCORING the model\n",
    "print('Training SCORE:', full_tree_fit.score(X_train, y_train).round(4))\n",
    "print('Testing  SCORE:', full_tree_fit.score(X_test, y_test).round(4))\n",
    "print('AUC Score     :', roc_auc_score(y_true  = y_test,\n",
    "                                          y_score = full_tree_pred).round(4))\n",
    "\n",
    "\n",
    "full_tree_train_score =  full_tree_fit.score(X_train, y_train).round(4)\n",
    "full_tree_test_score = full_tree_fit.score(X_test, y_test).round(4)\n",
    "full_tree_roc = roc_auc_score(y_true  = y_test,\n",
    "                                          y_score = full_tree_pred).round(4)\n",
    "\n",
    "print(f'Scores difference:{round(full_tree_train_score - full_tree_test_score, 4)}')\n",
    "\n",
    "print ('MSE:', mean_squared_error(y_test, full_tree_pred).round(4))\n"
   ]
  },
  {
   "cell_type": "markdown",
   "metadata": {},
   "source": [
    "As one can see from the scores difference this tree highly overfitts our data, and thus will not predict well on new data. lets prune the tree to avoid this problem. "
   ]
  },
  {
   "cell_type": "markdown",
   "metadata": {},
   "source": [
    "## Pruned CART MODEL"
   ]
  },
  {
   "cell_type": "code",
   "execution_count": 92,
   "metadata": {},
   "outputs": [
    {
     "name": "stdout",
     "output_type": "stream",
     "text": [
      "Training ACCURACY: 0.7944\n",
      "Testing  ACCURACY: 0.7536\n",
      "AUC Score        : 0.7255\n",
      "Scores Difference: 0.0408\n",
      "MSE: 0.2464\n"
     ]
    },
    {
     "data": {
      "image/png": "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
