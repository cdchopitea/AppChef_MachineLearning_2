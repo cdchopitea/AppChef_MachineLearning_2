{
 "cells": [
  {
   "cell_type": "markdown",
   "metadata": {},
   "source": [
    "***\n",
    "***\n",
    "\n",
    "<b><font size=\"5\">Apprentice Chef: Identifying Halfway There Cross Sell Sucess</font> </b>\n",
    "    \n",
    "<em>Machine Learning - Classification Model</em><br>\n",
    "\n",
    "Carolina Duque Chopitea <br>\n",
    "February 5, 2020 <br>\n",
    "Divisadero - 4<br>\n",
    "<br>\n",
    "    \n",
    "***\n",
    "***"
   ]
  },
  {
   "cell_type": "markdown",
   "metadata": {},
   "source": [
    "<b><font size=\"4\">Analysis Objective</font> </b>\n",
    "<br>\n",
    "\n",
    "The purpose of this assignment is to predict which customers will subscribe to <i>\"Halfway There\"</i>. <br>\n",
    "Halfway There is a cross-selling promotion where subscribers receive half bottle of locally produce wine\n",
    "every Wednesday.<br>\n",
    "Halfway There has been offer to all the customers in the dataset (Variable CROSS_SELL_SUCCESS). <br>\n",
    "<b>The goal</b> is therefore to analyze the sample data, develop insights and build a machine learning model to predict a person will subscribe.\n"
   ]
  },
  {
   "cell_type": "markdown",
   "metadata": {},
   "source": [
    "Outline"
   ]
  },
  {
   "cell_type": "code",
   "execution_count": 25,
   "metadata": {},
   "outputs": [],
   "source": [
    "# Import Packages\n",
    "\n",
    "import pandas as pd                                   # data science essentials\n",
    "import numpy as np                                    # Numeric Python\n",
    "import matplotlib.pyplot as plt                       # data viz\n",
    "import seaborn as sns                                 # Enhance data viz   \n",
    "\n",
    "\n",
    "import statsmodels.formula.api as smf                 # stats model for regression\n",
    "from sklearn.model_selection import train_test_split  # Train Tests Split data \n",
    "from sklearn.neighbors import KNeighborsClassifier    # KNN for Classification\n",
    "from sklearn.preprocessing import StandardScaler      # Standard scaler\n",
    "from sklearn.linear_model import LogisticRegression   # Logistic Regression\n",
    "from sklearn.metrics import roc_auc_score             # AUC curve\n",
    "from sklearn.metrics import confusion_matrix          # Confusion Matrix\n",
    "\n",
    "# libraries for classification trees\n",
    "from sklearn.tree import DecisionTreeClassifier      # classification trees\n",
    "from sklearn.tree import export_graphviz             # exports graphics\n",
    "from sklearn.externals.six import StringIO           # saves objects in memory\n",
    "from IPython.display import Image                    # displays on frontend\n",
    "import pydotplus                                     # interprets dot objects"
   ]
  },
  {
   "cell_type": "markdown",
   "metadata": {},
   "source": [
    "# Analysis "
   ]
  },
  {
   "cell_type": "markdown",
   "metadata": {},
   "source": [
    "##  <i> Exploratory Analysis </i>"
   ]
  },
  {
   "cell_type": "markdown",
   "metadata": {},
   "source": [
    " - Observed that about 68% of the customers in the dataset have taken advantage of Halfway There (cross sell Sucess)"
   ]
  },
  {
   "cell_type": "code",
   "execution_count": 26,
   "metadata": {},
   "outputs": [],
   "source": [
    "# Load Data and general exploration of columns\n",
    "\n",
    "file = 'Apprentice_Chef_Dataset.xlsx'\n",
    "original_df = pd.read_excel(file)\n",
    "\n",
    "# print(original_df.columns)\n",
    "\n",
    "# original_df.head(100)\n",
    "\n",
    "#original_df.describe().round(2)\n",
    "\n",
    "# original_df.isnull().sum()\n"
   ]
  },
  {
   "cell_type": "code",
   "execution_count": 27,
   "metadata": {},
   "outputs": [],
   "source": [
    "#original_df['CROSS_SELL_SUCCESS'].sum()\n",
    "#1946-1321=625\n",
    "#round(1321/1946,4)"
   ]
  },
  {
   "cell_type": "markdown",
   "metadata": {},
   "source": [
    "## <i> Feature Treatment & Engineering </i>"
   ]
  },
  {
   "cell_type": "code",
   "execution_count": 28,
   "metadata": {},
   "outputs": [],
   "source": [
    "# Calculating average price per meal\n",
    "\n",
    "chef_data = original_df.copy()\n",
    "\n",
    "# creating a column for avg price meal\n",
    "\n",
    "chef_data['AVG_PRICE_MEAL'] = chef_data['REVENUE']/chef_data['TOTAL_MEALS_ORDERED'].round(2)\n",
    "\n",
    "# chef_data['AVG_PRICE_MEAL'].quantile([0.10,\n",
    "                                      #0.25,\n",
    "                                      #0.50,\n",
    "                                      #0.75,\n",
    "                                      #0.90])\n",
    "chef_data = pd.DataFrame(chef_data)\n",
    "\n",
    "#chef_data.isnull().sum()"
   ]
  },
  {
   "attachments": {},
   "cell_type": "markdown",
   "metadata": {},
   "source": [
    "From the average price per meal variable recently created, a variable to determined whether a customer has ordered beverages or not was created. The basic underpinning is that a customer who exceeds the average price per meal (maximum of $23) most likely had ordered some type of beverage. <br>\n",
    "<br>\n",
    "Those customers that normally ordered the lowest priced meals and add on only water wont make but those who have been ordering the most expensive wine make the cut and are therefore considered as customers that ordered beverages (from all the beverages ordered we are particularly interested in seeing if they ordered wine). <br>\n",
    "<br>\n",
    "The idea is to test if a person that is already ordering beverages is more likely to subscribe to Halfway There than those that do not. \n",
    "<br>\n",
    "<br>\n",
    "Please see the tables for meals and beverage prices: \n",
    "<br>\n",
    "<br>\n",
    "<div style = \"width:image width px; font-size:70%; text-align:center;\">\n",
    "<img src=\"pic_meals.png\" style=\"float: left; width: 60%; margin-right: 1%; margin-bottom: 0.5em; padding-left:0.5em;\">\n",
    "\n",
    "<div style = \"width:image width px; font-size:70%; text-align:center;\">\n",
    "<img src=\"pic_bev.png\" style=\"float: left; width: 60%; margin-right: 1%; margin-bottom: 0.5em; padding-left:0.5em;\">\n",
    "\n",
    "</div> "
   ]
  },
  {
   "cell_type": "code",
   "execution_count": 29,
   "metadata": {},
   "outputs": [],
   "source": [
    "#chef_data['ORDERED_BEVERAGES'] = np.where(chef_data['AVG_PRICE_MEAL'] > 23, 1, 0)"
   ]
  },
  {
   "cell_type": "code",
   "execution_count": 30,
   "metadata": {},
   "outputs": [],
   "source": [
    "# creating ordered beverage column\n",
    "chef_data['ORDERED_BEVERAGES'] = 0\n",
    "\n",
    "# looping to find Miss.\n",
    "for index, val in chef_data.iterrows():\n",
    "    \n",
    "    if chef_data.loc[index, 'AVG_PRICE_MEAL'] > 23:\n",
    "        chef_data.loc[index, 'ORDERED_BEVERAGES'] = 1\n",
    "        \n",
    "    elif chef_data.loc[index,'AVG_PRICE_MEAL'] <= 23:\n",
    "        chef_data.loc[index, 'ORDERED_BEVERAGES'] = 0\n",
    "    \n",
    "    else:\n",
    "        print('error')\n",
    "        \n",
    "chef_data.to_excel('Apprentice_Chef_featured.xlsx',\n",
    "                 index = False)\n",
    "\n",
    "# check if right:\n",
    "\n",
    "# chef_data.loc[: , 'AVG_PRICE_MEAL':'ORDERED_BEVERAGES']\n",
    "\n",
    "# chef_data['ORDERED_BEVERAGES'].sum() ----> we have aproximetly 1428 customers that ordered beverages"
   ]
  },
  {
   "cell_type": "markdown",
   "metadata": {},
   "source": [
    "#### Missing Value Strategy\n",
    "There are a total of 47 missing values in this dataset, all of which belong to 'family name' variable. Given the sample size of the dataset only 2.42%  of observations with missing values appears insignificant for any valuable imputation. As well the relationship between whether a customer provided their family name or not appears to be insignificant in determining if a person will subscrbe to Halfway there (correlation of only -0.015).\n",
    "<br>\n"
   ]
  },
  {
   "cell_type": "code",
   "execution_count": 31,
   "metadata": {},
   "outputs": [],
   "source": [
    "#chef_data =  pd.read_excel('Apprentice_Chef_featured.xlsx',index = False)\n",
    "\n",
    "# Missing value strategy: weather they provided last name or not\n",
    "\n",
    "#chef_data['PROVIDED_FAMILY_NAME'] = 1\n",
    "#chef_data['PROVIDED_FAMILY_NAME'][chef_data['FAMILY_NAME'].isnull()] = 0\n",
    "\n",
    "# chef if rigth\n",
    "        \n",
    "# chef_data.loc[: , ['FAMILY_NAME','PROVIDED_FAMILY_NAME']]\n",
    "\n",
    "# chef_data['PROVIDED_FAMILY_NAME'].sum() \n",
    "\n",
    "# 1946 - 1899\n"
   ]
  },
  {
   "cell_type": "code",
   "execution_count": 32,
   "metadata": {},
   "outputs": [],
   "source": [
    "# the correlation between whether a person provided family name appears to have NO corralation with Cross Sell Suceess\n",
    "# correlation of -0.015\n",
    "\n",
    "\n",
    "\n",
    "#Subset for the condition of isnull() is true for the Family Name \n",
    "#Run descriptive stats for this group (mean, std, media, etc)\n",
    "\n",
    "#c_corr = chef_data.corr()\n",
    "\n",
    "#c_corr['CROSS_SELL_SUCCESS'].sort_values(ascending = True)"
   ]
  },
  {
   "cell_type": "markdown",
   "metadata": {},
   "source": [
    "<b> Continuing with feature treatment and engineering </b>\n",
    "<br>\n",
    "<br>\n",
    " A column to that determines the percentage of unique meals was created."
   ]
  },
  {
   "cell_type": "code",
   "execution_count": 33,
   "metadata": {},
   "outputs": [],
   "source": [
    "#Creating a column for % of unique meals purchased\n",
    "chef_data['PER_UNIQUE_MEALS']= round(chef_data['UNIQUE_MEALS_PURCH']/ chef_data['TOTAL_MEALS_ORDERED']*100, 2)"
   ]
  },
  {
   "cell_type": "markdown",
   "metadata": {},
   "source": [
    "Based on the previous column 'willingness to try new products' was engineered.<br>\n",
    "The logic for this featured is that if a customer's percentage of unique meals ordered exceeds 20% they are the most\n",
    "likely to try new products. <br>\n",
    "The intention is to measure whether if a customer's willingness to try new products will contribute towards predicting their cross selling success."
   ]
  },
  {
   "cell_type": "code",
   "execution_count": 34,
   "metadata": {},
   "outputs": [
    {
     "name": "stderr",
     "output_type": "stream",
     "text": [
      "C:\\Users\\Carolina Duque\\Anaconda3\\lib\\site-packages\\ipykernel_launcher.py:4: SettingWithCopyWarning: \n",
      "A value is trying to be set on a copy of a slice from a DataFrame\n",
      "\n",
      "See the caveats in the documentation: http://pandas.pydata.org/pandas-docs/stable/user_guide/indexing.html#returning-a-view-versus-a-copy\n",
      "  after removing the cwd from sys.path.\n"
     ]
    }
   ],
   "source": [
    "#Based on the previous column creating a \"williness to try new things\"\n",
    "\n",
    "chef_data['WILLIGNESS_NEW_PRODUCTS'] = 0\n",
    "chef_data['WILLIGNESS_NEW_PRODUCTS'][chef_data['PER_UNIQUE_MEALS'] >= 20]= 1\n",
    "\n",
    "\n",
    "# 14 % of customers show willingness to try new products ----> round(267/1946, 2)\n",
    "# print(chef_data['WILLIGNESS_NEW_PRODUCTS'].sum()) ------> 267 customers the most willing to try new things\n",
    "\n",
    "\n",
    "chef_data.to_excel('Apprentice_Chef_featured.xlsx',\n",
    "                 index = False)\n",
    "#chef if right\n",
    "\n",
    "# chef_data.loc[: ,['PER_UNIQUE_MEALS', 'WILLIGNESS_NEW_PRODUCTS']]\n"
   ]
  },
  {
   "cell_type": "markdown",
   "metadata": {},
   "source": [
    "Creating a column based on whether a customer follows recommendations or not. The idea is to understand the impact of following recommendations on a persons likeliness to be subscribe to Halfway There."
   ]
  },
  {
   "cell_type": "code",
   "execution_count": 35,
   "metadata": {},
   "outputs": [
    {
     "name": "stderr",
     "output_type": "stream",
     "text": [
      "C:\\Users\\Carolina Duque\\Anaconda3\\lib\\site-packages\\ipykernel_launcher.py:6: SettingWithCopyWarning: \n",
      "A value is trying to be set on a copy of a slice from a DataFrame\n",
      "\n",
      "See the caveats in the documentation: http://pandas.pydata.org/pandas-docs/stable/user_guide/indexing.html#returning-a-view-versus-a-copy\n",
      "  \n"
     ]
    }
   ],
   "source": [
    "# Follow recomendations appears to be significant. Create a column based on this \n",
    "\n",
    "chef_data = pd.read_excel('Apprentice_Chef_featured.xlsx')\n",
    "\n",
    "chef_data['FOLLOWED_RECOMMENDATIONS'] = 0\n",
    "chef_data['FOLLOWED_RECOMMENDATIONS'][chef_data['FOLLOWED_RECOMMENDATIONS_PCT'] > 30] = 1\n",
    "\n",
    "chef_data.to_excel('Apprentice_Chef_featured.xlsx',index = False)\n",
    "#chef if right\n",
    "\n",
    "#chef_data['FOLLOWED_RECOMMENDATIONS'].sum()\n",
    "\n",
    "# followed recommendations have been added"
   ]
  },
  {
   "cell_type": "markdown",
   "metadata": {},
   "source": [
    "### Classifying emails\n",
    "Three types of email domains have been identified: Professional, Personal, and Junk. <br>\n",
    "Note that there are different email response rates based on a customer’s email domain group."
   ]
  },
  {
   "cell_type": "code",
   "execution_count": 36,
   "metadata": {},
   "outputs": [],
   "source": [
    "# read excel \n",
    "chef_data= pd.read_excel('Apprentice_Chef_featured.xlsx')\n",
    "\n",
    "# Splitting personal emails (creating 5 new features)\n",
    "\n",
    "# placeholder list\n",
    "placeholder_lst = []\n",
    "\n",
    "# looping over each email address\n",
    "for index, col in chef_data.iterrows():\n",
    "    \n",
    "    # splitting email domain at '@'\n",
    "    class_email = chef_data.loc[index,'EMAIL'].split(sep = '@')\n",
    "    \n",
    "    # appending placeholder_lst with the results\n",
    "    placeholder_lst.append(class_email)\n",
    "    \n",
    "\n",
    "# converting placeholder_lst into a DataFrame \n",
    "email_df = pd.DataFrame(placeholder_lst)\n",
    "\n",
    "\n",
    "# displaying the results\n",
    "#email_df"
   ]
  },
  {
   "cell_type": "code",
   "execution_count": 37,
   "metadata": {},
   "outputs": [],
   "source": [
    "#concatenating with original DataFrame\n",
    "# renaming column to concatenate\n",
    "email_df.columns = ['0' , 'EMAIL_DOMAIN']\n",
    "\n",
    "# creating domain email column\n",
    "chef_data = pd.concat([chef_data, email_df['EMAIL_DOMAIN']],\n",
    "                     axis = 1)\n"
   ]
  },
  {
   "cell_type": "code",
   "execution_count": 38,
   "metadata": {},
   "outputs": [],
   "source": [
    "# 3 email domain class\n",
    "PERSONAL_EMAIL= ['@gmail.com', '@yahoo.com', '@protonmail.com']\n",
    "JUNK_EMAIL = ['@me.com', '@aol.com', '@hotmail.com', '@ive.com', '@msn.com', '@passport.com']\n",
    "\n",
    "# created domain class\n",
    "\n",
    "# placeholder list\n",
    "placeholder_lst = []\n",
    "\n",
    "\n",
    "# looping to group observations by domain type\n",
    "for domain in chef_data['EMAIL_DOMAIN']:\n",
    "    \n",
    "    if '@' + domain in PERSONAL_EMAIL:\n",
    "        placeholder_lst.append('PERSONAL_@')\n",
    "        \n",
    "\n",
    "    elif '@' + domain in JUNK_EMAIL:\n",
    "        placeholder_lst.append('JUNK_@')\n",
    "\n",
    "\n",
    "    else:\n",
    "        placeholder_lst.append('PROFESSIONAL_@')\n",
    "\n",
    "\n",
    "# concatenating with original_2\n",
    "chef_data['DOMAIN_CLASS'] = pd.Series(placeholder_lst)\n",
    "\n",
    "\n",
    "# checking results\n",
    "#chef_data['DOMAIN_CLASS'].value_counts()\n",
    "\n"
   ]
  },
  {
   "cell_type": "code",
   "execution_count": 39,
   "metadata": {
    "scrolled": true
   },
   "outputs": [],
   "source": [
    "# Creating variable 1/0 for emails\n",
    "EMAIL_CLASS = pd.get_dummies(chef_data['DOMAIN_CLASS'])\n",
    "\n",
    "# joining codings together\n",
    "chef_data= chef_data.join([EMAIL_CLASS])\n",
    "\n",
    "\n",
    "# saving new columns\n",
    "email_dummies_columns = chef_data.columns\n",
    "\n"
   ]
  },
  {
   "cell_type": "code",
   "execution_count": 40,
   "metadata": {},
   "outputs": [],
   "source": [
    "#email_sentiment = chef_data.loc[ : , ['MEDIAN_MEAL_RATING', 'DOMAIN_CLASS']].sort_values(by = 'MEDIAN_MEAL_RATING')"
   ]
  },
  {
   "cell_type": "markdown",
   "metadata": {},
   "source": [
    "### Age : Over 21 aproximation\n",
    "Based on email domain, the idea is create a featured that determines whether a person is over 21 or not.<br>\n",
    "Even though not perfect, one can approximate the age of a person based on this. <br>\n",
    "Based on the data we can observed that all the professional emails are from Forbs 500 companies. This can indicates that these customer already have a university degree and are probably over 21. <br>\n",
    "Moreover, some other email domains like <i>protonmail</i> are secure and encrypted email services and have a monthly/annual fee <a href=\"https://protonmail.com/support/knowledge-base/business/\">(source here)</a>. This probably means that this email belongs to older people who are tech savvy. People with domains like aol.com, yahoo.com, hotmail.com, and live.com, msn.com as well then to be older than 21 <a href=\"https://www.cnn.com/2010/TECH/web/11/16/email.users/index.html\">(source here)</a>, <a href=\"https://www.statista.com/statistics/948016/blue-apron-customer-share-by-age-worldwide/\">(source here)</a>\n",
    "In addition, a consumer survey, shows that 83.5 percent of respondents aged 14 to 18 years stated that they used Gmail as their primary e-mail provider. while for Yahoo for example was only 6.9 percent. For this reason it was decided to include or gmail accounts as customers who are under 21 and therefore can not purchase wine all together. "
   ]
  },
  {
   "cell_type": "code",
   "execution_count": 41,
   "metadata": {},
   "outputs": [
    {
     "name": "stderr",
     "output_type": "stream",
     "text": [
      "C:\\Users\\Carolina Duque\\Anaconda3\\lib\\site-packages\\ipykernel_launcher.py:14: SettingWithCopyWarning: \n",
      "A value is trying to be set on a copy of a slice from a DataFrame\n",
      "\n",
      "See the caveats in the documentation: http://pandas.pydata.org/pandas-docs/stable/user_guide/indexing.html#returning-a-view-versus-a-copy\n",
      "  \n"
     ]
    }
   ],
   "source": [
    "# Developing a strategy for getting age aprox from email\n",
    "# chef_data['EMAIL_DOMAIN'].value_counts()\n",
    "\n",
    "\n",
    "\n",
    "# the professional email registrated are rom forbe 500 companies, it is unlikly that these companies \n",
    "#hired people with no degrees, this means that these group of people are probably over 21\n",
    "\n",
    "\n",
    "\n",
    "# Based on the previous column creating a \"williness to try new things\"\n",
    "\n",
    "chef_data['OVER_21'] = 1\n",
    "chef_data['OVER_21'][chef_data['EMAIL_DOMAIN'] == 'gmail.com' ] = 0\n",
    "\n"
   ]
  },
  {
   "cell_type": "code",
   "execution_count": 42,
   "metadata": {},
   "outputs": [],
   "source": [
    "chef_data.to_excel('Apprentice_Chef_featured.xlsx',index=False)"
   ]
  },
  {
   "cell_type": "markdown",
   "metadata": {},
   "source": [
    "## Outlier Analysis"
   ]
  },
  {
   "cell_type": "code",
   "execution_count": 43,
   "metadata": {},
   "outputs": [],
   "source": [
    "# Calling excel file\n",
    "\n",
    "chef_data = pd.read_excel('Apprentice_Chef_featured.xlsx')"
   ]
  },
  {
   "cell_type": "markdown",
   "metadata": {},
   "source": [
    "<b><font size=\"3\">Code to create plots for outliers</font> </b>\n",
    "\n",
    "#creating plots\n",
    "\n",
    "\n",
    "fig, ax = plt.subplots(figsize = (10, 8))\n",
    "plt.subplot(2, 2, 1)\n",
    "sns.distplot(chef_data['REVENUE'],\n",
    "             bins  = 'fd',\n",
    "             color = 'g')\n",
    "plt.xlabel('REVENUE')\n",
    "\n",
    "########################\n",
    "\n",
    "plt.subplot(2, 2, 2)\n",
    "sns.distplot(chef_data['TOTAL_MEALS_ORDERED'],\n",
    "             bins  = 'fd',\n",
    "             color = 'y')\n",
    "plt.xlabel('TOTAL MEALS ORDERED')\n",
    "\n",
    "########################\n",
    "\n",
    "plt.subplot(2, 2, 3)\n",
    "sns.distplot(chef_data['UNIQUE_MEALS_PURCH'],\n",
    "             bins  = 'fd',\n",
    "             color = 'orange')\n",
    "plt.xlabel('UNIQUE MEALS PURCHASE')\n",
    "\n",
    "########################\n",
    "plt.subplot(2, 2, 4)\n",
    "sns.distplot(chef_data['CONTACTS_W_CUSTOMER_SERVICE'],\n",
    "             bins  = 'fd',\n",
    "             color = 'r')\n",
    "plt.xlabel('CONTACTS WITH CUSTOMER SERVICE')\n",
    "plt.tight_layout()\n",
    "plt.show()\n",
    "\n",
    "########################\n",
    "########################\n",
    "\n",
    "fig, ax = plt.subplots(figsize = (10, 8))\n",
    "plt.subplot(2, 2, 1)\n",
    "sns.distplot(chef_data['PRODUCT_CATEGORIES_VIEWED'],\n",
    "             bins  = 'fd',\n",
    "             color = 'g')\n",
    "plt.xlabel('PRODUCT CATEGORIES VIEWED')\n",
    "\n",
    "########################\n",
    "\n",
    "plt.subplot(2, 2, 2)\n",
    "sns.distplot(chef_data['AVG_TIME_PER_SITE_VISIT'],\n",
    "             bins  = 'fd',\n",
    "             color = 'y')\n",
    "plt.xlabel('AVERAGE TIME PER SITE VISIT')\n",
    "\n",
    "########################\n",
    "\n",
    "plt.subplot(2, 2, 3)\n",
    "sns.distplot(chef_data['CANCELLATIONS_BEFORE_NOON'],\n",
    "             bins  = 'fd',\n",
    "             color = 'orange')\n",
    "plt.xlabel('CANCELLATIONS BEFORE NOON')\n",
    "\n",
    "########################\n",
    "\n",
    "plt.subplot(2, 2, 4)\n",
    "sns.distplot(chef_data['CANCELLATIONS_AFTER_NOON'],\n",
    "             bins  = 'fd',\n",
    "             color = 'red')\n",
    "plt.xlabel('CANCELATIONS AFTER NOON')\n",
    "plt.tight_layout()\n",
    "plt.show()\n",
    "\n",
    "########################\n",
    "########################\n",
    "\n",
    "fig, ax = plt.subplots(figsize = (10, 8))\n",
    "plt.subplot(2, 2, 1)\n",
    "sns.distplot(chef_data['MOBILE_LOGINS'],\n",
    "             bins  = 'fd',\n",
    "             color = 'y')\n",
    "plt.xlabel('MOBILE LOGINS')\n",
    "\n",
    "########################\n",
    "\n",
    "plt.subplot(2, 2, 2)\n",
    "sns.distplot(chef_data['PC_LOGINS'],\n",
    "             bins  = 'fd',\n",
    "             color = 'orange')\n",
    "plt.xlabel('PC LOGINS')\n",
    "\n",
    "########################\n",
    "\n",
    "plt.subplot(2, 2, 3)\n",
    "sns.distplot(chef_data['WEEKLY_PLAN'],\n",
    "             bins  = 'fd',\n",
    "             color = 'r')\n",
    "plt.xlabel('WEEKLY PLAN')\n",
    "\n",
    "########################\n",
    "\n",
    "plt.subplot(2, 2, 4)\n",
    "sns.distplot(chef_data['EARLY_DELIVERIES'],\n",
    "             bins  = 'fd',\n",
    "             color = 'g')\n",
    "plt.xlabel('EARLY DELIVERIES')\n",
    "\n",
    "plt.tight_layout()\n",
    "plt.show()\n",
    "\n",
    "########################\n",
    "########################\n",
    "\n",
    "fig, ax = plt.subplots(figsize = (10, 8))\n",
    "plt.subplot(2, 2, 1)\n",
    "sns.distplot(chef_data['LATE_DELIVERIES'],\n",
    "             bins  = 'fd',\n",
    "             color = 'y')\n",
    "plt.xlabel('LATE DELIVERIES')\n",
    "\n",
    "########################\n",
    "\n",
    "plt.subplot(2, 2, 2)\n",
    "sns.distplot(chef_data['FOLLOWED_RECOMMENDATIONS_PCT'],\n",
    "             bins = 10,\n",
    "             color = 'orange')\n",
    "plt.xlabel(' % FOLLOWED RECOMMENDATIONS')\n",
    "\n",
    "########################\n",
    "\n",
    "plt.subplot(2, 2, 3)\n",
    "sns.distplot(chef_data['AVG_PREP_VID_TIME'],\n",
    "             bins = 'fd',\n",
    "             color = 'r')\n",
    "plt.xlabel('AVG. PREPARATION VIDEO TIME')\n",
    "\n",
    "########################\n",
    "\n",
    "plt.subplot(2, 2, 4)\n",
    "sns.distplot(chef_data['LARGEST_ORDER_SIZE'],\n",
    "             bins  = 'fd',\n",
    "             color = 'g')\n",
    "plt.xlabel('LARGEST ORDER SIZE')\n",
    "\n",
    "plt.tight_layout()\n",
    "plt.show()\n",
    "\n",
    "########################\n",
    "########################\n",
    "\n",
    "fig, ax = plt.subplots(figsize = (10, 8))\n",
    "plt.subplot(2, 2, 1)\n",
    "sns.distplot(chef_data['MASTER_CLASSES_ATTENDED'],\n",
    "             bins  = 'fd',\n",
    "             color = 'r')\n",
    "plt.xlabel('MASTER CLASSES ATTENDED')\n",
    "\n",
    "########################\n",
    "\n",
    "plt.subplot(2, 2, 2)\n",
    "sns.distplot(chef_data['MEDIAN_MEAL_RATING'],\n",
    "             bins  = 'fd',\n",
    "             color = 'r')\n",
    "plt.xlabel('MEADIAN MEAL RATING')\n",
    "\n",
    "########################\n",
    "\n",
    "plt.subplot(2, 2, 3)\n",
    "sns.distplot(chef_data['AVG_CLICKS_PER_VISIT'],\n",
    "             bins = 'fd',\n",
    "             color = 'r')\n",
    "plt.xlabel('AVG. CLICKS PER VISIT')\n",
    "\n",
    "########################\n",
    "\n",
    "plt.subplot(2, 2, 4)\n",
    "sns.distplot(chef_data['TOTAL_PHOTOS_VIEWED'],\n",
    "             bins  = 'fd',\n",
    "             color = 'g')\n",
    "plt.xlabel('TOTAL PHOTOS VIEWED')\n",
    "\n",
    "\n",
    "plt.tight_layout()\n",
    "plt.show()\n",
    "\n",
    "\n",
    "##############################\n",
    "#############################\n",
    "\n",
    "fig, ax = plt.subplots(figsize = (10, 8))\n",
    "plt.subplot(2, 2, 1)\n",
    "sns.distplot(chef_data['AVG_PRICE_MEAL'],\n",
    "             bins  = 'fd',\n",
    "             color = 'r')\n",
    "plt.xlabel('AVERAGE PRICE PER MEAL')\n",
    "\n",
    "########################\n",
    "\n",
    "plt.subplot(2, 2, 2)\n",
    "sns.distplot(chef_data['PER_UNIQUE_MEALS'],\n",
    "             bins  = 'fd',\n",
    "             color = 'r')\n",
    "plt.xlabel('PERCENTAGE OF UNIQUEMEALS')\n",
    "\n",
    "plt.tight_layout()\n",
    "plt.show()\n",
    "########################\n",
    "\n"
   ]
  },
  {
   "cell_type": "code",
   "execution_count": 44,
   "metadata": {},
   "outputs": [],
   "source": [
    "#setting outlier thresholds\n",
    "\n",
    "REVENUE_hi = 5000 \n",
    "\n",
    "TOTAL_MEALS_ORDERED_hi = 220   \n",
    "\n",
    "UNIQUE_MEALS_PURCH_hi = 9   \n",
    "\n",
    "CONTACTS_W_CUSTOMER_SERVICE_hi = 12\n",
    "CONTACTS_W_CUSTOMER_SERVICE_lo = 2.5\n",
    "\n",
    "AVG_TIME_PER_SITE_VISIT_hi = 200    \n",
    "\n",
    "CANCELLATIONS_BEFORE_NOON_hi = 6\n",
    "\n",
    "MOBILE_LOGINS_hi = 6\n",
    "MOBILE_LOGINS_lo = 5\n",
    "\n",
    "PC_LOGINS_hi = 2\n",
    "PC_LOGINS_lo = 1\n",
    "\n",
    "EARLY_DELIVERIES_hi = 4\n",
    "\n",
    "LATE_DELIVERIES_hi = 10  \n",
    "\n",
    "AVG_PREP_VID_TIME_hi = 300\n",
    "\n",
    "LARGEST_ORDER_SIZE_hi = 8   \n",
    "LARGEST_ORDER_SIZE_lo = 2\n",
    "\n",
    "MASTER_CLASSES_ATTENDED_hi = 1\n",
    "MASTER_CLASSES_ATTENDED_lo = 0\n",
    "\n",
    "MEDIAN_MEAL_RATING_hi = 4\n",
    "MEDIAN_MEAL_RATING_lo = 2\n",
    "\n",
    "AVG_CLICKS_PER_VISIT_hi = 17.5\n",
    "AVG_CLICKS_PER_VISIT_lo = 10\n",
    "\n",
    "TOTAL_PHOTOS_VIEWED_hi = 350\n",
    "\n",
    "AVG_PRICE_MEAL_hi = 75\n",
    "\n",
    "PER_UNIQUE_MEALS_hi = 25"
   ]
  },
  {
   "cell_type": "code",
   "execution_count": 45,
   "metadata": {},
   "outputs": [],
   "source": [
    "# renaming my data frame to reuse an old code\n",
    "\n",
    "original_2 = chef_data.copy()\n"
   ]
  },
  {
   "cell_type": "code",
   "execution_count": 46,
   "metadata": {},
   "outputs": [],
   "source": [
    "# developing features (columns) for outliers\n",
    "#Explanatory variables \n",
    "\n",
    "original_2['OUT_REVENUE'] = 0\n",
    "condition_hi_re = original_2.loc[0:,'OUT_REVENUE'][original_2['REVENUE'] > REVENUE_hi]\n",
    "\n",
    "original_2['OUT_REVENUE'].replace(to_replace = condition_hi_re,\n",
    "                                value      = 1,\n",
    "                                inplace    = True)\n",
    "\n",
    "\n",
    "#TOTAL_MEALS_ORDERED\n",
    "original_2['OUT_TOTAL_MEALS_ORDERED'] = 0\n",
    "condition_hi_meals = original_2.loc[0:,'OUT_TOTAL_MEALS_ORDERED'][original_2['TOTAL_MEALS_ORDERED'] > TOTAL_MEALS_ORDERED_hi]\n",
    "\n",
    "original_2['OUT_TOTAL_MEALS_ORDERED'].replace(to_replace = condition_hi_meals,\n",
    "                                value      = 1,\n",
    "                                inplace    = True)\n",
    "\n",
    "\n",
    "#UNIQUE_MEALS_PURCH_\n",
    "original_2['OUT_UNIQUE_MEALS_PURCH'] = 0\n",
    "condition_hi_unq = original_2.loc[0:,'OUT_UNIQUE_MEALS_PURCH'][original_2['UNIQUE_MEALS_PURCH'] > UNIQUE_MEALS_PURCH_hi]\n",
    "\n",
    "original_2['OUT_UNIQUE_MEALS_PURCH'].replace(to_replace = condition_hi_unq,\n",
    "                                value      = 1,\n",
    "                                inplace    = True)\n",
    "\n",
    "#CONTACTS_W_CUSTOMER_SERVICE high\n",
    "original_2['OUT_CONTACTS_W_CUSTOMER_SERVICE'] = 0\n",
    "condition_hi_cs = original_2.loc[0:,'OUT_CONTACTS_W_CUSTOMER_SERVICE'][original_2['CONTACTS_W_CUSTOMER_SERVICE'] > CONTACTS_W_CUSTOMER_SERVICE_hi]\n",
    "\n",
    "original_2['OUT_CONTACTS_W_CUSTOMER_SERVICE'].replace(to_replace = condition_hi_cs,\n",
    "                                value      = 1,\n",
    "                                inplace    = True)\n",
    "\n",
    "condition_lo_cs = original_2.loc[0:,'OUT_CONTACTS_W_CUSTOMER_SERVICE'][original_2['CONTACTS_W_CUSTOMER_SERVICE'] < CONTACTS_W_CUSTOMER_SERVICE_lo]\n",
    "\n",
    "original_2['OUT_CONTACTS_W_CUSTOMER_SERVICE'].replace(to_replace = condition_lo_cs,\n",
    "                                 value      = 1,\n",
    "                                 inplace    = True)\n",
    "\n",
    "#AVG_TIME_PER_SITE_VISIT\n",
    "original_2['OUT_AVG_TIME_PER_SITE_VISIT'] = 0\n",
    "condition_hi_sv = original_2.loc[0:,'OUT_AVG_TIME_PER_SITE_VISIT'][original_2['AVG_TIME_PER_SITE_VISIT'] > AVG_TIME_PER_SITE_VISIT_hi]\n",
    "\n",
    "original_2['OUT_AVG_TIME_PER_SITE_VISIT'].replace(to_replace = condition_hi_sv,\n",
    "                                value      = 1,\n",
    "                                inplace    = True)\n",
    "\n",
    "#CANCELLATIONS_BEFORE_NOON\n",
    "original_2['OUT_CANCELLATIONS_BEFORE_NOON'] = 0\n",
    "condition_hi_bnoon = original_2.loc[0:,'OUT_CANCELLATIONS_BEFORE_NOON'][original_2['CANCELLATIONS_BEFORE_NOON'] > CANCELLATIONS_BEFORE_NOON_hi]\n",
    "\n",
    "original_2['OUT_CANCELLATIONS_BEFORE_NOON'].replace(to_replace = condition_hi_bnoon,\n",
    "                                value      = 1,\n",
    "                                inplace    = True)\n",
    "\n",
    "\n",
    "# MOBILE_LOGINGS\n",
    "original_2['OUT_MOBILE_LOGINS'] = 0\n",
    "condition_hi_mlg = original_2.loc[0:,'OUT_MOBILE_LOGINS'][original_2['MOBILE_LOGINS'] > MOBILE_LOGINS_hi]\n",
    "condition_lo_mlg = original_2.loc[0:,'OUT_MOBILE_LOGINS'][original_2['MOBILE_LOGINS'] < MOBILE_LOGINS_lo]\n",
    "\n",
    "original_2['OUT_MOBILE_LOGINS'].replace(to_replace = condition_hi_mlg,\n",
    "                                 value      = 1,\n",
    "                                 inplace    = True)\n",
    "\n",
    "original_2['OUT_MOBILE_LOGINS'].replace(to_replace = condition_lo_mlg,\n",
    "                                 value      = 1,\n",
    "                                 inplace    = True)\n",
    "\n",
    "\n",
    "# PC_lOGINS\n",
    "original_2['OUT_PC_LOGINS'] = 0\n",
    "condition_hi_pc = original_2.loc[0:,'OUT_PC_LOGINS'][original_2['PC_LOGINS'] > PC_LOGINS_hi]\n",
    "condition_lo_pc = original_2.loc[0:,'OUT_PC_LOGINS'][original_2['PC_LOGINS'] < PC_LOGINS_lo]\n",
    "\n",
    "original_2['OUT_PC_LOGINS'].replace(to_replace = condition_hi_pc,\n",
    "                                 value      = 1,\n",
    "                                 inplace    = True)\n",
    "\n",
    "original_2['OUT_PC_LOGINS'].replace(to_replace = condition_lo_pc,\n",
    "                                 value      = 1,\n",
    "                                 inplace    = True)\n",
    "\n",
    "\n",
    "#EARLY_DELIVERIES\n",
    "original_2['OUT_EARLY_DELIVERIES'] = 0\n",
    "condition_hi_ed = original_2.loc[0:,'OUT_EARLY_DELIVERIES'][original_2['EARLY_DELIVERIES'] > EARLY_DELIVERIES_hi]\n",
    "\n",
    "original_2['OUT_EARLY_DELIVERIES'].replace(to_replace = condition_hi_ed,\n",
    "                                value      = 1,\n",
    "                                inplace    = True)\n",
    "\n",
    "\n",
    "#LATE_DELIVERIES\n",
    "original_2['OUT_LATE_DELIVERIES'] = 0\n",
    "condition_hi_ld = original_2.loc[0:,'OUT_LATE_DELIVERIES'][original_2['LATE_DELIVERIES'] > LATE_DELIVERIES_hi]\n",
    "\n",
    "original_2['OUT_LATE_DELIVERIES'].replace(to_replace = condition_hi_ld,\n",
    "                                value      = 1,\n",
    "                                inplace    = True)\n",
    "\n",
    "\n",
    "\n",
    "#AVG_PREP_VID_TIME\n",
    "original_2['OUT_AVG_PREP_VID_TIME'] = 0\n",
    "condition_hi_vid= original_2.loc[0:,'OUT_AVG_PREP_VID_TIME'][original_2['AVG_PREP_VID_TIME'] > AVG_PREP_VID_TIME_hi]\n",
    "\n",
    "original_2['OUT_AVG_PREP_VID_TIME'].replace(to_replace = condition_hi_vid,\n",
    "                                value      = 1,\n",
    "                                inplace    = True)\n",
    "\n",
    "\n",
    "#LARGEST_ORDER_SIZE\n",
    "original_2['OUT_LARGEST_ORDER_SIZE'] = 0\n",
    "condition_hi_large= original_2.loc[0:,'OUT_LARGEST_ORDER_SIZE'][original_2['LARGEST_ORDER_SIZE'] > LARGEST_ORDER_SIZE_hi]\n",
    "\n",
    "original_2['OUT_LARGEST_ORDER_SIZE'].replace(to_replace = condition_hi_large,\n",
    "                                value      = 1,\n",
    "                                inplace    = True)\n",
    "\n",
    "condition_lo_large= original_2.loc[0:,'OUT_LARGEST_ORDER_SIZE'][original_2['LARGEST_ORDER_SIZE'] < LARGEST_ORDER_SIZE_lo]\n",
    "original_2['OUT_LARGEST_ORDER_SIZE'].replace(to_replace = condition_lo_large,\n",
    "                                value      = 1,\n",
    "                                inplace    = True)\n",
    "\n",
    "\n",
    "\n",
    "#MASTER CLASS ATTENDED\n",
    "original_2['OUT_MASTER_CLASSES_ATTENDED'] = 0\n",
    "condition_hi_mas= original_2.loc[0:,'OUT_MASTER_CLASSES_ATTENDED'][original_2['MASTER_CLASSES_ATTENDED'] > MASTER_CLASSES_ATTENDED_hi]\n",
    "\n",
    "original_2['OUT_MASTER_CLASSES_ATTENDED'].replace(to_replace = condition_hi_mas,\n",
    "                                value      = 1,\n",
    "                                inplace    = True)\n",
    "\n",
    "condition_lo_mas= original_2.loc[0:,'OUT_MASTER_CLASSES_ATTENDED'][original_2['MASTER_CLASSES_ATTENDED'] < MASTER_CLASSES_ATTENDED_lo]\n",
    "\n",
    "original_2['OUT_MASTER_CLASSES_ATTENDED'].replace(to_replace = condition_lo_mas,\n",
    "                                value      = 1,\n",
    "                                inplace    = True)\n",
    "\n",
    "\n",
    "#MEDIAN_MEAL_RATING\n",
    "original_2['OUT_MEDIAN_MEAL_RATING'] = 0\n",
    "condition_hi_med= original_2.loc[0:,'OUT_MEDIAN_MEAL_RATING'][original_2['MEDIAN_MEAL_RATING'] > MEDIAN_MEAL_RATING_hi]\n",
    "\n",
    "original_2['OUT_MEDIAN_MEAL_RATING'].replace(to_replace = condition_hi_med,\n",
    "                                value      = 1,\n",
    "                                inplace    = True)\n",
    "\n",
    "condition_lo_med= original_2.loc[0:,'OUT_MEDIAN_MEAL_RATING'][original_2['MEDIAN_MEAL_RATING'] <MEDIAN_MEAL_RATING_lo]\n",
    "\n",
    "original_2['OUT_MEDIAN_MEAL_RATING'].replace(to_replace = condition_lo_med,\n",
    "                                value      = 1,\n",
    "                                inplace    = True)\n",
    "\n",
    "#AVG_CLICKS_PER_VISIT low/high\n",
    "original_2['OUT_AVG_CLICKS_PER_VISIT'] = 0\n",
    "condition_hi_cl = original_2.loc[0:,'OUT_AVG_CLICKS_PER_VISIT'][original_2['AVG_CLICKS_PER_VISIT'] > AVG_CLICKS_PER_VISIT_hi]\n",
    "condition_lo_cl = original_2.loc[0:,'OUT_AVG_CLICKS_PER_VISIT'][original_2['AVG_CLICKS_PER_VISIT'] < AVG_CLICKS_PER_VISIT_lo]\n",
    "\n",
    "original_2['OUT_AVG_CLICKS_PER_VISIT'].replace(to_replace = condition_hi_cl,\n",
    "                                 value      = 1,\n",
    "                                 inplace    = True)\n",
    "\n",
    "original_2['OUT_AVG_CLICKS_PER_VISIT'].replace(to_replace = condition_lo_cl,\n",
    "                                 value      = 1,\n",
    "                                 inplace    = True)\n",
    "\n",
    "\n",
    "#TOTAL_PHOTOS_VIEWED\n",
    "original_2['OUT_TOTAL_PHOTOS_VIEWED'] = 0\n",
    "condition_hi_ph= original_2.loc[0:,'OUT_TOTAL_PHOTOS_VIEWED'][original_2['TOTAL_PHOTOS_VIEWED'] > TOTAL_PHOTOS_VIEWED_hi]\n",
    "\n",
    "original_2['OUT_TOTAL_PHOTOS_VIEWED'].replace(to_replace = condition_hi_ph,\n",
    "                                value      = 1,\n",
    "                                inplace    = True)\n",
    "\n",
    "\n",
    "# AVG_PRICE_PER_MEAL\n",
    "\n",
    "original_2['OUT_AVG_PRICE_MEAL'] = 0\n",
    "condition_hi_mealp= original_2.loc[0:,'OUT_AVG_PRICE_MEAL'][original_2['AVG_PRICE_MEAL'] > AVG_PRICE_MEAL_hi]\n",
    "\n",
    "original_2['OUT_AVG_PRICE_MEAL'].replace(to_replace = condition_hi_mealp,\n",
    "                                value      = 1,\n",
    "                                inplace    = True)\n",
    "\n",
    "\n",
    "\n",
    "\n",
    "#PER_UNIQUE_MEAL\n",
    "\n",
    "original_2['OUT_PER_UNIQUE_MEALS'] = 0\n",
    "condition_hi_ump= original_2.loc[0:,'OUT_PER_UNIQUE_MEALS'][original_2['PER_UNIQUE_MEALS'] > PER_UNIQUE_MEALS_hi]\n",
    "\n",
    "original_2['OUT_PER_UNIQUE_MEALS'].replace(to_replace = condition_hi_ump,\n",
    "                                value      = 1,\n",
    "                                inplace    = True)\n",
    "\n",
    "\n"
   ]
  },
  {
   "cell_type": "code",
   "execution_count": 47,
   "metadata": {},
   "outputs": [],
   "source": [
    "# CHECKPOINT\n",
    "original_2.to_excel('Apprentice_Chef_featured.xlsx', index= False)"
   ]
  },
  {
   "cell_type": "code",
   "execution_count": 48,
   "metadata": {},
   "outputs": [],
   "source": [
    "chef_data = pd.read_excel('Apprentice_Chef_featured.xlsx')\n",
    "#chef_data.isnull().sum()"
   ]
  },
  {
   "cell_type": "markdown",
   "metadata": {},
   "source": [
    "## <i> Dropping Categorical Variables </i>"
   ]
  },
  {
   "cell_type": "code",
   "execution_count": 49,
   "metadata": {},
   "outputs": [],
   "source": [
    "# droping categorical features\n",
    "chef_model = chef_data.drop(['NAME','EMAIL','FIRST_NAME','FAMILY_NAME', 'EMAIL_DOMAIN','DOMAIN_CLASS'], axis=1)\n",
    "\n",
    "#checking\n",
    "#chef_model['FOLLOWED_RECOMMENDATIONS']\n",
    "\n",
    "                                      "
   ]
  },
  {
   "cell_type": "code",
   "execution_count": 50,
   "metadata": {},
   "outputs": [],
   "source": [
    "chef_model.to_excel('Apprentice_Chef_final_featured.xlsx', index= False)\n",
    "chef_model = pd.read_excel('Apprentice_Chef_final_featured.xlsx')\n"
   ]
  },
  {
   "cell_type": "markdown",
   "metadata": {},
   "source": [
    "# Classification Modeling "
   ]
  },
  {
   "cell_type": "markdown",
   "metadata": {},
   "source": [
    "<b><font size=\"4\">Correlations between variables and Cross Sell Success</font> </b>\n",
    "<br>\n",
    "<br>\n",
    "\n",
    "<b><font size=\"4\">Code and output</font> </b>\n",
    "<br>\n",
    "<br>\n",
    "\n",
    "<b><font size=\"2\">Code</font> </b>\n",
    "\n",
    "chef_corr = chef_model.corr()\n",
    "\n",
    "chef_corr['CROSS_SELL_SUCCESS'].sort_values(ascending = True)\n",
    "\n",
    "<b><font size=\"2\">Output</font> </b>\n",
    "\n",
    "\n",
    "JUNK_@                             -0.256011<br>\n",
    "OUT_CONTACTS_W_CUSTOMER_SERVICE   -0.058285<br>\n",
    "CANCELLATIONS_AFTER_NOON          -0.054149<br>\n",
    "PC_LOGINS                         -0.050647<br>\n",
    "WILLIGNESS_NEW_PRODUCTS           -0.042373<br>\n",
    "OUT_TOTAL_MEALS_ORDERED           -0.041327<br>\n",
    "AVG_CLICKS_PER_VISIT              -0.035074<br>\n",
    "OUT_MOBILE_LOGINS                 -0.030696<br>\n",
    "PER_UNIQUE_MEALS                  -0.030352<br>\n",
    "OUT_PER_UNIQUE_MEALS              -0.027599<br>\n",
    "AVG_PRICE_MEAL                    -0.024558<br>\n",
    "OVER_21                           -0.022204<br>\n",
    "OUT_UNIQUE_MEALS_PURCH            -0.021241<br>\n",
    "OUT_LARGEST_ORDER_SIZE            -0.020460<br>\n",
    "OUT_PC_LOGINS                     -0.018550<br>\n",
    "OUT_AVG_PRICE_MEAL                -0.016363<br>\n",
    "PROVIDED_FAMILY_NAME              -0.015019<br>\n",
    "OUT_AVG_CLICKS_PER_VISIT          -0.006905<br>\n",
    "WEEKLY_PLAN                       -0.005337<br>\n",
    "OUT_MEDIAN_MEAL_RATING            -0.004861<br>\n",
    "UNIQUE_MEALS_PURCH                 0.001136<br>\n",
    "OUT_MASTER_CLASSES_ATTENDED        0.004469<br>\n",
    "REVENUE                            0.004540<br>\n",
    "PRODUCT_CATEGORIES_VIEWED          0.004671<br>\n",
    "OUT_REVENUE                        0.005180<br>\n",
    "TOTAL_MEALS_ORDERED                0.006475<br>\n",
    "LATE_DELIVERIES                    0.006695<br>\n",
    "OUT_AVG_TIME_PER_SITE_VISIT        0.009166<br>\n",
    "TOTAL_PHOTOS_VIEWED                0.010175<br>\n",
    "AVG_TIME_PER_SITE_VISIT            0.011117<br>\n",
    "ORDERED_BEVERAGES                  0.011537<br>\n",
    "EARLY_DELIVERIES                   0.015112<br>\n",
    "OUT_LATE_DELIVERIES                0.018558<br>\n",
    "OUT_TOTAL_PHOTOS_VIEWED            0.019732<br>\n",
    "OUT_EARLY_DELIVERIES               0.021205<br>\n",
    "LARGEST_ORDER_SIZE                 0.022000<br>\n",
    "OUT_AVG_PREP_VID_TIME              0.022872<br>\n",
    "MEDIAN_MEAL_RATING                 0.031798<br>\n",
    "AVG_PREP_VID_TIME                  0.032115<br>\n",
    "CONTACTS_W_CUSTOMER_SERVICE        0.036541<br>\n",
    "MASTER_CLASSES_ATTENDED            0.037213<br>\n",
    "PERSONAL_@                         0.038841<br>\n",
    "PACKAGE_LOCKER                     0.043534<br>\n",
    "MOBILE_LOGINS                      0.044462<br>\n",
    "OUT_CANCELLATIONS_BEFORE_NOON      0.061191<br>\n",
    "REFRIGERATED_LOCKER                0.068321<br>\n",
    "TASTES_AND_PREFERENCES             0.081438<br>\n",
    "MOBILE_NUMBER                      0.102657<br>\n",
    "PROFESSIONAL_@                     0.156736<br>\n",
    "CANCELLATIONS_BEFORE_NOON          0.163442<br>\n",
    "FOLLOWED_RECOMMENDATIONS_PCT       0.464387<br>\n",
    "CROSS_SELL_SUCCESS                 1.000000<br>\n",
    "Name: CROSS_SELL_SUCCESS, dtype: float64"
   ]
  },
  {
   "cell_type": "markdown",
   "metadata": {},
   "source": [
    "No variables appears to have a high relationship with Cross Sell Success, however a logistic model can be build\n",
    "to see if together these variables can accurately predict if a customer will subscribe or not."
   ]
  },
  {
   "cell_type": "markdown",
   "metadata": {},
   "source": [
    "## Logistic regression base model"
   ]
  },
  {
   "cell_type": "markdown",
   "metadata": {},
   "source": [
    "<b>Train Test Split Data</b>"
   ]
  },
  {
   "cell_type": "code",
   "execution_count": 51,
   "metadata": {},
   "outputs": [],
   "source": [
    "# creating response and explanatory variables\n",
    "\n",
    "# declaring explanatory variables\n",
    "chef_x = chef_model.drop('CROSS_SELL_SUCCESS', axis = 1)\n",
    "\n",
    "\n",
    "# declaring response variable\n",
    "chef_y = chef_model.loc[ : , 'CROSS_SELL_SUCCESS']\n",
    "\n",
    "\n",
    "#chef_x.info()\n",
    "#chef_x['FOLLOWED_RECOMMENDATIONS']"
   ]
  },
  {
   "cell_type": "code",
   "execution_count": 52,
   "metadata": {},
   "outputs": [],
   "source": [
    "# Setting a seed \n",
    "\n",
    "seed = 222\n",
    "\n",
    "# train-test split with stratification\n",
    "X_train, X_test, y_train, y_test = train_test_split(\n",
    "            chef_x,\n",
    "            chef_y,\n",
    "            test_size = 0.25,\n",
    "            random_state = seed,\n",
    "            stratify = chef_y)\n",
    "\n",
    "\n",
    "# merging training data for statsmodels\n",
    "chef_train= pd.concat([X_train, y_train], axis = 1)"
   ]
  },
  {
   "cell_type": "code",
   "execution_count": 53,
   "metadata": {},
   "outputs": [],
   "source": [
    "# looping to make x-variables suitable for statsmodels\n",
    "#for val in chef_x:\n",
    "    #print(f\"chef_train['{val}'] +\")"
   ]
  },
  {
   "cell_type": "markdown",
   "metadata": {},
   "source": [
    "### Building my first model\n",
    "\n",
    "<font size= 5> model's code </font> <br>\n",
    "<br>\n",
    "logit_MRM = smf.logit(formula=\"\"\" CROSS_SELL_SUCCESS ~\n",
    "chef_train['REVENUE'] +\n",
    "chef_train['TOTAL_MEALS_ORDERED'] +\n",
    "chef_train['UNIQUE_MEALS_PURCH'] +\n",
    "chef_train['CONTACTS_W_CUSTOMER_SERVICE'] +\n",
    "chef_train['PRODUCT_CATEGORIES_VIEWED'] +\n",
    "chef_train['AVG_TIME_PER_SITE_VISIT'] +\n",
    "chef_train['MOBILE_NUMBER'] +\n",
    "chef_train['CANCELLATIONS_BEFORE_NOON'] +\n",
    "chef_train['CANCELLATIONS_AFTER_NOON'] +\n",
    "chef_train['TASTES_AND_PREFERENCES'] +\n",
    "chef_train['MOBILE_LOGINS'] +\n",
    "chef_train['PC_LOGINS'] +\n",
    "chef_train['WEEKLY_PLAN'] +\n",
    "chef_train['EARLY_DELIVERIES'] +\n",
    "chef_train['LATE_DELIVERIES'] +\n",
    "chef_train['PACKAGE_LOCKER'] +\n",
    "chef_train['REFRIGERATED_LOCKER'] +\n",
    "chef_train['FOLLOWED_RECOMMENDATIONS_PCT'] +\n",
    "chef_train['AVG_PREP_VID_TIME'] +\n",
    "chef_train['LARGEST_ORDER_SIZE'] +\n",
    "chef_train['MASTER_CLASSES_ATTENDED'] +\n",
    "chef_train['MEDIAN_MEAL_RATING'] +\n",
    "chef_train['AVG_CLICKS_PER_VISIT'] +\n",
    "chef_train['TOTAL_PHOTOS_VIEWED'] +\n",
    "chef_train['AVG_PRICE_MEAL'] +\n",
    "chef_train['ORDERED_BEVERAGES'] +\n",
    "chef_train['PER_UNIQUE_MEALS'] +\n",
    "chef_train['WILLIGNESS_NEW_PRODUCTS'] +\n",
    "chef_train['JUNK_@'] +\n",
    "chef_train['FOLLOWED_RECOMMENDATIONS']+\n",
    "chef_train['OVER_21'] +\n",
    "chef_train['OUT_REVENUE'] +\n",
    "chef_train['OUT_TOTAL_MEALS_ORDERED'] +\n",
    "chef_train['OUT_UNIQUE_MEALS_PURCH'] +\n",
    "chef_train['OUT_CONTACTS_W_CUSTOMER_SERVICE'] +\n",
    "chef_train['OUT_AVG_TIME_PER_SITE_VISIT'] +\n",
    "chef_train['OUT_CANCELLATIONS_BEFORE_NOON'] +\n",
    "chef_train['OUT_MOBILE_LOGINS'] +\n",
    "chef_train['OUT_PC_LOGINS'] +\n",
    "chef_train['OUT_EARLY_DELIVERIES'] +\n",
    "chef_train['OUT_LATE_DELIVERIES'] +\n",
    "chef_train['OUT_AVG_PREP_VID_TIME'] +\n",
    "chef_train['OUT_LARGEST_ORDER_SIZE'] +\n",
    "chef_train['OUT_MASTER_CLASSES_ATTENDED'] +\n",
    "chef_train['OUT_MEDIAN_MEAL_RATING'] +\n",
    "chef_train['OUT_AVG_CLICKS_PER_VISIT'] +\n",
    "chef_train['OUT_TOTAL_PHOTOS_VIEWED'] +\n",
    "chef_train['OUT_AVG_PRICE_MEAL'] +\n",
    "chef_train['OUT_PER_UNIQUE_MEALS'] \n",
    "\"\"\", data= chef_train) <br>\n",
    "<br>\n",
    "\n",
    "\n",
    "\n",
    "fit the model based on the data<br>\n",
    "results = logit_MRM.fit()\n",
    "\n",
    "\n",
    "\n",
    "summary output<br>\n",
    "print(results.summary())\n"
   ]
  },
  {
   "cell_type": "markdown",
   "metadata": {},
   "source": [
    "***\n",
    "***\n",
    "After running the multiple logistical regression. Those variables that were not statistically significant were removed.<br>\n",
    "A new model based on only those statistically significant variables was created"
   ]
  },
  {
   "cell_type": "code",
   "execution_count": 54,
   "metadata": {
    "scrolled": true
   },
   "outputs": [
    {
     "name": "stdout",
     "output_type": "stream",
     "text": [
      "Optimization terminated successfully.\n",
      "         Current function value: 0.446914\n",
      "         Iterations 7\n"
     ]
    },
    {
     "data": {
      "text/html": [
       "<table class=\"simpletable\">\n",
       "<caption>Logit Regression Results</caption>\n",
       "<tr>\n",
       "  <th>Dep. Variable:</th>   <td>CROSS_SELL_SUCCESS</td> <th>  No. Observations:  </th>   <td>  1459</td>  \n",
       "</tr>\n",
       "<tr>\n",
       "  <th>Model:</th>                  <td>Logit</td>       <th>  Df Residuals:      </th>   <td>  1450</td>  \n",
       "</tr>\n",
       "<tr>\n",
       "  <th>Method:</th>                  <td>MLE</td>        <th>  Df Model:          </th>   <td>     8</td>  \n",
       "</tr>\n",
       "<tr>\n",
       "  <th>Date:</th>             <td>Wed, 05 Feb 2020</td>  <th>  Pseudo R-squ.:     </th>   <td>0.2883</td>  \n",
       "</tr>\n",
       "<tr>\n",
       "  <th>Time:</th>                 <td>20:58:34</td>      <th>  Log-Likelihood:    </th>  <td> -652.05</td> \n",
       "</tr>\n",
       "<tr>\n",
       "  <th>converged:</th>              <td>True</td>        <th>  LL-Null:           </th>  <td> -916.19</td> \n",
       "</tr>\n",
       "<tr>\n",
       "  <th>Covariance Type:</th>      <td>nonrobust</td>     <th>  LLR p-value:       </th> <td>5.959e-109</td>\n",
       "</tr>\n",
       "</table>\n",
       "<table class=\"simpletable\">\n",
       "<tr>\n",
       "                       <td></td>                         <th>coef</th>     <th>std err</th>      <th>z</th>      <th>P>|z|</th>  <th>[0.025</th>    <th>0.975]</th>  \n",
       "</tr>\n",
       "<tr>\n",
       "  <th>Intercept</th>                                  <td>   -1.4621</td> <td>    0.342</td> <td>   -4.269</td> <td> 0.000</td> <td>   -2.133</td> <td>   -0.791</td>\n",
       "</tr>\n",
       "<tr>\n",
       "  <th>chef_train['UNIQUE_MEALS_PURCH']</th>           <td>    0.0598</td> <td>    0.031</td> <td>    1.936</td> <td> 0.053</td> <td>   -0.001</td> <td>    0.120</td>\n",
       "</tr>\n",
       "<tr>\n",
       "  <th>chef_train['MOBILE_NUMBER']</th>                <td>    0.7618</td> <td>    0.201</td> <td>    3.794</td> <td> 0.000</td> <td>    0.368</td> <td>    1.155</td>\n",
       "</tr>\n",
       "<tr>\n",
       "  <th>chef_train['CANCELLATIONS_BEFORE_NOON']</th>    <td>    0.2367</td> <td>    0.049</td> <td>    4.821</td> <td> 0.000</td> <td>    0.140</td> <td>    0.333</td>\n",
       "</tr>\n",
       "<tr>\n",
       "  <th>chef_train['TASTES_AND_PREFERENCES']</th>       <td>    0.3399</td> <td>    0.149</td> <td>    2.289</td> <td> 0.022</td> <td>    0.049</td> <td>    0.631</td>\n",
       "</tr>\n",
       "<tr>\n",
       "  <th>chef_train['PC_LOGINS']</th>                    <td>   -0.3080</td> <td>    0.128</td> <td>   -2.406</td> <td> 0.016</td> <td>   -0.559</td> <td>   -0.057</td>\n",
       "</tr>\n",
       "<tr>\n",
       "  <th>chef_train['FOLLOWED_RECOMMENDATIONS_PCT']</th> <td>    0.0576</td> <td>    0.004</td> <td>   14.612</td> <td> 0.000</td> <td>    0.050</td> <td>    0.065</td>\n",
       "</tr>\n",
       "<tr>\n",
       "  <th>chef_train['PER_UNIQUE_MEALS']</th>             <td>   -0.0150</td> <td>    0.006</td> <td>   -2.323</td> <td> 0.020</td> <td>   -0.028</td> <td>   -0.002</td>\n",
       "</tr>\n",
       "<tr>\n",
       "  <th>chef_train['JUNK_@']</th>                       <td>   -1.5256</td> <td>    0.178</td> <td>   -8.552</td> <td> 0.000</td> <td>   -1.875</td> <td>   -1.176</td>\n",
       "</tr>\n",
       "</table>"
      ],
      "text/plain": [
       "<class 'statsmodels.iolib.summary.Summary'>\n",
       "\"\"\"\n",
       "                           Logit Regression Results                           \n",
       "==============================================================================\n",
       "Dep. Variable:     CROSS_SELL_SUCCESS   No. Observations:                 1459\n",
       "Model:                          Logit   Df Residuals:                     1450\n",
       "Method:                           MLE   Df Model:                            8\n",
       "Date:                Wed, 05 Feb 2020   Pseudo R-squ.:                  0.2883\n",
       "Time:                        20:58:34   Log-Likelihood:                -652.05\n",
       "converged:                       True   LL-Null:                       -916.19\n",
       "Covariance Type:            nonrobust   LLR p-value:                5.959e-109\n",
       "==============================================================================================================\n",
       "                                                 coef    std err          z      P>|z|      [0.025      0.975]\n",
       "--------------------------------------------------------------------------------------------------------------\n",
       "Intercept                                     -1.4621      0.342     -4.269      0.000      -2.133      -0.791\n",
       "chef_train['UNIQUE_MEALS_PURCH']               0.0598      0.031      1.936      0.053      -0.001       0.120\n",
       "chef_train['MOBILE_NUMBER']                    0.7618      0.201      3.794      0.000       0.368       1.155\n",
       "chef_train['CANCELLATIONS_BEFORE_NOON']        0.2367      0.049      4.821      0.000       0.140       0.333\n",
       "chef_train['TASTES_AND_PREFERENCES']           0.3399      0.149      2.289      0.022       0.049       0.631\n",
       "chef_train['PC_LOGINS']                       -0.3080      0.128     -2.406      0.016      -0.559      -0.057\n",
       "chef_train['FOLLOWED_RECOMMENDATIONS_PCT']     0.0576      0.004     14.612      0.000       0.050       0.065\n",
       "chef_train['PER_UNIQUE_MEALS']                -0.0150      0.006     -2.323      0.020      -0.028      -0.002\n",
       "chef_train['JUNK_@']                          -1.5256      0.178     -8.552      0.000      -1.875      -1.176\n",
       "==============================================================================================================\n",
       "\"\"\""
      ]
     },
     "execution_count": 54,
     "metadata": {},
     "output_type": "execute_result"
    }
   ],
   "source": [
    "# Building model with relevant variables \n",
    "\n",
    "# building a model\n",
    "logit_2 = smf.logit(formula=\"\"\" CROSS_SELL_SUCCESS ~\n",
    "chef_train['UNIQUE_MEALS_PURCH'] +\n",
    "chef_train['MOBILE_NUMBER'] +\n",
    "chef_train['CANCELLATIONS_BEFORE_NOON'] +\n",
    "chef_train['TASTES_AND_PREFERENCES'] +\n",
    "chef_train['PC_LOGINS'] +\n",
    "chef_train['FOLLOWED_RECOMMENDATIONS_PCT'] +\n",
    "chef_train['PER_UNIQUE_MEALS'] +\n",
    "chef_train['JUNK_@'] \n",
    "\"\"\", data= chef_train)\n",
    "\n",
    "\n",
    "\n",
    "# fit the model based on the data\n",
    "results_2 = logit_2.fit()\n",
    "\n",
    "\n",
    "\n",
    "#  summary output\n",
    "results_2.summary()\n"
   ]
  },
  {
   "cell_type": "markdown",
   "metadata": {},
   "source": [
    "<font size = 3>Some of the insights we can observed from this model is that: </font>\n",
    "- people either either personal or professional emails are more likely to subscribe (not junk).\n",
    "- The percent of unique meals a customer purchases influences if they will subscribe.\n",
    "- Customers that followed recommendations are more likely to subscribe to Halfway there\n",
    "***\n",
    "***\n",
    "***"
   ]
  },
  {
   "cell_type": "code",
   "execution_count": 55,
   "metadata": {},
   "outputs": [],
   "source": [
    "# Stating my two datasets: full dataset ---> just with explanatory variables\n",
    "                        # significant datset ----> stat significant variables \n",
    "    \n",
    "chef_full = chef_model.copy()\n",
    "#check\n",
    "\n",
    "\n",
    "chef_sig= chef_model.loc[: , ['CROSS_SELL_SUCCESS',\n",
    "                            'UNIQUE_MEALS_PURCH',\n",
    "                            'MOBILE_NUMBER',\n",
    "                            'CANCELLATIONS_BEFORE_NOON',\n",
    "                            'TASTES_AND_PREFERENCES',\n",
    "                            'PC_LOGINS',\n",
    "                            'FOLLOWED_RECOMMENDATIONS_PCT',\n",
    "                            'PER_UNIQUE_MEALS',\n",
    "                            'JUNK_@']]\n",
    "#type(chef_sig)\n",
    "#chef_sig"
   ]
  },
  {
   "cell_type": "markdown",
   "metadata": {},
   "source": [
    "## Logistic Regression using Scikitlearn"
   ]
  },
  {
   "cell_type": "markdown",
   "metadata": {},
   "source": [
    "<b>Train test split </b>"
   ]
  },
  {
   "cell_type": "code",
   "execution_count": 56,
   "metadata": {},
   "outputs": [],
   "source": [
    "# creating response and explanatory variables\n",
    "\n",
    "# declaring explanatory variables\n",
    "chef_x_sig = chef_sig.drop('CROSS_SELL_SUCCESS', axis = 1)\n",
    "\n",
    "\n",
    "# declaring response variable\n",
    "chef_y = chef_model.loc[ : , 'CROSS_SELL_SUCCESS']\n",
    "\n",
    "X_train, X_test,y_train, y_test = train_test_split(\n",
    "            chef_x_sig,\n",
    "            chef_y,\n",
    "            test_size    = 0.25,\n",
    "            random_state = seed,\n",
    "            stratify     = chef_y)\n",
    "\n",
    "#chef_x_sig\n",
    "#chef_y"
   ]
  },
  {
   "cell_type": "code",
   "execution_count": 57,
   "metadata": {},
   "outputs": [],
   "source": [
    "# INSTANTIATING a logistic regression model\n",
    "logreg = LogisticRegression(solver = 'lbfgs',\n",
    "                            C = 1,\n",
    "                            max_iter=1000,\n",
    "                            random_state = 802)\n",
    "\n",
    "\n",
    "# FITTING the training data\n",
    "logreg_fit = logreg.fit(X_train, y_train)\n",
    "\n",
    "\n",
    "# PREDICTING based on the testing set\n",
    "logreg_pred = logreg_fit.predict(X_test)\n",
    "\n",
    "\n",
    "# SCORING the results\n",
    "# why is accuracy not good? my predict the other side bad. in classifiation may be dangerous \n",
    "#let us know about voerfitting\n",
    "#print('Training Score:', logreg_fit.score(X_train, y_train).round(4))\n",
    "#print('Testing  Score:', logreg_fit.score(X_test, y_test).round(4))\n",
    "#print('AUC Score        :', roc_auc_score(y_true  = y_test,\n",
    "                                          #y_score = logreg_pred).round(4))\n",
    "    \n",
    "#saving scores     \n",
    "lg_train_score = logreg_fit.score(X_train, y_train).round(4)\n",
    "lg_test_score  = logreg_fit.score(X_test, y_test).round(4)\n",
    "lg_auc = roc_auc_score(y_true  = y_test,\n",
    "                                y_score = logreg_pred)"
   ]
  },
  {
   "cell_type": "markdown",
   "metadata": {},
   "source": [
    "<b>Logistic Regression Confusion Matrix </b>"
   ]
  },
  {
   "cell_type": "code",
   "execution_count": 58,
   "metadata": {},
   "outputs": [
    {
     "name": "stdout",
     "output_type": "stream",
     "text": [
      "[[ 85  71]\n",
      " [ 67 264]]\n"
     ]
    }
   ],
   "source": [
    "# creating a confusion matrix\n",
    "print(confusion_matrix(y_true = y_test,\n",
    "                       y_pred = logreg_pred))"
   ]
  },
  {
   "cell_type": "markdown",
   "metadata": {},
   "source": [
    "## KNN Model"
   ]
  },
  {
   "cell_type": "markdown",
   "metadata": {},
   "source": [
    "### KNN with non- standardized data and significant variables"
   ]
  },
  {
   "cell_type": "code",
   "execution_count": 59,
   "metadata": {},
   "outputs": [],
   "source": [
    "#Finding nearest neighbor with non-standardized data significant variables\n",
    "# creating lists for training set accuracy and test set accuracy\n",
    "training_accuracy = []\n",
    "test_accuracy = []\n",
    "\n",
    "\n",
    "# building a visualization of 1 to 50 neighbors\n",
    "neighbors_settings = range(1, 21)\n",
    "\n",
    "\n",
    "for n_neighbors in neighbors_settings:\n",
    "    # Building the model\n",
    "    clf = KNeighborsClassifier (n_neighbors = n_neighbors)\n",
    "    clf.fit(X_train, y_train)\n",
    "    \n",
    "    # Recording the training set accuracy\n",
    "    training_accuracy.append(clf.score(X_train, y_train))\n",
    "    \n",
    "    # Recording the generalization accuracy\n",
    "    test_accuracy.append(clf.score(X_test, y_test))\n",
    "\n",
    "\n",
    "# plotting the visualization\n",
    "\n",
    "#fig, ax = plt.subplots(figsize=(12,8))\n",
    "#plt.plot(neighbors_settings, training_accuracy, label = \"training accuracy\")\n",
    "#plt.plot(neighbors_settings, test_accuracy, label = \"test accuracy\")\n",
    "#plt.ylabel(\"Accuracy\")\n",
    "#plt.xlabel(\"n_neighbors\")\n",
    "#plt.legend()\n",
    "#plt.show()\n",
    "\n",
    "\n",
    "# finding the optimal number of neighbors\n",
    "opt_neighbors = test_accuracy.index(max(test_accuracy)) + 1\n",
    "#print(f\"\"\"The optimal number of neighbors is {opt_neighbors}\"\"\")"
   ]
  },
  {
   "cell_type": "code",
   "execution_count": 60,
   "metadata": {},
   "outputs": [],
   "source": [
    "# non-standarized data and significant variables\n",
    "\n",
    "# INSTANTIATING a model with the optimal number of neighbors\n",
    "\n",
    "knn_opt = KNeighborsClassifier(algorithm = 'auto',\n",
    "                              n_neighbors = opt_neighbors)\n",
    "\n",
    "\n",
    "\n",
    "# FITTING the model based on the training data\n",
    "knn_opt.fit(X_train, y_train)\n",
    "\n",
    "\n",
    "\n",
    "# PREDITCING on new data\n",
    "knn_opt_pred = knn_opt.predict(X_test)\n",
    "\n",
    "\n",
    "\n",
    "# SCORING the results\n",
    "#print('Training Score:', knn_opt.score(X_train, y_train).round(4))\n",
    "#print('Testing Score :',  knn_opt.score(X_test, y_test).round(4))\n",
    "#print('AUC Score     :', roc_auc_score(y_true  = y_test,\n",
    "                                          #y_score = knn_opt_pred).round(4))\n",
    "\n",
    "knn_nons_sig_train = knn_opt.score(X_train, y_train).round(4)\n",
    "knn_nons_sig_test = knn_opt.score(X_test, y_test).round(4)\n",
    "knn_nons_sig_auc= roc_auc_score(y_true  = y_test,\n",
    "                                          y_score = knn_opt_pred).round(4)"
   ]
  },
  {
   "cell_type": "markdown",
   "metadata": {},
   "source": [
    "<b>KNN Confusion Matrix non-standarized significant variables</b>"
   ]
  },
  {
   "cell_type": "code",
   "execution_count": 61,
   "metadata": {},
   "outputs": [
    {
     "name": "stdout",
     "output_type": "stream",
     "text": [
      "[[113  43]\n",
      " [ 74 257]]\n"
     ]
    }
   ],
   "source": [
    "# creating a confusion matrix\n",
    "print(confusion_matrix(y_true = y_test,\n",
    "                       y_pred = knn_opt_pred))"
   ]
  },
  {
   "cell_type": "markdown",
   "metadata": {},
   "source": [
    "### <i>KNN Classifier with Standarized Significant Variables </i>"
   ]
  },
  {
   "cell_type": "code",
   "execution_count": 62,
   "metadata": {},
   "outputs": [],
   "source": [
    "# INSTANTIATING a StandardScaler() object\n",
    "scaler = StandardScaler()\n",
    "\n",
    "\n",
    "# FITTING the scaler with x_data\n",
    "scaler.fit(chef_x_sig)\n",
    "\n",
    "\n",
    "# TRANSFORMING our data after fit\n",
    "X_sig_scaled = scaler.transform(chef_x_sig)\n",
    "\n",
    "\n",
    "# converting scaled data into a DataFrame\n",
    "chef_x_sig_scaled = pd.DataFrame(X_sig_scaled)\n",
    "\n",
    "\n",
    "# checking the results\n",
    "chef_x_sig_scaled.describe().round(2)\n",
    "\n",
    "#adding back columns\n",
    "# adding labels to the scaled DataFrame\n",
    "chef_x_sig_scaled.columns = chef_x_sig.columns\n",
    "\n",
    "#chef_x_sig_scaled"
   ]
  },
  {
   "cell_type": "code",
   "execution_count": 63,
   "metadata": {},
   "outputs": [],
   "source": [
    "#  Checking pre- and post-scaling of the data\n",
    "#print(f\"\"\"\n",
    "#Dataset BEFORE Scaling\n",
    "#----------------------\n",
    "#{pd.np.var(chef_x_sig)}\n",
    "\n",
    "\n",
    "#Dataset AFTER Scaling\n",
    "#----------------------\n",
    "#{pd.np.var(chef_x_sig_scaled)}\n",
    "#\"\"\")"
   ]
  },
  {
   "cell_type": "code",
   "execution_count": 64,
   "metadata": {},
   "outputs": [],
   "source": [
    "#################################### SCALED!!!!!!!!!!!!!!!!!!!!!\n",
    "\n",
    "seed = 222\n",
    "\n",
    "# train-test split with stratification\n",
    "X_train, X_test, y_train, y_test = train_test_split(\n",
    "            chef_x_sig_scaled,\n",
    "            chef_y,\n",
    "            test_size = 0.25,\n",
    "            random_state = seed,\n",
    "            stratify = chef_y)\n",
    "\n",
    "\n",
    "# merging training data for statsmodels\n",
    "chef_train_scaled= pd.concat([X_train, y_train], axis = 1)"
   ]
  },
  {
   "cell_type": "code",
   "execution_count": 65,
   "metadata": {},
   "outputs": [],
   "source": [
    "\n",
    "# creating lists for training set accuracy and test set accuracy\n",
    "training_accuracy = []\n",
    "test_accuracy = []\n",
    "\n",
    "\n",
    "# building a visualization of 1 to 50 neighbors\n",
    "neighbors_settings = range(1, 21)\n",
    "\n",
    "\n",
    "for n_neighbors in neighbors_settings:\n",
    "    # Building the model\n",
    "    clf = KNeighborsClassifier (n_neighbors = n_neighbors)\n",
    "    clf.fit(X_train, y_train)\n",
    "    \n",
    "    # Recording the training set accuracy\n",
    "    training_accuracy.append(clf.score(X_train, y_train))\n",
    "    \n",
    "    # Recording the generalization accuracy\n",
    "    test_accuracy.append(clf.score(X_test, y_test))\n",
    "\n",
    "\n",
    "# plotting the visualization\n",
    "#fig, ax = plt.subplots(figsize=(12,8))\n",
    "#plt.plot(neighbors_settings, training_accuracy, label = \"training accuracy\")\n",
    "#plt.plot(neighbors_settings, test_accuracy, label = \"test accuracy\")\n",
    "#plt.ylabel(\"Accuracy\")\n",
    "#plt.xlabel(\"n_neighbors\")\n",
    "#plt.legend()\n",
    "#plt.show()\n",
    "\n",
    "\n",
    "# finding the optimal number of neighbors\n",
    "opt_neighbors = test_accuracy.index(max(test_accuracy)) + 1\n",
    "#print(f\"\"\"The optimal number of neighbors is {opt_neighbors}\"\"\")"
   ]
  },
  {
   "cell_type": "code",
   "execution_count": 66,
   "metadata": {},
   "outputs": [],
   "source": [
    "# KNN of significant variables with standarized data\n",
    "# INSTANTIATING a model with the optimal number of neighbors\n",
    "knn_opt = KNeighborsClassifier(algorithm = 'auto',\n",
    "                              n_neighbors = opt_neighbors)\n",
    "\n",
    "\n",
    "\n",
    "# FITTING the model based on the training data\n",
    "knn_opt.fit(X_train, y_train)\n",
    "\n",
    "\n",
    "\n",
    "# PREDITCING on new data\n",
    "knn_opt_pred = knn_opt.predict(X_test)\n",
    "\n",
    "\n",
    "\n",
    "# SCORING the results\n",
    "#print('Training Score:', knn_opt.score(X_train, y_train).round(4))\n",
    "#print('Testing Score :',  knn_opt.score(X_test, y_test).round(4))\n",
    "#print('AUC Score     :', roc_auc_score(y_true  = y_test,\n",
    "                                          #y_score = knn_opt_pred).round(4))\n",
    "\n",
    "knn_st_sig_train = knn_opt.score(X_train, y_train).round(4)\n",
    "knn_st_sig_test =  knn_opt.score(X_test, y_test).round(4)\n",
    "knn_st_sig_auc=  roc_auc_score(y_true  = y_test,\n",
    "                                          y_score = knn_opt_pred).round(4)\n"
   ]
  },
  {
   "cell_type": "markdown",
   "metadata": {},
   "source": [
    "<b> KNN Confusion Matrix with Standarized Significant Variables</b>"
   ]
  },
  {
   "cell_type": "code",
   "execution_count": 67,
   "metadata": {},
   "outputs": [
    {
     "name": "stdout",
     "output_type": "stream",
     "text": [
      "[[ 98  58]\n",
      " [ 70 261]]\n"
     ]
    }
   ],
   "source": [
    "# creating a confusion matrix\n",
    "print(confusion_matrix(y_true = y_test,\n",
    "                       y_pred = knn_opt_pred))"
   ]
  },
  {
   "cell_type": "markdown",
   "metadata": {},
   "source": [
    "### KNN Classifier with all variables non-Standarized"
   ]
  },
  {
   "cell_type": "markdown",
   "metadata": {},
   "source": [
    "train Test Split full explanatory dataset"
   ]
  },
  {
   "cell_type": "code",
   "execution_count": 68,
   "metadata": {},
   "outputs": [],
   "source": [
    "# declaring explanatory variables\n",
    "chef_x= chef_full.drop('CROSS_SELL_SUCCESS', axis = 1)\n",
    "\n",
    "\n",
    "# declaring response variable\n",
    "chef_y = chef_model.loc[ : , 'CROSS_SELL_SUCCESS']\n",
    "\n",
    "X_train, X_test,y_train, y_test = train_test_split(\n",
    "            chef_x_sig,\n",
    "            chef_y,\n",
    "            test_size    = 0.25,\n",
    "            random_state = seed,\n",
    "            stratify     = chef_y)\n",
    "\n",
    "#chef_x_sig\n",
    "#chef_y\n"
   ]
  },
  {
   "cell_type": "code",
   "execution_count": 69,
   "metadata": {},
   "outputs": [],
   "source": [
    "#creating lists for training set accuracy and test set accuracy\n",
    "training_accuracy = []\n",
    "test_accuracy = []\n",
    "\n",
    "\n",
    "# building a visualization of 1 to 50 neighbors\n",
    "neighbors_settings = range(1, 21)\n",
    "\n",
    "\n",
    "for n_neighbors in neighbors_settings:\n",
    "    # Building the model\n",
    "    clf = KNeighborsClassifier (n_neighbors = n_neighbors)\n",
    "    clf.fit(X_train, y_train)\n",
    "    \n",
    "    # Recording the training set accuracy\n",
    "    training_accuracy.append(clf.score(X_train, y_train))\n",
    "    \n",
    "    # Recording the generalization accuracy\n",
    "    test_accuracy.append(clf.score(X_test, y_test))\n",
    "\n",
    "\n",
    "# plotting the visualization\n",
    "#fig, ax = plt.subplots(figsize=(12,8))\n",
    "#plt.plot(neighbors_settings, training_accuracy, label = \"training accuracy\")\n",
    "#plt.plot(neighbors_settings, test_accuracy, label = \"test accuracy\")\n",
    "#plt.ylabel(\"Accuracy\")\n",
    "#plt.xlabel(\"n_neighbors\")\n",
    "#plt.legend()\n",
    "#plt.show()\n",
    "\n",
    "\n",
    "# finding the optimal number of neighbors\n",
    "opt_neighbors = test_accuracy.index(max(test_accuracy)) + 1\n",
    "#print(f\"\"\"The optimal number of neighbors is {opt_neighbors}\"\"\")"
   ]
  },
  {
   "cell_type": "code",
   "execution_count": 70,
   "metadata": {},
   "outputs": [],
   "source": [
    "# KNN with all variables and non standarized\n",
    "# INSTANTIATING a model with the optimal number of neighbors\n",
    "knn_opt = KNeighborsClassifier(algorithm = 'auto',\n",
    "                              n_neighbors = opt_neighbors)\n",
    "\n",
    "\n",
    "\n",
    "# FITTING the model based on the training data\n",
    "knn_opt.fit(X_train, y_train)\n",
    "\n",
    "\n",
    "\n",
    "# PREDITCING on new data\n",
    "knn_opt_pred = knn_opt.predict(X_test)\n",
    "\n",
    "\n",
    "\n",
    "# SCORING the results\n",
    "#print('Training Score:', knn_opt.score(X_train, y_train).round(4))\n",
    "#print('Testing Score :',  knn_opt.score(X_test, y_test).round(4))\n",
    "#print('AUC Score     :', roc_auc_score(y_true  = y_test,\n",
    "                                          #y_score = knn_opt_pred).round(4))\n",
    "\n",
    "#saving scores\n",
    "knn_nons_all_train = knn_opt.score(X_train, y_train).round(4)\n",
    "knn_nons_all_test =  knn_opt.score(X_test, y_test).round(4)\n",
    "knn_nons_all_auc =  roc_auc_score(y_true  = y_test,\n",
    "                                          y_score = knn_opt_pred).round(4)"
   ]
  },
  {
   "cell_type": "markdown",
   "metadata": {},
   "source": [
    "<b> KNN Confusion Matrix with all variables non-standardize</b>"
   ]
  },
  {
   "cell_type": "code",
   "execution_count": 71,
   "metadata": {},
   "outputs": [
    {
     "name": "stdout",
     "output_type": "stream",
     "text": [
      "[[113  43]\n",
      " [ 74 257]]\n"
     ]
    }
   ],
   "source": [
    "# creating a confusion matrix\n",
    "print(confusion_matrix(y_true = y_test,\n",
    "                       y_pred = knn_opt_pred))"
   ]
  },
  {
   "cell_type": "markdown",
   "metadata": {},
   "source": [
    "### <i>KNN Classifier all Variables Standarized </i>"
   ]
  },
  {
   "cell_type": "code",
   "execution_count": 72,
   "metadata": {},
   "outputs": [],
   "source": [
    "# INSTANTIATING a StandardScaler() object\n",
    "scaler = StandardScaler()\n",
    "\n",
    "\n",
    "# FITTING the scaler with x_data\n",
    "scaler.fit(chef_x)\n",
    "\n",
    "\n",
    "# TRANSFORMING our data after fit\n",
    "X_scaled = scaler.transform(chef_x)\n",
    "\n",
    "\n",
    "# converting scaled data into a DataFrame\n",
    "chef_x_scaled = pd.DataFrame(X_scaled)\n",
    "\n",
    "\n",
    "# checking the results\n",
    "#chef_x_scaled.describe().round(2)\n",
    "\n",
    "#adding back columns\n",
    "# adding labels to the scaled DataFrame\n",
    "chef_x_scaled.columns = chef_x.columns\n",
    "#chef_x_scaled"
   ]
  },
  {
   "cell_type": "markdown",
   "metadata": {},
   "source": [
    "Training Test Split with all Variables Standardized"
   ]
  },
  {
   "cell_type": "code",
   "execution_count": 73,
   "metadata": {},
   "outputs": [],
   "source": [
    "# train-test split with stratification\n",
    "X_train, X_test, y_train, y_test = train_test_split(\n",
    "            chef_x_scaled,\n",
    "            chef_y,\n",
    "            test_size = 0.25,\n",
    "            random_state = seed,\n",
    "            stratify = chef_y)\n",
    "\n",
    "\n",
    "# merging training data for statsmodels\n",
    "chef_train_scaled_all= pd.concat([X_train, y_train], axis = 1)"
   ]
  },
  {
   "cell_type": "code",
   "execution_count": 74,
   "metadata": {},
   "outputs": [],
   "source": [
    "#creating lists for training set accuracy and test set accuracy\n",
    "training_accuracy = []\n",
    "test_accuracy = []\n",
    "\n",
    "\n",
    "# building a visualization of 1 to 50 neighbors\n",
    "neighbors_settings = range(1, 21)\n",
    "\n",
    "\n",
    "for n_neighbors in neighbors_settings:\n",
    "    # Building the model\n",
    "    clf = KNeighborsClassifier (n_neighbors = n_neighbors)\n",
    "    clf.fit(X_train, y_train)\n",
    "    \n",
    "    # Recording the training set accuracy\n",
    "    training_accuracy.append(clf.score(X_train, y_train))\n",
    "    \n",
    "    # Recording the generalization accuracy\n",
    "    test_accuracy.append(clf.score(X_test, y_test))\n",
    "\n",
    "\n",
    "# plotting the visualization\n",
    "#fig, ax = plt.subplots(figsize=(12,8))\n",
    "#plt.plot(neighbors_settings, training_accuracy, label = \"training accuracy\")\n",
    "#plt.plot(neighbors_settings, test_accuracy, label = \"test accuracy\")\n",
    "#plt.ylabel(\"Accuracy\")\n",
    "#plt.xlabel(\"n_neighbors\")\n",
    "#plt.legend()\n",
    "#plt.show()\n",
    "\n",
    "\n",
    "# finding the optimal number of neighbors\n",
    "opt_neighbors = test_accuracy.index(max(test_accuracy)) + 1\n",
    "#print(f\"\"\"The optimal number of neighbors is {opt_neighbors}\"\"\")"
   ]
  },
  {
   "cell_type": "code",
   "execution_count": 75,
   "metadata": {},
   "outputs": [],
   "source": [
    "#KNN with all variables and standarized data\n",
    "# INSTANTIATING a model with the optimal number of neighbors\n",
    "knn_opt = KNeighborsClassifier(algorithm = 'auto',\n",
    "                              n_neighbors = opt_neighbors)\n",
    "\n",
    "\n",
    "\n",
    "# FITTING the model based on the training data\n",
    "knn_opt.fit(X_train, y_train)\n",
    "\n",
    "\n",
    "\n",
    "# PREDITCING on new data\n",
    "knn_opt_pred = knn_opt.predict(X_test)\n",
    "\n",
    "\n",
    "\n",
    "# SCORING the results\n",
    "#print('Training Score:', knn_opt.score(X_train, y_train).round(4))\n",
    "#print('Testing Score :',  knn_opt.score(X_test, y_test).round(4))\n",
    "#print('AUC Score     :', roc_auc_score(y_true  = y_test,\n",
    "                                          #y_score = knn_opt_pred).round(4))\n",
    "# Saving Scores\n",
    "knn_st_all_train  = knn_opt.score(X_train, y_train).round(4)\n",
    "knn_st_all_test = knn_opt.score(X_test, y_test).round(4)\n",
    "knn_st_all_auc =  roc_auc_score(y_true  = y_test,\n",
    "                                          y_score = knn_opt_pred).round(4)"
   ]
  },
  {
   "cell_type": "markdown",
   "metadata": {},
   "source": [
    "<b> KNN Confusion Matrix with all variables Standardize</b> "
   ]
  },
  {
   "cell_type": "code",
   "execution_count": 76,
   "metadata": {},
   "outputs": [
    {
     "name": "stdout",
     "output_type": "stream",
     "text": [
      "[[ 70  86]\n",
      " [ 50 281]]\n"
     ]
    }
   ],
   "source": [
    "# creating a confusion matrix\n",
    "print(confusion_matrix(y_true = y_test,\n",
    "                       y_pred = knn_opt_pred))"
   ]
  },
  {
   "cell_type": "markdown",
   "metadata": {},
   "source": [
    "## Classification and Regression Tree Models (CART Model)"
   ]
  },
  {
   "cell_type": "code",
   "execution_count": 77,
   "metadata": {},
   "outputs": [],
   "source": [
    "#creating fucntions for CART Model \n",
    "\n",
    "########################################\n",
    " #Creating a user define function for tree and important features called\n",
    "########################################\n",
    "def display_tree(tree, feature_df, height = 500, width = 800):\n",
    "    \"\"\"\n",
    "    PARAMETERS\n",
    "    ----------\n",
    "    tree       : fitted tree model object\n",
    "        fitted CART model to visualized\n",
    "    feature_df : DataFrame\n",
    "        DataFrame of explanatory features (used to generate labels)\n",
    "    height     : int, default 500\n",
    "        height in pixels to which to constrain image in html\n",
    "    width      : int, default 800\n",
    "        width in pixels to which to constrain image in html\n",
    "    \"\"\"\n",
    "\n",
    "    # visualizing the tree\n",
    "    dot_data = StringIO()\n",
    "\n",
    "    \n",
    "    # exporting tree to graphviz\n",
    "    export_graphviz(decision_tree      = tree,\n",
    "                    out_file           = dot_data,\n",
    "                    filled             = True,\n",
    "                    rounded            = True,\n",
    "                    special_characters = True,\n",
    "                    feature_names      = feature_df.columns)\n",
    "\n",
    "\n",
    "    # declaring a graph object\n",
    "    graph = pydotplus.graph_from_dot_data(dot_data.getvalue())\n",
    "\n",
    "\n",
    "    # creating image\n",
    "    img = Image(graph.create_png(),\n",
    "                height = height,\n",
    "                width  = width)\n",
    "    \n",
    "    return img\n",
    "\n",
    "########################################\n",
    "#plot_feature_importances\n",
    "########################################\n",
    "def plot_feature_importances(model, train, export = False):\n",
    "    \"\"\"\n",
    "    Plots the importance of features from a CART model.\n",
    "    \n",
    "    PARAMETERS\n",
    "    ----------\n",
    "    model  : CART model\n",
    "    train  : explanatory variable training data\n",
    "    export : whether or not to export as a .png image, default False\n",
    "    \"\"\"\n",
    "    \n",
    "    # declaring the number\n",
    "    n_features = X_train.shape[1]\n",
    "    \n",
    "    # setting plot window\n",
    "    fig, ax = plt.subplots(figsize=(12,9))\n",
    "    \n",
    "    plt.barh(range(n_features), model.feature_importances_, align='center')\n",
    "    plt.yticks(pd.np.arange(n_features), train.columns)\n",
    "    plt.xlabel(\"Feature importance\")\n",
    "    plt.ylabel(\"Feature\")\n",
    "    \n",
    "    if export == True:\n",
    "        plt.savefig('Tree_Leaf_50_Feature_Importance.png')"
   ]
  },
  {
   "cell_type": "markdown",
   "metadata": {},
   "source": [
    "## Full CART Model"
   ]
  },
  {
   "cell_type": "markdown",
   "metadata": {},
   "source": [
    "Train Test Split based on full x_data set"
   ]
  },
  {
   "cell_type": "code",
   "execution_count": 78,
   "metadata": {},
   "outputs": [],
   "source": [
    "# declaring explanatory variables\n",
    "chef_x= chef_full.drop('CROSS_SELL_SUCCESS', axis = 1)\n",
    "\n",
    "\n",
    "# declaring response variable\n",
    "chef_y = chef_model.loc[ : , 'CROSS_SELL_SUCCESS']\n",
    "\n",
    "X_train, X_test,y_train, y_test = train_test_split(\n",
    "            chef_x,\n",
    "            chef_y,\n",
    "            test_size    = 0.25,\n",
    "            random_state = seed,\n",
    "            stratify     = chef_y)\n",
    "\n",
    "#chef_x"
   ]
  },
  {
   "cell_type": "code",
   "execution_count": 79,
   "metadata": {},
   "outputs": [],
   "source": [
    "# INSTANTIATING a classification tree object\n",
    "full_tree = DecisionTreeClassifier()\n",
    "\n",
    "\n",
    "# FITTING the training data\n",
    "full_tree_fit = full_tree.fit(X_train, y_train)\n",
    "\n",
    "\n",
    "# PREDICTING on new data\n",
    "full_tree_pred = full_tree_fit.predict(X_test)\n",
    "\n",
    "\n",
    "# SCORING the model\n",
    "#print('Training SCORE:', full_tree_fit.score(X_train, y_train).round(4))\n",
    "#print('Testing  SCORE:', full_tree_fit.score(X_test, y_test).round(4))\n",
    "#print('AUC Score        :', roc_auc_score(y_true  = y_test,\n",
    "                                          #y_score = full_tree_pred).round(4))\n",
    "\n",
    "\n",
    "full_tree_train_score =  full_tree_fit.score(X_train, y_train).round(4)\n",
    "full_tree_test_score = full_tree_fit.score(X_test, y_test).round(4)\n",
    "full_tree_roc = roc_auc_score(y_true  = y_test,\n",
    "                                          y_score = full_tree_pred).round(4)"
   ]
  },
  {
   "cell_type": "markdown",
   "metadata": {},
   "source": [
    "This full tree is likely to overfit our data, lets prune it!"
   ]
  },
  {
   "cell_type": "markdown",
   "metadata": {},
   "source": [
    "## Pruned CART MODEL"
   ]
  },
  {
   "cell_type": "code",
   "execution_count": 80,
   "metadata": {},
   "outputs": [
    {
     "data": {
      "image/png": "[encoded data removed]",
      "text/plain": [
       "<IPython.core.display.Image object>"
      ]
     },
     "execution_count": 80,
     "metadata": {
      "image/png": {
       "height": 500,
       "width": 800
      }
     },
     "output_type": "execute_result"
    }
   ],
   "source": [
    "# INSTANTIATING a classification tree object\n",
    "tree_pruned      = DecisionTreeClassifier(max_depth = 4,\n",
    "                                          min_samples_leaf = 25,\n",
    "                                          random_state = seed)\n",
    "\n",
    "\n",
    "# FITTING the training data\n",
    "tree_pruned_fit  = tree_pruned.fit(X_train, y_train)\n",
    "\n",
    "\n",
    "# PREDICTING on new data\n",
    "tree_pred = tree_pruned_fit.predict(X_test)\n",
    "\n",
    "\n",
    "# SCORING the model\n",
    "#print('Training ACCURACY:', tree_pruned_fit.score(X_train, y_train).round(4))\n",
    "#print('Testing  ACCURACY:', tree_pruned_fit.score(X_test, y_test).round(4))\n",
    "#print('AUC Score        :', roc_auc_score(y_true  = y_test,\n",
    "                                          #y_score = tree_pred).round(4))\n",
    "    \n",
    "    \n",
    "    \n",
    "# Saving scores\n",
    "treep_score_train = tree_pruned_fit.score(X_train, y_train).round(4)\n",
    "treep_score_test = tree_pruned_fit.score(X_test, y_test).round(4)\n",
    "treep_score_auc= roc_auc_score(y_true  = y_test,\n",
    "                                          y_score = tree_pred).round(4)\n",
    "\n",
    "\n",
    "\n",
    "# calling display_tree\n",
    "display_tree(tree       = tree_pruned_fit,\n",
    "            feature_df = X_train)"
   ]
  },
  {
   "cell_type": "markdown",
   "metadata": {},
   "source": [
    "### Features Importance"
   ]
  },
  {
   "cell_type": "code",
   "execution_count": 81,
   "metadata": {},
   "outputs": [
    {
     "data": {
      "image/png": "[encoded data removed]",
      "text/plain": [
       "<Figure size 864x648 with 1 Axes>"
      ]
     },
     "metadata": {
      "needs_background": "light"
     },
     "output_type": "display_data"
    }
   ],
   "source": [
    "# plotting feature importance\n",
    "plot_feature_importances(tree_pruned_fit,\n",
    "                         train = X_train,\n",
    "                         export = False)"
   ]
  },
  {
   "cell_type": "markdown",
   "metadata": {},
   "source": [
    "From this pruned tree classification model we can see that followed recommendations is the most important insight to determining cross selling. When a customer follows recommendation 35% of the time of more they may be more likely to subscribe"
   ]
  },
  {
   "cell_type": "markdown",
   "metadata": {},
   "source": [
    "# Comparing Models"
   ]
  },
  {
   "cell_type": "code",
   "execution_count": 82,
   "metadata": {},
   "outputs": [
    {
     "data": {
      "text/html": [
       "<div>\n",
       "<style scoped>\n",
       "    .dataframe tbody tr th:only-of-type {\n",
       "        vertical-align: middle;\n",
       "    }\n",
       "\n",
       "    .dataframe tbody tr th {\n",
       "        vertical-align: top;\n",
       "    }\n",
       "\n",
       "    .dataframe thead th {\n",
       "        text-align: right;\n",
       "    }\n",
       "</style>\n",
       "<table border=\"1\" class=\"dataframe\">\n",
       "  <thead>\n",
       "    <tr style=\"text-align: right;\">\n",
       "      <th></th>\n",
       "      <th>Model</th>\n",
       "      <th>Training</th>\n",
       "      <th>Testing</th>\n",
       "      <th>AUC</th>\n",
       "    </tr>\n",
       "  </thead>\n",
       "  <tbody>\n",
       "    <tr>\n",
       "      <th>0</th>\n",
       "      <td>Logit</td>\n",
       "      <td>0.746</td>\n",
       "      <td>0.717</td>\n",
       "      <td>0.671</td>\n",
       "    </tr>\n",
       "    <tr>\n",
       "      <th>1</th>\n",
       "      <td>KNN n/Stand Sig/Variables</td>\n",
       "      <td>0.797</td>\n",
       "      <td>0.760</td>\n",
       "      <td>0.750</td>\n",
       "    </tr>\n",
       "    <tr>\n",
       "      <th>2</th>\n",
       "      <td>KNN Stand Sig/Variables</td>\n",
       "      <td>0.852</td>\n",
       "      <td>0.737</td>\n",
       "      <td>0.708</td>\n",
       "    </tr>\n",
       "    <tr>\n",
       "      <th>3</th>\n",
       "      <td>KNN n/Stand all/Variables</td>\n",
       "      <td>0.797</td>\n",
       "      <td>0.760</td>\n",
       "      <td>0.750</td>\n",
       "    </tr>\n",
       "    <tr>\n",
       "      <th>4</th>\n",
       "      <td>KNN Stand all/Variables</td>\n",
       "      <td>0.781</td>\n",
       "      <td>0.721</td>\n",
       "      <td>0.649</td>\n",
       "    </tr>\n",
       "    <tr>\n",
       "      <th>5</th>\n",
       "      <td>Full Tree</td>\n",
       "      <td>1.000</td>\n",
       "      <td>0.712</td>\n",
       "      <td>0.672</td>\n",
       "    </tr>\n",
       "    <tr>\n",
       "      <th>6</th>\n",
       "      <td>Pruned Tree</td>\n",
       "      <td>0.794</td>\n",
       "      <td>0.754</td>\n",
       "      <td>0.726</td>\n",
       "    </tr>\n",
       "  </tbody>\n",
       "</table>\n",
       "</div>"
      ],
      "text/plain": [
       "                       Model  Training  Testing    AUC\n",
       "0                      Logit     0.746    0.717  0.671\n",
       "1  KNN n/Stand Sig/Variables     0.797    0.760  0.750\n",
       "2    KNN Stand Sig/Variables     0.852    0.737  0.708\n",
       "3  KNN n/Stand all/Variables     0.797    0.760  0.750\n",
       "4    KNN Stand all/Variables     0.781    0.721  0.649\n",
       "5                  Full Tree     1.000    0.712  0.672\n",
       "6                Pruned Tree     0.794    0.754  0.726"
      ]
     },
     "execution_count": 82,
     "metadata": {},
     "output_type": "execute_result"
    }
   ],
   "source": [
    "# creating a dictionary for model results\n",
    "model_performance = {'Model'    : ['Logit', 'KNN n/Stand Sig/Variables', 'KNN Stand Sig/Variables', 'KNN n/Stand all/Variables', 'KNN Stand all/Variables', 'Full Tree', 'Pruned Tree'],\n",
    "           \n",
    "                     'Training' : [lg_train_score , knn_nons_sig_train, \n",
    "                                   knn_st_sig_train, knn_nons_all_train,\n",
    "                                   knn_st_all_train, full_tree_train_score,treep_score_train],  \n",
    "           \n",
    "                     'Testing'  : [lg_test_score, knn_nons_sig_test, \n",
    "                                   knn_st_sig_test, knn_nons_all_test, \n",
    "                                   knn_st_all_test, full_tree_test_score, treep_score_test],\n",
    "      \n",
    "                     'AUC'    : [lg_auc, knn_nons_sig_auc, \n",
    "                                 knn_st_sig_auc, knn_nons_all_auc, \n",
    "                                 knn_st_all_auc, full_tree_roc, treep_score_auc]}\n",
    "\n",
    "\n",
    "\n",
    "# converting model_performance into a DataFrame\n",
    "model_performance = pd.DataFrame(model_performance)\n",
    "\n",
    "\n",
    "# sending model results to Excel\n",
    "model_performance.to_excel('regression_model_performance.xlsx',\n",
    "                           index = False)\n",
    "\n",
    "model_performance.round(3)"
   ]
  }
 ],
 "metadata": {
  "kernelspec": {
   "display_name": "Python 3",
   "language": "python",
   "name": "python3"
  },
  "language_info": {
   "codemirror_mode": {
    "name": "ipython",
    "version": 3
   },
   "file_extension": ".py",
   "mimetype": "text/x-python",
   "name": "python",
   "nbconvert_exporter": "python",
   "pygments_lexer": "ipython3",
   "version": "3.7.6"
  },
  "toc": {
   "base_numbering": 1,
   "nav_menu": {},
   "number_sections": true,
   "sideBar": true,
   "skip_h1_title": false,
   "title_cell": "Table of Contents",
   "title_sidebar": "Contents",
   "toc_cell": false,
   "toc_position": {},
   "toc_section_display": true,
   "toc_window_display": false
  },
  "varInspector": {
   "cols": {
    "lenName": 16,
    "lenType": 16,
    "lenVar": 40
   },
   "kernels_config": {
    "python": {
     "delete_cmd_postfix": "",
     "delete_cmd_prefix": "del ",
     "library": "var_list.py",
     "varRefreshCmd": "print(var_dic_list())"
    },
    "r": {
     "delete_cmd_postfix": ") ",
     "delete_cmd_prefix": "rm(",
     "library": "var_list.r",
     "varRefreshCmd": "cat(var_dic_list()) "
    }
   },
   "position": {
    "height": "355.488px",
    "left": "1412.02px",
    "right": "20px",
    "top": "120px",
    "width": "276.465px"
   },
   "types_to_exclude": [
    "module",
    "function",
    "builtin_function_or_method",
    "instance",
    "_Feature"
   ],
   "window_display": false
  }
 },
 "nbformat": 4,
 "nbformat_minor": 2
}
